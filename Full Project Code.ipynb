{
 "cells": [
  {
   "cell_type": "code",
   "execution_count": 1,
   "id": "7314b436",
   "metadata": {},
   "outputs": [],
   "source": [
    "import polars as pl\n",
    "import numpy as np\n",
    "import pandas as pd"
   ]
  },
  {
   "cell_type": "code",
   "execution_count": 2,
   "id": "289db95d",
   "metadata": {},
   "outputs": [],
   "source": [
    "def set_table_dtypes(df: pl.DataFrame) -> pl.DataFrame:\n",
    "    # implement here all desired dtypes for tables\n",
    "    # the following is just an example\n",
    "    for col in df.columns:\n",
    "        # last letter of column name will help you determine the type\n",
    "        if col[-1] in (\"P\", \"A\"):\n",
    "            df = df.with_columns(pl.col(col).cast(pl.Float64).alias(col))\n",
    "\n",
    "    return df"
   ]
  },
  {
   "cell_type": "code",
   "execution_count": 3,
   "id": "974c51b0",
   "metadata": {},
   "outputs": [],
   "source": [
    "dataPath = \"/Users/lvshihan/Documents/Kaggle Competition/Home Credit - Credit Risk Model Stability/\""
   ]
  },
  {
   "cell_type": "code",
   "execution_count": 4,
   "id": "c914859f",
   "metadata": {},
   "outputs": [
    {
     "data": {
      "text/html": [
       "<div><style>\n",
       ".dataframe > thead > tr,\n",
       ".dataframe > tbody > tr {\n",
       "  text-align: right;\n",
       "  white-space: pre-wrap;\n",
       "}\n",
       "</style>\n",
       "<small>shape: (5, 5)</small><table border=\"1\" class=\"dataframe\"><thead><tr><th>case_id</th><th>date_decision</th><th>MONTH</th><th>WEEK_NUM</th><th>target</th></tr><tr><td>i64</td><td>str</td><td>i64</td><td>i64</td><td>i64</td></tr></thead><tbody><tr><td>0</td><td>&quot;2019-01-03&quot;</td><td>201901</td><td>0</td><td>0</td></tr><tr><td>1</td><td>&quot;2019-01-03&quot;</td><td>201901</td><td>0</td><td>0</td></tr><tr><td>2</td><td>&quot;2019-01-04&quot;</td><td>201901</td><td>0</td><td>0</td></tr><tr><td>3</td><td>&quot;2019-01-03&quot;</td><td>201901</td><td>0</td><td>0</td></tr><tr><td>4</td><td>&quot;2019-01-04&quot;</td><td>201901</td><td>0</td><td>1</td></tr></tbody></table></div>"
      ],
      "text/plain": [
       "shape: (5, 5)\n",
       "┌─────────┬───────────────┬────────┬──────────┬────────┐\n",
       "│ case_id ┆ date_decision ┆ MONTH  ┆ WEEK_NUM ┆ target │\n",
       "│ ---     ┆ ---           ┆ ---    ┆ ---      ┆ ---    │\n",
       "│ i64     ┆ str           ┆ i64    ┆ i64      ┆ i64    │\n",
       "╞═════════╪═══════════════╪════════╪══════════╪════════╡\n",
       "│ 0       ┆ 2019-01-03    ┆ 201901 ┆ 0        ┆ 0      │\n",
       "│ 1       ┆ 2019-01-03    ┆ 201901 ┆ 0        ┆ 0      │\n",
       "│ 2       ┆ 2019-01-04    ┆ 201901 ┆ 0        ┆ 0      │\n",
       "│ 3       ┆ 2019-01-03    ┆ 201901 ┆ 0        ┆ 0      │\n",
       "│ 4       ┆ 2019-01-04    ┆ 201901 ┆ 0        ┆ 1      │\n",
       "└─────────┴───────────────┴────────┴──────────┴────────┘"
      ]
     },
     "execution_count": 4,
     "metadata": {},
     "output_type": "execute_result"
    }
   ],
   "source": [
    "base_train = pl.read_csv(dataPath + \"csv_files/train/train_base.csv\")\n",
    "base_train.head()"
   ]
  },
  {
   "cell_type": "code",
   "execution_count": 5,
   "id": "bfbd0be7",
   "metadata": {},
   "outputs": [
    {
     "data": {
      "text/html": [
       "<div><style>\n",
       ".dataframe > thead > tr,\n",
       ".dataframe > tbody > tr {\n",
       "  text-align: right;\n",
       "  white-space: pre-wrap;\n",
       "}\n",
       "</style>\n",
       "<small>shape: (1, 5)</small><table border=\"1\" class=\"dataframe\"><thead><tr><th>case_id_missing_pct</th><th>date_decision_missing_pct</th><th>MONTH_missing_pct</th><th>WEEK_NUM_missing_pct</th><th>target_missing_pct</th></tr><tr><td>f64</td><td>f64</td><td>f64</td><td>f64</td><td>f64</td></tr></thead><tbody><tr><td>0.0</td><td>0.0</td><td>0.0</td><td>0.0</td><td>0.0</td></tr></tbody></table></div>"
      ],
      "text/plain": [
       "shape: (1, 5)\n",
       "┌───────────────────┬───────────────────┬───────────────────┬───────────────────┬──────────────────┐\n",
       "│ case_id_missing_p ┆ date_decision_mis ┆ MONTH_missing_pct ┆ WEEK_NUM_missing_ ┆ target_missing_p │\n",
       "│ ct                ┆ sing_pct          ┆ ---               ┆ pct               ┆ ct               │\n",
       "│ ---               ┆ ---               ┆ f64               ┆ ---               ┆ ---              │\n",
       "│ f64               ┆ f64               ┆                   ┆ f64               ┆ f64              │\n",
       "╞═══════════════════╪═══════════════════╪═══════════════════╪═══════════════════╪══════════════════╡\n",
       "│ 0.0               ┆ 0.0               ┆ 0.0               ┆ 0.0               ┆ 0.0              │\n",
       "└───────────────────┴───────────────────┴───────────────────┴───────────────────┴──────────────────┘"
      ]
     },
     "execution_count": 5,
     "metadata": {},
     "output_type": "execute_result"
    }
   ],
   "source": [
    "total_rows = base_train.height\n",
    "base_train.select([\n",
    "    (pl.col(col).is_null().sum() / total_rows * 100).alias(f\"{col}_missing_pct\")\n",
    "    for col in base_train.columns\n",
    "])"
   ]
  },
  {
   "cell_type": "code",
   "execution_count": 6,
   "id": "274ad3a2",
   "metadata": {},
   "outputs": [
    {
     "data": {
      "text/html": [
       "<div><style>\n",
       ".dataframe > thead > tr,\n",
       ".dataframe > tbody > tr {\n",
       "  text-align: right;\n",
       "  white-space: pre-wrap;\n",
       "}\n",
       "</style>\n",
       "<small>shape: (5, 53)</small><table border=\"1\" class=\"dataframe\"><thead><tr><th>case_id</th><th>assignmentdate_238D</th><th>assignmentdate_4527235D</th><th>assignmentdate_4955616D</th><th>birthdate_574D</th><th>contractssum_5085716L</th><th>dateofbirth_337D</th><th>dateofbirth_342D</th><th>days120_123L</th><th>days180_256L</th><th>days30_165L</th><th>days360_512L</th><th>days90_310L</th><th>description_5085714M</th><th>education_1103M</th><th>education_88M</th><th>firstquarter_103L</th><th>for3years_128L</th><th>for3years_504L</th><th>for3years_584L</th><th>formonth_118L</th><th>formonth_206L</th><th>formonth_535L</th><th>forquarter_1017L</th><th>forquarter_462L</th><th>forquarter_634L</th><th>fortoday_1092L</th><th>forweek_1077L</th><th>forweek_528L</th><th>forweek_601L</th><th>foryear_618L</th><th>foryear_818L</th><th>foryear_850L</th><th>fourthquarter_440L</th><th>maritalst_385M</th><th>maritalst_893M</th><th>numberofqueries_373L</th><th>pmtaverage_3A</th><th>pmtaverage_4527227A</th><th>pmtaverage_4955615A</th><th>pmtcount_4527229L</th><th>pmtcount_4955617L</th><th>pmtcount_693L</th><th>pmtscount_423L</th><th>pmtssum_45A</th><th>requesttype_4525192L</th><th>responsedate_1012D</th><th>responsedate_4527233D</th><th>responsedate_4917613D</th><th>riskassesment_302T</th><th>riskassesment_940T</th><th>secondquarter_766L</th><th>thirdquarter_1082L</th></tr><tr><td>i64</td><td>str</td><td>str</td><td>str</td><td>str</td><td>str</td><td>str</td><td>str</td><td>f64</td><td>f64</td><td>f64</td><td>f64</td><td>f64</td><td>str</td><td>str</td><td>str</td><td>f64</td><td>f64</td><td>f64</td><td>f64</td><td>f64</td><td>f64</td><td>f64</td><td>f64</td><td>f64</td><td>f64</td><td>f64</td><td>f64</td><td>f64</td><td>f64</td><td>f64</td><td>f64</td><td>f64</td><td>f64</td><td>str</td><td>str</td><td>f64</td><td>f64</td><td>f64</td><td>f64</td><td>str</td><td>str</td><td>f64</td><td>f64</td><td>f64</td><td>str</td><td>str</td><td>str</td><td>str</td><td>str</td><td>f64</td><td>f64</td><td>f64</td></tr></thead><tbody><tr><td>357</td><td>null</td><td>null</td><td>null</td><td>&quot;1988-04-01&quot;</td><td>null</td><td>null</td><td>null</td><td>null</td><td>null</td><td>null</td><td>null</td><td>null</td><td>&quot;a55475b1&quot;</td><td>&quot;a55475b1&quot;</td><td>&quot;a55475b1&quot;</td><td>null</td><td>null</td><td>null</td><td>null</td><td>null</td><td>null</td><td>null</td><td>null</td><td>null</td><td>null</td><td>null</td><td>null</td><td>null</td><td>null</td><td>null</td><td>null</td><td>null</td><td>null</td><td>&quot;a55475b1&quot;</td><td>&quot;a55475b1&quot;</td><td>null</td><td>null</td><td>null</td><td>null</td><td>null</td><td>null</td><td>null</td><td>6.0</td><td>6301.4</td><td>null</td><td>&quot;2019-01-25&quot;</td><td>null</td><td>null</td><td>null</td><td>null</td><td>null</td><td>null</td></tr><tr><td>381</td><td>null</td><td>null</td><td>null</td><td>&quot;1973-11-01&quot;</td><td>null</td><td>null</td><td>null</td><td>null</td><td>null</td><td>null</td><td>null</td><td>null</td><td>&quot;a55475b1&quot;</td><td>&quot;a55475b1&quot;</td><td>&quot;a55475b1&quot;</td><td>null</td><td>null</td><td>null</td><td>null</td><td>null</td><td>null</td><td>null</td><td>null</td><td>null</td><td>null</td><td>null</td><td>null</td><td>null</td><td>null</td><td>null</td><td>null</td><td>null</td><td>null</td><td>&quot;a55475b1&quot;</td><td>&quot;a55475b1&quot;</td><td>null</td><td>null</td><td>null</td><td>null</td><td>null</td><td>null</td><td>null</td><td>6.0</td><td>4019.6</td><td>null</td><td>&quot;2019-01-25&quot;</td><td>null</td><td>null</td><td>null</td><td>null</td><td>null</td><td>null</td></tr><tr><td>388</td><td>null</td><td>null</td><td>null</td><td>&quot;1989-04-01&quot;</td><td>null</td><td>&quot;1989-04-01&quot;</td><td>null</td><td>6.0</td><td>8.0</td><td>2.0</td><td>10.0</td><td>4.0</td><td>&quot;a55475b1&quot;</td><td>&quot;a55475b1&quot;</td><td>&quot;a55475b1&quot;</td><td>2.0</td><td>null</td><td>null</td><td>null</td><td>null</td><td>null</td><td>null</td><td>null</td><td>null</td><td>null</td><td>null</td><td>null</td><td>null</td><td>null</td><td>null</td><td>null</td><td>null</td><td>6.0</td><td>&quot;a55475b1&quot;</td><td>&quot;a55475b1&quot;</td><td>10.0</td><td>null</td><td>null</td><td>null</td><td>null</td><td>null</td><td>null</td><td>6.0</td><td>14548.0</td><td>null</td><td>&quot;2019-01-28&quot;</td><td>null</td><td>null</td><td>null</td><td>null</td><td>3.0</td><td>5.0</td></tr><tr><td>405</td><td>null</td><td>null</td><td>null</td><td>&quot;1974-03-01&quot;</td><td>null</td><td>&quot;1974-03-01&quot;</td><td>null</td><td>0.0</td><td>0.0</td><td>0.0</td><td>1.0</td><td>0.0</td><td>&quot;a55475b1&quot;</td><td>&quot;a55475b1&quot;</td><td>&quot;a55475b1&quot;</td><td>0.0</td><td>null</td><td>null</td><td>null</td><td>null</td><td>null</td><td>null</td><td>null</td><td>null</td><td>null</td><td>null</td><td>null</td><td>null</td><td>null</td><td>null</td><td>null</td><td>null</td><td>4.0</td><td>&quot;a55475b1&quot;</td><td>&quot;a55475b1&quot;</td><td>1.0</td><td>null</td><td>null</td><td>null</td><td>null</td><td>null</td><td>null</td><td>6.0</td><td>10498.24</td><td>null</td><td>&quot;2019-01-21&quot;</td><td>null</td><td>null</td><td>null</td><td>null</td><td>2.0</td><td>0.0</td></tr><tr><td>409</td><td>null</td><td>null</td><td>null</td><td>&quot;1993-06-01&quot;</td><td>null</td><td>&quot;1993-06-01&quot;</td><td>null</td><td>2.0</td><td>3.0</td><td>0.0</td><td>3.0</td><td>1.0</td><td>&quot;a55475b1&quot;</td><td>&quot;717ddd49&quot;</td><td>&quot;a55475b1&quot;</td><td>4.0</td><td>null</td><td>null</td><td>null</td><td>null</td><td>null</td><td>null</td><td>null</td><td>null</td><td>null</td><td>null</td><td>null</td><td>null</td><td>null</td><td>null</td><td>null</td><td>null</td><td>1.0</td><td>&quot;a7fcb6e5&quot;</td><td>&quot;a55475b1&quot;</td><td>3.0</td><td>null</td><td>null</td><td>null</td><td>null</td><td>null</td><td>null</td><td>7.0</td><td>6344.8804</td><td>null</td><td>&quot;2019-01-21&quot;</td><td>null</td><td>null</td><td>null</td><td>null</td><td>0.0</td><td>4.0</td></tr></tbody></table></div>"
      ],
      "text/plain": [
       "shape: (5, 53)\n",
       "┌─────────┬────────────┬───────────┬───────────┬───┬───────────┬───────────┬───────────┬───────────┐\n",
       "│ case_id ┆ assignment ┆ assignmen ┆ assignmen ┆ … ┆ riskasses ┆ riskasses ┆ secondqua ┆ thirdquar │\n",
       "│ ---     ┆ date_238D  ┆ tdate_452 ┆ tdate_495 ┆   ┆ ment_302T ┆ ment_940T ┆ rter_766L ┆ ter_1082L │\n",
       "│ i64     ┆ ---        ┆ 7235D     ┆ 5616D     ┆   ┆ ---       ┆ ---       ┆ ---       ┆ ---       │\n",
       "│         ┆ str        ┆ ---       ┆ ---       ┆   ┆ str       ┆ f64       ┆ f64       ┆ f64       │\n",
       "│         ┆            ┆ str       ┆ str       ┆   ┆           ┆           ┆           ┆           │\n",
       "╞═════════╪════════════╪═══════════╪═══════════╪═══╪═══════════╪═══════════╪═══════════╪═══════════╡\n",
       "│ 357     ┆ null       ┆ null      ┆ null      ┆ … ┆ null      ┆ null      ┆ null      ┆ null      │\n",
       "│ 381     ┆ null       ┆ null      ┆ null      ┆ … ┆ null      ┆ null      ┆ null      ┆ null      │\n",
       "│ 388     ┆ null       ┆ null      ┆ null      ┆ … ┆ null      ┆ null      ┆ 3.0       ┆ 5.0       │\n",
       "│ 405     ┆ null       ┆ null      ┆ null      ┆ … ┆ null      ┆ null      ┆ 2.0       ┆ 0.0       │\n",
       "│ 409     ┆ null       ┆ null      ┆ null      ┆ … ┆ null      ┆ null      ┆ 0.0       ┆ 4.0       │\n",
       "└─────────┴────────────┴───────────┴───────────┴───┴───────────┴───────────┴───────────┴───────────┘"
      ]
     },
     "execution_count": 6,
     "metadata": {},
     "output_type": "execute_result"
    }
   ],
   "source": [
    "#Depth=0\n",
    "static_train=pl.read_csv(dataPath + \"csv_files/train/train_static_cb_0.csv\")\n",
    "static_train=set_table_dtypes(static_train)\n",
    "static_train.head()"
   ]
  },
  {
   "cell_type": "code",
   "execution_count": 7,
   "id": "8e5639c1",
   "metadata": {},
   "outputs": [
    {
     "data": {
      "text/html": [
       "<div><style>\n",
       ".dataframe > thead > tr,\n",
       ".dataframe > tbody > tr {\n",
       "  text-align: right;\n",
       "  white-space: pre-wrap;\n",
       "}\n",
       "</style>\n",
       "<small>shape: (1, 53)</small><table border=\"1\" class=\"dataframe\"><thead><tr><th>case_id_missing_pct</th><th>assignmentdate_238D_missing_pct</th><th>assignmentdate_4527235D_missing_pct</th><th>assignmentdate_4955616D_missing_pct</th><th>birthdate_574D_missing_pct</th><th>contractssum_5085716L_missing_pct</th><th>dateofbirth_337D_missing_pct</th><th>dateofbirth_342D_missing_pct</th><th>days120_123L_missing_pct</th><th>days180_256L_missing_pct</th><th>days30_165L_missing_pct</th><th>days360_512L_missing_pct</th><th>days90_310L_missing_pct</th><th>description_5085714M_missing_pct</th><th>education_1103M_missing_pct</th><th>education_88M_missing_pct</th><th>firstquarter_103L_missing_pct</th><th>for3years_128L_missing_pct</th><th>for3years_504L_missing_pct</th><th>for3years_584L_missing_pct</th><th>formonth_118L_missing_pct</th><th>formonth_206L_missing_pct</th><th>formonth_535L_missing_pct</th><th>forquarter_1017L_missing_pct</th><th>forquarter_462L_missing_pct</th><th>forquarter_634L_missing_pct</th><th>fortoday_1092L_missing_pct</th><th>forweek_1077L_missing_pct</th><th>forweek_528L_missing_pct</th><th>forweek_601L_missing_pct</th><th>foryear_618L_missing_pct</th><th>foryear_818L_missing_pct</th><th>foryear_850L_missing_pct</th><th>fourthquarter_440L_missing_pct</th><th>maritalst_385M_missing_pct</th><th>maritalst_893M_missing_pct</th><th>numberofqueries_373L_missing_pct</th><th>pmtaverage_3A_missing_pct</th><th>pmtaverage_4527227A_missing_pct</th><th>pmtaverage_4955615A_missing_pct</th><th>pmtcount_4527229L_missing_pct</th><th>pmtcount_4955617L_missing_pct</th><th>pmtcount_693L_missing_pct</th><th>pmtscount_423L_missing_pct</th><th>pmtssum_45A_missing_pct</th><th>requesttype_4525192L_missing_pct</th><th>responsedate_1012D_missing_pct</th><th>responsedate_4527233D_missing_pct</th><th>responsedate_4917613D_missing_pct</th><th>riskassesment_302T_missing_pct</th><th>riskassesment_940T_missing_pct</th><th>secondquarter_766L_missing_pct</th><th>thirdquarter_1082L_missing_pct</th></tr><tr><td>f64</td><td>f64</td><td>f64</td><td>f64</td><td>f64</td><td>f64</td><td>f64</td><td>f64</td><td>f64</td><td>f64</td><td>f64</td><td>f64</td><td>f64</td><td>f64</td><td>f64</td><td>f64</td><td>f64</td><td>f64</td><td>f64</td><td>f64</td><td>f64</td><td>f64</td><td>f64</td><td>f64</td><td>f64</td><td>f64</td><td>f64</td><td>f64</td><td>f64</td><td>f64</td><td>f64</td><td>f64</td><td>f64</td><td>f64</td><td>f64</td><td>f64</td><td>f64</td><td>f64</td><td>f64</td><td>f64</td><td>f64</td><td>f64</td><td>f64</td><td>f64</td><td>f64</td><td>f64</td><td>f64</td><td>f64</td><td>f64</td><td>f64</td><td>f64</td><td>f64</td><td>f64</td></tr></thead><tbody><tr><td>0.0</td><td>90.869831</td><td>92.337232</td><td>95.225982</td><td>59.488122</td><td>89.514727</td><td>7.649906</td><td>97.567439</td><td>7.649906</td><td>7.649906</td><td>7.649906</td><td>7.649906</td><td>7.649906</td><td>0.0</td><td>0.0</td><td>0.0</td><td>7.649906</td><td>97.566506</td><td>97.566506</td><td>97.566506</td><td>97.566506</td><td>97.566506</td><td>97.566506</td><td>97.566506</td><td>97.566506</td><td>97.566506</td><td>97.566506</td><td>97.566506</td><td>97.566506</td><td>97.566506</td><td>97.566506</td><td>97.566506</td><td>97.566506</td><td>7.649906</td><td>0.0</td><td>0.0</td><td>7.649906</td><td>90.430437</td><td>92.337232</td><td>95.211853</td><td>92.337232</td><td>95.211853</td><td>90.242696</td><td>61.836244</td><td>61.836244</td><td>55.129972</td><td>52.015227</td><td>55.992165</td><td>85.010623</td><td>96.430533</td><td>96.430466</td><td>7.649906</td><td>7.649906</td></tr></tbody></table></div>"
      ],
      "text/plain": [
       "shape: (1, 53)\n",
       "┌───────────┬───────────┬───────────┬───────────┬───┬───────────┬───────────┬───────────┬──────────┐\n",
       "│ case_id_m ┆ assignmen ┆ assignmen ┆ assignmen ┆ … ┆ riskasses ┆ riskasses ┆ secondqua ┆ thirdqua │\n",
       "│ issing_pc ┆ tdate_238 ┆ tdate_452 ┆ tdate_495 ┆   ┆ ment_302T ┆ ment_940T ┆ rter_766L ┆ rter_108 │\n",
       "│ t         ┆ D_missing ┆ 7235D_mis ┆ 5616D_mis ┆   ┆ _missing_ ┆ _missing_ ┆ _missing_ ┆ 2L_missi │\n",
       "│ ---       ┆ _pct      ┆ sing_…    ┆ sing_…    ┆   ┆ pct       ┆ pct       ┆ pct       ┆ ng_pct   │\n",
       "│ f64       ┆ ---       ┆ ---       ┆ ---       ┆   ┆ ---       ┆ ---       ┆ ---       ┆ ---      │\n",
       "│           ┆ f64       ┆ f64       ┆ f64       ┆   ┆ f64       ┆ f64       ┆ f64       ┆ f64      │\n",
       "╞═══════════╪═══════════╪═══════════╪═══════════╪═══╪═══════════╪═══════════╪═══════════╪══════════╡\n",
       "│ 0.0       ┆ 90.869831 ┆ 92.337232 ┆ 95.225982 ┆ … ┆ 96.430533 ┆ 96.430466 ┆ 7.649906  ┆ 7.649906 │\n",
       "└───────────┴───────────┴───────────┴───────────┴───┴───────────┴───────────┴───────────┴──────────┘"
      ]
     },
     "execution_count": 7,
     "metadata": {},
     "output_type": "execute_result"
    }
   ],
   "source": [
    "total_rows = static_train.height\n",
    "static_train.select([\n",
    "    (pl.col(col).is_null().sum() / total_rows * 100).alias(f\"{col}_missing_pct\")\n",
    "    for col in static_train.columns\n",
    "])"
   ]
  },
  {
   "cell_type": "code",
   "execution_count": 8,
   "id": "6a0cae6c",
   "metadata": {},
   "outputs": [
    {
     "data": {
      "text/html": [
       "<div><style>\n",
       ".dataframe > thead > tr,\n",
       ".dataframe > tbody > tr {\n",
       "  text-align: right;\n",
       "  white-space: pre-wrap;\n",
       "}\n",
       "</style>\n",
       "<small>shape: (5, 26)</small><table border=\"1\" class=\"dataframe\"><thead><tr><th>case_id</th><th>birthdate_574D</th><th>contractssum_5085716L</th><th>dateofbirth_337D</th><th>days120_123L</th><th>days180_256L</th><th>days30_165L</th><th>days360_512L</th><th>days90_310L</th><th>description_5085714M</th><th>education_1103M</th><th>education_88M</th><th>firstquarter_103L</th><th>fourthquarter_440L</th><th>maritalst_385M</th><th>maritalst_893M</th><th>numberofqueries_373L</th><th>pmtaverage_4527227A</th><th>pmtscount_423L</th><th>pmtssum_45A</th><th>requesttype_4525192L</th><th>responsedate_1012D</th><th>responsedate_4527233D</th><th>responsedate_4917613D</th><th>secondquarter_766L</th><th>thirdquarter_1082L</th></tr><tr><td>i64</td><td>str</td><td>str</td><td>str</td><td>f64</td><td>f64</td><td>f64</td><td>f64</td><td>f64</td><td>str</td><td>str</td><td>str</td><td>f64</td><td>f64</td><td>str</td><td>str</td><td>f64</td><td>f64</td><td>f64</td><td>f64</td><td>str</td><td>str</td><td>str</td><td>str</td><td>f64</td><td>f64</td></tr></thead><tbody><tr><td>357</td><td>&quot;1988-04-01&quot;</td><td>null</td><td>null</td><td>null</td><td>null</td><td>null</td><td>null</td><td>null</td><td>&quot;a55475b1&quot;</td><td>&quot;a55475b1&quot;</td><td>&quot;a55475b1&quot;</td><td>null</td><td>null</td><td>&quot;a55475b1&quot;</td><td>&quot;a55475b1&quot;</td><td>null</td><td>null</td><td>6.0</td><td>6301.4</td><td>null</td><td>&quot;2019-01-25&quot;</td><td>null</td><td>null</td><td>null</td><td>null</td></tr><tr><td>381</td><td>&quot;1973-11-01&quot;</td><td>null</td><td>null</td><td>null</td><td>null</td><td>null</td><td>null</td><td>null</td><td>&quot;a55475b1&quot;</td><td>&quot;a55475b1&quot;</td><td>&quot;a55475b1&quot;</td><td>null</td><td>null</td><td>&quot;a55475b1&quot;</td><td>&quot;a55475b1&quot;</td><td>null</td><td>null</td><td>6.0</td><td>4019.6</td><td>null</td><td>&quot;2019-01-25&quot;</td><td>null</td><td>null</td><td>null</td><td>null</td></tr><tr><td>388</td><td>&quot;1989-04-01&quot;</td><td>null</td><td>&quot;1989-04-01&quot;</td><td>6.0</td><td>8.0</td><td>2.0</td><td>10.0</td><td>4.0</td><td>&quot;a55475b1&quot;</td><td>&quot;a55475b1&quot;</td><td>&quot;a55475b1&quot;</td><td>2.0</td><td>6.0</td><td>&quot;a55475b1&quot;</td><td>&quot;a55475b1&quot;</td><td>10.0</td><td>null</td><td>6.0</td><td>14548.0</td><td>null</td><td>&quot;2019-01-28&quot;</td><td>null</td><td>null</td><td>3.0</td><td>5.0</td></tr><tr><td>405</td><td>&quot;1974-03-01&quot;</td><td>null</td><td>&quot;1974-03-01&quot;</td><td>0.0</td><td>0.0</td><td>0.0</td><td>1.0</td><td>0.0</td><td>&quot;a55475b1&quot;</td><td>&quot;a55475b1&quot;</td><td>&quot;a55475b1&quot;</td><td>0.0</td><td>4.0</td><td>&quot;a55475b1&quot;</td><td>&quot;a55475b1&quot;</td><td>1.0</td><td>null</td><td>6.0</td><td>10498.24</td><td>null</td><td>&quot;2019-01-21&quot;</td><td>null</td><td>null</td><td>2.0</td><td>0.0</td></tr><tr><td>409</td><td>&quot;1993-06-01&quot;</td><td>null</td><td>&quot;1993-06-01&quot;</td><td>2.0</td><td>3.0</td><td>0.0</td><td>3.0</td><td>1.0</td><td>&quot;a55475b1&quot;</td><td>&quot;717ddd49&quot;</td><td>&quot;a55475b1&quot;</td><td>4.0</td><td>1.0</td><td>&quot;a7fcb6e5&quot;</td><td>&quot;a55475b1&quot;</td><td>3.0</td><td>null</td><td>7.0</td><td>6344.8804</td><td>null</td><td>&quot;2019-01-21&quot;</td><td>null</td><td>null</td><td>0.0</td><td>4.0</td></tr></tbody></table></div>"
      ],
      "text/plain": [
       "shape: (5, 26)\n",
       "┌─────────┬────────────┬───────────┬───────────┬───┬───────────┬───────────┬───────────┬───────────┐\n",
       "│ case_id ┆ birthdate_ ┆ contracts ┆ dateofbir ┆ … ┆ responsed ┆ responsed ┆ secondqua ┆ thirdquar │\n",
       "│ ---     ┆ 574D       ┆ sum_50857 ┆ th_337D   ┆   ┆ ate_45272 ┆ ate_49176 ┆ rter_766L ┆ ter_1082L │\n",
       "│ i64     ┆ ---        ┆ 16L       ┆ ---       ┆   ┆ 33D       ┆ 13D       ┆ ---       ┆ ---       │\n",
       "│         ┆ str        ┆ ---       ┆ str       ┆   ┆ ---       ┆ ---       ┆ f64       ┆ f64       │\n",
       "│         ┆            ┆ str       ┆           ┆   ┆ str       ┆ str       ┆           ┆           │\n",
       "╞═════════╪════════════╪═══════════╪═══════════╪═══╪═══════════╪═══════════╪═══════════╪═══════════╡\n",
       "│ 357     ┆ 1988-04-01 ┆ null      ┆ null      ┆ … ┆ null      ┆ null      ┆ null      ┆ null      │\n",
       "│ 381     ┆ 1973-11-01 ┆ null      ┆ null      ┆ … ┆ null      ┆ null      ┆ null      ┆ null      │\n",
       "│ 388     ┆ 1989-04-01 ┆ null      ┆ 1989-04-0 ┆ … ┆ null      ┆ null      ┆ 3.0       ┆ 5.0       │\n",
       "│         ┆            ┆           ┆ 1         ┆   ┆           ┆           ┆           ┆           │\n",
       "│ 405     ┆ 1974-03-01 ┆ null      ┆ 1974-03-0 ┆ … ┆ null      ┆ null      ┆ 2.0       ┆ 0.0       │\n",
       "│         ┆            ┆           ┆ 1         ┆   ┆           ┆           ┆           ┆           │\n",
       "│ 409     ┆ 1993-06-01 ┆ null      ┆ 1993-06-0 ┆ … ┆ null      ┆ null      ┆ 0.0       ┆ 4.0       │\n",
       "│         ┆            ┆           ┆ 1         ┆   ┆           ┆           ┆           ┆           │\n",
       "└─────────┴────────────┴───────────┴───────────┴───┴───────────┴───────────┴───────────┴───────────┘"
      ]
     },
     "execution_count": 8,
     "metadata": {},
     "output_type": "execute_result"
    }
   ],
   "source": [
    "drop_list=[\"assignmentdate_238D\",\"assignmentdate_4527235D\",\"assignmentdate_4955616D\",\"dateofbirth_342D\",\"for3years_128L\",\"for3years_504L\",\"for3years_584L\",\"formonth_118L\",\"formonth_206L\",\"formonth_535L\",\"forquarter_1017L\",\"forquarter_462L\",\"forquarter_634L\",\"fortoday_1092L\",\"forweek_1077L\",\"forweek_528L\",\"forweek_601L\",\"foryear_618L\",\"foryear_818L\",\"foryear_850L\",\"pmtaverage_3A\",\"pmtaverage_4527227A_\",\"pmtaverage_4955615A\",\"pmtcount_4527229L\",\"pmtcount_4955617L\",\"pmtcount_693L\",\"riskassesment_302T\",\"riskassesment_940T\"]\n",
    "static_train=static_train.drop(drop_list)\n",
    "static_train.head()"
   ]
  },
  {
   "cell_type": "code",
   "execution_count": 9,
   "id": "c140864e",
   "metadata": {},
   "outputs": [
    {
     "data": {
      "text/html": [
       "<div><style>\n",
       ".dataframe > thead > tr,\n",
       ".dataframe > tbody > tr {\n",
       "  text-align: right;\n",
       "  white-space: pre-wrap;\n",
       "}\n",
       "</style>\n",
       "<small>shape: (5, 26)</small><table border=\"1\" class=\"dataframe\"><thead><tr><th>case_id</th><th>birthdate_574D</th><th>contractssum_5085716L</th><th>dateofbirth_337D</th><th>days120_123L</th><th>days180_256L</th><th>days30_165L</th><th>days360_512L</th><th>days90_310L</th><th>description_5085714M</th><th>education_1103M</th><th>education_88M</th><th>firstquarter_103L</th><th>fourthquarter_440L</th><th>maritalst_385M</th><th>maritalst_893M</th><th>numberofqueries_373L</th><th>pmtaverage_4527227A</th><th>pmtscount_423L</th><th>pmtssum_45A</th><th>requesttype_4525192L</th><th>responsedate_1012D</th><th>responsedate_4527233D</th><th>responsedate_4917613D</th><th>secondquarter_766L</th><th>thirdquarter_1082L</th></tr><tr><td>i64</td><td>str</td><td>str</td><td>str</td><td>f64</td><td>f64</td><td>f64</td><td>f64</td><td>f64</td><td>str</td><td>str</td><td>str</td><td>f64</td><td>f64</td><td>str</td><td>str</td><td>f64</td><td>f64</td><td>f64</td><td>f64</td><td>str</td><td>str</td><td>str</td><td>str</td><td>f64</td><td>f64</td></tr></thead><tbody><tr><td>357</td><td>&quot;1988-04-01&quot;</td><td>&quot;Unknown&quot;</td><td>&quot;Unknown&quot;</td><td>0.0</td><td>0.0</td><td>0.0</td><td>0.0</td><td>0.0</td><td>&quot;a55475b1&quot;</td><td>&quot;a55475b1&quot;</td><td>&quot;a55475b1&quot;</td><td>0.0</td><td>0.0</td><td>&quot;a55475b1&quot;</td><td>&quot;a55475b1&quot;</td><td>0.0</td><td>0.0</td><td>6.0</td><td>6301.4</td><td>&quot;Unknown&quot;</td><td>&quot;2019-01-25&quot;</td><td>&quot;Unknown&quot;</td><td>&quot;Unknown&quot;</td><td>0.0</td><td>0.0</td></tr><tr><td>381</td><td>&quot;1973-11-01&quot;</td><td>&quot;Unknown&quot;</td><td>&quot;Unknown&quot;</td><td>0.0</td><td>0.0</td><td>0.0</td><td>0.0</td><td>0.0</td><td>&quot;a55475b1&quot;</td><td>&quot;a55475b1&quot;</td><td>&quot;a55475b1&quot;</td><td>0.0</td><td>0.0</td><td>&quot;a55475b1&quot;</td><td>&quot;a55475b1&quot;</td><td>0.0</td><td>0.0</td><td>6.0</td><td>4019.6</td><td>&quot;Unknown&quot;</td><td>&quot;2019-01-25&quot;</td><td>&quot;Unknown&quot;</td><td>&quot;Unknown&quot;</td><td>0.0</td><td>0.0</td></tr><tr><td>388</td><td>&quot;1989-04-01&quot;</td><td>&quot;Unknown&quot;</td><td>&quot;1989-04-01&quot;</td><td>6.0</td><td>8.0</td><td>2.0</td><td>10.0</td><td>4.0</td><td>&quot;a55475b1&quot;</td><td>&quot;a55475b1&quot;</td><td>&quot;a55475b1&quot;</td><td>2.0</td><td>6.0</td><td>&quot;a55475b1&quot;</td><td>&quot;a55475b1&quot;</td><td>10.0</td><td>0.0</td><td>6.0</td><td>14548.0</td><td>&quot;Unknown&quot;</td><td>&quot;2019-01-28&quot;</td><td>&quot;Unknown&quot;</td><td>&quot;Unknown&quot;</td><td>3.0</td><td>5.0</td></tr><tr><td>405</td><td>&quot;1974-03-01&quot;</td><td>&quot;Unknown&quot;</td><td>&quot;1974-03-01&quot;</td><td>0.0</td><td>0.0</td><td>0.0</td><td>1.0</td><td>0.0</td><td>&quot;a55475b1&quot;</td><td>&quot;a55475b1&quot;</td><td>&quot;a55475b1&quot;</td><td>0.0</td><td>4.0</td><td>&quot;a55475b1&quot;</td><td>&quot;a55475b1&quot;</td><td>1.0</td><td>0.0</td><td>6.0</td><td>10498.24</td><td>&quot;Unknown&quot;</td><td>&quot;2019-01-21&quot;</td><td>&quot;Unknown&quot;</td><td>&quot;Unknown&quot;</td><td>2.0</td><td>0.0</td></tr><tr><td>409</td><td>&quot;1993-06-01&quot;</td><td>&quot;Unknown&quot;</td><td>&quot;1993-06-01&quot;</td><td>2.0</td><td>3.0</td><td>0.0</td><td>3.0</td><td>1.0</td><td>&quot;a55475b1&quot;</td><td>&quot;717ddd49&quot;</td><td>&quot;a55475b1&quot;</td><td>4.0</td><td>1.0</td><td>&quot;a7fcb6e5&quot;</td><td>&quot;a55475b1&quot;</td><td>3.0</td><td>0.0</td><td>7.0</td><td>6344.8804</td><td>&quot;Unknown&quot;</td><td>&quot;2019-01-21&quot;</td><td>&quot;Unknown&quot;</td><td>&quot;Unknown&quot;</td><td>0.0</td><td>4.0</td></tr></tbody></table></div>"
      ],
      "text/plain": [
       "shape: (5, 26)\n",
       "┌─────────┬────────────┬───────────┬───────────┬───┬───────────┬───────────┬───────────┬───────────┐\n",
       "│ case_id ┆ birthdate_ ┆ contracts ┆ dateofbir ┆ … ┆ responsed ┆ responsed ┆ secondqua ┆ thirdquar │\n",
       "│ ---     ┆ 574D       ┆ sum_50857 ┆ th_337D   ┆   ┆ ate_45272 ┆ ate_49176 ┆ rter_766L ┆ ter_1082L │\n",
       "│ i64     ┆ ---        ┆ 16L       ┆ ---       ┆   ┆ 33D       ┆ 13D       ┆ ---       ┆ ---       │\n",
       "│         ┆ str        ┆ ---       ┆ str       ┆   ┆ ---       ┆ ---       ┆ f64       ┆ f64       │\n",
       "│         ┆            ┆ str       ┆           ┆   ┆ str       ┆ str       ┆           ┆           │\n",
       "╞═════════╪════════════╪═══════════╪═══════════╪═══╪═══════════╪═══════════╪═══════════╪═══════════╡\n",
       "│ 357     ┆ 1988-04-01 ┆ Unknown   ┆ Unknown   ┆ … ┆ Unknown   ┆ Unknown   ┆ 0.0       ┆ 0.0       │\n",
       "│ 381     ┆ 1973-11-01 ┆ Unknown   ┆ Unknown   ┆ … ┆ Unknown   ┆ Unknown   ┆ 0.0       ┆ 0.0       │\n",
       "│ 388     ┆ 1989-04-01 ┆ Unknown   ┆ 1989-04-0 ┆ … ┆ Unknown   ┆ Unknown   ┆ 3.0       ┆ 5.0       │\n",
       "│         ┆            ┆           ┆ 1         ┆   ┆           ┆           ┆           ┆           │\n",
       "│ 405     ┆ 1974-03-01 ┆ Unknown   ┆ 1974-03-0 ┆ … ┆ Unknown   ┆ Unknown   ┆ 2.0       ┆ 0.0       │\n",
       "│         ┆            ┆           ┆ 1         ┆   ┆           ┆           ┆           ┆           │\n",
       "│ 409     ┆ 1993-06-01 ┆ Unknown   ┆ 1993-06-0 ┆ … ┆ Unknown   ┆ Unknown   ┆ 0.0       ┆ 4.0       │\n",
       "│         ┆            ┆           ┆ 1         ┆   ┆           ┆           ┆           ┆           │\n",
       "└─────────┴────────────┴───────────┴───────────┴───┴───────────┴───────────┴───────────┴───────────┘"
      ]
     },
     "execution_count": 9,
     "metadata": {},
     "output_type": "execute_result"
    }
   ],
   "source": [
    "for col in static_train.columns:\n",
    "    # Check if the column is of a numerical type (integer or float)\n",
    "    if static_train[col].dtype in [pl.Int8, pl.Int16, pl.Int32, pl.Int64, pl.UInt8, pl.UInt16, pl.UInt32, pl.UInt64, pl.Float32, pl.Float64]:\n",
    "        # For numerical columns, fill missing values with 0\n",
    "        static_train = static_train.with_columns(pl.col(col).fill_null(0))\n",
    "    # Check if the column is of a string or categorical type\n",
    "    elif static_train[col].dtype in [pl.Utf8, pl.Categorical]:\n",
    "        # For categorical/string columns, fill missing values with \"Unknown\"\n",
    "        static_train = static_train.with_columns(pl.col(col).fill_null(\"Unknown\"))\n",
    "static_train.head()"
   ]
  },
  {
   "cell_type": "code",
   "execution_count": 10,
   "id": "af701f14",
   "metadata": {},
   "outputs": [
    {
     "data": {
      "text/html": [
       "<div><style>\n",
       ".dataframe > thead > tr,\n",
       ".dataframe > tbody > tr {\n",
       "  text-align: right;\n",
       "  white-space: pre-wrap;\n",
       "}\n",
       "</style>\n",
       "<small>shape: (5, 6)</small><table border=\"1\" class=\"dataframe\"><thead><tr><th>case_id</th><th>cacccardblochreas_147M</th><th>conts_type_509L</th><th>credacc_cards_status_52L</th><th>num_group1</th><th>num_group2</th></tr><tr><td>i64</td><td>str</td><td>str</td><td>str</td><td>i64</td><td>i64</td></tr></thead><tbody><tr><td>2</td><td>null</td><td>&quot;EMPLOYMENT_PHO…</td><td>null</td><td>1</td><td>1</td></tr><tr><td>2</td><td>null</td><td>&quot;EMPLOYMENT_PHO…</td><td>null</td><td>0</td><td>1</td></tr><tr><td>2</td><td>null</td><td>&quot;PRIMARY_MOBILE…</td><td>null</td><td>0</td><td>0</td></tr><tr><td>2</td><td>null</td><td>&quot;PRIMARY_MOBILE…</td><td>null</td><td>1</td><td>0</td></tr><tr><td>3</td><td>null</td><td>&quot;PRIMARY_MOBILE…</td><td>null</td><td>0</td><td>1</td></tr></tbody></table></div>"
      ],
      "text/plain": [
       "shape: (5, 6)\n",
       "┌─────────┬─────────────────────┬──────────────────┬─────────────────────┬────────────┬────────────┐\n",
       "│ case_id ┆ cacccardblochreas_1 ┆ conts_type_509L  ┆ credacc_cards_statu ┆ num_group1 ┆ num_group2 │\n",
       "│ ---     ┆ 47M                 ┆ ---              ┆ s_52L               ┆ ---        ┆ ---        │\n",
       "│ i64     ┆ ---                 ┆ str              ┆ ---                 ┆ i64        ┆ i64        │\n",
       "│         ┆ str                 ┆                  ┆ str                 ┆            ┆            │\n",
       "╞═════════╪═════════════════════╪══════════════════╪═════════════════════╪════════════╪════════════╡\n",
       "│ 2       ┆ null                ┆ EMPLOYMENT_PHONE ┆ null                ┆ 1          ┆ 1          │\n",
       "│ 2       ┆ null                ┆ EMPLOYMENT_PHONE ┆ null                ┆ 0          ┆ 1          │\n",
       "│ 2       ┆ null                ┆ PRIMARY_MOBILE   ┆ null                ┆ 0          ┆ 0          │\n",
       "│ 2       ┆ null                ┆ PRIMARY_MOBILE   ┆ null                ┆ 1          ┆ 0          │\n",
       "│ 3       ┆ null                ┆ PRIMARY_MOBILE   ┆ null                ┆ 0          ┆ 1          │\n",
       "└─────────┴─────────────────────┴──────────────────┴─────────────────────┴────────────┴────────────┘"
      ]
     },
     "execution_count": 10,
     "metadata": {},
     "output_type": "execute_result"
    }
   ],
   "source": [
    "#Depth=2\n",
    "applprev_train=pl.read_csv(dataPath+\"csv_files/train/train_applprev_2.csv\")\n",
    "applprev_train.head()"
   ]
  },
  {
   "cell_type": "code",
   "execution_count": 11,
   "id": "a9715b29",
   "metadata": {},
   "outputs": [
    {
     "data": {
      "text/html": [
       "<div><style>\n",
       ".dataframe > thead > tr,\n",
       ".dataframe > tbody > tr {\n",
       "  text-align: right;\n",
       "  white-space: pre-wrap;\n",
       "}\n",
       "</style>\n",
       "<small>shape: (1, 6)</small><table border=\"1\" class=\"dataframe\"><thead><tr><th>case_id_missing_pct</th><th>cacccardblochreas_147M_missing_pct</th><th>conts_type_509L_missing_pct</th><th>credacc_cards_status_52L_missing_pct</th><th>num_group1_missing_pct</th><th>num_group2_missing_pct</th></tr><tr><td>f64</td><td>f64</td><td>f64</td><td>f64</td><td>f64</td><td>f64</td></tr></thead><tbody><tr><td>0.0</td><td>0.776165</td><td>17.00869</td><td>97.569654</td><td>0.0</td><td>0.0</td></tr></tbody></table></div>"
      ],
      "text/plain": [
       "shape: (1, 6)\n",
       "┌────────────────┬────────────────┬────────────────┬───────────────┬───────────────┬───────────────┐\n",
       "│ case_id_missin ┆ cacccardblochr ┆ conts_type_509 ┆ credacc_cards ┆ num_group1_mi ┆ num_group2_mi │\n",
       "│ g_pct          ┆ eas_147M_missi ┆ L_missing_pct  ┆ _status_52L_m ┆ ssing_pct     ┆ ssing_pct     │\n",
       "│ ---            ┆ ng_p…          ┆ ---            ┆ issing…       ┆ ---           ┆ ---           │\n",
       "│ f64            ┆ ---            ┆ f64            ┆ ---           ┆ f64           ┆ f64           │\n",
       "│                ┆ f64            ┆                ┆ f64           ┆               ┆               │\n",
       "╞════════════════╪════════════════╪════════════════╪═══════════════╪═══════════════╪═══════════════╡\n",
       "│ 0.0            ┆ 0.776165       ┆ 17.00869       ┆ 97.569654     ┆ 0.0           ┆ 0.0           │\n",
       "└────────────────┴────────────────┴────────────────┴───────────────┴───────────────┴───────────────┘"
      ]
     },
     "execution_count": 11,
     "metadata": {},
     "output_type": "execute_result"
    }
   ],
   "source": [
    "total_rows = applprev_train.height\n",
    "applprev_train.select([\n",
    "    (pl.col(col).is_null().sum() / total_rows * 100).alias(f\"{col}_missing_pct\")\n",
    "    for col in applprev_train.columns\n",
    "])"
   ]
  },
  {
   "cell_type": "code",
   "execution_count": 12,
   "id": "8876b20b",
   "metadata": {},
   "outputs": [
    {
     "data": {
      "text/html": [
       "<div><style>\n",
       ".dataframe > thead > tr,\n",
       ".dataframe > tbody > tr {\n",
       "  text-align: right;\n",
       "  white-space: pre-wrap;\n",
       "}\n",
       "</style>\n",
       "<small>shape: (5, 5)</small><table border=\"1\" class=\"dataframe\"><thead><tr><th>case_id</th><th>cacccardblochreas_147M</th><th>conts_type_509L</th><th>num_group1</th><th>num_group2</th></tr><tr><td>i64</td><td>str</td><td>str</td><td>i64</td><td>i64</td></tr></thead><tbody><tr><td>2</td><td>&quot;Unknown&quot;</td><td>&quot;EMPLOYMENT_PHO…</td><td>1</td><td>1</td></tr><tr><td>2</td><td>&quot;Unknown&quot;</td><td>&quot;EMPLOYMENT_PHO…</td><td>0</td><td>1</td></tr><tr><td>2</td><td>&quot;Unknown&quot;</td><td>&quot;PRIMARY_MOBILE…</td><td>0</td><td>0</td></tr><tr><td>2</td><td>&quot;Unknown&quot;</td><td>&quot;PRIMARY_MOBILE…</td><td>1</td><td>0</td></tr><tr><td>3</td><td>&quot;Unknown&quot;</td><td>&quot;PRIMARY_MOBILE…</td><td>0</td><td>1</td></tr></tbody></table></div>"
      ],
      "text/plain": [
       "shape: (5, 5)\n",
       "┌─────────┬────────────────────────┬──────────────────┬────────────┬────────────┐\n",
       "│ case_id ┆ cacccardblochreas_147M ┆ conts_type_509L  ┆ num_group1 ┆ num_group2 │\n",
       "│ ---     ┆ ---                    ┆ ---              ┆ ---        ┆ ---        │\n",
       "│ i64     ┆ str                    ┆ str              ┆ i64        ┆ i64        │\n",
       "╞═════════╪════════════════════════╪══════════════════╪════════════╪════════════╡\n",
       "│ 2       ┆ Unknown                ┆ EMPLOYMENT_PHONE ┆ 1          ┆ 1          │\n",
       "│ 2       ┆ Unknown                ┆ EMPLOYMENT_PHONE ┆ 0          ┆ 1          │\n",
       "│ 2       ┆ Unknown                ┆ PRIMARY_MOBILE   ┆ 0          ┆ 0          │\n",
       "│ 2       ┆ Unknown                ┆ PRIMARY_MOBILE   ┆ 1          ┆ 0          │\n",
       "│ 3       ┆ Unknown                ┆ PRIMARY_MOBILE   ┆ 0          ┆ 1          │\n",
       "└─────────┴────────────────────────┴──────────────────┴────────────┴────────────┘"
      ]
     },
     "execution_count": 12,
     "metadata": {},
     "output_type": "execute_result"
    }
   ],
   "source": [
    "applprev_train=applprev_train.drop(\"credacc_cards_status_52L\")\n",
    "for col in applprev_train.columns:\n",
    "    # Check if the column is of a numerical type (integer or float)\n",
    "    if applprev_train[col].dtype in [pl.Int8, pl.Int16, pl.Int32, pl.Int64, pl.UInt8, pl.UInt16, pl.UInt32, pl.UInt64, pl.Float32, pl.Float64]:\n",
    "        # For numerical columns, fill missing values with 0\n",
    "        applprev_train = applprev_train.with_columns(pl.col(col).fill_null(0))\n",
    "    # Check if the column is of a string or categorical type\n",
    "    elif applprev_train[col].dtype in [pl.Utf8, pl.Categorical]:\n",
    "        # For categorical/string columns, fill missing values with \"Unknown\"\n",
    "        applprev_train = applprev_train.with_columns(pl.col(col).fill_null(\"Unknown\"))\n",
    "applprev_train.head()"
   ]
  },
  {
   "cell_type": "code",
   "execution_count": 13,
   "id": "03c40649",
   "metadata": {},
   "outputs": [
    {
     "data": {
      "text/html": [
       "<div><style>\n",
       ".dataframe > thead > tr,\n",
       ".dataframe > tbody > tr {\n",
       "  text-align: right;\n",
       "  white-space: pre-wrap;\n",
       "}\n",
       "</style>\n",
       "<small>shape: (5, 3)</small><table border=\"1\" class=\"dataframe\"><thead><tr><th>case_id</th><th>cacccardblochreas_147M</th><th>conts_type_509L</th></tr><tr><td>i64</td><td>str</td><td>str</td></tr></thead><tbody><tr><td>2</td><td>&quot;Unknown&quot;</td><td>&quot;PRIMARY_MOBILE…</td></tr><tr><td>3</td><td>&quot;Unknown&quot;</td><td>&quot;PHONE&quot;</td></tr><tr><td>4</td><td>&quot;Unknown&quot;</td><td>&quot;PRIMARY_MOBILE…</td></tr><tr><td>5</td><td>&quot;Unknown&quot;</td><td>&quot;PRIMARY_MOBILE…</td></tr><tr><td>6</td><td>&quot;Unknown&quot;</td><td>&quot;PRIMARY_MOBILE…</td></tr></tbody></table></div>"
      ],
      "text/plain": [
       "shape: (5, 3)\n",
       "┌─────────┬────────────────────────┬─────────────────┐\n",
       "│ case_id ┆ cacccardblochreas_147M ┆ conts_type_509L │\n",
       "│ ---     ┆ ---                    ┆ ---             │\n",
       "│ i64     ┆ str                    ┆ str             │\n",
       "╞═════════╪════════════════════════╪═════════════════╡\n",
       "│ 2       ┆ Unknown                ┆ PRIMARY_MOBILE  │\n",
       "│ 3       ┆ Unknown                ┆ PHONE           │\n",
       "│ 4       ┆ Unknown                ┆ PRIMARY_MOBILE  │\n",
       "│ 5       ┆ Unknown                ┆ PRIMARY_MOBILE  │\n",
       "│ 6       ┆ Unknown                ┆ PRIMARY_MOBILE  │\n",
       "└─────────┴────────────────────────┴─────────────────┘"
      ]
     },
     "execution_count": 13,
     "metadata": {},
     "output_type": "execute_result"
    }
   ],
   "source": [
    "applprev_train=applprev_train.filter((pl.col(\"num_group1\")==0)&(pl.col(\"num_group2\")==0)).drop([\"num_group1\",\"num_group2\"])\n",
    "applprev_train.head()"
   ]
  },
  {
   "cell_type": "code",
   "execution_count": 14,
   "id": "1f7218aa",
   "metadata": {},
   "outputs": [
    {
     "data": {
      "text/html": [
       "<div><style>\n",
       ".dataframe > thead > tr,\n",
       ".dataframe > tbody > tr {\n",
       "  text-align: right;\n",
       "  white-space: pre-wrap;\n",
       "}\n",
       "</style>\n",
       "<small>shape: (5, 7)</small><table border=\"1\" class=\"dataframe\"><thead><tr><th>case_id</th><th>amtdebitincoming_4809443A</th><th>amtdebitoutgoing_4809440A</th><th>amtdepositbalance_4809441A</th><th>amtdepositincoming_4809444A</th><th>amtdepositoutgoing_4809442A</th><th>num_group1</th></tr><tr><td>i64</td><td>f64</td><td>f64</td><td>f64</td><td>f64</td><td>f64</td><td>i64</td></tr></thead><tbody><tr><td>43801</td><td>12466.601</td><td>12291.2</td><td>914.2</td><td>0.0</td><td>304.80002</td><td>0</td></tr><tr><td>43991</td><td>3333.4001</td><td>3273.4001</td><td>0.0</td><td>0.0</td><td>0.0</td><td>0</td></tr><tr><td>44001</td><td>10000.0</td><td>10000.0</td><td>0.0</td><td>0.0</td><td>0.0</td><td>0</td></tr><tr><td>44053</td><td>0.0</td><td>0.0</td><td>2586.4001</td><td>0.0</td><td>88.8</td><td>0</td></tr><tr><td>44130</td><td>63.8</td><td>60.8</td><td>0.0</td><td>0.0</td><td>0.0</td><td>0</td></tr></tbody></table></div>"
      ],
      "text/plain": [
       "shape: (5, 7)\n",
       "┌─────────┬───────────────┬──────────────┬──────────────┬──────────────┬──────────────┬────────────┐\n",
       "│ case_id ┆ amtdebitincom ┆ amtdebitoutg ┆ amtdepositba ┆ amtdepositin ┆ amtdepositou ┆ num_group1 │\n",
       "│ ---     ┆ ing_4809443A  ┆ oing_4809440 ┆ lance_480944 ┆ coming_48094 ┆ tgoing_48094 ┆ ---        │\n",
       "│ i64     ┆ ---           ┆ A            ┆ 1A           ┆ 44A          ┆ 42A          ┆ i64        │\n",
       "│         ┆ f64           ┆ ---          ┆ ---          ┆ ---          ┆ ---          ┆            │\n",
       "│         ┆               ┆ f64          ┆ f64          ┆ f64          ┆ f64          ┆            │\n",
       "╞═════════╪═══════════════╪══════════════╪══════════════╪══════════════╪══════════════╪════════════╡\n",
       "│ 43801   ┆ 12466.601     ┆ 12291.2      ┆ 914.2        ┆ 0.0          ┆ 304.80002    ┆ 0          │\n",
       "│ 43991   ┆ 3333.4001     ┆ 3273.4001    ┆ 0.0          ┆ 0.0          ┆ 0.0          ┆ 0          │\n",
       "│ 44001   ┆ 10000.0       ┆ 10000.0      ┆ 0.0          ┆ 0.0          ┆ 0.0          ┆ 0          │\n",
       "│ 44053   ┆ 0.0           ┆ 0.0          ┆ 2586.4001    ┆ 0.0          ┆ 88.8         ┆ 0          │\n",
       "│ 44130   ┆ 63.8          ┆ 60.8         ┆ 0.0          ┆ 0.0          ┆ 0.0          ┆ 0          │\n",
       "└─────────┴───────────────┴──────────────┴──────────────┴──────────────┴──────────────┴────────────┘"
      ]
     },
     "execution_count": 14,
     "metadata": {},
     "output_type": "execute_result"
    }
   ],
   "source": [
    "#Depth=1\n",
    "other_train=pl.read_csv(dataPath+\"csv_files/train/train_other_1.csv\")\n",
    "other_train=set_table_dtypes(other_train)\n",
    "other_train.head()"
   ]
  },
  {
   "cell_type": "code",
   "execution_count": 15,
   "id": "1df46e9f",
   "metadata": {},
   "outputs": [
    {
     "data": {
      "text/html": [
       "<div><style>\n",
       ".dataframe > thead > tr,\n",
       ".dataframe > tbody > tr {\n",
       "  text-align: right;\n",
       "  white-space: pre-wrap;\n",
       "}\n",
       "</style>\n",
       "<small>shape: (1, 7)</small><table border=\"1\" class=\"dataframe\"><thead><tr><th>case_id_missing_pct</th><th>amtdebitincoming_4809443A_missing_pct</th><th>amtdebitoutgoing_4809440A_missing_pct</th><th>amtdepositbalance_4809441A_missing_pct</th><th>amtdepositincoming_4809444A_missing_pct</th><th>amtdepositoutgoing_4809442A_missing_pct</th><th>num_group1_missing_pct</th></tr><tr><td>f64</td><td>f64</td><td>f64</td><td>f64</td><td>f64</td><td>f64</td><td>f64</td></tr></thead><tbody><tr><td>0.0</td><td>0.0</td><td>0.0</td><td>0.0</td><td>0.0</td><td>0.0</td><td>0.0</td></tr></tbody></table></div>"
      ],
      "text/plain": [
       "shape: (1, 7)\n",
       "┌──────────────┬─────────────┬─────────────┬─────────────┬─────────────┬─────────────┬─────────────┐\n",
       "│ case_id_miss ┆ amtdebitinc ┆ amtdebitout ┆ amtdepositb ┆ amtdepositi ┆ amtdeposito ┆ num_group1_ │\n",
       "│ ing_pct      ┆ oming_48094 ┆ going_48094 ┆ alance_4809 ┆ ncoming_480 ┆ utgoing_480 ┆ missing_pct │\n",
       "│ ---          ┆ 43A_missin… ┆ 40A_missin… ┆ 441A_missi… ┆ 9444A_miss… ┆ 9442A_miss… ┆ ---         │\n",
       "│ f64          ┆ ---         ┆ ---         ┆ ---         ┆ ---         ┆ ---         ┆ f64         │\n",
       "│              ┆ f64         ┆ f64         ┆ f64         ┆ f64         ┆ f64         ┆             │\n",
       "╞══════════════╪═════════════╪═════════════╪═════════════╪═════════════╪═════════════╪═════════════╡\n",
       "│ 0.0          ┆ 0.0         ┆ 0.0         ┆ 0.0         ┆ 0.0         ┆ 0.0         ┆ 0.0         │\n",
       "└──────────────┴─────────────┴─────────────┴─────────────┴─────────────┴─────────────┴─────────────┘"
      ]
     },
     "execution_count": 15,
     "metadata": {},
     "output_type": "execute_result"
    }
   ],
   "source": [
    "total_rows = other_train.height\n",
    "other_train.select([\n",
    "    (pl.col(col).is_null().sum() / total_rows * 100).alias(f\"{col}_missing_pct\")\n",
    "    for col in other_train.columns\n",
    "])"
   ]
  },
  {
   "cell_type": "code",
   "execution_count": 16,
   "id": "eaf8251f",
   "metadata": {},
   "outputs": [
    {
     "data": {
      "text/html": [
       "<div><style>\n",
       ".dataframe > thead > tr,\n",
       ".dataframe > tbody > tr {\n",
       "  text-align: right;\n",
       "  white-space: pre-wrap;\n",
       "}\n",
       "</style>\n",
       "<small>shape: (5, 6)</small><table border=\"1\" class=\"dataframe\"><thead><tr><th>case_id</th><th>amtdebitincoming_max</th><th>amtdebitoutgoing_max</th><th>amtdepositbalance_max</th><th>amtdepositincoming_max</th><th>amtdepositoutgoing_max</th></tr><tr><td>i64</td><td>f64</td><td>f64</td><td>f64</td><td>f64</td><td>f64</td></tr></thead><tbody><tr><td>211498</td><td>1522.6</td><td>1500.0</td><td>0.0</td><td>0.0</td><td>0.0</td></tr><tr><td>1789546</td><td>0.0</td><td>0.0</td><td>70851.805</td><td>0.0</td><td>23553.0</td></tr><tr><td>240366</td><td>0.0</td><td>0.0</td><td>203.0</td><td>0.0</td><td>67.8</td></tr><tr><td>201220</td><td>6700.0</td><td>6686.6</td><td>0.0</td><td>0.0</td><td>0.0</td></tr><tr><td>222585</td><td>0.0</td><td>0.0</td><td>263.2</td><td>0.0</td><td>3.6000001</td></tr></tbody></table></div>"
      ],
      "text/plain": [
       "shape: (5, 6)\n",
       "┌─────────┬─────────────────┬─────────────────┬─────────────────┬─────────────────┬────────────────┐\n",
       "│ case_id ┆ amtdebitincomin ┆ amtdebitoutgoin ┆ amtdepositbalan ┆ amtdepositincom ┆ amtdepositoutg │\n",
       "│ ---     ┆ g_max           ┆ g_max           ┆ ce_max          ┆ ing_max         ┆ oing_max       │\n",
       "│ i64     ┆ ---             ┆ ---             ┆ ---             ┆ ---             ┆ ---            │\n",
       "│         ┆ f64             ┆ f64             ┆ f64             ┆ f64             ┆ f64            │\n",
       "╞═════════╪═════════════════╪═════════════════╪═════════════════╪═════════════════╪════════════════╡\n",
       "│ 211498  ┆ 1522.6          ┆ 1500.0          ┆ 0.0             ┆ 0.0             ┆ 0.0            │\n",
       "│ 1789546 ┆ 0.0             ┆ 0.0             ┆ 70851.805       ┆ 0.0             ┆ 23553.0        │\n",
       "│ 240366  ┆ 0.0             ┆ 0.0             ┆ 203.0           ┆ 0.0             ┆ 67.8           │\n",
       "│ 201220  ┆ 6700.0          ┆ 6686.6          ┆ 0.0             ┆ 0.0             ┆ 0.0            │\n",
       "│ 222585  ┆ 0.0             ┆ 0.0             ┆ 263.2           ┆ 0.0             ┆ 3.6000001      │\n",
       "└─────────┴─────────────────┴─────────────────┴─────────────────┴─────────────────┴────────────────┘"
      ]
     },
     "execution_count": 16,
     "metadata": {},
     "output_type": "execute_result"
    }
   ],
   "source": [
    "other_train=other_train.group_by(\"case_id\").agg(pl.col(\"amtdebitincoming_4809443A\").max().alias(\"amtdebitincoming_max\"),\n",
    "                                               pl.col(\"amtdebitoutgoing_4809440A\").max().alias(\"amtdebitoutgoing_max\"),\n",
    "                                               pl.col(\"amtdepositbalance_4809441A\").max().alias(\"amtdepositbalance_max\"),\n",
    "                                               pl.col(\"amtdepositincoming_4809444A\").max().alias(\"amtdepositincoming_max\"),\n",
    "                                               pl.col(\"amtdepositoutgoing_4809442A\").max().alias(\"amtdepositoutgoing_max\"))\n",
    "other_train.head()"
   ]
  },
  {
   "cell_type": "code",
   "execution_count": 17,
   "id": "b471d14e",
   "metadata": {},
   "outputs": [
    {
     "data": {
      "text/html": [
       "<div><style>\n",
       ".dataframe > thead > tr,\n",
       ".dataframe > tbody > tr {\n",
       "  text-align: right;\n",
       "  white-space: pre-wrap;\n",
       "}\n",
       "</style>\n",
       "<small>shape: (5, 5)</small><table border=\"1\" class=\"dataframe\"><thead><tr><th>case_id</th><th>amount_4527230A</th><th>name_4527232M</th><th>num_group1</th><th>recorddate_4527225D</th></tr><tr><td>i64</td><td>f64</td><td>str</td><td>i64</td><td>str</td></tr></thead><tbody><tr><td>28631</td><td>1946.0</td><td>&quot;f980a1ea&quot;</td><td>2</td><td>&quot;2019-09-13&quot;</td></tr><tr><td>28631</td><td>711.0</td><td>&quot;f980a1ea&quot;</td><td>3</td><td>&quot;2019-09-13&quot;</td></tr><tr><td>28631</td><td>3616.4001</td><td>&quot;f980a1ea&quot;</td><td>0</td><td>&quot;2019-09-13&quot;</td></tr><tr><td>28631</td><td>2600.0</td><td>&quot;f980a1ea&quot;</td><td>1</td><td>&quot;2019-09-13&quot;</td></tr><tr><td>28632</td><td>2564.0</td><td>&quot;5f9b74f5&quot;</td><td>5</td><td>&quot;2019-09-13&quot;</td></tr></tbody></table></div>"
      ],
      "text/plain": [
       "shape: (5, 5)\n",
       "┌─────────┬─────────────────┬───────────────┬────────────┬─────────────────────┐\n",
       "│ case_id ┆ amount_4527230A ┆ name_4527232M ┆ num_group1 ┆ recorddate_4527225D │\n",
       "│ ---     ┆ ---             ┆ ---           ┆ ---        ┆ ---                 │\n",
       "│ i64     ┆ f64             ┆ str           ┆ i64        ┆ str                 │\n",
       "╞═════════╪═════════════════╪═══════════════╪════════════╪═════════════════════╡\n",
       "│ 28631   ┆ 1946.0          ┆ f980a1ea      ┆ 2          ┆ 2019-09-13          │\n",
       "│ 28631   ┆ 711.0           ┆ f980a1ea      ┆ 3          ┆ 2019-09-13          │\n",
       "│ 28631   ┆ 3616.4001       ┆ f980a1ea      ┆ 0          ┆ 2019-09-13          │\n",
       "│ 28631   ┆ 2600.0          ┆ f980a1ea      ┆ 1          ┆ 2019-09-13          │\n",
       "│ 28632   ┆ 2564.0          ┆ 5f9b74f5      ┆ 5          ┆ 2019-09-13          │\n",
       "└─────────┴─────────────────┴───────────────┴────────────┴─────────────────────┘"
      ]
     },
     "execution_count": 17,
     "metadata": {},
     "output_type": "execute_result"
    }
   ],
   "source": [
    "#Depth=1\n",
    "tax_train=pl.read_csv(dataPath+\"csv_files/train/train_tax_registry_a_1.csv\")\n",
    "tax_train=set_table_dtypes(tax_train)\n",
    "tax_train.head()"
   ]
  },
  {
   "cell_type": "code",
   "execution_count": 18,
   "id": "30927aad",
   "metadata": {},
   "outputs": [
    {
     "data": {
      "text/html": [
       "<div><style>\n",
       ".dataframe > thead > tr,\n",
       ".dataframe > tbody > tr {\n",
       "  text-align: right;\n",
       "  white-space: pre-wrap;\n",
       "}\n",
       "</style>\n",
       "<small>shape: (1, 5)</small><table border=\"1\" class=\"dataframe\"><thead><tr><th>case_id_missing_pct</th><th>amount_4527230A_missing_pct</th><th>name_4527232M_missing_pct</th><th>num_group1_missing_pct</th><th>recorddate_4527225D_missing_pct</th></tr><tr><td>f64</td><td>f64</td><td>f64</td><td>f64</td><td>f64</td></tr></thead><tbody><tr><td>0.0</td><td>0.0</td><td>0.0</td><td>0.0</td><td>0.0</td></tr></tbody></table></div>"
      ],
      "text/plain": [
       "shape: (1, 5)\n",
       "┌───────────────────┬───────────────────┬───────────────────┬───────────────────┬──────────────────┐\n",
       "│ case_id_missing_p ┆ amount_4527230A_m ┆ name_4527232M_mis ┆ num_group1_missin ┆ recorddate_45272 │\n",
       "│ ct                ┆ issing_pct        ┆ sing_pct          ┆ g_pct             ┆ 25D_missing_pct  │\n",
       "│ ---               ┆ ---               ┆ ---               ┆ ---               ┆ ---              │\n",
       "│ f64               ┆ f64               ┆ f64               ┆ f64               ┆ f64              │\n",
       "╞═══════════════════╪═══════════════════╪═══════════════════╪═══════════════════╪══════════════════╡\n",
       "│ 0.0               ┆ 0.0               ┆ 0.0               ┆ 0.0               ┆ 0.0              │\n",
       "└───────────────────┴───────────────────┴───────────────────┴───────────────────┴──────────────────┘"
      ]
     },
     "execution_count": 18,
     "metadata": {},
     "output_type": "execute_result"
    }
   ],
   "source": [
    "total_rows = tax_train.height\n",
    "tax_train.select([\n",
    "    (pl.col(col).is_null().sum() / total_rows * 100).alias(f\"{col}_missing_pct\")\n",
    "    for col in tax_train.columns\n",
    "])"
   ]
  },
  {
   "cell_type": "code",
   "execution_count": 19,
   "id": "eeab5838",
   "metadata": {},
   "outputs": [
    {
     "data": {
      "text/html": [
       "<div><style>\n",
       ".dataframe > thead > tr,\n",
       ".dataframe > tbody > tr {\n",
       "  text-align: right;\n",
       "  white-space: pre-wrap;\n",
       "}\n",
       "</style>\n",
       "<small>shape: (5, 4)</small><table border=\"1\" class=\"dataframe\"><thead><tr><th>case_id</th><th>amount_max</th><th>name_4527232M</th><th>recorddate_4527225D</th></tr><tr><td>i64</td><td>f64</td><td>str</td><td>str</td></tr></thead><tbody><tr><td>28631</td><td>3616.4001</td><td>&quot;f980a1ea&quot;</td><td>&quot;2019-09-13&quot;</td></tr><tr><td>28632</td><td>2564.0</td><td>&quot;5f9b74f5&quot;</td><td>&quot;2019-09-13&quot;</td></tr><tr><td>28633</td><td>151.6</td><td>&quot;5e180ef0&quot;</td><td>&quot;2019-09-13&quot;</td></tr><tr><td>28635</td><td>5637.8003</td><td>&quot;52c166dc&quot;</td><td>&quot;2019-09-13&quot;</td></tr><tr><td>28636</td><td>2628.6</td><td>&quot;5574ff1b&quot;</td><td>&quot;2019-09-13&quot;</td></tr></tbody></table></div>"
      ],
      "text/plain": [
       "shape: (5, 4)\n",
       "┌─────────┬────────────┬───────────────┬─────────────────────┐\n",
       "│ case_id ┆ amount_max ┆ name_4527232M ┆ recorddate_4527225D │\n",
       "│ ---     ┆ ---        ┆ ---           ┆ ---                 │\n",
       "│ i64     ┆ f64        ┆ str           ┆ str                 │\n",
       "╞═════════╪════════════╪═══════════════╪═════════════════════╡\n",
       "│ 28631   ┆ 3616.4001  ┆ f980a1ea      ┆ 2019-09-13          │\n",
       "│ 28632   ┆ 2564.0     ┆ 5f9b74f5      ┆ 2019-09-13          │\n",
       "│ 28633   ┆ 151.6      ┆ 5e180ef0      ┆ 2019-09-13          │\n",
       "│ 28635   ┆ 5637.8003  ┆ 52c166dc      ┆ 2019-09-13          │\n",
       "│ 28636   ┆ 2628.6     ┆ 5574ff1b      ┆ 2019-09-13          │\n",
       "└─────────┴────────────┴───────────────┴─────────────────────┘"
      ]
     },
     "execution_count": 19,
     "metadata": {},
     "output_type": "execute_result"
    }
   ],
   "source": [
    "tax_num=tax_train.group_by(\"case_id\").agg(pl.col(\"amount_4527230A\").max().alias(\"amount_max\"))\n",
    "tax_cat=tax_train.select([\"case_id\",\"name_4527232M\",\"recorddate_4527225D\",\"num_group1\"]).filter(pl.col(\"num_group1\") == 0).drop(\"num_group1\")\n",
    "tax_train=tax_num.join(tax_cat,how=\"inner\",on=\"case_id\")\n",
    "tax_train.head()"
   ]
  },
  {
   "cell_type": "code",
   "execution_count": 20,
   "id": "fbd368a3",
   "metadata": {},
   "outputs": [
    {
     "data": {
      "text/html": [
       "<div><style>\n",
       ".dataframe > thead > tr,\n",
       ".dataframe > tbody > tr {\n",
       "  text-align: right;\n",
       "  white-space: pre-wrap;\n",
       "}\n",
       "</style>\n",
       "<small>shape: (5, 45)</small><table border=\"1\" class=\"dataframe\"><thead><tr><th>case_id</th><th>amount_1115A</th><th>classificationofcontr_1114M</th><th>contractdate_551D</th><th>contractmaturitydate_151D</th><th>contractst_516M</th><th>contracttype_653M</th><th>credlmt_1052A</th><th>credlmt_228A</th><th>credlmt_3940954A</th><th>credor_3940957M</th><th>credquantity_1099L</th><th>credquantity_984L</th><th>debtpastduevalue_732A</th><th>debtvalue_227A</th><th>dpd_550P</th><th>dpd_733P</th><th>dpdmax_851P</th><th>dpdmaxdatemonth_804T</th><th>dpdmaxdateyear_742T</th><th>installmentamount_644A</th><th>installmentamount_833A</th><th>instlamount_892A</th><th>interesteffectiverate_369L</th><th>interestrateyearly_538L</th><th>lastupdate_260D</th><th>maxdebtpduevalodued_3940955A</th><th>num_group1</th><th>numberofinstls_810L</th><th>overdueamountmax_950A</th><th>overdueamountmaxdatemonth_494T</th><th>overdueamountmaxdateyear_432T</th><th>periodicityofpmts_997L</th><th>periodicityofpmts_997M</th><th>pmtdaysoverdue_1135P</th><th>pmtmethod_731M</th><th>pmtnumpending_403L</th><th>purposeofcred_722M</th><th>residualamount_1093A</th><th>residualamount_127A</th><th>residualamount_3940956A</th><th>subjectrole_326M</th><th>subjectrole_43M</th><th>totalamount_503A</th><th>totalamount_881A</th></tr><tr><td>i64</td><td>f64</td><td>str</td><td>str</td><td>str</td><td>str</td><td>str</td><td>f64</td><td>f64</td><td>f64</td><td>str</td><td>f64</td><td>f64</td><td>f64</td><td>f64</td><td>f64</td><td>f64</td><td>f64</td><td>f64</td><td>f64</td><td>f64</td><td>f64</td><td>f64</td><td>f64</td><td>f64</td><td>str</td><td>f64</td><td>i64</td><td>f64</td><td>f64</td><td>f64</td><td>f64</td><td>str</td><td>str</td><td>f64</td><td>str</td><td>f64</td><td>str</td><td>f64</td><td>f64</td><td>f64</td><td>str</td><td>str</td><td>f64</td><td>f64</td></tr></thead><tbody><tr><td>467</td><td>null</td><td>&quot;ea6782cc&quot;</td><td>&quot;2011-06-15&quot;</td><td>&quot;2031-06-13&quot;</td><td>&quot;7241344e&quot;</td><td>&quot;724be82a&quot;</td><td>3e6</td><td>10000.0</td><td>3e6</td><td>&quot;P164_34_168&quot;</td><td>2.0</td><td>1.0</td><td>null</td><td>null</td><td>0.0</td><td>0.0</td><td>null</td><td>null</td><td>null</td><td>0.0</td><td>0.0</td><td>null</td><td>null</td><td>null</td><td>&quot;2019-01-20&quot;</td><td>null</td><td>0</td><td>null</td><td>null</td><td>null</td><td>null</td><td>null</td><td>&quot;a55475b1&quot;</td><td>null</td><td>&quot;a55475b1&quot;</td><td>null</td><td>&quot;96a8fdfe&quot;</td><td>0.0</td><td>0.0</td><td>null</td><td>&quot;fa4f56f1&quot;</td><td>&quot;ab3c25cf&quot;</td><td>3e6</td><td>10000.0</td></tr><tr><td>467</td><td>null</td><td>&quot;ea6782cc&quot;</td><td>&quot;2019-01-04&quot;</td><td>&quot;2021-08-04&quot;</td><td>&quot;7241344e&quot;</td><td>&quot;724be82a&quot;</td><td>null</td><td>null</td><td>130365.0</td><td>&quot;P164_34_168&quot;</td><td>1.0</td><td>2.0</td><td>null</td><td>null</td><td>0.0</td><td>0.0</td><td>null</td><td>null</td><td>null</td><td>0.0</td><td>26571.969</td><td>null</td><td>null</td><td>null</td><td>&quot;2019-01-20&quot;</td><td>null</td><td>1</td><td>null</td><td>null</td><td>null</td><td>null</td><td>null</td><td>&quot;a55475b1&quot;</td><td>null</td><td>&quot;a55475b1&quot;</td><td>null</td><td>&quot;96a8fdfe&quot;</td><td>null</td><td>null</td><td>null</td><td>&quot;ab3c25cf&quot;</td><td>&quot;ab3c25cf&quot;</td><td>78000.0</td><td>960000.0</td></tr><tr><td>467</td><td>78000.0</td><td>&quot;ea6782cc&quot;</td><td>&quot;2016-10-25&quot;</td><td>&quot;2019-10-25&quot;</td><td>&quot;7241344e&quot;</td><td>&quot;4257cbed&quot;</td><td>null</td><td>null</td><td>null</td><td>&quot;c5a72b57&quot;</td><td>null</td><td>null</td><td>0.0</td><td>26571.969</td><td>null</td><td>null</td><td>0.0</td><td>11.0</td><td>2016.0</td><td>null</td><td>null</td><td>2898.76</td><td>null</td><td>null</td><td>&quot;2019-01-10&quot;</td><td>0.0</td><td>2</td><td>36.0</td><td>0.0</td><td>11.0</td><td>2016.0</td><td>null</td><td>&quot;a0b598e4&quot;</td><td>0.0</td><td>&quot;e914c86c&quot;</td><td>10.0</td><td>&quot;96a8fdfe&quot;</td><td>null</td><td>null</td><td>null</td><td>&quot;a55475b1&quot;</td><td>&quot;a55475b1&quot;</td><td>null</td><td>null</td></tr><tr><td>1445</td><td>null</td><td>&quot;ea6782cc&quot;</td><td>&quot;2015-01-30&quot;</td><td>&quot;2021-01-30&quot;</td><td>&quot;7241344e&quot;</td><td>&quot;1c9c5356&quot;</td><td>400000.0</td><td>100000.0</td><td>74000.0</td><td>&quot;b619fa46&quot;</td><td>2.0</td><td>5.0</td><td>0.0</td><td>null</td><td>0.0</td><td>0.0</td><td>200418.0</td><td>1.0</td><td>2018.0</td><td>0.0</td><td>0.0</td><td>null</td><td>null</td><td>null</td><td>&quot;2019-01-19&quot;</td><td>0.4</td><td>0</td><td>null</td><td>1.4</td><td>2.0</td><td>2018.0</td><td>null</td><td>&quot;a55475b1&quot;</td><td>0.0</td><td>&quot;a55475b1&quot;</td><td>null</td><td>&quot;60c73645&quot;</td><td>0.0</td><td>0.0</td><td>73044.18</td><td>&quot;daf49a8a&quot;</td><td>&quot;ab3c25cf&quot;</td><td>400000.0</td><td>100000.0</td></tr><tr><td>1445</td><td>null</td><td>&quot;01f63ac8&quot;</td><td>&quot;2014-09-12&quot;</td><td>&quot;2021-09-12&quot;</td><td>&quot;7241344e&quot;</td><td>&quot;724be82a&quot;</td><td>null</td><td>null</td><td>400000.0</td><td>&quot;74bd67a8&quot;</td><td>3.0</td><td>17.0</td><td>null</td><td>null</td><td>0.0</td><td>0.0</td><td>null</td><td>null</td><td>null</td><td>0.0</td><td>209617.77</td><td>null</td><td>null</td><td>null</td><td>&quot;2019-01-13&quot;</td><td>null</td><td>1</td><td>null</td><td>null</td><td>null</td><td>null</td><td>null</td><td>&quot;a55475b1&quot;</td><td>null</td><td>&quot;a55475b1&quot;</td><td>null</td><td>&quot;96a8fdfe&quot;</td><td>null</td><td>null</td><td>null</td><td>&quot;ab3c25cf&quot;</td><td>&quot;ab3c25cf&quot;</td><td>396800.62</td><td>184587.8</td></tr></tbody></table></div>"
      ],
      "text/plain": [
       "shape: (5, 45)\n",
       "┌─────────┬────────────┬───────────┬───────────┬───┬───────────┬───────────┬───────────┬───────────┐\n",
       "│ case_id ┆ amount_111 ┆ classific ┆ contractd ┆ … ┆ subjectro ┆ subjectro ┆ totalamou ┆ totalamou │\n",
       "│ ---     ┆ 5A         ┆ ationofco ┆ ate_551D  ┆   ┆ le_326M   ┆ le_43M    ┆ nt_503A   ┆ nt_881A   │\n",
       "│ i64     ┆ ---        ┆ ntr_1114M ┆ ---       ┆   ┆ ---       ┆ ---       ┆ ---       ┆ ---       │\n",
       "│         ┆ f64        ┆ ---       ┆ str       ┆   ┆ str       ┆ str       ┆ f64       ┆ f64       │\n",
       "│         ┆            ┆ str       ┆           ┆   ┆           ┆           ┆           ┆           │\n",
       "╞═════════╪════════════╪═══════════╪═══════════╪═══╪═══════════╪═══════════╪═══════════╪═══════════╡\n",
       "│ 467     ┆ null       ┆ ea6782cc  ┆ 2011-06-1 ┆ … ┆ fa4f56f1  ┆ ab3c25cf  ┆ 3e6       ┆ 10000.0   │\n",
       "│         ┆            ┆           ┆ 5         ┆   ┆           ┆           ┆           ┆           │\n",
       "│ 467     ┆ null       ┆ ea6782cc  ┆ 2019-01-0 ┆ … ┆ ab3c25cf  ┆ ab3c25cf  ┆ 78000.0   ┆ 960000.0  │\n",
       "│         ┆            ┆           ┆ 4         ┆   ┆           ┆           ┆           ┆           │\n",
       "│ 467     ┆ 78000.0    ┆ ea6782cc  ┆ 2016-10-2 ┆ … ┆ a55475b1  ┆ a55475b1  ┆ null      ┆ null      │\n",
       "│         ┆            ┆           ┆ 5         ┆   ┆           ┆           ┆           ┆           │\n",
       "│ 1445    ┆ null       ┆ ea6782cc  ┆ 2015-01-3 ┆ … ┆ daf49a8a  ┆ ab3c25cf  ┆ 400000.0  ┆ 100000.0  │\n",
       "│         ┆            ┆           ┆ 0         ┆   ┆           ┆           ┆           ┆           │\n",
       "│ 1445    ┆ null       ┆ 01f63ac8  ┆ 2014-09-1 ┆ … ┆ ab3c25cf  ┆ ab3c25cf  ┆ 396800.62 ┆ 184587.8  │\n",
       "│         ┆            ┆           ┆ 2         ┆   ┆           ┆           ┆           ┆           │\n",
       "└─────────┴────────────┴───────────┴───────────┴───┴───────────┴───────────┴───────────┴───────────┘"
      ]
     },
     "execution_count": 20,
     "metadata": {},
     "output_type": "execute_result"
    }
   ],
   "source": [
    "#Depth=1\n",
    "credit_train=pl.read_csv(dataPath+\"csv_files/train/train_credit_bureau_b_1.csv\")\n",
    "credit_train=set_table_dtypes(credit_train)\n",
    "credit_train.head()"
   ]
  },
  {
   "cell_type": "code",
   "execution_count": 21,
   "id": "b9bc2935",
   "metadata": {},
   "outputs": [
    {
     "data": {
      "text/html": [
       "<div><style>\n",
       ".dataframe > thead > tr,\n",
       ".dataframe > tbody > tr {\n",
       "  text-align: right;\n",
       "  white-space: pre-wrap;\n",
       "}\n",
       "</style>\n",
       "<small>shape: (1, 45)</small><table border=\"1\" class=\"dataframe\"><thead><tr><th>case_id_missing_pct</th><th>amount_1115A_missing_pct</th><th>classificationofcontr_1114M_missing_pct</th><th>contractdate_551D_missing_pct</th><th>contractmaturitydate_151D_missing_pct</th><th>contractst_516M_missing_pct</th><th>contracttype_653M_missing_pct</th><th>credlmt_1052A_missing_pct</th><th>credlmt_228A_missing_pct</th><th>credlmt_3940954A_missing_pct</th><th>credor_3940957M_missing_pct</th><th>credquantity_1099L_missing_pct</th><th>credquantity_984L_missing_pct</th><th>debtpastduevalue_732A_missing_pct</th><th>debtvalue_227A_missing_pct</th><th>dpd_550P_missing_pct</th><th>dpd_733P_missing_pct</th><th>dpdmax_851P_missing_pct</th><th>dpdmaxdatemonth_804T_missing_pct</th><th>dpdmaxdateyear_742T_missing_pct</th><th>installmentamount_644A_missing_pct</th><th>installmentamount_833A_missing_pct</th><th>instlamount_892A_missing_pct</th><th>interesteffectiverate_369L_missing_pct</th><th>interestrateyearly_538L_missing_pct</th><th>lastupdate_260D_missing_pct</th><th>maxdebtpduevalodued_3940955A_missing_pct</th><th>num_group1_missing_pct</th><th>numberofinstls_810L_missing_pct</th><th>overdueamountmax_950A_missing_pct</th><th>overdueamountmaxdatemonth_494T_missing_pct</th><th>overdueamountmaxdateyear_432T_missing_pct</th><th>periodicityofpmts_997L_missing_pct</th><th>periodicityofpmts_997M_missing_pct</th><th>pmtdaysoverdue_1135P_missing_pct</th><th>pmtmethod_731M_missing_pct</th><th>pmtnumpending_403L_missing_pct</th><th>purposeofcred_722M_missing_pct</th><th>residualamount_1093A_missing_pct</th><th>residualamount_127A_missing_pct</th><th>residualamount_3940956A_missing_pct</th><th>subjectrole_326M_missing_pct</th><th>subjectrole_43M_missing_pct</th><th>totalamount_503A_missing_pct</th><th>totalamount_881A_missing_pct</th></tr><tr><td>f64</td><td>f64</td><td>f64</td><td>f64</td><td>f64</td><td>f64</td><td>f64</td><td>f64</td><td>f64</td><td>f64</td><td>f64</td><td>f64</td><td>f64</td><td>f64</td><td>f64</td><td>f64</td><td>f64</td><td>f64</td><td>f64</td><td>f64</td><td>f64</td><td>f64</td><td>f64</td><td>f64</td><td>f64</td><td>f64</td><td>f64</td><td>f64</td><td>f64</td><td>f64</td><td>f64</td><td>f64</td><td>f64</td><td>f64</td><td>f64</td><td>f64</td><td>f64</td><td>f64</td><td>f64</td><td>f64</td><td>f64</td><td>f64</td><td>f64</td><td>f64</td><td>f64</td></tr></thead><tbody><tr><td>0.0</td><td>49.084403</td><td>0.0</td><td>4.536606</td><td>4.754578</td><td>0.0</td><td>0.0</td><td>67.85094</td><td>81.198494</td><td>55.452204</td><td>0.0</td><td>38.200977</td><td>46.11556</td><td>5.331562</td><td>49.084403</td><td>38.200977</td><td>46.11556</td><td>5.323402</td><td>5.323402</td><td>5.323402</td><td>46.11556</td><td>38.200977</td><td>49.30354</td><td>88.919584</td><td>66.400905</td><td>4.536606</td><td>5.323402</td><td>0.0</td><td>49.30354</td><td>5.323402</td><td>5.323402</td><td>5.323402</td><td>97.637281</td><td>3.81392</td><td>5.331562</td><td>0.0</td><td>49.085568</td><td>0.0</td><td>81.204322</td><td>67.85094</td><td>56.266974</td><td>0.0</td><td>0.0</td><td>38.200977</td><td>46.11556</td></tr></tbody></table></div>"
      ],
      "text/plain": [
       "shape: (1, 45)\n",
       "┌───────────┬───────────┬───────────┬───────────┬───┬───────────┬───────────┬───────────┬──────────┐\n",
       "│ case_id_m ┆ amount_11 ┆ classific ┆ contractd ┆ … ┆ subjectro ┆ subjectro ┆ totalamou ┆ totalamo │\n",
       "│ issing_pc ┆ 15A_missi ┆ ationofco ┆ ate_551D_ ┆   ┆ le_326M_m ┆ le_43M_mi ┆ nt_503A_m ┆ unt_881A │\n",
       "│ t         ┆ ng_pct    ┆ ntr_1114M ┆ missing_p ┆   ┆ issing_pc ┆ ssing_pct ┆ issing_pc ┆ _missing │\n",
       "│ ---       ┆ ---       ┆ _miss…    ┆ ct        ┆   ┆ t         ┆ ---       ┆ t         ┆ _pct     │\n",
       "│ f64       ┆ f64       ┆ ---       ┆ ---       ┆   ┆ ---       ┆ f64       ┆ ---       ┆ ---      │\n",
       "│           ┆           ┆ f64       ┆ f64       ┆   ┆ f64       ┆           ┆ f64       ┆ f64      │\n",
       "╞═══════════╪═══════════╪═══════════╪═══════════╪═══╪═══════════╪═══════════╪═══════════╪══════════╡\n",
       "│ 0.0       ┆ 49.084403 ┆ 0.0       ┆ 4.536606  ┆ … ┆ 0.0       ┆ 0.0       ┆ 38.200977 ┆ 46.11556 │\n",
       "└───────────┴───────────┴───────────┴───────────┴───┴───────────┴───────────┴───────────┴──────────┘"
      ]
     },
     "execution_count": 21,
     "metadata": {},
     "output_type": "execute_result"
    }
   ],
   "source": [
    "total_rows = credit_train.height\n",
    "credit_train.select([\n",
    "    (pl.col(col).is_null().sum() / total_rows * 100).alias(f\"{col}_missing_pct\")\n",
    "    for col in credit_train.columns\n",
    "])"
   ]
  },
  {
   "cell_type": "code",
   "execution_count": 22,
   "id": "cdec5edb",
   "metadata": {},
   "outputs": [
    {
     "data": {
      "text/html": [
       "<div><style>\n",
       ".dataframe > thead > tr,\n",
       ".dataframe > tbody > tr {\n",
       "  text-align: right;\n",
       "  white-space: pre-wrap;\n",
       "}\n",
       "</style>\n",
       "<small>shape: (5, 44)</small><table border=\"1\" class=\"dataframe\"><thead><tr><th>case_id</th><th>amount_1115A</th><th>classificationofcontr_1114M</th><th>contractdate_551D</th><th>contractmaturitydate_151D</th><th>contractst_516M</th><th>contracttype_653M</th><th>credlmt_1052A</th><th>credlmt_228A</th><th>credlmt_3940954A</th><th>credor_3940957M</th><th>credquantity_1099L</th><th>credquantity_984L</th><th>debtpastduevalue_732A</th><th>debtvalue_227A</th><th>dpd_550P</th><th>dpd_733P</th><th>dpdmax_851P</th><th>dpdmaxdatemonth_804T</th><th>dpdmaxdateyear_742T</th><th>installmentamount_644A</th><th>installmentamount_833A</th><th>instlamount_892A</th><th>interesteffectiverate_369L</th><th>interestrateyearly_538L</th><th>lastupdate_260D</th><th>maxdebtpduevalodued_3940955A</th><th>num_group1</th><th>numberofinstls_810L</th><th>overdueamountmax_950A</th><th>overdueamountmaxdatemonth_494T</th><th>overdueamountmaxdateyear_432T</th><th>periodicityofpmts_997M</th><th>pmtdaysoverdue_1135P</th><th>pmtmethod_731M</th><th>pmtnumpending_403L</th><th>purposeofcred_722M</th><th>residualamount_1093A</th><th>residualamount_127A</th><th>residualamount_3940956A</th><th>subjectrole_326M</th><th>subjectrole_43M</th><th>totalamount_503A</th><th>totalamount_881A</th></tr><tr><td>i64</td><td>f64</td><td>str</td><td>str</td><td>str</td><td>str</td><td>str</td><td>f64</td><td>f64</td><td>f64</td><td>str</td><td>f64</td><td>f64</td><td>f64</td><td>f64</td><td>f64</td><td>f64</td><td>f64</td><td>f64</td><td>f64</td><td>f64</td><td>f64</td><td>f64</td><td>f64</td><td>f64</td><td>str</td><td>f64</td><td>i64</td><td>f64</td><td>f64</td><td>f64</td><td>f64</td><td>str</td><td>f64</td><td>str</td><td>f64</td><td>str</td><td>f64</td><td>f64</td><td>f64</td><td>str</td><td>str</td><td>f64</td><td>f64</td></tr></thead><tbody><tr><td>467</td><td>0.0</td><td>&quot;ea6782cc&quot;</td><td>&quot;2011-06-15&quot;</td><td>&quot;2031-06-13&quot;</td><td>&quot;7241344e&quot;</td><td>&quot;724be82a&quot;</td><td>3e6</td><td>10000.0</td><td>3e6</td><td>&quot;P164_34_168&quot;</td><td>2.0</td><td>1.0</td><td>0.0</td><td>0.0</td><td>0.0</td><td>0.0</td><td>0.0</td><td>0.0</td><td>0.0</td><td>0.0</td><td>0.0</td><td>0.0</td><td>0.0</td><td>0.0</td><td>&quot;2019-01-20&quot;</td><td>0.0</td><td>0</td><td>0.0</td><td>0.0</td><td>0.0</td><td>0.0</td><td>&quot;a55475b1&quot;</td><td>0.0</td><td>&quot;a55475b1&quot;</td><td>0.0</td><td>&quot;96a8fdfe&quot;</td><td>0.0</td><td>0.0</td><td>0.0</td><td>&quot;fa4f56f1&quot;</td><td>&quot;ab3c25cf&quot;</td><td>3e6</td><td>10000.0</td></tr><tr><td>467</td><td>0.0</td><td>&quot;ea6782cc&quot;</td><td>&quot;2019-01-04&quot;</td><td>&quot;2021-08-04&quot;</td><td>&quot;7241344e&quot;</td><td>&quot;724be82a&quot;</td><td>0.0</td><td>0.0</td><td>130365.0</td><td>&quot;P164_34_168&quot;</td><td>1.0</td><td>2.0</td><td>0.0</td><td>0.0</td><td>0.0</td><td>0.0</td><td>0.0</td><td>0.0</td><td>0.0</td><td>0.0</td><td>26571.969</td><td>0.0</td><td>0.0</td><td>0.0</td><td>&quot;2019-01-20&quot;</td><td>0.0</td><td>1</td><td>0.0</td><td>0.0</td><td>0.0</td><td>0.0</td><td>&quot;a55475b1&quot;</td><td>0.0</td><td>&quot;a55475b1&quot;</td><td>0.0</td><td>&quot;96a8fdfe&quot;</td><td>0.0</td><td>0.0</td><td>0.0</td><td>&quot;ab3c25cf&quot;</td><td>&quot;ab3c25cf&quot;</td><td>78000.0</td><td>960000.0</td></tr><tr><td>467</td><td>78000.0</td><td>&quot;ea6782cc&quot;</td><td>&quot;2016-10-25&quot;</td><td>&quot;2019-10-25&quot;</td><td>&quot;7241344e&quot;</td><td>&quot;4257cbed&quot;</td><td>0.0</td><td>0.0</td><td>0.0</td><td>&quot;c5a72b57&quot;</td><td>0.0</td><td>0.0</td><td>0.0</td><td>26571.969</td><td>0.0</td><td>0.0</td><td>0.0</td><td>11.0</td><td>2016.0</td><td>0.0</td><td>0.0</td><td>2898.76</td><td>0.0</td><td>0.0</td><td>&quot;2019-01-10&quot;</td><td>0.0</td><td>2</td><td>36.0</td><td>0.0</td><td>11.0</td><td>2016.0</td><td>&quot;a0b598e4&quot;</td><td>0.0</td><td>&quot;e914c86c&quot;</td><td>10.0</td><td>&quot;96a8fdfe&quot;</td><td>0.0</td><td>0.0</td><td>0.0</td><td>&quot;a55475b1&quot;</td><td>&quot;a55475b1&quot;</td><td>0.0</td><td>0.0</td></tr><tr><td>1445</td><td>0.0</td><td>&quot;ea6782cc&quot;</td><td>&quot;2015-01-30&quot;</td><td>&quot;2021-01-30&quot;</td><td>&quot;7241344e&quot;</td><td>&quot;1c9c5356&quot;</td><td>400000.0</td><td>100000.0</td><td>74000.0</td><td>&quot;b619fa46&quot;</td><td>2.0</td><td>5.0</td><td>0.0</td><td>0.0</td><td>0.0</td><td>0.0</td><td>200418.0</td><td>1.0</td><td>2018.0</td><td>0.0</td><td>0.0</td><td>0.0</td><td>0.0</td><td>0.0</td><td>&quot;2019-01-19&quot;</td><td>0.4</td><td>0</td><td>0.0</td><td>1.4</td><td>2.0</td><td>2018.0</td><td>&quot;a55475b1&quot;</td><td>0.0</td><td>&quot;a55475b1&quot;</td><td>0.0</td><td>&quot;60c73645&quot;</td><td>0.0</td><td>0.0</td><td>73044.18</td><td>&quot;daf49a8a&quot;</td><td>&quot;ab3c25cf&quot;</td><td>400000.0</td><td>100000.0</td></tr><tr><td>1445</td><td>0.0</td><td>&quot;01f63ac8&quot;</td><td>&quot;2014-09-12&quot;</td><td>&quot;2021-09-12&quot;</td><td>&quot;7241344e&quot;</td><td>&quot;724be82a&quot;</td><td>0.0</td><td>0.0</td><td>400000.0</td><td>&quot;74bd67a8&quot;</td><td>3.0</td><td>17.0</td><td>0.0</td><td>0.0</td><td>0.0</td><td>0.0</td><td>0.0</td><td>0.0</td><td>0.0</td><td>0.0</td><td>209617.77</td><td>0.0</td><td>0.0</td><td>0.0</td><td>&quot;2019-01-13&quot;</td><td>0.0</td><td>1</td><td>0.0</td><td>0.0</td><td>0.0</td><td>0.0</td><td>&quot;a55475b1&quot;</td><td>0.0</td><td>&quot;a55475b1&quot;</td><td>0.0</td><td>&quot;96a8fdfe&quot;</td><td>0.0</td><td>0.0</td><td>0.0</td><td>&quot;ab3c25cf&quot;</td><td>&quot;ab3c25cf&quot;</td><td>396800.62</td><td>184587.8</td></tr></tbody></table></div>"
      ],
      "text/plain": [
       "shape: (5, 44)\n",
       "┌─────────┬────────────┬───────────┬───────────┬───┬───────────┬───────────┬───────────┬───────────┐\n",
       "│ case_id ┆ amount_111 ┆ classific ┆ contractd ┆ … ┆ subjectro ┆ subjectro ┆ totalamou ┆ totalamou │\n",
       "│ ---     ┆ 5A         ┆ ationofco ┆ ate_551D  ┆   ┆ le_326M   ┆ le_43M    ┆ nt_503A   ┆ nt_881A   │\n",
       "│ i64     ┆ ---        ┆ ntr_1114M ┆ ---       ┆   ┆ ---       ┆ ---       ┆ ---       ┆ ---       │\n",
       "│         ┆ f64        ┆ ---       ┆ str       ┆   ┆ str       ┆ str       ┆ f64       ┆ f64       │\n",
       "│         ┆            ┆ str       ┆           ┆   ┆           ┆           ┆           ┆           │\n",
       "╞═════════╪════════════╪═══════════╪═══════════╪═══╪═══════════╪═══════════╪═══════════╪═══════════╡\n",
       "│ 467     ┆ 0.0        ┆ ea6782cc  ┆ 2011-06-1 ┆ … ┆ fa4f56f1  ┆ ab3c25cf  ┆ 3e6       ┆ 10000.0   │\n",
       "│         ┆            ┆           ┆ 5         ┆   ┆           ┆           ┆           ┆           │\n",
       "│ 467     ┆ 0.0        ┆ ea6782cc  ┆ 2019-01-0 ┆ … ┆ ab3c25cf  ┆ ab3c25cf  ┆ 78000.0   ┆ 960000.0  │\n",
       "│         ┆            ┆           ┆ 4         ┆   ┆           ┆           ┆           ┆           │\n",
       "│ 467     ┆ 78000.0    ┆ ea6782cc  ┆ 2016-10-2 ┆ … ┆ a55475b1  ┆ a55475b1  ┆ 0.0       ┆ 0.0       │\n",
       "│         ┆            ┆           ┆ 5         ┆   ┆           ┆           ┆           ┆           │\n",
       "│ 1445    ┆ 0.0        ┆ ea6782cc  ┆ 2015-01-3 ┆ … ┆ daf49a8a  ┆ ab3c25cf  ┆ 400000.0  ┆ 100000.0  │\n",
       "│         ┆            ┆           ┆ 0         ┆   ┆           ┆           ┆           ┆           │\n",
       "│ 1445    ┆ 0.0        ┆ 01f63ac8  ┆ 2014-09-1 ┆ … ┆ ab3c25cf  ┆ ab3c25cf  ┆ 396800.62 ┆ 184587.8  │\n",
       "│         ┆            ┆           ┆ 2         ┆   ┆           ┆           ┆           ┆           │\n",
       "└─────────┴────────────┴───────────┴───────────┴───┴───────────┴───────────┴───────────┴───────────┘"
      ]
     },
     "execution_count": 22,
     "metadata": {},
     "output_type": "execute_result"
    }
   ],
   "source": [
    "credit_train=credit_train.drop(\"periodicityofpmts_997L\")\n",
    "for col in credit_train.columns:\n",
    "    # Check if the column is of a numerical type (integer or float)\n",
    "    if credit_train[col].dtype in [pl.Int8, pl.Int16, pl.Int32, pl.Int64, pl.UInt8, pl.UInt16, pl.UInt32, pl.UInt64, pl.Float32, pl.Float64]:\n",
    "        # For numerical columns, fill missing values with 0\n",
    "        credit_train = credit_train.with_columns(pl.col(col).fill_null(0))\n",
    "    # Check if the column is of a string or categorical type\n",
    "    elif credit_train[col].dtype in [pl.Utf8, pl.Categorical]:\n",
    "        # For categorical/string columns, fill missing values with \"Unknown\"\n",
    "        credit_train = credit_train.with_columns(pl.col(col).fill_null(\"Unknown\"))\n",
    "credit_train.head()"
   ]
  },
  {
   "cell_type": "code",
   "execution_count": 23,
   "id": "b3761d67",
   "metadata": {},
   "outputs": [
    {
     "name": "stderr",
     "output_type": "stream",
     "text": [
      "/var/folders/r4/vq0806lj20q0chqdc8zywxvc0000gn/T/ipykernel_28586/3370650778.py:2: DeprecationWarning: `groupby` is deprecated. It has been renamed to `group_by`.\n",
      "  credit_num=credit_train.groupby(\"case_id\").agg([pl.col(col).max().alias(f\"{col}_max\") for col in numerical_columns])\n"
     ]
    },
    {
     "data": {
      "text/html": [
       "<div><style>\n",
       ".dataframe > thead > tr,\n",
       ".dataframe > tbody > tr {\n",
       "  text-align: right;\n",
       "  white-space: pre-wrap;\n",
       "}\n",
       "</style>\n",
       "<small>shape: (5, 43)</small><table border=\"1\" class=\"dataframe\"><thead><tr><th>case_id</th><th>amount_1115A_max</th><th>credlmt_1052A_max</th><th>credlmt_228A_max</th><th>credlmt_3940954A_max</th><th>credquantity_1099L_max</th><th>credquantity_984L_max</th><th>debtpastduevalue_732A_max</th><th>debtvalue_227A_max</th><th>dpd_550P_max</th><th>dpd_733P_max</th><th>dpdmax_851P_max</th><th>dpdmaxdatemonth_804T_max</th><th>dpdmaxdateyear_742T_max</th><th>installmentamount_644A_max</th><th>installmentamount_833A_max</th><th>instlamount_892A_max</th><th>interesteffectiverate_369L_max</th><th>interestrateyearly_538L_max</th><th>maxdebtpduevalodued_3940955A_max</th><th>numberofinstls_810L_max</th><th>overdueamountmax_950A_max</th><th>overdueamountmaxdatemonth_494T_max</th><th>overdueamountmaxdateyear_432T_max</th><th>pmtdaysoverdue_1135P_max</th><th>pmtnumpending_403L_max</th><th>residualamount_1093A_max</th><th>residualamount_127A_max</th><th>residualamount_3940956A_max</th><th>totalamount_503A_max</th><th>totalamount_881A_max</th><th>classificationofcontr_1114M</th><th>contractdate_551D</th><th>contractmaturitydate_151D</th><th>contractst_516M</th><th>contracttype_653M</th><th>credor_3940957M</th><th>lastupdate_260D</th><th>periodicityofpmts_997M</th><th>pmtmethod_731M</th><th>purposeofcred_722M</th><th>subjectrole_326M</th><th>subjectrole_43M</th></tr><tr><td>i64</td><td>f64</td><td>f64</td><td>f64</td><td>f64</td><td>f64</td><td>f64</td><td>f64</td><td>f64</td><td>f64</td><td>f64</td><td>f64</td><td>f64</td><td>f64</td><td>f64</td><td>f64</td><td>f64</td><td>f64</td><td>f64</td><td>f64</td><td>f64</td><td>f64</td><td>f64</td><td>f64</td><td>f64</td><td>f64</td><td>f64</td><td>f64</td><td>f64</td><td>f64</td><td>f64</td><td>str</td><td>str</td><td>str</td><td>str</td><td>str</td><td>str</td><td>str</td><td>str</td><td>str</td><td>str</td><td>str</td><td>str</td></tr></thead><tbody><tr><td>467</td><td>78000.0</td><td>3e6</td><td>10000.0</td><td>3e6</td><td>2.0</td><td>2.0</td><td>0.0</td><td>26571.969</td><td>0.0</td><td>0.0</td><td>0.0</td><td>11.0</td><td>2016.0</td><td>0.0</td><td>26571.969</td><td>2898.76</td><td>0.0</td><td>0.0</td><td>0.0</td><td>36.0</td><td>0.0</td><td>11.0</td><td>2016.0</td><td>0.0</td><td>10.0</td><td>0.0</td><td>0.0</td><td>0.0</td><td>3e6</td><td>960000.0</td><td>&quot;ea6782cc&quot;</td><td>&quot;2011-06-15&quot;</td><td>&quot;2031-06-13&quot;</td><td>&quot;7241344e&quot;</td><td>&quot;724be82a&quot;</td><td>&quot;P164_34_168&quot;</td><td>&quot;2019-01-20&quot;</td><td>&quot;a55475b1&quot;</td><td>&quot;a55475b1&quot;</td><td>&quot;96a8fdfe&quot;</td><td>&quot;fa4f56f1&quot;</td><td>&quot;ab3c25cf&quot;</td></tr><tr><td>1445</td><td>353400.62</td><td>400000.0</td><td>100000.0</td><td>400000.0</td><td>3.0</td><td>17.0</td><td>0.0</td><td>167160.97</td><td>0.0</td><td>0.0</td><td>200418.0</td><td>8.0</td><td>2019.0</td><td>0.0</td><td>209617.77</td><td>19571.412</td><td>0.0</td><td>0.0</td><td>5.8</td><td>85.0</td><td>7.2000003</td><td>8.0</td><td>2019.0</td><td>0.0</td><td>35.0</td><td>0.0</td><td>0.0</td><td>73044.18</td><td>400000.0</td><td>184587.8</td><td>&quot;ea6782cc&quot;</td><td>&quot;2015-01-30&quot;</td><td>&quot;2021-01-30&quot;</td><td>&quot;7241344e&quot;</td><td>&quot;1c9c5356&quot;</td><td>&quot;b619fa46&quot;</td><td>&quot;2019-01-19&quot;</td><td>&quot;a55475b1&quot;</td><td>&quot;a55475b1&quot;</td><td>&quot;60c73645&quot;</td><td>&quot;daf49a8a&quot;</td><td>&quot;ab3c25cf&quot;</td></tr><tr><td>1934</td><td>73971.2</td><td>980000.0</td><td>79400.0</td><td>980000.0</td><td>2.0</td><td>13.0</td><td>61302.0</td><td>0.0</td><td>275859.0</td><td>0.0</td><td>342432.0</td><td>7.0</td><td>2015.0</td><td>0.0</td><td>0.0</td><td>2941.0</td><td>28.07</td><td>25.0</td><td>344.0</td><td>36.0</td><td>526.8</td><td>2.0</td><td>2019.0</td><td>2371.0</td><td>0.0</td><td>0.0</td><td>0.0</td><td>0.0</td><td>980000.0</td><td>254485.61</td><td>&quot;01f63ac8&quot;</td><td>&quot;2012-10-08&quot;</td><td>&quot;2022-10-08&quot;</td><td>&quot;54132f86&quot;</td><td>&quot;724be82a&quot;</td><td>&quot;3e8db15c&quot;</td><td>&quot;2019-01-28&quot;</td><td>&quot;a55475b1&quot;</td><td>&quot;a55475b1&quot;</td><td>&quot;96a8fdfe&quot;</td><td>&quot;fa4f56f1&quot;</td><td>&quot;ab3c25cf&quot;</td></tr><tr><td>3159</td><td>0.0</td><td>132000.0</td><td>0.0</td><td>132000.0</td><td>1.0</td><td>1.0</td><td>0.0</td><td>0.0</td><td>0.0</td><td>0.0</td><td>0.0</td><td>12.0</td><td>2018.0</td><td>0.0</td><td>111858.7</td><td>0.0</td><td>0.0</td><td>0.0</td><td>0.0</td><td>0.0</td><td>0.0</td><td>12.0</td><td>2018.0</td><td>0.0</td><td>0.0</td><td>0.0</td><td>111858.7</td><td>111858.7</td><td>132000.0</td><td>0.0</td><td>&quot;ea6782cc&quot;</td><td>&quot;2018-11-20&quot;</td><td>&quot;2020-11-20&quot;</td><td>&quot;7241344e&quot;</td><td>&quot;1c9c5356&quot;</td><td>&quot;b619fa46&quot;</td><td>&quot;2019-02-03&quot;</td><td>&quot;a55475b1&quot;</td><td>&quot;a55475b1&quot;</td><td>&quot;60c73645&quot;</td><td>&quot;ab3c25cf&quot;</td><td>&quot;ab3c25cf&quot;</td></tr><tr><td>3208</td><td>300000.0</td><td>0.0</td><td>31000.0</td><td>0.0</td><td>1.0</td><td>2.0</td><td>0.0</td><td>100000.0</td><td>0.0</td><td>0.0</td><td>1341.0</td><td>10.0</td><td>2018.0</td><td>0.0</td><td>100000.0</td><td>583.4</td><td>7.0</td><td>0.0</td><td>5.2000003</td><td>36.0</td><td>5.2000003</td><td>10.0</td><td>2018.0</td><td>0.0</td><td>8.0</td><td>0.0</td><td>0.0</td><td>0.0</td><td>300000.0</td><td>106000.0</td><td>&quot;01f63ac8&quot;</td><td>&quot;2016-08-02&quot;</td><td>&quot;2019-08-09&quot;</td><td>&quot;7241344e&quot;</td><td>&quot;4257cbed&quot;</td><td>&quot;6ee1295b&quot;</td><td>&quot;2019-01-03&quot;</td><td>&quot;a0b598e4&quot;</td><td>&quot;dbcbe8f8&quot;</td><td>&quot;96a8fdfe&quot;</td><td>&quot;ab3c25cf&quot;</td><td>&quot;ab3c25cf&quot;</td></tr></tbody></table></div>"
      ],
      "text/plain": [
       "shape: (5, 43)\n",
       "┌─────────┬────────────┬───────────┬───────────┬───┬───────────┬───────────┬───────────┬───────────┐\n",
       "│ case_id ┆ amount_111 ┆ credlmt_1 ┆ credlmt_2 ┆ … ┆ pmtmethod ┆ purposeof ┆ subjectro ┆ subjectro │\n",
       "│ ---     ┆ 5A_max     ┆ 052A_max  ┆ 28A_max   ┆   ┆ _731M     ┆ cred_722M ┆ le_326M   ┆ le_43M    │\n",
       "│ i64     ┆ ---        ┆ ---       ┆ ---       ┆   ┆ ---       ┆ ---       ┆ ---       ┆ ---       │\n",
       "│         ┆ f64        ┆ f64       ┆ f64       ┆   ┆ str       ┆ str       ┆ str       ┆ str       │\n",
       "╞═════════╪════════════╪═══════════╪═══════════╪═══╪═══════════╪═══════════╪═══════════╪═══════════╡\n",
       "│ 467     ┆ 78000.0    ┆ 3e6       ┆ 10000.0   ┆ … ┆ a55475b1  ┆ 96a8fdfe  ┆ fa4f56f1  ┆ ab3c25cf  │\n",
       "│ 1445    ┆ 353400.62  ┆ 400000.0  ┆ 100000.0  ┆ … ┆ a55475b1  ┆ 60c73645  ┆ daf49a8a  ┆ ab3c25cf  │\n",
       "│ 1934    ┆ 73971.2    ┆ 980000.0  ┆ 79400.0   ┆ … ┆ a55475b1  ┆ 96a8fdfe  ┆ fa4f56f1  ┆ ab3c25cf  │\n",
       "│ 3159    ┆ 0.0        ┆ 132000.0  ┆ 0.0       ┆ … ┆ a55475b1  ┆ 60c73645  ┆ ab3c25cf  ┆ ab3c25cf  │\n",
       "│ 3208    ┆ 300000.0   ┆ 0.0       ┆ 31000.0   ┆ … ┆ dbcbe8f8  ┆ 96a8fdfe  ┆ ab3c25cf  ┆ ab3c25cf  │\n",
       "└─────────┴────────────┴───────────┴───────────┴───┴───────────┴───────────┴───────────┴───────────┘"
      ]
     },
     "execution_count": 23,
     "metadata": {},
     "output_type": "execute_result"
    }
   ],
   "source": [
    "numerical_columns = [col for col in credit_train.drop([\"case_id\",\"num_group1\"]).columns if credit_train[col].dtype in [pl.Int8, pl.Int16, pl.Int32, pl.Int64, pl.UInt8, pl.UInt16, pl.UInt32, pl.UInt64, pl.Float32, pl.Float64]]\n",
    "credit_num=credit_train.groupby(\"case_id\").agg([pl.col(col).max().alias(f\"{col}_max\") for col in numerical_columns])\n",
    "cat_columns=[col for col in credit_train.columns if credit_train[col].dtype in [pl.Utf8, pl.Categorical]]\n",
    "credit_cat=credit_train.select([\"case_id\",\"num_group1\"]+cat_columns).filter(pl.col(\"num_group1\")==0).drop(\"num_group1\")\n",
    "credit_train=credit_num.join(credit_cat,how=\"inner\",on=\"case_id\")\n",
    "credit_train.head()"
   ]
  },
  {
   "cell_type": "code",
   "execution_count": 24,
   "id": "7d887bd7",
   "metadata": {},
   "outputs": [
    {
     "data": {
      "text/html": [
       "<div><style>\n",
       ".dataframe > thead > tr,\n",
       ".dataframe > tbody > tr {\n",
       "  text-align: right;\n",
       "  white-space: pre-wrap;\n",
       "}\n",
       "</style>\n",
       "<small>shape: (5, 5)</small><table border=\"1\" class=\"dataframe\"><thead><tr><th>case_id</th><th>amount_416A</th><th>contractenddate_991D</th><th>num_group1</th><th>openingdate_313D</th></tr><tr><td>i64</td><td>f64</td><td>str</td><td>i64</td><td>str</td></tr></thead><tbody><tr><td>225</td><td>0.0</td><td>null</td><td>0</td><td>&quot;2016-08-16&quot;</td></tr><tr><td>331</td><td>260.374</td><td>&quot;2018-03-18&quot;</td><td>0</td><td>&quot;2015-03-19&quot;</td></tr><tr><td>358</td><td>0.0</td><td>null</td><td>0</td><td>&quot;2014-09-02&quot;</td></tr><tr><td>390</td><td>211748.53</td><td>&quot;2017-07-22&quot;</td><td>0</td><td>&quot;2014-07-23&quot;</td></tr><tr><td>390</td><td>223.68001</td><td>null</td><td>2</td><td>&quot;2016-06-08&quot;</td></tr></tbody></table></div>"
      ],
      "text/plain": [
       "shape: (5, 5)\n",
       "┌─────────┬─────────────┬──────────────────────┬────────────┬──────────────────┐\n",
       "│ case_id ┆ amount_416A ┆ contractenddate_991D ┆ num_group1 ┆ openingdate_313D │\n",
       "│ ---     ┆ ---         ┆ ---                  ┆ ---        ┆ ---              │\n",
       "│ i64     ┆ f64         ┆ str                  ┆ i64        ┆ str              │\n",
       "╞═════════╪═════════════╪══════════════════════╪════════════╪══════════════════╡\n",
       "│ 225     ┆ 0.0         ┆ null                 ┆ 0          ┆ 2016-08-16       │\n",
       "│ 331     ┆ 260.374     ┆ 2018-03-18           ┆ 0          ┆ 2015-03-19       │\n",
       "│ 358     ┆ 0.0         ┆ null                 ┆ 0          ┆ 2014-09-02       │\n",
       "│ 390     ┆ 211748.53   ┆ 2017-07-22           ┆ 0          ┆ 2014-07-23       │\n",
       "│ 390     ┆ 223.68001   ┆ null                 ┆ 2          ┆ 2016-06-08       │\n",
       "└─────────┴─────────────┴──────────────────────┴────────────┴──────────────────┘"
      ]
     },
     "execution_count": 24,
     "metadata": {},
     "output_type": "execute_result"
    }
   ],
   "source": [
    "#Depth=1\n",
    "deposit_train=pl.read_csv(dataPath+\"csv_files/train/train_deposit_1.csv\")\n",
    "deposit_train=set_table_dtypes(deposit_train)\n",
    "deposit_train.head()"
   ]
  },
  {
   "cell_type": "code",
   "execution_count": 25,
   "id": "949e2665",
   "metadata": {},
   "outputs": [
    {
     "data": {
      "text/html": [
       "<div><style>\n",
       ".dataframe > thead > tr,\n",
       ".dataframe > tbody > tr {\n",
       "  text-align: right;\n",
       "  white-space: pre-wrap;\n",
       "}\n",
       "</style>\n",
       "<small>shape: (1, 5)</small><table border=\"1\" class=\"dataframe\"><thead><tr><th>case_id_missing_pct</th><th>amount_416A_missing_pct</th><th>contractenddate_991D_missing_pct</th><th>num_group1_missing_pct</th><th>openingdate_313D_missing_pct</th></tr><tr><td>f64</td><td>f64</td><td>f64</td><td>f64</td><td>f64</td></tr></thead><tbody><tr><td>0.0</td><td>0.0</td><td>54.92053</td><td>0.0</td><td>0.0</td></tr></tbody></table></div>"
      ],
      "text/plain": [
       "shape: (1, 5)\n",
       "┌───────────────────┬───────────────────┬───────────────────┬───────────────────┬──────────────────┐\n",
       "│ case_id_missing_p ┆ amount_416A_missi ┆ contractenddate_9 ┆ num_group1_missin ┆ openingdate_313D │\n",
       "│ ct                ┆ ng_pct            ┆ 91D_missing_pct   ┆ g_pct             ┆ _missing_pct     │\n",
       "│ ---               ┆ ---               ┆ ---               ┆ ---               ┆ ---              │\n",
       "│ f64               ┆ f64               ┆ f64               ┆ f64               ┆ f64              │\n",
       "╞═══════════════════╪═══════════════════╪═══════════════════╪═══════════════════╪══════════════════╡\n",
       "│ 0.0               ┆ 0.0               ┆ 54.92053          ┆ 0.0               ┆ 0.0              │\n",
       "└───────────────────┴───────────────────┴───────────────────┴───────────────────┴──────────────────┘"
      ]
     },
     "execution_count": 25,
     "metadata": {},
     "output_type": "execute_result"
    }
   ],
   "source": [
    "total_rows = deposit_train.height\n",
    "deposit_train.select([\n",
    "    (pl.col(col).is_null().sum() / total_rows * 100).alias(f\"{col}_missing_pct\")\n",
    "    for col in deposit_train.columns\n",
    "])"
   ]
  },
  {
   "cell_type": "code",
   "execution_count": 26,
   "id": "cc7077bd",
   "metadata": {},
   "outputs": [
    {
     "data": {
      "text/html": [
       "<div><style>\n",
       ".dataframe > thead > tr,\n",
       ".dataframe > tbody > tr {\n",
       "  text-align: right;\n",
       "  white-space: pre-wrap;\n",
       "}\n",
       "</style>\n",
       "<small>shape: (5, 5)</small><table border=\"1\" class=\"dataframe\"><thead><tr><th>case_id</th><th>amount_416A</th><th>contractenddate_991D</th><th>num_group1</th><th>openingdate_313D</th></tr><tr><td>i64</td><td>f64</td><td>str</td><td>i64</td><td>str</td></tr></thead><tbody><tr><td>225</td><td>0.0</td><td>&quot;Unknown&quot;</td><td>0</td><td>&quot;2016-08-16&quot;</td></tr><tr><td>331</td><td>260.374</td><td>&quot;2018-03-18&quot;</td><td>0</td><td>&quot;2015-03-19&quot;</td></tr><tr><td>358</td><td>0.0</td><td>&quot;Unknown&quot;</td><td>0</td><td>&quot;2014-09-02&quot;</td></tr><tr><td>390</td><td>211748.53</td><td>&quot;2017-07-22&quot;</td><td>0</td><td>&quot;2014-07-23&quot;</td></tr><tr><td>390</td><td>223.68001</td><td>&quot;Unknown&quot;</td><td>2</td><td>&quot;2016-06-08&quot;</td></tr></tbody></table></div>"
      ],
      "text/plain": [
       "shape: (5, 5)\n",
       "┌─────────┬─────────────┬──────────────────────┬────────────┬──────────────────┐\n",
       "│ case_id ┆ amount_416A ┆ contractenddate_991D ┆ num_group1 ┆ openingdate_313D │\n",
       "│ ---     ┆ ---         ┆ ---                  ┆ ---        ┆ ---              │\n",
       "│ i64     ┆ f64         ┆ str                  ┆ i64        ┆ str              │\n",
       "╞═════════╪═════════════╪══════════════════════╪════════════╪══════════════════╡\n",
       "│ 225     ┆ 0.0         ┆ Unknown              ┆ 0          ┆ 2016-08-16       │\n",
       "│ 331     ┆ 260.374     ┆ 2018-03-18           ┆ 0          ┆ 2015-03-19       │\n",
       "│ 358     ┆ 0.0         ┆ Unknown              ┆ 0          ┆ 2014-09-02       │\n",
       "│ 390     ┆ 211748.53   ┆ 2017-07-22           ┆ 0          ┆ 2014-07-23       │\n",
       "│ 390     ┆ 223.68001   ┆ Unknown              ┆ 2          ┆ 2016-06-08       │\n",
       "└─────────┴─────────────┴──────────────────────┴────────────┴──────────────────┘"
      ]
     },
     "execution_count": 26,
     "metadata": {},
     "output_type": "execute_result"
    }
   ],
   "source": [
    "deposit_train = deposit_train.with_columns(pl.col(\"contractenddate_991D\").fill_null(\"Unknown\"))\n",
    "deposit_train.head()"
   ]
  },
  {
   "cell_type": "code",
   "execution_count": 27,
   "id": "cac1b84d",
   "metadata": {},
   "outputs": [
    {
     "data": {
      "text/html": [
       "<div><style>\n",
       ".dataframe > thead > tr,\n",
       ".dataframe > tbody > tr {\n",
       "  text-align: right;\n",
       "  white-space: pre-wrap;\n",
       "}\n",
       "</style>\n",
       "<small>shape: (5, 4)</small><table border=\"1\" class=\"dataframe\"><thead><tr><th>case_id</th><th>deposit_amount_max</th><th>contractenddate_991D</th><th>openingdate_313D</th></tr><tr><td>i64</td><td>f64</td><td>str</td><td>str</td></tr></thead><tbody><tr><td>225</td><td>0.0</td><td>&quot;Unknown&quot;</td><td>&quot;2016-08-16&quot;</td></tr><tr><td>331</td><td>260.374</td><td>&quot;2018-03-18&quot;</td><td>&quot;2015-03-19&quot;</td></tr><tr><td>358</td><td>0.0</td><td>&quot;Unknown&quot;</td><td>&quot;2014-09-02&quot;</td></tr><tr><td>390</td><td>211748.53</td><td>&quot;2017-07-22&quot;</td><td>&quot;2014-07-23&quot;</td></tr><tr><td>445</td><td>23735.938</td><td>&quot;Unknown&quot;</td><td>&quot;2015-04-27&quot;</td></tr></tbody></table></div>"
      ],
      "text/plain": [
       "shape: (5, 4)\n",
       "┌─────────┬────────────────────┬──────────────────────┬──────────────────┐\n",
       "│ case_id ┆ deposit_amount_max ┆ contractenddate_991D ┆ openingdate_313D │\n",
       "│ ---     ┆ ---                ┆ ---                  ┆ ---              │\n",
       "│ i64     ┆ f64                ┆ str                  ┆ str              │\n",
       "╞═════════╪════════════════════╪══════════════════════╪══════════════════╡\n",
       "│ 225     ┆ 0.0                ┆ Unknown              ┆ 2016-08-16       │\n",
       "│ 331     ┆ 260.374            ┆ 2018-03-18           ┆ 2015-03-19       │\n",
       "│ 358     ┆ 0.0                ┆ Unknown              ┆ 2014-09-02       │\n",
       "│ 390     ┆ 211748.53          ┆ 2017-07-22           ┆ 2014-07-23       │\n",
       "│ 445     ┆ 23735.938          ┆ Unknown              ┆ 2015-04-27       │\n",
       "└─────────┴────────────────────┴──────────────────────┴──────────────────┘"
      ]
     },
     "execution_count": 27,
     "metadata": {},
     "output_type": "execute_result"
    }
   ],
   "source": [
    "deposit_num=deposit_train.group_by(\"case_id\").agg(pl.col(\"amount_416A\").max().alias(\"deposit_amount_max\"))\n",
    "deposit_cat=deposit_train.select([\"case_id\",\"contractenddate_991D\",\"num_group1\",\"openingdate_313D\"]).filter(pl.col(\"num_group1\") == 0).drop(\"num_group1\")\n",
    "deposit_train=deposit_num.join(deposit_cat,how=\"inner\",on=\"case_id\")\n",
    "deposit_train.head()"
   ]
  },
  {
   "cell_type": "code",
   "execution_count": 28,
   "id": "d5a4d3a6",
   "metadata": {},
   "outputs": [
    {
     "data": {
      "text/html": [
       "<div><style>\n",
       ".dataframe > thead > tr,\n",
       ".dataframe > tbody > tr {\n",
       "  text-align: right;\n",
       "  white-space: pre-wrap;\n",
       "}\n",
       "</style>\n",
       "<small>shape: (5, 37)</small><table border=\"1\" class=\"dataframe\"><thead><tr><th>case_id</th><th>birth_259D</th><th>birthdate_87D</th><th>childnum_185L</th><th>contaddr_district_15M</th><th>contaddr_matchlist_1032L</th><th>contaddr_smempladdr_334L</th><th>contaddr_zipcode_807M</th><th>education_927M</th><th>empl_employedfrom_271D</th><th>empl_employedtotal_800L</th><th>empl_industry_691L</th><th>empladdr_district_926M</th><th>empladdr_zipcode_114M</th><th>familystate_447L</th><th>gender_992L</th><th>housetype_905L</th><th>housingtype_772L</th><th>incometype_1044T</th><th>isreference_387L</th><th>language1_981M</th><th>mainoccupationinc_384A</th><th>maritalst_703L</th><th>num_group1</th><th>personindex_1023L</th><th>persontype_1072L</th><th>persontype_792L</th><th>registaddr_district_1083M</th><th>registaddr_zipcode_184M</th><th>relationshiptoclient_415T</th><th>relationshiptoclient_642T</th><th>remitter_829L</th><th>role_1084L</th><th>role_993L</th><th>safeguarantyflag_411L</th><th>sex_738L</th><th>type_25L</th></tr><tr><td>i64</td><td>str</td><td>str</td><td>f64</td><td>str</td><td>bool</td><td>bool</td><td>str</td><td>str</td><td>str</td><td>str</td><td>str</td><td>str</td><td>str</td><td>str</td><td>str</td><td>str</td><td>str</td><td>str</td><td>bool</td><td>str</td><td>f64</td><td>str</td><td>i64</td><td>f64</td><td>f64</td><td>f64</td><td>str</td><td>str</td><td>str</td><td>str</td><td>bool</td><td>str</td><td>str</td><td>bool</td><td>str</td><td>str</td></tr></thead><tbody><tr><td>0</td><td>&quot;1986-07-01&quot;</td><td>null</td><td>null</td><td>&quot;P88_18_84&quot;</td><td>false</td><td>false</td><td>&quot;P167_100_165&quot;</td><td>&quot;P97_36_170&quot;</td><td>&quot;2017-09-15&quot;</td><td>&quot;MORE_FIVE&quot;</td><td>&quot;OTHER&quot;</td><td>&quot;P142_57_166&quot;</td><td>&quot;P167_100_165&quot;</td><td>&quot;MARRIED&quot;</td><td>null</td><td>null</td><td>null</td><td>&quot;SALARIED_GOVT&quot;</td><td>null</td><td>&quot;P10_39_147&quot;</td><td>10800.0</td><td>null</td><td>0</td><td>0.0</td><td>1.0</td><td>1.0</td><td>&quot;P88_18_84&quot;</td><td>&quot;P167_100_165&quot;</td><td>null</td><td>null</td><td>null</td><td>&quot;CL&quot;</td><td>null</td><td>true</td><td>&quot;F&quot;</td><td>&quot;PRIMARY_MOBILE…</td></tr><tr><td>0</td><td>null</td><td>null</td><td>null</td><td>&quot;a55475b1&quot;</td><td>null</td><td>null</td><td>&quot;a55475b1&quot;</td><td>&quot;a55475b1&quot;</td><td>null</td><td>null</td><td>null</td><td>&quot;a55475b1&quot;</td><td>&quot;a55475b1&quot;</td><td>null</td><td>null</td><td>null</td><td>null</td><td>null</td><td>null</td><td>&quot;a55475b1&quot;</td><td>null</td><td>null</td><td>1</td><td>1.0</td><td>1.0</td><td>4.0</td><td>&quot;a55475b1&quot;</td><td>&quot;a55475b1&quot;</td><td>&quot;SPOUSE&quot;</td><td>null</td><td>false</td><td>&quot;EM&quot;</td><td>null</td><td>null</td><td>null</td><td>&quot;PHONE&quot;</td></tr><tr><td>0</td><td>null</td><td>null</td><td>null</td><td>&quot;a55475b1&quot;</td><td>null</td><td>null</td><td>&quot;a55475b1&quot;</td><td>&quot;a55475b1&quot;</td><td>null</td><td>null</td><td>null</td><td>&quot;a55475b1&quot;</td><td>&quot;a55475b1&quot;</td><td>null</td><td>null</td><td>null</td><td>null</td><td>null</td><td>null</td><td>&quot;a55475b1&quot;</td><td>null</td><td>null</td><td>2</td><td>2.0</td><td>4.0</td><td>5.0</td><td>&quot;a55475b1&quot;</td><td>&quot;a55475b1&quot;</td><td>&quot;COLLEAGUE&quot;</td><td>&quot;SPOUSE&quot;</td><td>false</td><td>&quot;PE&quot;</td><td>null</td><td>null</td><td>null</td><td>&quot;PHONE&quot;</td></tr><tr><td>0</td><td>null</td><td>null</td><td>null</td><td>&quot;a55475b1&quot;</td><td>null</td><td>null</td><td>&quot;a55475b1&quot;</td><td>&quot;a55475b1&quot;</td><td>null</td><td>null</td><td>null</td><td>&quot;a55475b1&quot;</td><td>&quot;a55475b1&quot;</td><td>null</td><td>null</td><td>null</td><td>null</td><td>null</td><td>null</td><td>&quot;a55475b1&quot;</td><td>null</td><td>null</td><td>3</td><td>null</td><td>5.0</td><td>null</td><td>&quot;a55475b1&quot;</td><td>&quot;a55475b1&quot;</td><td>null</td><td>&quot;COLLEAGUE&quot;</td><td>null</td><td>&quot;PE&quot;</td><td>null</td><td>null</td><td>null</td><td>&quot;PHONE&quot;</td></tr><tr><td>1</td><td>&quot;1957-08-01&quot;</td><td>null</td><td>null</td><td>&quot;P103_93_94&quot;</td><td>false</td><td>false</td><td>&quot;P176_37_166&quot;</td><td>&quot;P97_36_170&quot;</td><td>&quot;2008-10-29&quot;</td><td>&quot;MORE_FIVE&quot;</td><td>&quot;OTHER&quot;</td><td>&quot;P49_46_174&quot;</td><td>&quot;P160_59_140&quot;</td><td>&quot;DIVORCED&quot;</td><td>null</td><td>null</td><td>null</td><td>&quot;SALARIED_GOVT&quot;</td><td>null</td><td>&quot;P10_39_147&quot;</td><td>10000.0</td><td>null</td><td>0</td><td>0.0</td><td>1.0</td><td>1.0</td><td>&quot;P103_93_94&quot;</td><td>&quot;P176_37_166&quot;</td><td>null</td><td>null</td><td>null</td><td>&quot;CL&quot;</td><td>null</td><td>true</td><td>&quot;M&quot;</td><td>&quot;PRIMARY_MOBILE…</td></tr></tbody></table></div>"
      ],
      "text/plain": [
       "shape: (5, 37)\n",
       "┌─────────┬────────────┬────────────┬───────────┬───┬───────────┬───────────┬──────────┬───────────┐\n",
       "│ case_id ┆ birth_259D ┆ birthdate_ ┆ childnum_ ┆ … ┆ role_993L ┆ safeguara ┆ sex_738L ┆ type_25L  │\n",
       "│ ---     ┆ ---        ┆ 87D        ┆ 185L      ┆   ┆ ---       ┆ ntyflag_4 ┆ ---      ┆ ---       │\n",
       "│ i64     ┆ str        ┆ ---        ┆ ---       ┆   ┆ str       ┆ 11L       ┆ str      ┆ str       │\n",
       "│         ┆            ┆ str        ┆ f64       ┆   ┆           ┆ ---       ┆          ┆           │\n",
       "│         ┆            ┆            ┆           ┆   ┆           ┆ bool      ┆          ┆           │\n",
       "╞═════════╪════════════╪════════════╪═══════════╪═══╪═══════════╪═══════════╪══════════╪═══════════╡\n",
       "│ 0       ┆ 1986-07-01 ┆ null       ┆ null      ┆ … ┆ null      ┆ true      ┆ F        ┆ PRIMARY_M │\n",
       "│         ┆            ┆            ┆           ┆   ┆           ┆           ┆          ┆ OBILE     │\n",
       "│ 0       ┆ null       ┆ null       ┆ null      ┆ … ┆ null      ┆ null      ┆ null     ┆ PHONE     │\n",
       "│ 0       ┆ null       ┆ null       ┆ null      ┆ … ┆ null      ┆ null      ┆ null     ┆ PHONE     │\n",
       "│ 0       ┆ null       ┆ null       ┆ null      ┆ … ┆ null      ┆ null      ┆ null     ┆ PHONE     │\n",
       "│ 1       ┆ 1957-08-01 ┆ null       ┆ null      ┆ … ┆ null      ┆ true      ┆ M        ┆ PRIMARY_M │\n",
       "│         ┆            ┆            ┆           ┆   ┆           ┆           ┆          ┆ OBILE     │\n",
       "└─────────┴────────────┴────────────┴───────────┴───┴───────────┴───────────┴──────────┴───────────┘"
      ]
     },
     "execution_count": 28,
     "metadata": {},
     "output_type": "execute_result"
    }
   ],
   "source": [
    "#Depth=1\n",
    "person_train=pl.read_csv(dataPath+\"csv_files/train/train_person_1.csv\")\n",
    "person_train=set_table_dtypes(person_train)\n",
    "person_train.head()"
   ]
  },
  {
   "cell_type": "code",
   "execution_count": 29,
   "id": "d6d307a5",
   "metadata": {},
   "outputs": [
    {
     "data": {
      "text/html": [
       "<div><style>\n",
       ".dataframe > thead > tr,\n",
       ".dataframe > tbody > tr {\n",
       "  text-align: right;\n",
       "  white-space: pre-wrap;\n",
       "}\n",
       "</style>\n",
       "<small>shape: (1, 37)</small><table border=\"1\" class=\"dataframe\"><thead><tr><th>case_id_missing_pct</th><th>birth_259D_missing_pct</th><th>birthdate_87D_missing_pct</th><th>childnum_185L_missing_pct</th><th>contaddr_district_15M_missing_pct</th><th>contaddr_matchlist_1032L_missing_pct</th><th>contaddr_smempladdr_334L_missing_pct</th><th>contaddr_zipcode_807M_missing_pct</th><th>education_927M_missing_pct</th><th>empl_employedfrom_271D_missing_pct</th><th>empl_employedtotal_800L_missing_pct</th><th>empl_industry_691L_missing_pct</th><th>empladdr_district_926M_missing_pct</th><th>empladdr_zipcode_114M_missing_pct</th><th>familystate_447L_missing_pct</th><th>gender_992L_missing_pct</th><th>housetype_905L_missing_pct</th><th>housingtype_772L_missing_pct</th><th>incometype_1044T_missing_pct</th><th>isreference_387L_missing_pct</th><th>language1_981M_missing_pct</th><th>mainoccupationinc_384A_missing_pct</th><th>maritalst_703L_missing_pct</th><th>num_group1_missing_pct</th><th>personindex_1023L_missing_pct</th><th>persontype_1072L_missing_pct</th><th>persontype_792L_missing_pct</th><th>registaddr_district_1083M_missing_pct</th><th>registaddr_zipcode_184M_missing_pct</th><th>relationshiptoclient_415T_missing_pct</th><th>relationshiptoclient_642T_missing_pct</th><th>remitter_829L_missing_pct</th><th>role_1084L_missing_pct</th><th>role_993L_missing_pct</th><th>safeguarantyflag_411L_missing_pct</th><th>sex_738L_missing_pct</th><th>type_25L_missing_pct</th></tr><tr><td>f64</td><td>f64</td><td>f64</td><td>f64</td><td>f64</td><td>f64</td><td>f64</td><td>f64</td><td>f64</td><td>f64</td><td>f64</td><td>f64</td><td>f64</td><td>f64</td><td>f64</td><td>f64</td><td>f64</td><td>f64</td><td>f64</td><td>f64</td><td>f64</td><td>f64</td><td>f64</td><td>f64</td><td>f64</td><td>f64</td><td>f64</td><td>f64</td><td>f64</td><td>f64</td><td>f64</td><td>f64</td><td>f64</td><td>f64</td><td>f64</td><td>f64</td><td>f64</td></tr></thead><tbody><tr><td>0.0</td><td>48.666321</td><td>99.162203</td><td>99.666879</td><td>0.0</td><td>48.681149</td><td>48.681149</td><td>0.0</td><td>0.0</td><td>80.944764</td><td>82.235488</td><td>82.439893</td><td>0.0</td><td>0.0</td><td>75.500497</td><td>99.162203</td><td>96.61001</td><td>99.669972</td><td>48.666321</td><td>99.162203</td><td>0.0</td><td>48.666321</td><td>99.618526</td><td>0.0</td><td>21.596669</td><td>0.205683</td><td>21.596669</td><td>0.0</td><td>0.0</td><td>72.930348</td><td>72.900321</td><td>72.930348</td><td>0.205683</td><td>99.162203</td><td>48.666388</td><td>48.666321</td><td>0.205683</td></tr></tbody></table></div>"
      ],
      "text/plain": [
       "shape: (1, 37)\n",
       "┌───────────┬───────────┬───────────┬───────────┬───┬───────────┬───────────┬───────────┬──────────┐\n",
       "│ case_id_m ┆ birth_259 ┆ birthdate ┆ childnum_ ┆ … ┆ role_993L ┆ safeguara ┆ sex_738L_ ┆ type_25L │\n",
       "│ issing_pc ┆ D_missing ┆ _87D_miss ┆ 185L_miss ┆   ┆ _missing_ ┆ ntyflag_4 ┆ missing_p ┆ _missing │\n",
       "│ t         ┆ _pct      ┆ ing_pct   ┆ ing_pct   ┆   ┆ pct       ┆ 11L_missi ┆ ct        ┆ _pct     │\n",
       "│ ---       ┆ ---       ┆ ---       ┆ ---       ┆   ┆ ---       ┆ ng_pc…    ┆ ---       ┆ ---      │\n",
       "│ f64       ┆ f64       ┆ f64       ┆ f64       ┆   ┆ f64       ┆ ---       ┆ f64       ┆ f64      │\n",
       "│           ┆           ┆           ┆           ┆   ┆           ┆ f64       ┆           ┆          │\n",
       "╞═══════════╪═══════════╪═══════════╪═══════════╪═══╪═══════════╪═══════════╪═══════════╪══════════╡\n",
       "│ 0.0       ┆ 48.666321 ┆ 99.162203 ┆ 99.666879 ┆ … ┆ 99.162203 ┆ 48.666388 ┆ 48.666321 ┆ 0.205683 │\n",
       "└───────────┴───────────┴───────────┴───────────┴───┴───────────┴───────────┴───────────┴──────────┘"
      ]
     },
     "execution_count": 29,
     "metadata": {},
     "output_type": "execute_result"
    }
   ],
   "source": [
    "total_rows = person_train.height\n",
    "person_train.select([\n",
    "    (pl.col(col).is_null().sum() / total_rows * 100).alias(f\"{col}_missing_pct\")\n",
    "    for col in person_train.columns\n",
    "])"
   ]
  },
  {
   "cell_type": "code",
   "execution_count": 30,
   "id": "ef4a1769",
   "metadata": {},
   "outputs": [
    {
     "data": {
      "text/html": [
       "<div><style>\n",
       ".dataframe > thead > tr,\n",
       ".dataframe > tbody > tr {\n",
       "  text-align: right;\n",
       "  white-space: pre-wrap;\n",
       "}\n",
       "</style>\n",
       "<small>shape: (5, 29)</small><table border=\"1\" class=\"dataframe\"><thead><tr><th>case_id</th><th>birth_259D</th><th>contaddr_district_15M</th><th>contaddr_matchlist_1032L</th><th>contaddr_smempladdr_334L</th><th>contaddr_zipcode_807M</th><th>education_927M</th><th>empl_employedfrom_271D</th><th>empl_employedtotal_800L</th><th>empl_industry_691L</th><th>empladdr_district_926M</th><th>empladdr_zipcode_114M</th><th>familystate_447L</th><th>incometype_1044T</th><th>language1_981M</th><th>mainoccupationinc_384A</th><th>num_group1</th><th>personindex_1023L</th><th>persontype_1072L</th><th>persontype_792L</th><th>registaddr_district_1083M</th><th>registaddr_zipcode_184M</th><th>relationshiptoclient_415T</th><th>relationshiptoclient_642T</th><th>remitter_829L</th><th>role_1084L</th><th>safeguarantyflag_411L</th><th>sex_738L</th><th>type_25L</th></tr><tr><td>i64</td><td>str</td><td>str</td><td>bool</td><td>bool</td><td>str</td><td>str</td><td>str</td><td>str</td><td>str</td><td>str</td><td>str</td><td>str</td><td>str</td><td>str</td><td>f64</td><td>i64</td><td>f64</td><td>f64</td><td>f64</td><td>str</td><td>str</td><td>str</td><td>str</td><td>bool</td><td>str</td><td>bool</td><td>str</td><td>str</td></tr></thead><tbody><tr><td>0</td><td>&quot;1986-07-01&quot;</td><td>&quot;P88_18_84&quot;</td><td>false</td><td>false</td><td>&quot;P167_100_165&quot;</td><td>&quot;P97_36_170&quot;</td><td>&quot;2017-09-15&quot;</td><td>&quot;MORE_FIVE&quot;</td><td>&quot;OTHER&quot;</td><td>&quot;P142_57_166&quot;</td><td>&quot;P167_100_165&quot;</td><td>&quot;MARRIED&quot;</td><td>&quot;SALARIED_GOVT&quot;</td><td>&quot;P10_39_147&quot;</td><td>10800.0</td><td>0</td><td>0.0</td><td>1.0</td><td>1.0</td><td>&quot;P88_18_84&quot;</td><td>&quot;P167_100_165&quot;</td><td>null</td><td>null</td><td>null</td><td>&quot;CL&quot;</td><td>true</td><td>&quot;F&quot;</td><td>&quot;PRIMARY_MOBILE…</td></tr><tr><td>0</td><td>null</td><td>&quot;a55475b1&quot;</td><td>null</td><td>null</td><td>&quot;a55475b1&quot;</td><td>&quot;a55475b1&quot;</td><td>null</td><td>null</td><td>null</td><td>&quot;a55475b1&quot;</td><td>&quot;a55475b1&quot;</td><td>null</td><td>null</td><td>&quot;a55475b1&quot;</td><td>null</td><td>1</td><td>1.0</td><td>1.0</td><td>4.0</td><td>&quot;a55475b1&quot;</td><td>&quot;a55475b1&quot;</td><td>&quot;SPOUSE&quot;</td><td>null</td><td>false</td><td>&quot;EM&quot;</td><td>null</td><td>null</td><td>&quot;PHONE&quot;</td></tr><tr><td>0</td><td>null</td><td>&quot;a55475b1&quot;</td><td>null</td><td>null</td><td>&quot;a55475b1&quot;</td><td>&quot;a55475b1&quot;</td><td>null</td><td>null</td><td>null</td><td>&quot;a55475b1&quot;</td><td>&quot;a55475b1&quot;</td><td>null</td><td>null</td><td>&quot;a55475b1&quot;</td><td>null</td><td>2</td><td>2.0</td><td>4.0</td><td>5.0</td><td>&quot;a55475b1&quot;</td><td>&quot;a55475b1&quot;</td><td>&quot;COLLEAGUE&quot;</td><td>&quot;SPOUSE&quot;</td><td>false</td><td>&quot;PE&quot;</td><td>null</td><td>null</td><td>&quot;PHONE&quot;</td></tr><tr><td>0</td><td>null</td><td>&quot;a55475b1&quot;</td><td>null</td><td>null</td><td>&quot;a55475b1&quot;</td><td>&quot;a55475b1&quot;</td><td>null</td><td>null</td><td>null</td><td>&quot;a55475b1&quot;</td><td>&quot;a55475b1&quot;</td><td>null</td><td>null</td><td>&quot;a55475b1&quot;</td><td>null</td><td>3</td><td>null</td><td>5.0</td><td>null</td><td>&quot;a55475b1&quot;</td><td>&quot;a55475b1&quot;</td><td>null</td><td>&quot;COLLEAGUE&quot;</td><td>null</td><td>&quot;PE&quot;</td><td>null</td><td>null</td><td>&quot;PHONE&quot;</td></tr><tr><td>1</td><td>&quot;1957-08-01&quot;</td><td>&quot;P103_93_94&quot;</td><td>false</td><td>false</td><td>&quot;P176_37_166&quot;</td><td>&quot;P97_36_170&quot;</td><td>&quot;2008-10-29&quot;</td><td>&quot;MORE_FIVE&quot;</td><td>&quot;OTHER&quot;</td><td>&quot;P49_46_174&quot;</td><td>&quot;P160_59_140&quot;</td><td>&quot;DIVORCED&quot;</td><td>&quot;SALARIED_GOVT&quot;</td><td>&quot;P10_39_147&quot;</td><td>10000.0</td><td>0</td><td>0.0</td><td>1.0</td><td>1.0</td><td>&quot;P103_93_94&quot;</td><td>&quot;P176_37_166&quot;</td><td>null</td><td>null</td><td>null</td><td>&quot;CL&quot;</td><td>true</td><td>&quot;M&quot;</td><td>&quot;PRIMARY_MOBILE…</td></tr></tbody></table></div>"
      ],
      "text/plain": [
       "shape: (5, 29)\n",
       "┌─────────┬────────────┬────────────┬───────────┬───┬───────────┬───────────┬──────────┬───────────┐\n",
       "│ case_id ┆ birth_259D ┆ contaddr_d ┆ contaddr_ ┆ … ┆ role_1084 ┆ safeguara ┆ sex_738L ┆ type_25L  │\n",
       "│ ---     ┆ ---        ┆ istrict_15 ┆ matchlist ┆   ┆ L         ┆ ntyflag_4 ┆ ---      ┆ ---       │\n",
       "│ i64     ┆ str        ┆ M          ┆ _1032L    ┆   ┆ ---       ┆ 11L       ┆ str      ┆ str       │\n",
       "│         ┆            ┆ ---        ┆ ---       ┆   ┆ str       ┆ ---       ┆          ┆           │\n",
       "│         ┆            ┆ str        ┆ bool      ┆   ┆           ┆ bool      ┆          ┆           │\n",
       "╞═════════╪════════════╪════════════╪═══════════╪═══╪═══════════╪═══════════╪══════════╪═══════════╡\n",
       "│ 0       ┆ 1986-07-01 ┆ P88_18_84  ┆ false     ┆ … ┆ CL        ┆ true      ┆ F        ┆ PRIMARY_M │\n",
       "│         ┆            ┆            ┆           ┆   ┆           ┆           ┆          ┆ OBILE     │\n",
       "│ 0       ┆ null       ┆ a55475b1   ┆ null      ┆ … ┆ EM        ┆ null      ┆ null     ┆ PHONE     │\n",
       "│ 0       ┆ null       ┆ a55475b1   ┆ null      ┆ … ┆ PE        ┆ null      ┆ null     ┆ PHONE     │\n",
       "│ 0       ┆ null       ┆ a55475b1   ┆ null      ┆ … ┆ PE        ┆ null      ┆ null     ┆ PHONE     │\n",
       "│ 1       ┆ 1957-08-01 ┆ P103_93_94 ┆ false     ┆ … ┆ CL        ┆ true      ┆ M        ┆ PRIMARY_M │\n",
       "│         ┆            ┆            ┆           ┆   ┆           ┆           ┆          ┆ OBILE     │\n",
       "└─────────┴────────────┴────────────┴───────────┴───┴───────────┴───────────┴──────────┴───────────┘"
      ]
     },
     "execution_count": 30,
     "metadata": {},
     "output_type": "execute_result"
    }
   ],
   "source": [
    "drop_list=[\"birthdate_87D\",\"childnum_185L\",\"gender_992L\",\"housetype_905L\",\"housingtype_772L\",\"isreference_387L\",\"maritalst_703L\",\"role_993L\"]\n",
    "person_train=person_train.drop(drop_list)\n",
    "person_train.head()"
   ]
  },
  {
   "cell_type": "code",
   "execution_count": 31,
   "id": "4ad42e68",
   "metadata": {},
   "outputs": [
    {
     "data": {
      "text/html": [
       "<div><style>\n",
       ".dataframe > thead > tr,\n",
       ".dataframe > tbody > tr {\n",
       "  text-align: right;\n",
       "  white-space: pre-wrap;\n",
       "}\n",
       "</style>\n",
       "<small>shape: (5, 29)</small><table border=\"1\" class=\"dataframe\"><thead><tr><th>case_id</th><th>birth_259D</th><th>contaddr_district_15M</th><th>contaddr_matchlist_1032L</th><th>contaddr_smempladdr_334L</th><th>contaddr_zipcode_807M</th><th>education_927M</th><th>empl_employedfrom_271D</th><th>empl_employedtotal_800L</th><th>empl_industry_691L</th><th>empladdr_district_926M</th><th>empladdr_zipcode_114M</th><th>familystate_447L</th><th>incometype_1044T</th><th>language1_981M</th><th>mainoccupationinc_384A</th><th>num_group1</th><th>personindex_1023L</th><th>persontype_1072L</th><th>persontype_792L</th><th>registaddr_district_1083M</th><th>registaddr_zipcode_184M</th><th>relationshiptoclient_415T</th><th>relationshiptoclient_642T</th><th>remitter_829L</th><th>role_1084L</th><th>safeguarantyflag_411L</th><th>sex_738L</th><th>type_25L</th></tr><tr><td>i64</td><td>str</td><td>str</td><td>i32</td><td>i32</td><td>str</td><td>str</td><td>str</td><td>str</td><td>str</td><td>str</td><td>str</td><td>str</td><td>str</td><td>str</td><td>f64</td><td>i64</td><td>f64</td><td>f64</td><td>f64</td><td>str</td><td>str</td><td>str</td><td>str</td><td>i32</td><td>str</td><td>i32</td><td>str</td><td>str</td></tr></thead><tbody><tr><td>0</td><td>&quot;1986-07-01&quot;</td><td>&quot;P88_18_84&quot;</td><td>0</td><td>0</td><td>&quot;P167_100_165&quot;</td><td>&quot;P97_36_170&quot;</td><td>&quot;2017-09-15&quot;</td><td>&quot;MORE_FIVE&quot;</td><td>&quot;OTHER&quot;</td><td>&quot;P142_57_166&quot;</td><td>&quot;P167_100_165&quot;</td><td>&quot;MARRIED&quot;</td><td>&quot;SALARIED_GOVT&quot;</td><td>&quot;P10_39_147&quot;</td><td>10800.0</td><td>0</td><td>0.0</td><td>1.0</td><td>1.0</td><td>&quot;P88_18_84&quot;</td><td>&quot;P167_100_165&quot;</td><td>null</td><td>null</td><td>null</td><td>&quot;CL&quot;</td><td>1</td><td>&quot;F&quot;</td><td>&quot;PRIMARY_MOBILE…</td></tr><tr><td>0</td><td>null</td><td>&quot;a55475b1&quot;</td><td>null</td><td>null</td><td>&quot;a55475b1&quot;</td><td>&quot;a55475b1&quot;</td><td>null</td><td>null</td><td>null</td><td>&quot;a55475b1&quot;</td><td>&quot;a55475b1&quot;</td><td>null</td><td>null</td><td>&quot;a55475b1&quot;</td><td>null</td><td>1</td><td>1.0</td><td>1.0</td><td>4.0</td><td>&quot;a55475b1&quot;</td><td>&quot;a55475b1&quot;</td><td>&quot;SPOUSE&quot;</td><td>null</td><td>0</td><td>&quot;EM&quot;</td><td>null</td><td>null</td><td>&quot;PHONE&quot;</td></tr><tr><td>0</td><td>null</td><td>&quot;a55475b1&quot;</td><td>null</td><td>null</td><td>&quot;a55475b1&quot;</td><td>&quot;a55475b1&quot;</td><td>null</td><td>null</td><td>null</td><td>&quot;a55475b1&quot;</td><td>&quot;a55475b1&quot;</td><td>null</td><td>null</td><td>&quot;a55475b1&quot;</td><td>null</td><td>2</td><td>2.0</td><td>4.0</td><td>5.0</td><td>&quot;a55475b1&quot;</td><td>&quot;a55475b1&quot;</td><td>&quot;COLLEAGUE&quot;</td><td>&quot;SPOUSE&quot;</td><td>0</td><td>&quot;PE&quot;</td><td>null</td><td>null</td><td>&quot;PHONE&quot;</td></tr><tr><td>0</td><td>null</td><td>&quot;a55475b1&quot;</td><td>null</td><td>null</td><td>&quot;a55475b1&quot;</td><td>&quot;a55475b1&quot;</td><td>null</td><td>null</td><td>null</td><td>&quot;a55475b1&quot;</td><td>&quot;a55475b1&quot;</td><td>null</td><td>null</td><td>&quot;a55475b1&quot;</td><td>null</td><td>3</td><td>null</td><td>5.0</td><td>null</td><td>&quot;a55475b1&quot;</td><td>&quot;a55475b1&quot;</td><td>null</td><td>&quot;COLLEAGUE&quot;</td><td>null</td><td>&quot;PE&quot;</td><td>null</td><td>null</td><td>&quot;PHONE&quot;</td></tr><tr><td>1</td><td>&quot;1957-08-01&quot;</td><td>&quot;P103_93_94&quot;</td><td>0</td><td>0</td><td>&quot;P176_37_166&quot;</td><td>&quot;P97_36_170&quot;</td><td>&quot;2008-10-29&quot;</td><td>&quot;MORE_FIVE&quot;</td><td>&quot;OTHER&quot;</td><td>&quot;P49_46_174&quot;</td><td>&quot;P160_59_140&quot;</td><td>&quot;DIVORCED&quot;</td><td>&quot;SALARIED_GOVT&quot;</td><td>&quot;P10_39_147&quot;</td><td>10000.0</td><td>0</td><td>0.0</td><td>1.0</td><td>1.0</td><td>&quot;P103_93_94&quot;</td><td>&quot;P176_37_166&quot;</td><td>null</td><td>null</td><td>null</td><td>&quot;CL&quot;</td><td>1</td><td>&quot;M&quot;</td><td>&quot;PRIMARY_MOBILE…</td></tr></tbody></table></div>"
      ],
      "text/plain": [
       "shape: (5, 29)\n",
       "┌─────────┬────────────┬────────────┬───────────┬───┬───────────┬───────────┬──────────┬───────────┐\n",
       "│ case_id ┆ birth_259D ┆ contaddr_d ┆ contaddr_ ┆ … ┆ role_1084 ┆ safeguara ┆ sex_738L ┆ type_25L  │\n",
       "│ ---     ┆ ---        ┆ istrict_15 ┆ matchlist ┆   ┆ L         ┆ ntyflag_4 ┆ ---      ┆ ---       │\n",
       "│ i64     ┆ str        ┆ M          ┆ _1032L    ┆   ┆ ---       ┆ 11L       ┆ str      ┆ str       │\n",
       "│         ┆            ┆ ---        ┆ ---       ┆   ┆ str       ┆ ---       ┆          ┆           │\n",
       "│         ┆            ┆ str        ┆ i32       ┆   ┆           ┆ i32       ┆          ┆           │\n",
       "╞═════════╪════════════╪════════════╪═══════════╪═══╪═══════════╪═══════════╪══════════╪═══════════╡\n",
       "│ 0       ┆ 1986-07-01 ┆ P88_18_84  ┆ 0         ┆ … ┆ CL        ┆ 1         ┆ F        ┆ PRIMARY_M │\n",
       "│         ┆            ┆            ┆           ┆   ┆           ┆           ┆          ┆ OBILE     │\n",
       "│ 0       ┆ null       ┆ a55475b1   ┆ null      ┆ … ┆ EM        ┆ null      ┆ null     ┆ PHONE     │\n",
       "│ 0       ┆ null       ┆ a55475b1   ┆ null      ┆ … ┆ PE        ┆ null      ┆ null     ┆ PHONE     │\n",
       "│ 0       ┆ null       ┆ a55475b1   ┆ null      ┆ … ┆ PE        ┆ null      ┆ null     ┆ PHONE     │\n",
       "│ 1       ┆ 1957-08-01 ┆ P103_93_94 ┆ 0         ┆ … ┆ CL        ┆ 1         ┆ M        ┆ PRIMARY_M │\n",
       "│         ┆            ┆            ┆           ┆   ┆           ┆           ┆          ┆ OBILE     │\n",
       "└─────────┴────────────┴────────────┴───────────┴───┴───────────┴───────────┴──────────┴───────────┘"
      ]
     },
     "execution_count": 31,
     "metadata": {},
     "output_type": "execute_result"
    }
   ],
   "source": [
    "for col in person_train.columns:\n",
    "    # Check if the column is of Boolean type\n",
    "    if person_train[col].dtype == pl.Boolean:\n",
    "        person_train = person_train.with_columns(person_train[col].cast(pl.Int32).alias(col))\n",
    "person_train.head()"
   ]
  },
  {
   "cell_type": "code",
   "execution_count": 32,
   "id": "f6b86c87",
   "metadata": {},
   "outputs": [
    {
     "data": {
      "text/html": [
       "<div><style>\n",
       ".dataframe > thead > tr,\n",
       ".dataframe > tbody > tr {\n",
       "  text-align: right;\n",
       "  white-space: pre-wrap;\n",
       "}\n",
       "</style>\n",
       "<small>shape: (5, 29)</small><table border=\"1\" class=\"dataframe\"><thead><tr><th>case_id</th><th>birth_259D</th><th>contaddr_district_15M</th><th>contaddr_matchlist_1032L</th><th>contaddr_smempladdr_334L</th><th>contaddr_zipcode_807M</th><th>education_927M</th><th>empl_employedfrom_271D</th><th>empl_employedtotal_800L</th><th>empl_industry_691L</th><th>empladdr_district_926M</th><th>empladdr_zipcode_114M</th><th>familystate_447L</th><th>incometype_1044T</th><th>language1_981M</th><th>mainoccupationinc_384A</th><th>num_group1</th><th>personindex_1023L</th><th>persontype_1072L</th><th>persontype_792L</th><th>registaddr_district_1083M</th><th>registaddr_zipcode_184M</th><th>relationshiptoclient_415T</th><th>relationshiptoclient_642T</th><th>remitter_829L</th><th>role_1084L</th><th>safeguarantyflag_411L</th><th>sex_738L</th><th>type_25L</th></tr><tr><td>i64</td><td>str</td><td>str</td><td>i32</td><td>i32</td><td>str</td><td>str</td><td>str</td><td>str</td><td>str</td><td>str</td><td>str</td><td>str</td><td>str</td><td>str</td><td>f64</td><td>i64</td><td>f64</td><td>f64</td><td>f64</td><td>str</td><td>str</td><td>str</td><td>str</td><td>i32</td><td>str</td><td>i32</td><td>str</td><td>str</td></tr></thead><tbody><tr><td>0</td><td>&quot;1986-07-01&quot;</td><td>&quot;P88_18_84&quot;</td><td>0</td><td>0</td><td>&quot;P167_100_165&quot;</td><td>&quot;P97_36_170&quot;</td><td>&quot;2017-09-15&quot;</td><td>&quot;MORE_FIVE&quot;</td><td>&quot;OTHER&quot;</td><td>&quot;P142_57_166&quot;</td><td>&quot;P167_100_165&quot;</td><td>&quot;MARRIED&quot;</td><td>&quot;SALARIED_GOVT&quot;</td><td>&quot;P10_39_147&quot;</td><td>10800.0</td><td>0</td><td>0.0</td><td>1.0</td><td>1.0</td><td>&quot;P88_18_84&quot;</td><td>&quot;P167_100_165&quot;</td><td>&quot;Unknown&quot;</td><td>&quot;Unknown&quot;</td><td>0</td><td>&quot;CL&quot;</td><td>1</td><td>&quot;F&quot;</td><td>&quot;PRIMARY_MOBILE…</td></tr><tr><td>0</td><td>&quot;Unknown&quot;</td><td>&quot;a55475b1&quot;</td><td>0</td><td>0</td><td>&quot;a55475b1&quot;</td><td>&quot;a55475b1&quot;</td><td>&quot;Unknown&quot;</td><td>&quot;Unknown&quot;</td><td>&quot;Unknown&quot;</td><td>&quot;a55475b1&quot;</td><td>&quot;a55475b1&quot;</td><td>&quot;Unknown&quot;</td><td>&quot;Unknown&quot;</td><td>&quot;a55475b1&quot;</td><td>0.0</td><td>1</td><td>1.0</td><td>1.0</td><td>4.0</td><td>&quot;a55475b1&quot;</td><td>&quot;a55475b1&quot;</td><td>&quot;SPOUSE&quot;</td><td>&quot;Unknown&quot;</td><td>0</td><td>&quot;EM&quot;</td><td>0</td><td>&quot;Unknown&quot;</td><td>&quot;PHONE&quot;</td></tr><tr><td>0</td><td>&quot;Unknown&quot;</td><td>&quot;a55475b1&quot;</td><td>0</td><td>0</td><td>&quot;a55475b1&quot;</td><td>&quot;a55475b1&quot;</td><td>&quot;Unknown&quot;</td><td>&quot;Unknown&quot;</td><td>&quot;Unknown&quot;</td><td>&quot;a55475b1&quot;</td><td>&quot;a55475b1&quot;</td><td>&quot;Unknown&quot;</td><td>&quot;Unknown&quot;</td><td>&quot;a55475b1&quot;</td><td>0.0</td><td>2</td><td>2.0</td><td>4.0</td><td>5.0</td><td>&quot;a55475b1&quot;</td><td>&quot;a55475b1&quot;</td><td>&quot;COLLEAGUE&quot;</td><td>&quot;SPOUSE&quot;</td><td>0</td><td>&quot;PE&quot;</td><td>0</td><td>&quot;Unknown&quot;</td><td>&quot;PHONE&quot;</td></tr><tr><td>0</td><td>&quot;Unknown&quot;</td><td>&quot;a55475b1&quot;</td><td>0</td><td>0</td><td>&quot;a55475b1&quot;</td><td>&quot;a55475b1&quot;</td><td>&quot;Unknown&quot;</td><td>&quot;Unknown&quot;</td><td>&quot;Unknown&quot;</td><td>&quot;a55475b1&quot;</td><td>&quot;a55475b1&quot;</td><td>&quot;Unknown&quot;</td><td>&quot;Unknown&quot;</td><td>&quot;a55475b1&quot;</td><td>0.0</td><td>3</td><td>0.0</td><td>5.0</td><td>0.0</td><td>&quot;a55475b1&quot;</td><td>&quot;a55475b1&quot;</td><td>&quot;Unknown&quot;</td><td>&quot;COLLEAGUE&quot;</td><td>0</td><td>&quot;PE&quot;</td><td>0</td><td>&quot;Unknown&quot;</td><td>&quot;PHONE&quot;</td></tr><tr><td>1</td><td>&quot;1957-08-01&quot;</td><td>&quot;P103_93_94&quot;</td><td>0</td><td>0</td><td>&quot;P176_37_166&quot;</td><td>&quot;P97_36_170&quot;</td><td>&quot;2008-10-29&quot;</td><td>&quot;MORE_FIVE&quot;</td><td>&quot;OTHER&quot;</td><td>&quot;P49_46_174&quot;</td><td>&quot;P160_59_140&quot;</td><td>&quot;DIVORCED&quot;</td><td>&quot;SALARIED_GOVT&quot;</td><td>&quot;P10_39_147&quot;</td><td>10000.0</td><td>0</td><td>0.0</td><td>1.0</td><td>1.0</td><td>&quot;P103_93_94&quot;</td><td>&quot;P176_37_166&quot;</td><td>&quot;Unknown&quot;</td><td>&quot;Unknown&quot;</td><td>0</td><td>&quot;CL&quot;</td><td>1</td><td>&quot;M&quot;</td><td>&quot;PRIMARY_MOBILE…</td></tr></tbody></table></div>"
      ],
      "text/plain": [
       "shape: (5, 29)\n",
       "┌─────────┬────────────┬────────────┬───────────┬───┬───────────┬───────────┬──────────┬───────────┐\n",
       "│ case_id ┆ birth_259D ┆ contaddr_d ┆ contaddr_ ┆ … ┆ role_1084 ┆ safeguara ┆ sex_738L ┆ type_25L  │\n",
       "│ ---     ┆ ---        ┆ istrict_15 ┆ matchlist ┆   ┆ L         ┆ ntyflag_4 ┆ ---      ┆ ---       │\n",
       "│ i64     ┆ str        ┆ M          ┆ _1032L    ┆   ┆ ---       ┆ 11L       ┆ str      ┆ str       │\n",
       "│         ┆            ┆ ---        ┆ ---       ┆   ┆ str       ┆ ---       ┆          ┆           │\n",
       "│         ┆            ┆ str        ┆ i32       ┆   ┆           ┆ i32       ┆          ┆           │\n",
       "╞═════════╪════════════╪════════════╪═══════════╪═══╪═══════════╪═══════════╪══════════╪═══════════╡\n",
       "│ 0       ┆ 1986-07-01 ┆ P88_18_84  ┆ 0         ┆ … ┆ CL        ┆ 1         ┆ F        ┆ PRIMARY_M │\n",
       "│         ┆            ┆            ┆           ┆   ┆           ┆           ┆          ┆ OBILE     │\n",
       "│ 0       ┆ Unknown    ┆ a55475b1   ┆ 0         ┆ … ┆ EM        ┆ 0         ┆ Unknown  ┆ PHONE     │\n",
       "│ 0       ┆ Unknown    ┆ a55475b1   ┆ 0         ┆ … ┆ PE        ┆ 0         ┆ Unknown  ┆ PHONE     │\n",
       "│ 0       ┆ Unknown    ┆ a55475b1   ┆ 0         ┆ … ┆ PE        ┆ 0         ┆ Unknown  ┆ PHONE     │\n",
       "│ 1       ┆ 1957-08-01 ┆ P103_93_94 ┆ 0         ┆ … ┆ CL        ┆ 1         ┆ M        ┆ PRIMARY_M │\n",
       "│         ┆            ┆            ┆           ┆   ┆           ┆           ┆          ┆ OBILE     │\n",
       "└─────────┴────────────┴────────────┴───────────┴───┴───────────┴───────────┴──────────┴───────────┘"
      ]
     },
     "execution_count": 32,
     "metadata": {},
     "output_type": "execute_result"
    }
   ],
   "source": [
    "for col in person_train.columns:\n",
    "    # Check if the column is of a numerical type (integer or float)\n",
    "    if person_train[col].dtype in [pl.Int8, pl.Int16, pl.Int32, pl.Int64, pl.UInt8, pl.UInt16, pl.UInt32, pl.UInt64, pl.Float32, pl.Float64]:\n",
    "        # For numerical columns, fill missing values with 0\n",
    "        person_train = person_train.with_columns(pl.col(col).fill_null(0))\n",
    "    # Check if the column is of a string or categorical type\n",
    "    elif person_train[col].dtype in [pl.Utf8, pl.Categorical]:\n",
    "        # For categorical/string columns, fill missing values with \"Unknown\"\n",
    "        person_train = person_train.with_columns(pl.col(col).fill_null(\"Unknown\"))\n",
    "person_train.head()"
   ]
  },
  {
   "cell_type": "code",
   "execution_count": 33,
   "id": "11ea8902",
   "metadata": {},
   "outputs": [
    {
     "name": "stderr",
     "output_type": "stream",
     "text": [
      "/var/folders/r4/vq0806lj20q0chqdc8zywxvc0000gn/T/ipykernel_28586/3768961787.py:2: DeprecationWarning: `groupby` is deprecated. It has been renamed to `group_by`.\n",
      "  person_num=person_train.groupby(\"case_id\").agg([pl.col(col).max().alias(f\"{col}_max\") for col in numerical_columns])\n"
     ]
    },
    {
     "data": {
      "text/html": [
       "<div><style>\n",
       ".dataframe > thead > tr,\n",
       ".dataframe > tbody > tr {\n",
       "  text-align: right;\n",
       "  white-space: pre-wrap;\n",
       "}\n",
       "</style>\n",
       "<small>shape: (5, 28)</small><table border=\"1\" class=\"dataframe\"><thead><tr><th>case_id</th><th>contaddr_matchlist_1032L_max</th><th>contaddr_smempladdr_334L_max</th><th>mainoccupationinc_384A_max</th><th>personindex_1023L_max</th><th>persontype_1072L_max</th><th>persontype_792L_max</th><th>remitter_829L_max</th><th>safeguarantyflag_411L_max</th><th>birth_259D</th><th>contaddr_district_15M</th><th>contaddr_zipcode_807M</th><th>education_927M</th><th>empl_employedfrom_271D</th><th>empl_employedtotal_800L</th><th>empl_industry_691L</th><th>empladdr_district_926M</th><th>empladdr_zipcode_114M</th><th>familystate_447L</th><th>incometype_1044T</th><th>language1_981M</th><th>registaddr_district_1083M</th><th>registaddr_zipcode_184M</th><th>relationshiptoclient_415T</th><th>relationshiptoclient_642T</th><th>role_1084L</th><th>sex_738L</th><th>type_25L</th></tr><tr><td>i64</td><td>i32</td><td>i32</td><td>f64</td><td>f64</td><td>f64</td><td>f64</td><td>i32</td><td>i32</td><td>str</td><td>str</td><td>str</td><td>str</td><td>str</td><td>str</td><td>str</td><td>str</td><td>str</td><td>str</td><td>str</td><td>str</td><td>str</td><td>str</td><td>str</td><td>str</td><td>str</td><td>str</td><td>str</td></tr></thead><tbody><tr><td>0</td><td>0</td><td>0</td><td>10800.0</td><td>2.0</td><td>5.0</td><td>5.0</td><td>0</td><td>1</td><td>&quot;1986-07-01&quot;</td><td>&quot;P88_18_84&quot;</td><td>&quot;P167_100_165&quot;</td><td>&quot;P97_36_170&quot;</td><td>&quot;2017-09-15&quot;</td><td>&quot;MORE_FIVE&quot;</td><td>&quot;OTHER&quot;</td><td>&quot;P142_57_166&quot;</td><td>&quot;P167_100_165&quot;</td><td>&quot;MARRIED&quot;</td><td>&quot;SALARIED_GOVT&quot;</td><td>&quot;P10_39_147&quot;</td><td>&quot;P88_18_84&quot;</td><td>&quot;P167_100_165&quot;</td><td>&quot;Unknown&quot;</td><td>&quot;Unknown&quot;</td><td>&quot;CL&quot;</td><td>&quot;F&quot;</td><td>&quot;PRIMARY_MOBILE…</td></tr><tr><td>1</td><td>0</td><td>0</td><td>10000.0</td><td>2.0</td><td>5.0</td><td>5.0</td><td>0</td><td>1</td><td>&quot;1957-08-01&quot;</td><td>&quot;P103_93_94&quot;</td><td>&quot;P176_37_166&quot;</td><td>&quot;P97_36_170&quot;</td><td>&quot;2008-10-29&quot;</td><td>&quot;MORE_FIVE&quot;</td><td>&quot;OTHER&quot;</td><td>&quot;P49_46_174&quot;</td><td>&quot;P160_59_140&quot;</td><td>&quot;DIVORCED&quot;</td><td>&quot;SALARIED_GOVT&quot;</td><td>&quot;P10_39_147&quot;</td><td>&quot;P103_93_94&quot;</td><td>&quot;P176_37_166&quot;</td><td>&quot;Unknown&quot;</td><td>&quot;Unknown&quot;</td><td>&quot;CL&quot;</td><td>&quot;M&quot;</td><td>&quot;PRIMARY_MOBILE…</td></tr><tr><td>2</td><td>0</td><td>0</td><td>14000.0</td><td>2.0</td><td>5.0</td><td>5.0</td><td>0</td><td>1</td><td>&quot;1974-12-01&quot;</td><td>&quot;P91_125_184&quot;</td><td>&quot;P161_5_97&quot;</td><td>&quot;P97_36_170&quot;</td><td>&quot;2010-02-15&quot;</td><td>&quot;MORE_FIVE&quot;</td><td>&quot;OTHER&quot;</td><td>&quot;P63_14_24&quot;</td><td>&quot;P161_5_97&quot;</td><td>&quot;MARRIED&quot;</td><td>&quot;EMPLOYED&quot;</td><td>&quot;P10_39_147&quot;</td><td>&quot;P91_125_184&quot;</td><td>&quot;P161_5_97&quot;</td><td>&quot;Unknown&quot;</td><td>&quot;Unknown&quot;</td><td>&quot;EM&quot;</td><td>&quot;F&quot;</td><td>&quot;PRIMARY_MOBILE…</td></tr><tr><td>3</td><td>0</td><td>0</td><td>10000.0</td><td>1.0</td><td>4.0</td><td>4.0</td><td>0</td><td>1</td><td>&quot;1993-08-01&quot;</td><td>&quot;P155_139_77&quot;</td><td>&quot;P161_14_174&quot;</td><td>&quot;P33_146_175&quot;</td><td>&quot;2018-05-15&quot;</td><td>&quot;MORE_FIVE&quot;</td><td>&quot;OTHER&quot;</td><td>&quot;P131_33_167&quot;</td><td>&quot;P161_14_174&quot;</td><td>&quot;MARRIED&quot;</td><td>&quot;EMPLOYED&quot;</td><td>&quot;P10_39_147&quot;</td><td>&quot;P155_139_77&quot;</td><td>&quot;P161_14_174&quot;</td><td>&quot;Unknown&quot;</td><td>&quot;Unknown&quot;</td><td>&quot;CL&quot;</td><td>&quot;F&quot;</td><td>&quot;PRIMARY_MOBILE…</td></tr><tr><td>4</td><td>0</td><td>0</td><td>24000.0</td><td>2.0</td><td>5.0</td><td>5.0</td><td>0</td><td>1</td><td>&quot;1994-01-01&quot;</td><td>&quot;P194_82_174&quot;</td><td>&quot;P8_88_79&quot;</td><td>&quot;P33_146_175&quot;</td><td>&quot;2014-12-15&quot;</td><td>&quot;MORE_FIVE&quot;</td><td>&quot;OTHER&quot;</td><td>&quot;P62_144_102&quot;</td><td>&quot;P8_88_79&quot;</td><td>&quot;MARRIED&quot;</td><td>&quot;EMPLOYED&quot;</td><td>&quot;P10_39_147&quot;</td><td>&quot;P194_82_174&quot;</td><td>&quot;P8_88_79&quot;</td><td>&quot;Unknown&quot;</td><td>&quot;Unknown&quot;</td><td>&quot;CL&quot;</td><td>&quot;F&quot;</td><td>&quot;PRIMARY_MOBILE…</td></tr></tbody></table></div>"
      ],
      "text/plain": [
       "shape: (5, 28)\n",
       "┌─────────┬────────────┬────────────┬───────────┬───┬───────────┬───────────┬──────────┬───────────┐\n",
       "│ case_id ┆ contaddr_m ┆ contaddr_s ┆ mainoccup ┆ … ┆ relations ┆ role_1084 ┆ sex_738L ┆ type_25L  │\n",
       "│ ---     ┆ atchlist_1 ┆ mempladdr_ ┆ ationinc_ ┆   ┆ hiptoclie ┆ L         ┆ ---      ┆ ---       │\n",
       "│ i64     ┆ 032L_max   ┆ 334L_max   ┆ 384A_max  ┆   ┆ nt_642T   ┆ ---       ┆ str      ┆ str       │\n",
       "│         ┆ ---        ┆ ---        ┆ ---       ┆   ┆ ---       ┆ str       ┆          ┆           │\n",
       "│         ┆ i32        ┆ i32        ┆ f64       ┆   ┆ str       ┆           ┆          ┆           │\n",
       "╞═════════╪════════════╪════════════╪═══════════╪═══╪═══════════╪═══════════╪══════════╪═══════════╡\n",
       "│ 0       ┆ 0          ┆ 0          ┆ 10800.0   ┆ … ┆ Unknown   ┆ CL        ┆ F        ┆ PRIMARY_M │\n",
       "│         ┆            ┆            ┆           ┆   ┆           ┆           ┆          ┆ OBILE     │\n",
       "│ 1       ┆ 0          ┆ 0          ┆ 10000.0   ┆ … ┆ Unknown   ┆ CL        ┆ M        ┆ PRIMARY_M │\n",
       "│         ┆            ┆            ┆           ┆   ┆           ┆           ┆          ┆ OBILE     │\n",
       "│ 2       ┆ 0          ┆ 0          ┆ 14000.0   ┆ … ┆ Unknown   ┆ EM        ┆ F        ┆ PRIMARY_M │\n",
       "│         ┆            ┆            ┆           ┆   ┆           ┆           ┆          ┆ OBILE     │\n",
       "│ 3       ┆ 0          ┆ 0          ┆ 10000.0   ┆ … ┆ Unknown   ┆ CL        ┆ F        ┆ PRIMARY_M │\n",
       "│         ┆            ┆            ┆           ┆   ┆           ┆           ┆          ┆ OBILE     │\n",
       "│ 4       ┆ 0          ┆ 0          ┆ 24000.0   ┆ … ┆ Unknown   ┆ CL        ┆ F        ┆ PRIMARY_M │\n",
       "│         ┆            ┆            ┆           ┆   ┆           ┆           ┆          ┆ OBILE     │\n",
       "└─────────┴────────────┴────────────┴───────────┴───┴───────────┴───────────┴──────────┴───────────┘"
      ]
     },
     "execution_count": 33,
     "metadata": {},
     "output_type": "execute_result"
    }
   ],
   "source": [
    "numerical_columns = [col for col in person_train.drop([\"case_id\",\"num_group1\"]).columns if person_train[col].dtype in [pl.Int8, pl.Int16, pl.Int32, pl.Int64, pl.UInt8, pl.UInt16, pl.UInt32, pl.UInt64, pl.Float32, pl.Float64]]\n",
    "person_num=person_train.groupby(\"case_id\").agg([pl.col(col).max().alias(f\"{col}_max\") for col in numerical_columns])\n",
    "cat_columns=[col for col in person_train.columns if person_train[col].dtype in [pl.Utf8, pl.Categorical]]\n",
    "person_cat=person_train.select([\"case_id\",\"num_group1\"]+cat_columns).filter(pl.col(\"num_group1\")==0).drop(\"num_group1\")\n",
    "person_train=person_num.join(person_cat,how=\"inner\",on=\"case_id\")\n",
    "person_train.head()"
   ]
  },
  {
   "cell_type": "code",
   "execution_count": 34,
   "id": "8cfaa5ea",
   "metadata": {},
   "outputs": [
    {
     "data": {
      "text/html": [
       "<div><style>\n",
       ".dataframe > thead > tr,\n",
       ".dataframe > tbody > tr {\n",
       "  text-align: right;\n",
       "  white-space: pre-wrap;\n",
       "}\n",
       "</style>\n",
       "<small>shape: (5, 6)</small><table border=\"1\" class=\"dataframe\"><thead><tr><th>case_id</th><th>last180dayaveragebalance_704A</th><th>last180dayturnover_1134A</th><th>last30dayturnover_651A</th><th>num_group1</th><th>openingdate_857D</th></tr><tr><td>i64</td><td>f64</td><td>f64</td><td>f64</td><td>i64</td><td>str</td></tr></thead><tbody><tr><td>225</td><td>null</td><td>null</td><td>null</td><td>0</td><td>&quot;2016-08-16&quot;</td></tr><tr><td>331</td><td>null</td><td>null</td><td>null</td><td>0</td><td>&quot;2015-03-19&quot;</td></tr><tr><td>358</td><td>null</td><td>null</td><td>null</td><td>0</td><td>&quot;2014-09-02&quot;</td></tr><tr><td>390</td><td>null</td><td>null</td><td>null</td><td>0</td><td>&quot;2014-07-23&quot;</td></tr><tr><td>390</td><td>null</td><td>null</td><td>null</td><td>2</td><td>&quot;2016-06-08&quot;</td></tr></tbody></table></div>"
      ],
      "text/plain": [
       "shape: (5, 6)\n",
       "┌─────────┬──────────────────┬──────────────────┬──────────────────┬────────────┬──────────────────┐\n",
       "│ case_id ┆ last180dayaverag ┆ last180dayturnov ┆ last30dayturnove ┆ num_group1 ┆ openingdate_857D │\n",
       "│ ---     ┆ ebalance_704A    ┆ er_1134A         ┆ r_651A           ┆ ---        ┆ ---              │\n",
       "│ i64     ┆ ---              ┆ ---              ┆ ---              ┆ i64        ┆ str              │\n",
       "│         ┆ f64              ┆ f64              ┆ f64              ┆            ┆                  │\n",
       "╞═════════╪══════════════════╪══════════════════╪══════════════════╪════════════╪══════════════════╡\n",
       "│ 225     ┆ null             ┆ null             ┆ null             ┆ 0          ┆ 2016-08-16       │\n",
       "│ 331     ┆ null             ┆ null             ┆ null             ┆ 0          ┆ 2015-03-19       │\n",
       "│ 358     ┆ null             ┆ null             ┆ null             ┆ 0          ┆ 2014-09-02       │\n",
       "│ 390     ┆ null             ┆ null             ┆ null             ┆ 0          ┆ 2014-07-23       │\n",
       "│ 390     ┆ null             ┆ null             ┆ null             ┆ 2          ┆ 2016-06-08       │\n",
       "└─────────┴──────────────────┴──────────────────┴──────────────────┴────────────┴──────────────────┘"
      ]
     },
     "execution_count": 34,
     "metadata": {},
     "output_type": "execute_result"
    }
   ],
   "source": [
    "#Depth=1\n",
    "debitcard_train=pl.read_csv(dataPath+\"csv_files/train/train_debitcard_1.csv\")\n",
    "debitcard_train=set_table_dtypes(debitcard_train)\n",
    "debitcard_train.head()"
   ]
  },
  {
   "cell_type": "code",
   "execution_count": 35,
   "id": "ce0686b2",
   "metadata": {},
   "outputs": [
    {
     "data": {
      "text/html": [
       "<div><style>\n",
       ".dataframe > thead > tr,\n",
       ".dataframe > tbody > tr {\n",
       "  text-align: right;\n",
       "  white-space: pre-wrap;\n",
       "}\n",
       "</style>\n",
       "<small>shape: (1, 6)</small><table border=\"1\" class=\"dataframe\"><thead><tr><th>case_id_missing_pct</th><th>last180dayaveragebalance_704A_missing_pct</th><th>last180dayturnover_1134A_missing_pct</th><th>last30dayturnover_651A_missing_pct</th><th>num_group1_missing_pct</th><th>openingdate_857D_missing_pct</th></tr><tr><td>f64</td><td>f64</td><td>f64</td><td>f64</td><td>f64</td><td>f64</td></tr></thead><tbody><tr><td>0.0</td><td>92.234047</td><td>92.955589</td><td>92.955589</td><td>0.0</td><td>8.080635</td></tr></tbody></table></div>"
      ],
      "text/plain": [
       "shape: (1, 6)\n",
       "┌────────────────┬────────────────┬────────────────┬───────────────┬───────────────┬───────────────┐\n",
       "│ case_id_missin ┆ last180dayaver ┆ last180dayturn ┆ last30dayturn ┆ num_group1_mi ┆ openingdate_8 │\n",
       "│ g_pct          ┆ agebalance_704 ┆ over_1134A_mis ┆ over_651A_mis ┆ ssing_pct     ┆ 57D_missing_p │\n",
       "│ ---            ┆ A_mi…          ┆ sing…          ┆ sing_p…       ┆ ---           ┆ ct            │\n",
       "│ f64            ┆ ---            ┆ ---            ┆ ---           ┆ f64           ┆ ---           │\n",
       "│                ┆ f64            ┆ f64            ┆ f64           ┆               ┆ f64           │\n",
       "╞════════════════╪════════════════╪════════════════╪═══════════════╪═══════════════╪═══════════════╡\n",
       "│ 0.0            ┆ 92.234047      ┆ 92.955589      ┆ 92.955589     ┆ 0.0           ┆ 8.080635      │\n",
       "└────────────────┴────────────────┴────────────────┴───────────────┴───────────────┴───────────────┘"
      ]
     },
     "execution_count": 35,
     "metadata": {},
     "output_type": "execute_result"
    }
   ],
   "source": [
    "total_rows = debitcard_train.height\n",
    "debitcard_train.select([\n",
    "    (pl.col(col).is_null().sum() / total_rows * 100).alias(f\"{col}_missing_pct\")\n",
    "    for col in debitcard_train.columns\n",
    "])"
   ]
  },
  {
   "cell_type": "code",
   "execution_count": 36,
   "id": "fe751e3e",
   "metadata": {},
   "outputs": [
    {
     "data": {
      "text/html": [
       "<div><style>\n",
       ".dataframe > thead > tr,\n",
       ".dataframe > tbody > tr {\n",
       "  text-align: right;\n",
       "  white-space: pre-wrap;\n",
       "}\n",
       "</style>\n",
       "<small>shape: (5, 2)</small><table border=\"1\" class=\"dataframe\"><thead><tr><th>case_id</th><th>openingdate_857D</th></tr><tr><td>i64</td><td>str</td></tr></thead><tbody><tr><td>225</td><td>&quot;2016-08-16&quot;</td></tr><tr><td>331</td><td>&quot;2015-03-19&quot;</td></tr><tr><td>358</td><td>&quot;2014-09-02&quot;</td></tr><tr><td>390</td><td>&quot;2014-07-23&quot;</td></tr><tr><td>445</td><td>&quot;2015-04-27&quot;</td></tr></tbody></table></div>"
      ],
      "text/plain": [
       "shape: (5, 2)\n",
       "┌─────────┬──────────────────┐\n",
       "│ case_id ┆ openingdate_857D │\n",
       "│ ---     ┆ ---              │\n",
       "│ i64     ┆ str              │\n",
       "╞═════════╪══════════════════╡\n",
       "│ 225     ┆ 2016-08-16       │\n",
       "│ 331     ┆ 2015-03-19       │\n",
       "│ 358     ┆ 2014-09-02       │\n",
       "│ 390     ┆ 2014-07-23       │\n",
       "│ 445     ┆ 2015-04-27       │\n",
       "└─────────┴──────────────────┘"
      ]
     },
     "execution_count": 36,
     "metadata": {},
     "output_type": "execute_result"
    }
   ],
   "source": [
    "debitcard_train=debitcard_train.drop([\"last180dayaveragebalance_704A\",\"last180dayturnover_1134A\",\"last30dayturnover_651A\"])\n",
    "debitcard_train = debitcard_train.with_columns(pl.col(\"openingdate_857D\").fill_null(\"Unknown\"))\n",
    "debitcard_train=debitcard_train.filter(pl.col(\"num_group1\")==0).drop(\"num_group1\")\n",
    "debitcard_train.head()"
   ]
  },
  {
   "cell_type": "code",
   "execution_count": 37,
   "id": "f0f69047",
   "metadata": {},
   "outputs": [
    {
     "data": {
      "text/html": [
       "<div><style>\n",
       ".dataframe > thead > tr,\n",
       ".dataframe > tbody > tr {\n",
       "  text-align: right;\n",
       "  white-space: pre-wrap;\n",
       "}\n",
       "</style>\n",
       "<small>shape: (5, 113)</small><table border=\"1\" class=\"dataframe\"><thead><tr><th>case_id</th><th>date_decision</th><th>MONTH</th><th>WEEK_NUM</th><th>target</th><th>birthdate_574D</th><th>contractssum_5085716L</th><th>dateofbirth_337D</th><th>days120_123L</th><th>days180_256L</th><th>days30_165L</th><th>days360_512L</th><th>days90_310L</th><th>description_5085714M</th><th>education_1103M</th><th>education_88M</th><th>firstquarter_103L</th><th>fourthquarter_440L</th><th>maritalst_385M</th><th>maritalst_893M</th><th>numberofqueries_373L</th><th>pmtaverage_4527227A</th><th>pmtscount_423L</th><th>pmtssum_45A</th><th>requesttype_4525192L</th><th>responsedate_1012D</th><th>responsedate_4527233D</th><th>responsedate_4917613D</th><th>secondquarter_766L</th><th>thirdquarter_1082L</th><th>cacccardblochreas_147M</th><th>conts_type_509L</th><th>amtdebitincoming_max</th><th>amtdebitoutgoing_max</th><th>amtdepositbalance_max</th><th>amtdepositincoming_max</th><th>amtdepositoutgoing_max</th><th>&hellip;</th><th>lastupdate_260D</th><th>periodicityofpmts_997M</th><th>pmtmethod_731M</th><th>purposeofcred_722M</th><th>subjectrole_326M</th><th>subjectrole_43M</th><th>deposit_amount_max</th><th>contractenddate_991D</th><th>openingdate_313D</th><th>contaddr_matchlist_1032L_max</th><th>contaddr_smempladdr_334L_max</th><th>mainoccupationinc_384A_max</th><th>personindex_1023L_max</th><th>persontype_1072L_max</th><th>persontype_792L_max</th><th>remitter_829L_max</th><th>safeguarantyflag_411L_max</th><th>birth_259D</th><th>contaddr_district_15M</th><th>contaddr_zipcode_807M</th><th>education_927M</th><th>empl_employedfrom_271D</th><th>empl_employedtotal_800L</th><th>empl_industry_691L</th><th>empladdr_district_926M</th><th>empladdr_zipcode_114M</th><th>familystate_447L</th><th>incometype_1044T</th><th>language1_981M</th><th>registaddr_district_1083M</th><th>registaddr_zipcode_184M</th><th>relationshiptoclient_415T</th><th>relationshiptoclient_642T</th><th>role_1084L</th><th>sex_738L</th><th>type_25L</th><th>openingdate_857D</th></tr><tr><td>i64</td><td>str</td><td>i64</td><td>i64</td><td>i64</td><td>str</td><td>str</td><td>str</td><td>f64</td><td>f64</td><td>f64</td><td>f64</td><td>f64</td><td>str</td><td>str</td><td>str</td><td>f64</td><td>f64</td><td>str</td><td>str</td><td>f64</td><td>f64</td><td>f64</td><td>f64</td><td>str</td><td>str</td><td>str</td><td>str</td><td>f64</td><td>f64</td><td>str</td><td>str</td><td>f64</td><td>f64</td><td>f64</td><td>f64</td><td>f64</td><td>&hellip;</td><td>str</td><td>str</td><td>str</td><td>str</td><td>str</td><td>str</td><td>f64</td><td>str</td><td>str</td><td>i32</td><td>i32</td><td>f64</td><td>f64</td><td>f64</td><td>f64</td><td>i32</td><td>i32</td><td>str</td><td>str</td><td>str</td><td>str</td><td>str</td><td>str</td><td>str</td><td>str</td><td>str</td><td>str</td><td>str</td><td>str</td><td>str</td><td>str</td><td>str</td><td>str</td><td>str</td><td>str</td><td>str</td><td>str</td></tr></thead><tbody><tr><td>0</td><td>&quot;2019-01-03&quot;</td><td>201901</td><td>0</td><td>0</td><td>null</td><td>null</td><td>null</td><td>null</td><td>null</td><td>null</td><td>null</td><td>null</td><td>null</td><td>null</td><td>null</td><td>null</td><td>null</td><td>null</td><td>null</td><td>null</td><td>null</td><td>null</td><td>null</td><td>null</td><td>null</td><td>null</td><td>null</td><td>null</td><td>null</td><td>null</td><td>null</td><td>null</td><td>null</td><td>null</td><td>null</td><td>null</td><td>&hellip;</td><td>null</td><td>null</td><td>null</td><td>null</td><td>null</td><td>null</td><td>null</td><td>null</td><td>null</td><td>0</td><td>0</td><td>10800.0</td><td>2.0</td><td>5.0</td><td>5.0</td><td>0</td><td>1</td><td>&quot;1986-07-01&quot;</td><td>&quot;P88_18_84&quot;</td><td>&quot;P167_100_165&quot;</td><td>&quot;P97_36_170&quot;</td><td>&quot;2017-09-15&quot;</td><td>&quot;MORE_FIVE&quot;</td><td>&quot;OTHER&quot;</td><td>&quot;P142_57_166&quot;</td><td>&quot;P167_100_165&quot;</td><td>&quot;MARRIED&quot;</td><td>&quot;SALARIED_GOVT&quot;</td><td>&quot;P10_39_147&quot;</td><td>&quot;P88_18_84&quot;</td><td>&quot;P167_100_165&quot;</td><td>&quot;Unknown&quot;</td><td>&quot;Unknown&quot;</td><td>&quot;CL&quot;</td><td>&quot;F&quot;</td><td>&quot;PRIMARY_MOBILE…</td><td>null</td></tr><tr><td>1</td><td>&quot;2019-01-03&quot;</td><td>201901</td><td>0</td><td>0</td><td>null</td><td>null</td><td>null</td><td>null</td><td>null</td><td>null</td><td>null</td><td>null</td><td>null</td><td>null</td><td>null</td><td>null</td><td>null</td><td>null</td><td>null</td><td>null</td><td>null</td><td>null</td><td>null</td><td>null</td><td>null</td><td>null</td><td>null</td><td>null</td><td>null</td><td>null</td><td>null</td><td>null</td><td>null</td><td>null</td><td>null</td><td>null</td><td>&hellip;</td><td>null</td><td>null</td><td>null</td><td>null</td><td>null</td><td>null</td><td>null</td><td>null</td><td>null</td><td>0</td><td>0</td><td>10000.0</td><td>2.0</td><td>5.0</td><td>5.0</td><td>0</td><td>1</td><td>&quot;1957-08-01&quot;</td><td>&quot;P103_93_94&quot;</td><td>&quot;P176_37_166&quot;</td><td>&quot;P97_36_170&quot;</td><td>&quot;2008-10-29&quot;</td><td>&quot;MORE_FIVE&quot;</td><td>&quot;OTHER&quot;</td><td>&quot;P49_46_174&quot;</td><td>&quot;P160_59_140&quot;</td><td>&quot;DIVORCED&quot;</td><td>&quot;SALARIED_GOVT&quot;</td><td>&quot;P10_39_147&quot;</td><td>&quot;P103_93_94&quot;</td><td>&quot;P176_37_166&quot;</td><td>&quot;Unknown&quot;</td><td>&quot;Unknown&quot;</td><td>&quot;CL&quot;</td><td>&quot;M&quot;</td><td>&quot;PRIMARY_MOBILE…</td><td>null</td></tr><tr><td>2</td><td>&quot;2019-01-04&quot;</td><td>201901</td><td>0</td><td>0</td><td>null</td><td>null</td><td>null</td><td>null</td><td>null</td><td>null</td><td>null</td><td>null</td><td>null</td><td>null</td><td>null</td><td>null</td><td>null</td><td>null</td><td>null</td><td>null</td><td>null</td><td>null</td><td>null</td><td>null</td><td>null</td><td>null</td><td>null</td><td>null</td><td>null</td><td>&quot;Unknown&quot;</td><td>&quot;PRIMARY_MOBILE…</td><td>null</td><td>null</td><td>null</td><td>null</td><td>null</td><td>&hellip;</td><td>null</td><td>null</td><td>null</td><td>null</td><td>null</td><td>null</td><td>null</td><td>null</td><td>null</td><td>0</td><td>0</td><td>14000.0</td><td>2.0</td><td>5.0</td><td>5.0</td><td>0</td><td>1</td><td>&quot;1974-12-01&quot;</td><td>&quot;P91_125_184&quot;</td><td>&quot;P161_5_97&quot;</td><td>&quot;P97_36_170&quot;</td><td>&quot;2010-02-15&quot;</td><td>&quot;MORE_FIVE&quot;</td><td>&quot;OTHER&quot;</td><td>&quot;P63_14_24&quot;</td><td>&quot;P161_5_97&quot;</td><td>&quot;MARRIED&quot;</td><td>&quot;EMPLOYED&quot;</td><td>&quot;P10_39_147&quot;</td><td>&quot;P91_125_184&quot;</td><td>&quot;P161_5_97&quot;</td><td>&quot;Unknown&quot;</td><td>&quot;Unknown&quot;</td><td>&quot;EM&quot;</td><td>&quot;F&quot;</td><td>&quot;PRIMARY_MOBILE…</td><td>null</td></tr><tr><td>3</td><td>&quot;2019-01-03&quot;</td><td>201901</td><td>0</td><td>0</td><td>null</td><td>null</td><td>null</td><td>null</td><td>null</td><td>null</td><td>null</td><td>null</td><td>null</td><td>null</td><td>null</td><td>null</td><td>null</td><td>null</td><td>null</td><td>null</td><td>null</td><td>null</td><td>null</td><td>null</td><td>null</td><td>null</td><td>null</td><td>null</td><td>null</td><td>&quot;Unknown&quot;</td><td>&quot;PHONE&quot;</td><td>null</td><td>null</td><td>null</td><td>null</td><td>null</td><td>&hellip;</td><td>null</td><td>null</td><td>null</td><td>null</td><td>null</td><td>null</td><td>null</td><td>null</td><td>null</td><td>0</td><td>0</td><td>10000.0</td><td>1.0</td><td>4.0</td><td>4.0</td><td>0</td><td>1</td><td>&quot;1993-08-01&quot;</td><td>&quot;P155_139_77&quot;</td><td>&quot;P161_14_174&quot;</td><td>&quot;P33_146_175&quot;</td><td>&quot;2018-05-15&quot;</td><td>&quot;MORE_FIVE&quot;</td><td>&quot;OTHER&quot;</td><td>&quot;P131_33_167&quot;</td><td>&quot;P161_14_174&quot;</td><td>&quot;MARRIED&quot;</td><td>&quot;EMPLOYED&quot;</td><td>&quot;P10_39_147&quot;</td><td>&quot;P155_139_77&quot;</td><td>&quot;P161_14_174&quot;</td><td>&quot;Unknown&quot;</td><td>&quot;Unknown&quot;</td><td>&quot;CL&quot;</td><td>&quot;F&quot;</td><td>&quot;PRIMARY_MOBILE…</td><td>null</td></tr><tr><td>4</td><td>&quot;2019-01-04&quot;</td><td>201901</td><td>0</td><td>1</td><td>null</td><td>null</td><td>null</td><td>null</td><td>null</td><td>null</td><td>null</td><td>null</td><td>null</td><td>null</td><td>null</td><td>null</td><td>null</td><td>null</td><td>null</td><td>null</td><td>null</td><td>null</td><td>null</td><td>null</td><td>null</td><td>null</td><td>null</td><td>null</td><td>null</td><td>&quot;Unknown&quot;</td><td>&quot;PRIMARY_MOBILE…</td><td>null</td><td>null</td><td>null</td><td>null</td><td>null</td><td>&hellip;</td><td>null</td><td>null</td><td>null</td><td>null</td><td>null</td><td>null</td><td>null</td><td>null</td><td>null</td><td>0</td><td>0</td><td>24000.0</td><td>2.0</td><td>5.0</td><td>5.0</td><td>0</td><td>1</td><td>&quot;1994-01-01&quot;</td><td>&quot;P194_82_174&quot;</td><td>&quot;P8_88_79&quot;</td><td>&quot;P33_146_175&quot;</td><td>&quot;2014-12-15&quot;</td><td>&quot;MORE_FIVE&quot;</td><td>&quot;OTHER&quot;</td><td>&quot;P62_144_102&quot;</td><td>&quot;P8_88_79&quot;</td><td>&quot;MARRIED&quot;</td><td>&quot;EMPLOYED&quot;</td><td>&quot;P10_39_147&quot;</td><td>&quot;P194_82_174&quot;</td><td>&quot;P8_88_79&quot;</td><td>&quot;Unknown&quot;</td><td>&quot;Unknown&quot;</td><td>&quot;CL&quot;</td><td>&quot;F&quot;</td><td>&quot;PRIMARY_MOBILE…</td><td>null</td></tr></tbody></table></div>"
      ],
      "text/plain": [
       "shape: (5, 113)\n",
       "┌─────────┬─────────────┬────────┬──────────┬───┬────────────┬──────────┬─────────────┬────────────┐\n",
       "│ case_id ┆ date_decisi ┆ MONTH  ┆ WEEK_NUM ┆ … ┆ role_1084L ┆ sex_738L ┆ type_25L    ┆ openingdat │\n",
       "│ ---     ┆ on          ┆ ---    ┆ ---      ┆   ┆ ---        ┆ ---      ┆ ---         ┆ e_857D     │\n",
       "│ i64     ┆ ---         ┆ i64    ┆ i64      ┆   ┆ str        ┆ str      ┆ str         ┆ ---        │\n",
       "│         ┆ str         ┆        ┆          ┆   ┆            ┆          ┆             ┆ str        │\n",
       "╞═════════╪═════════════╪════════╪══════════╪═══╪════════════╪══════════╪═════════════╪════════════╡\n",
       "│ 0       ┆ 2019-01-03  ┆ 201901 ┆ 0        ┆ … ┆ CL         ┆ F        ┆ PRIMARY_MOB ┆ null       │\n",
       "│         ┆             ┆        ┆          ┆   ┆            ┆          ┆ ILE         ┆            │\n",
       "│ 1       ┆ 2019-01-03  ┆ 201901 ┆ 0        ┆ … ┆ CL         ┆ M        ┆ PRIMARY_MOB ┆ null       │\n",
       "│         ┆             ┆        ┆          ┆   ┆            ┆          ┆ ILE         ┆            │\n",
       "│ 2       ┆ 2019-01-04  ┆ 201901 ┆ 0        ┆ … ┆ EM         ┆ F        ┆ PRIMARY_MOB ┆ null       │\n",
       "│         ┆             ┆        ┆          ┆   ┆            ┆          ┆ ILE         ┆            │\n",
       "│ 3       ┆ 2019-01-03  ┆ 201901 ┆ 0        ┆ … ┆ CL         ┆ F        ┆ PRIMARY_MOB ┆ null       │\n",
       "│         ┆             ┆        ┆          ┆   ┆            ┆          ┆ ILE         ┆            │\n",
       "│ 4       ┆ 2019-01-04  ┆ 201901 ┆ 0        ┆ … ┆ CL         ┆ F        ┆ PRIMARY_MOB ┆ null       │\n",
       "│         ┆             ┆        ┆          ┆   ┆            ┆          ┆ ILE         ┆            │\n",
       "└─────────┴─────────────┴────────┴──────────┴───┴────────────┴──────────┴─────────────┴────────────┘"
      ]
     },
     "execution_count": 37,
     "metadata": {},
     "output_type": "execute_result"
    }
   ],
   "source": [
    "df=base_train.join(static_train,how=\"left\",on=\"case_id\"\n",
    "                  ).join(applprev_train,how=\"left\",on=\"case_id\"\n",
    "                ).join(other_train,how=\"left\",on=\"case_id\"\n",
    "                ).join(tax_train,how=\"left\",on=\"case_id\"\n",
    "                ).join(credit_train,how=\"left\",on=\"case_id\"\n",
    "                ).join(deposit_train,how=\"left\",on=\"case_id\"\n",
    "                ).join(person_train,how=\"left\",on=\"case_id\"\n",
    "                ).join(debitcard_train,how=\"left\",on=\"case_id\")\n",
    "df.head()"
   ]
  },
  {
   "cell_type": "code",
   "execution_count": 38,
   "id": "23e144e8",
   "metadata": {},
   "outputs": [
    {
     "data": {
      "text/html": [
       "<div><style>\n",
       ".dataframe > thead > tr,\n",
       ".dataframe > tbody > tr {\n",
       "  text-align: right;\n",
       "  white-space: pre-wrap;\n",
       "}\n",
       "</style>\n",
       "<small>shape: (5, 62)</small><table border=\"1\" class=\"dataframe\"><thead><tr><th>case_id</th><th>date_decision</th><th>MONTH</th><th>WEEK_NUM</th><th>target</th><th>birthdate_574D</th><th>contractssum_5085716L</th><th>dateofbirth_337D</th><th>days120_123L</th><th>days180_256L</th><th>days30_165L</th><th>days360_512L</th><th>days90_310L</th><th>description_5085714M</th><th>education_1103M</th><th>education_88M</th><th>firstquarter_103L</th><th>fourthquarter_440L</th><th>maritalst_385M</th><th>maritalst_893M</th><th>numberofqueries_373L</th><th>pmtaverage_4527227A</th><th>pmtscount_423L</th><th>pmtssum_45A</th><th>requesttype_4525192L</th><th>responsedate_1012D</th><th>responsedate_4527233D</th><th>responsedate_4917613D</th><th>secondquarter_766L</th><th>thirdquarter_1082L</th><th>cacccardblochreas_147M</th><th>conts_type_509L</th><th>amount_max</th><th>name_4527232M</th><th>recorddate_4527225D</th><th>contaddr_matchlist_1032L_max</th><th>contaddr_smempladdr_334L_max</th><th>mainoccupationinc_384A_max</th><th>personindex_1023L_max</th><th>persontype_1072L_max</th><th>persontype_792L_max</th><th>remitter_829L_max</th><th>safeguarantyflag_411L_max</th><th>birth_259D</th><th>contaddr_district_15M</th><th>contaddr_zipcode_807M</th><th>education_927M</th><th>empl_employedfrom_271D</th><th>empl_employedtotal_800L</th><th>empl_industry_691L</th><th>empladdr_district_926M</th><th>empladdr_zipcode_114M</th><th>familystate_447L</th><th>incometype_1044T</th><th>language1_981M</th><th>registaddr_district_1083M</th><th>registaddr_zipcode_184M</th><th>relationshiptoclient_415T</th><th>relationshiptoclient_642T</th><th>role_1084L</th><th>sex_738L</th><th>type_25L</th></tr><tr><td>i64</td><td>str</td><td>i64</td><td>i64</td><td>i64</td><td>str</td><td>str</td><td>str</td><td>f64</td><td>f64</td><td>f64</td><td>f64</td><td>f64</td><td>str</td><td>str</td><td>str</td><td>f64</td><td>f64</td><td>str</td><td>str</td><td>f64</td><td>f64</td><td>f64</td><td>f64</td><td>str</td><td>str</td><td>str</td><td>str</td><td>f64</td><td>f64</td><td>str</td><td>str</td><td>f64</td><td>str</td><td>str</td><td>i32</td><td>i32</td><td>f64</td><td>f64</td><td>f64</td><td>f64</td><td>i32</td><td>i32</td><td>str</td><td>str</td><td>str</td><td>str</td><td>str</td><td>str</td><td>str</td><td>str</td><td>str</td><td>str</td><td>str</td><td>str</td><td>str</td><td>str</td><td>str</td><td>str</td><td>str</td><td>str</td><td>str</td></tr></thead><tbody><tr><td>0</td><td>&quot;2019-01-03&quot;</td><td>201901</td><td>0</td><td>0</td><td>null</td><td>null</td><td>null</td><td>null</td><td>null</td><td>null</td><td>null</td><td>null</td><td>null</td><td>null</td><td>null</td><td>null</td><td>null</td><td>null</td><td>null</td><td>null</td><td>null</td><td>null</td><td>null</td><td>null</td><td>null</td><td>null</td><td>null</td><td>null</td><td>null</td><td>null</td><td>null</td><td>null</td><td>null</td><td>null</td><td>0</td><td>0</td><td>10800.0</td><td>2.0</td><td>5.0</td><td>5.0</td><td>0</td><td>1</td><td>&quot;1986-07-01&quot;</td><td>&quot;P88_18_84&quot;</td><td>&quot;P167_100_165&quot;</td><td>&quot;P97_36_170&quot;</td><td>&quot;2017-09-15&quot;</td><td>&quot;MORE_FIVE&quot;</td><td>&quot;OTHER&quot;</td><td>&quot;P142_57_166&quot;</td><td>&quot;P167_100_165&quot;</td><td>&quot;MARRIED&quot;</td><td>&quot;SALARIED_GOVT&quot;</td><td>&quot;P10_39_147&quot;</td><td>&quot;P88_18_84&quot;</td><td>&quot;P167_100_165&quot;</td><td>&quot;Unknown&quot;</td><td>&quot;Unknown&quot;</td><td>&quot;CL&quot;</td><td>&quot;F&quot;</td><td>&quot;PRIMARY_MOBILE…</td></tr><tr><td>1</td><td>&quot;2019-01-03&quot;</td><td>201901</td><td>0</td><td>0</td><td>null</td><td>null</td><td>null</td><td>null</td><td>null</td><td>null</td><td>null</td><td>null</td><td>null</td><td>null</td><td>null</td><td>null</td><td>null</td><td>null</td><td>null</td><td>null</td><td>null</td><td>null</td><td>null</td><td>null</td><td>null</td><td>null</td><td>null</td><td>null</td><td>null</td><td>null</td><td>null</td><td>null</td><td>null</td><td>null</td><td>0</td><td>0</td><td>10000.0</td><td>2.0</td><td>5.0</td><td>5.0</td><td>0</td><td>1</td><td>&quot;1957-08-01&quot;</td><td>&quot;P103_93_94&quot;</td><td>&quot;P176_37_166&quot;</td><td>&quot;P97_36_170&quot;</td><td>&quot;2008-10-29&quot;</td><td>&quot;MORE_FIVE&quot;</td><td>&quot;OTHER&quot;</td><td>&quot;P49_46_174&quot;</td><td>&quot;P160_59_140&quot;</td><td>&quot;DIVORCED&quot;</td><td>&quot;SALARIED_GOVT&quot;</td><td>&quot;P10_39_147&quot;</td><td>&quot;P103_93_94&quot;</td><td>&quot;P176_37_166&quot;</td><td>&quot;Unknown&quot;</td><td>&quot;Unknown&quot;</td><td>&quot;CL&quot;</td><td>&quot;M&quot;</td><td>&quot;PRIMARY_MOBILE…</td></tr><tr><td>2</td><td>&quot;2019-01-04&quot;</td><td>201901</td><td>0</td><td>0</td><td>null</td><td>null</td><td>null</td><td>null</td><td>null</td><td>null</td><td>null</td><td>null</td><td>null</td><td>null</td><td>null</td><td>null</td><td>null</td><td>null</td><td>null</td><td>null</td><td>null</td><td>null</td><td>null</td><td>null</td><td>null</td><td>null</td><td>null</td><td>null</td><td>null</td><td>&quot;Unknown&quot;</td><td>&quot;PRIMARY_MOBILE…</td><td>null</td><td>null</td><td>null</td><td>0</td><td>0</td><td>14000.0</td><td>2.0</td><td>5.0</td><td>5.0</td><td>0</td><td>1</td><td>&quot;1974-12-01&quot;</td><td>&quot;P91_125_184&quot;</td><td>&quot;P161_5_97&quot;</td><td>&quot;P97_36_170&quot;</td><td>&quot;2010-02-15&quot;</td><td>&quot;MORE_FIVE&quot;</td><td>&quot;OTHER&quot;</td><td>&quot;P63_14_24&quot;</td><td>&quot;P161_5_97&quot;</td><td>&quot;MARRIED&quot;</td><td>&quot;EMPLOYED&quot;</td><td>&quot;P10_39_147&quot;</td><td>&quot;P91_125_184&quot;</td><td>&quot;P161_5_97&quot;</td><td>&quot;Unknown&quot;</td><td>&quot;Unknown&quot;</td><td>&quot;EM&quot;</td><td>&quot;F&quot;</td><td>&quot;PRIMARY_MOBILE…</td></tr><tr><td>3</td><td>&quot;2019-01-03&quot;</td><td>201901</td><td>0</td><td>0</td><td>null</td><td>null</td><td>null</td><td>null</td><td>null</td><td>null</td><td>null</td><td>null</td><td>null</td><td>null</td><td>null</td><td>null</td><td>null</td><td>null</td><td>null</td><td>null</td><td>null</td><td>null</td><td>null</td><td>null</td><td>null</td><td>null</td><td>null</td><td>null</td><td>null</td><td>&quot;Unknown&quot;</td><td>&quot;PHONE&quot;</td><td>null</td><td>null</td><td>null</td><td>0</td><td>0</td><td>10000.0</td><td>1.0</td><td>4.0</td><td>4.0</td><td>0</td><td>1</td><td>&quot;1993-08-01&quot;</td><td>&quot;P155_139_77&quot;</td><td>&quot;P161_14_174&quot;</td><td>&quot;P33_146_175&quot;</td><td>&quot;2018-05-15&quot;</td><td>&quot;MORE_FIVE&quot;</td><td>&quot;OTHER&quot;</td><td>&quot;P131_33_167&quot;</td><td>&quot;P161_14_174&quot;</td><td>&quot;MARRIED&quot;</td><td>&quot;EMPLOYED&quot;</td><td>&quot;P10_39_147&quot;</td><td>&quot;P155_139_77&quot;</td><td>&quot;P161_14_174&quot;</td><td>&quot;Unknown&quot;</td><td>&quot;Unknown&quot;</td><td>&quot;CL&quot;</td><td>&quot;F&quot;</td><td>&quot;PRIMARY_MOBILE…</td></tr><tr><td>4</td><td>&quot;2019-01-04&quot;</td><td>201901</td><td>0</td><td>1</td><td>null</td><td>null</td><td>null</td><td>null</td><td>null</td><td>null</td><td>null</td><td>null</td><td>null</td><td>null</td><td>null</td><td>null</td><td>null</td><td>null</td><td>null</td><td>null</td><td>null</td><td>null</td><td>null</td><td>null</td><td>null</td><td>null</td><td>null</td><td>null</td><td>null</td><td>&quot;Unknown&quot;</td><td>&quot;PRIMARY_MOBILE…</td><td>null</td><td>null</td><td>null</td><td>0</td><td>0</td><td>24000.0</td><td>2.0</td><td>5.0</td><td>5.0</td><td>0</td><td>1</td><td>&quot;1994-01-01&quot;</td><td>&quot;P194_82_174&quot;</td><td>&quot;P8_88_79&quot;</td><td>&quot;P33_146_175&quot;</td><td>&quot;2014-12-15&quot;</td><td>&quot;MORE_FIVE&quot;</td><td>&quot;OTHER&quot;</td><td>&quot;P62_144_102&quot;</td><td>&quot;P8_88_79&quot;</td><td>&quot;MARRIED&quot;</td><td>&quot;EMPLOYED&quot;</td><td>&quot;P10_39_147&quot;</td><td>&quot;P194_82_174&quot;</td><td>&quot;P8_88_79&quot;</td><td>&quot;Unknown&quot;</td><td>&quot;Unknown&quot;</td><td>&quot;CL&quot;</td><td>&quot;F&quot;</td><td>&quot;PRIMARY_MOBILE…</td></tr></tbody></table></div>"
      ],
      "text/plain": [
       "shape: (5, 62)\n",
       "┌─────────┬─────────────┬────────┬──────────┬───┬─────────────┬────────────┬──────────┬────────────┐\n",
       "│ case_id ┆ date_decisi ┆ MONTH  ┆ WEEK_NUM ┆ … ┆ relationshi ┆ role_1084L ┆ sex_738L ┆ type_25L   │\n",
       "│ ---     ┆ on          ┆ ---    ┆ ---      ┆   ┆ ptoclient_6 ┆ ---        ┆ ---      ┆ ---        │\n",
       "│ i64     ┆ ---         ┆ i64    ┆ i64      ┆   ┆ 42T         ┆ str        ┆ str      ┆ str        │\n",
       "│         ┆ str         ┆        ┆          ┆   ┆ ---         ┆            ┆          ┆            │\n",
       "│         ┆             ┆        ┆          ┆   ┆ str         ┆            ┆          ┆            │\n",
       "╞═════════╪═════════════╪════════╪══════════╪═══╪═════════════╪════════════╪══════════╪════════════╡\n",
       "│ 0       ┆ 2019-01-03  ┆ 201901 ┆ 0        ┆ … ┆ Unknown     ┆ CL         ┆ F        ┆ PRIMARY_MO │\n",
       "│         ┆             ┆        ┆          ┆   ┆             ┆            ┆          ┆ BILE       │\n",
       "│ 1       ┆ 2019-01-03  ┆ 201901 ┆ 0        ┆ … ┆ Unknown     ┆ CL         ┆ M        ┆ PRIMARY_MO │\n",
       "│         ┆             ┆        ┆          ┆   ┆             ┆            ┆          ┆ BILE       │\n",
       "│ 2       ┆ 2019-01-04  ┆ 201901 ┆ 0        ┆ … ┆ Unknown     ┆ EM         ┆ F        ┆ PRIMARY_MO │\n",
       "│         ┆             ┆        ┆          ┆   ┆             ┆            ┆          ┆ BILE       │\n",
       "│ 3       ┆ 2019-01-03  ┆ 201901 ┆ 0        ┆ … ┆ Unknown     ┆ CL         ┆ F        ┆ PRIMARY_MO │\n",
       "│         ┆             ┆        ┆          ┆   ┆             ┆            ┆          ┆ BILE       │\n",
       "│ 4       ┆ 2019-01-04  ┆ 201901 ┆ 0        ┆ … ┆ Unknown     ┆ CL         ┆ F        ┆ PRIMARY_MO │\n",
       "│         ┆             ┆        ┆          ┆   ┆             ┆            ┆          ┆ BILE       │\n",
       "└─────────┴─────────────┴────────┴──────────┴───┴─────────────┴────────────┴──────────┴────────────┘"
      ]
     },
     "execution_count": 38,
     "metadata": {},
     "output_type": "execute_result"
    }
   ],
   "source": [
    "missing_percentage = df.select([\n",
    "    (pl.col(col).is_null().sum() / df.height * 100).alias(col)\n",
    "    for col in df.columns\n",
    "]).to_dict(as_series=False)\n",
    "\n",
    "# Find columns where the percentage of missing values is greater than 90%\n",
    "cols_to_select = [col for col, pct_missing in missing_percentage.items() if pct_missing[0] >= 90]\n",
    "\n",
    "# Select only the columns with more than 90% missing values\n",
    "df = df.drop(cols_to_select)\n",
    "df.head()"
   ]
  },
  {
   "cell_type": "code",
   "execution_count": 39,
   "id": "e42d6e09",
   "metadata": {},
   "outputs": [
    {
     "data": {
      "text/html": [
       "<div><style>\n",
       ".dataframe > thead > tr,\n",
       ".dataframe > tbody > tr {\n",
       "  text-align: right;\n",
       "  white-space: pre-wrap;\n",
       "}\n",
       "</style>\n",
       "<small>shape: (5, 62)</small><table border=\"1\" class=\"dataframe\"><thead><tr><th>case_id</th><th>date_decision</th><th>MONTH</th><th>WEEK_NUM</th><th>target</th><th>birthdate_574D</th><th>contractssum_5085716L</th><th>dateofbirth_337D</th><th>days120_123L</th><th>days180_256L</th><th>days30_165L</th><th>days360_512L</th><th>days90_310L</th><th>description_5085714M</th><th>education_1103M</th><th>education_88M</th><th>firstquarter_103L</th><th>fourthquarter_440L</th><th>maritalst_385M</th><th>maritalst_893M</th><th>numberofqueries_373L</th><th>pmtaverage_4527227A</th><th>pmtscount_423L</th><th>pmtssum_45A</th><th>requesttype_4525192L</th><th>responsedate_1012D</th><th>responsedate_4527233D</th><th>responsedate_4917613D</th><th>secondquarter_766L</th><th>thirdquarter_1082L</th><th>cacccardblochreas_147M</th><th>conts_type_509L</th><th>amount_max</th><th>name_4527232M</th><th>recorddate_4527225D</th><th>contaddr_matchlist_1032L_max</th><th>contaddr_smempladdr_334L_max</th><th>mainoccupationinc_384A_max</th><th>personindex_1023L_max</th><th>persontype_1072L_max</th><th>persontype_792L_max</th><th>remitter_829L_max</th><th>safeguarantyflag_411L_max</th><th>birth_259D</th><th>contaddr_district_15M</th><th>contaddr_zipcode_807M</th><th>education_927M</th><th>empl_employedfrom_271D</th><th>empl_employedtotal_800L</th><th>empl_industry_691L</th><th>empladdr_district_926M</th><th>empladdr_zipcode_114M</th><th>familystate_447L</th><th>incometype_1044T</th><th>language1_981M</th><th>registaddr_district_1083M</th><th>registaddr_zipcode_184M</th><th>relationshiptoclient_415T</th><th>relationshiptoclient_642T</th><th>role_1084L</th><th>sex_738L</th><th>type_25L</th></tr><tr><td>i64</td><td>str</td><td>i64</td><td>i64</td><td>i64</td><td>str</td><td>str</td><td>str</td><td>f64</td><td>f64</td><td>f64</td><td>f64</td><td>f64</td><td>str</td><td>str</td><td>str</td><td>f64</td><td>f64</td><td>str</td><td>str</td><td>f64</td><td>f64</td><td>f64</td><td>f64</td><td>str</td><td>str</td><td>str</td><td>str</td><td>f64</td><td>f64</td><td>str</td><td>str</td><td>f64</td><td>str</td><td>str</td><td>i32</td><td>i32</td><td>f64</td><td>f64</td><td>f64</td><td>f64</td><td>i32</td><td>i32</td><td>str</td><td>str</td><td>str</td><td>str</td><td>str</td><td>str</td><td>str</td><td>str</td><td>str</td><td>str</td><td>str</td><td>str</td><td>str</td><td>str</td><td>str</td><td>str</td><td>str</td><td>str</td><td>str</td></tr></thead><tbody><tr><td>0</td><td>&quot;2019-01-03&quot;</td><td>201901</td><td>0</td><td>0</td><td>&quot;Unknown&quot;</td><td>&quot;Unknown&quot;</td><td>&quot;Unknown&quot;</td><td>0.0</td><td>0.0</td><td>0.0</td><td>0.0</td><td>0.0</td><td>&quot;Unknown&quot;</td><td>&quot;Unknown&quot;</td><td>&quot;Unknown&quot;</td><td>0.0</td><td>0.0</td><td>&quot;Unknown&quot;</td><td>&quot;Unknown&quot;</td><td>0.0</td><td>0.0</td><td>0.0</td><td>0.0</td><td>&quot;Unknown&quot;</td><td>&quot;Unknown&quot;</td><td>&quot;Unknown&quot;</td><td>&quot;Unknown&quot;</td><td>0.0</td><td>0.0</td><td>&quot;Unknown&quot;</td><td>&quot;Unknown&quot;</td><td>0.0</td><td>&quot;Unknown&quot;</td><td>&quot;Unknown&quot;</td><td>0</td><td>0</td><td>10800.0</td><td>2.0</td><td>5.0</td><td>5.0</td><td>0</td><td>1</td><td>&quot;1986-07-01&quot;</td><td>&quot;P88_18_84&quot;</td><td>&quot;P167_100_165&quot;</td><td>&quot;P97_36_170&quot;</td><td>&quot;2017-09-15&quot;</td><td>&quot;MORE_FIVE&quot;</td><td>&quot;OTHER&quot;</td><td>&quot;P142_57_166&quot;</td><td>&quot;P167_100_165&quot;</td><td>&quot;MARRIED&quot;</td><td>&quot;SALARIED_GOVT&quot;</td><td>&quot;P10_39_147&quot;</td><td>&quot;P88_18_84&quot;</td><td>&quot;P167_100_165&quot;</td><td>&quot;Unknown&quot;</td><td>&quot;Unknown&quot;</td><td>&quot;CL&quot;</td><td>&quot;F&quot;</td><td>&quot;PRIMARY_MOBILE…</td></tr><tr><td>1</td><td>&quot;2019-01-03&quot;</td><td>201901</td><td>0</td><td>0</td><td>&quot;Unknown&quot;</td><td>&quot;Unknown&quot;</td><td>&quot;Unknown&quot;</td><td>0.0</td><td>0.0</td><td>0.0</td><td>0.0</td><td>0.0</td><td>&quot;Unknown&quot;</td><td>&quot;Unknown&quot;</td><td>&quot;Unknown&quot;</td><td>0.0</td><td>0.0</td><td>&quot;Unknown&quot;</td><td>&quot;Unknown&quot;</td><td>0.0</td><td>0.0</td><td>0.0</td><td>0.0</td><td>&quot;Unknown&quot;</td><td>&quot;Unknown&quot;</td><td>&quot;Unknown&quot;</td><td>&quot;Unknown&quot;</td><td>0.0</td><td>0.0</td><td>&quot;Unknown&quot;</td><td>&quot;Unknown&quot;</td><td>0.0</td><td>&quot;Unknown&quot;</td><td>&quot;Unknown&quot;</td><td>0</td><td>0</td><td>10000.0</td><td>2.0</td><td>5.0</td><td>5.0</td><td>0</td><td>1</td><td>&quot;1957-08-01&quot;</td><td>&quot;P103_93_94&quot;</td><td>&quot;P176_37_166&quot;</td><td>&quot;P97_36_170&quot;</td><td>&quot;2008-10-29&quot;</td><td>&quot;MORE_FIVE&quot;</td><td>&quot;OTHER&quot;</td><td>&quot;P49_46_174&quot;</td><td>&quot;P160_59_140&quot;</td><td>&quot;DIVORCED&quot;</td><td>&quot;SALARIED_GOVT&quot;</td><td>&quot;P10_39_147&quot;</td><td>&quot;P103_93_94&quot;</td><td>&quot;P176_37_166&quot;</td><td>&quot;Unknown&quot;</td><td>&quot;Unknown&quot;</td><td>&quot;CL&quot;</td><td>&quot;M&quot;</td><td>&quot;PRIMARY_MOBILE…</td></tr><tr><td>2</td><td>&quot;2019-01-04&quot;</td><td>201901</td><td>0</td><td>0</td><td>&quot;Unknown&quot;</td><td>&quot;Unknown&quot;</td><td>&quot;Unknown&quot;</td><td>0.0</td><td>0.0</td><td>0.0</td><td>0.0</td><td>0.0</td><td>&quot;Unknown&quot;</td><td>&quot;Unknown&quot;</td><td>&quot;Unknown&quot;</td><td>0.0</td><td>0.0</td><td>&quot;Unknown&quot;</td><td>&quot;Unknown&quot;</td><td>0.0</td><td>0.0</td><td>0.0</td><td>0.0</td><td>&quot;Unknown&quot;</td><td>&quot;Unknown&quot;</td><td>&quot;Unknown&quot;</td><td>&quot;Unknown&quot;</td><td>0.0</td><td>0.0</td><td>&quot;Unknown&quot;</td><td>&quot;PRIMARY_MOBILE…</td><td>0.0</td><td>&quot;Unknown&quot;</td><td>&quot;Unknown&quot;</td><td>0</td><td>0</td><td>14000.0</td><td>2.0</td><td>5.0</td><td>5.0</td><td>0</td><td>1</td><td>&quot;1974-12-01&quot;</td><td>&quot;P91_125_184&quot;</td><td>&quot;P161_5_97&quot;</td><td>&quot;P97_36_170&quot;</td><td>&quot;2010-02-15&quot;</td><td>&quot;MORE_FIVE&quot;</td><td>&quot;OTHER&quot;</td><td>&quot;P63_14_24&quot;</td><td>&quot;P161_5_97&quot;</td><td>&quot;MARRIED&quot;</td><td>&quot;EMPLOYED&quot;</td><td>&quot;P10_39_147&quot;</td><td>&quot;P91_125_184&quot;</td><td>&quot;P161_5_97&quot;</td><td>&quot;Unknown&quot;</td><td>&quot;Unknown&quot;</td><td>&quot;EM&quot;</td><td>&quot;F&quot;</td><td>&quot;PRIMARY_MOBILE…</td></tr><tr><td>3</td><td>&quot;2019-01-03&quot;</td><td>201901</td><td>0</td><td>0</td><td>&quot;Unknown&quot;</td><td>&quot;Unknown&quot;</td><td>&quot;Unknown&quot;</td><td>0.0</td><td>0.0</td><td>0.0</td><td>0.0</td><td>0.0</td><td>&quot;Unknown&quot;</td><td>&quot;Unknown&quot;</td><td>&quot;Unknown&quot;</td><td>0.0</td><td>0.0</td><td>&quot;Unknown&quot;</td><td>&quot;Unknown&quot;</td><td>0.0</td><td>0.0</td><td>0.0</td><td>0.0</td><td>&quot;Unknown&quot;</td><td>&quot;Unknown&quot;</td><td>&quot;Unknown&quot;</td><td>&quot;Unknown&quot;</td><td>0.0</td><td>0.0</td><td>&quot;Unknown&quot;</td><td>&quot;PHONE&quot;</td><td>0.0</td><td>&quot;Unknown&quot;</td><td>&quot;Unknown&quot;</td><td>0</td><td>0</td><td>10000.0</td><td>1.0</td><td>4.0</td><td>4.0</td><td>0</td><td>1</td><td>&quot;1993-08-01&quot;</td><td>&quot;P155_139_77&quot;</td><td>&quot;P161_14_174&quot;</td><td>&quot;P33_146_175&quot;</td><td>&quot;2018-05-15&quot;</td><td>&quot;MORE_FIVE&quot;</td><td>&quot;OTHER&quot;</td><td>&quot;P131_33_167&quot;</td><td>&quot;P161_14_174&quot;</td><td>&quot;MARRIED&quot;</td><td>&quot;EMPLOYED&quot;</td><td>&quot;P10_39_147&quot;</td><td>&quot;P155_139_77&quot;</td><td>&quot;P161_14_174&quot;</td><td>&quot;Unknown&quot;</td><td>&quot;Unknown&quot;</td><td>&quot;CL&quot;</td><td>&quot;F&quot;</td><td>&quot;PRIMARY_MOBILE…</td></tr><tr><td>4</td><td>&quot;2019-01-04&quot;</td><td>201901</td><td>0</td><td>1</td><td>&quot;Unknown&quot;</td><td>&quot;Unknown&quot;</td><td>&quot;Unknown&quot;</td><td>0.0</td><td>0.0</td><td>0.0</td><td>0.0</td><td>0.0</td><td>&quot;Unknown&quot;</td><td>&quot;Unknown&quot;</td><td>&quot;Unknown&quot;</td><td>0.0</td><td>0.0</td><td>&quot;Unknown&quot;</td><td>&quot;Unknown&quot;</td><td>0.0</td><td>0.0</td><td>0.0</td><td>0.0</td><td>&quot;Unknown&quot;</td><td>&quot;Unknown&quot;</td><td>&quot;Unknown&quot;</td><td>&quot;Unknown&quot;</td><td>0.0</td><td>0.0</td><td>&quot;Unknown&quot;</td><td>&quot;PRIMARY_MOBILE…</td><td>0.0</td><td>&quot;Unknown&quot;</td><td>&quot;Unknown&quot;</td><td>0</td><td>0</td><td>24000.0</td><td>2.0</td><td>5.0</td><td>5.0</td><td>0</td><td>1</td><td>&quot;1994-01-01&quot;</td><td>&quot;P194_82_174&quot;</td><td>&quot;P8_88_79&quot;</td><td>&quot;P33_146_175&quot;</td><td>&quot;2014-12-15&quot;</td><td>&quot;MORE_FIVE&quot;</td><td>&quot;OTHER&quot;</td><td>&quot;P62_144_102&quot;</td><td>&quot;P8_88_79&quot;</td><td>&quot;MARRIED&quot;</td><td>&quot;EMPLOYED&quot;</td><td>&quot;P10_39_147&quot;</td><td>&quot;P194_82_174&quot;</td><td>&quot;P8_88_79&quot;</td><td>&quot;Unknown&quot;</td><td>&quot;Unknown&quot;</td><td>&quot;CL&quot;</td><td>&quot;F&quot;</td><td>&quot;PRIMARY_MOBILE…</td></tr></tbody></table></div>"
      ],
      "text/plain": [
       "shape: (5, 62)\n",
       "┌─────────┬─────────────┬────────┬──────────┬───┬─────────────┬────────────┬──────────┬────────────┐\n",
       "│ case_id ┆ date_decisi ┆ MONTH  ┆ WEEK_NUM ┆ … ┆ relationshi ┆ role_1084L ┆ sex_738L ┆ type_25L   │\n",
       "│ ---     ┆ on          ┆ ---    ┆ ---      ┆   ┆ ptoclient_6 ┆ ---        ┆ ---      ┆ ---        │\n",
       "│ i64     ┆ ---         ┆ i64    ┆ i64      ┆   ┆ 42T         ┆ str        ┆ str      ┆ str        │\n",
       "│         ┆ str         ┆        ┆          ┆   ┆ ---         ┆            ┆          ┆            │\n",
       "│         ┆             ┆        ┆          ┆   ┆ str         ┆            ┆          ┆            │\n",
       "╞═════════╪═════════════╪════════╪══════════╪═══╪═════════════╪════════════╪══════════╪════════════╡\n",
       "│ 0       ┆ 2019-01-03  ┆ 201901 ┆ 0        ┆ … ┆ Unknown     ┆ CL         ┆ F        ┆ PRIMARY_MO │\n",
       "│         ┆             ┆        ┆          ┆   ┆             ┆            ┆          ┆ BILE       │\n",
       "│ 1       ┆ 2019-01-03  ┆ 201901 ┆ 0        ┆ … ┆ Unknown     ┆ CL         ┆ M        ┆ PRIMARY_MO │\n",
       "│         ┆             ┆        ┆          ┆   ┆             ┆            ┆          ┆ BILE       │\n",
       "│ 2       ┆ 2019-01-04  ┆ 201901 ┆ 0        ┆ … ┆ Unknown     ┆ EM         ┆ F        ┆ PRIMARY_MO │\n",
       "│         ┆             ┆        ┆          ┆   ┆             ┆            ┆          ┆ BILE       │\n",
       "│ 3       ┆ 2019-01-03  ┆ 201901 ┆ 0        ┆ … ┆ Unknown     ┆ CL         ┆ F        ┆ PRIMARY_MO │\n",
       "│         ┆             ┆        ┆          ┆   ┆             ┆            ┆          ┆ BILE       │\n",
       "│ 4       ┆ 2019-01-04  ┆ 201901 ┆ 0        ┆ … ┆ Unknown     ┆ CL         ┆ F        ┆ PRIMARY_MO │\n",
       "│         ┆             ┆        ┆          ┆   ┆             ┆            ┆          ┆ BILE       │\n",
       "└─────────┴─────────────┴────────┴──────────┴───┴─────────────┴────────────┴──────────┴────────────┘"
      ]
     },
     "execution_count": 39,
     "metadata": {},
     "output_type": "execute_result"
    }
   ],
   "source": [
    "for col in df.columns:\n",
    "    # Check if the column is of a numerical type (integer or float)\n",
    "    if df[col].dtype in [pl.Int8, pl.Int16, pl.Int32, pl.Int64, pl.UInt8, pl.UInt16, pl.UInt32, pl.UInt64, pl.Float32, pl.Float64]:\n",
    "        # For numerical columns, fill missing values with 0\n",
    "        df = df.with_columns(pl.col(col).fill_null(0))\n",
    "    # Check if the column is of a string or categorical type\n",
    "    elif df[col].dtype in [pl.Utf8, pl.Categorical]:\n",
    "        # For categorical/string columns, fill missing values with \"Unknown\"\n",
    "        df = df.with_columns(pl.col(col).fill_null(\"Unknown\"))\n",
    "df.head()"
   ]
  },
  {
   "cell_type": "code",
   "execution_count": 40,
   "id": "38e41d8f",
   "metadata": {},
   "outputs": [
    {
     "name": "stderr",
     "output_type": "stream",
     "text": [
      "/var/folders/r4/vq0806lj20q0chqdc8zywxvc0000gn/T/ipykernel_28586/2018191073.py:3: DeprecationWarning: `groupby` is deprecated. It has been renamed to `group_by`.\n",
      "  grouped_df = df.groupby(i).agg([pl.count().alias(\"count\")])\n",
      "/var/folders/r4/vq0806lj20q0chqdc8zywxvc0000gn/T/ipykernel_28586/2018191073.py:3: DeprecationWarning: `pl.count()` is deprecated. Please use `pl.len()` instead.\n",
      "  grouped_df = df.groupby(i).agg([pl.count().alias(\"count\")])\n"
     ]
    },
    {
     "name": "stdout",
     "output_type": "stream",
     "text": [
      "shape: (644, 2)\n",
      "┌───────────────┬───────┐\n",
      "│ date_decision ┆ count │\n",
      "│ ---           ┆ ---   │\n",
      "│ str           ┆ u32   │\n",
      "╞═══════════════╪═══════╡\n",
      "│ 2020-08-16    ┆ 357   │\n",
      "│ 2019-01-15    ┆ 2430  │\n",
      "│ 2020-06-14    ┆ 1861  │\n",
      "│ 2019-01-25    ┆ 2701  │\n",
      "│ 2020-01-26    ┆ 2749  │\n",
      "│ …             ┆ …     │\n",
      "│ 2020-06-24    ┆ 1400  │\n",
      "│ 2019-10-27    ┆ 3148  │\n",
      "│ 2019-01-20    ┆ 2202  │\n",
      "│ 2020-01-14    ┆ 2649  │\n",
      "│ 2020-01-17    ┆ 2647  │\n",
      "└───────────────┴───────┘\n",
      "shape: (668, 2)\n",
      "┌────────────────┬───────┐\n",
      "│ birthdate_574D ┆ count │\n",
      "│ ---            ┆ ---   │\n",
      "│ str            ┆ u32   │\n",
      "╞════════════════╪═══════╡\n",
      "│ 1948-12-01     ┆ 391   │\n",
      "│ 1967-09-01     ┆ 741   │\n",
      "│ 1968-06-01     ┆ 730   │\n",
      "│ 1964-02-01     ┆ 853   │\n",
      "│ 1968-11-01     ┆ 848   │\n",
      "│ …              ┆ …     │\n",
      "│ 1944-09-01     ┆ 58    │\n",
      "│ 1952-09-01     ┆ 623   │\n",
      "│ 1984-06-01     ┆ 1301  │\n",
      "│ 1981-01-01     ┆ 1214  │\n",
      "│ 1974-09-01     ┆ 1034  │\n",
      "└────────────────┴───────┘\n",
      "shape: (136_291, 2)\n",
      "┌───────────────────────┬───────┐\n",
      "│ contractssum_5085716L ┆ count │\n",
      "│ ---                   ┆ ---   │\n",
      "│ str                   ┆ u32   │\n",
      "╞═══════════════════════╪═══════╡\n",
      "│ 63170.0               ┆ 1     │\n",
      "│ 984310.65             ┆ 1     │\n",
      "│ 203249.85             ┆ 1     │\n",
      "│ 259896.14             ┆ 1     │\n",
      "│ 246408.83             ┆ 1     │\n",
      "│ …                     ┆ …     │\n",
      "│ 162681.0              ┆ 1     │\n",
      "│ 220734.0              ┆ 1     │\n",
      "│ 540462.93             ┆ 1     │\n",
      "│ 484258.95             ┆ 1     │\n",
      "│ 228232.5              ┆ 1     │\n",
      "└───────────────────────┴───────┘\n",
      "shape: (725, 2)\n",
      "┌──────────────────┬───────┐\n",
      "│ dateofbirth_337D ┆ count │\n",
      "│ ---              ┆ ---   │\n",
      "│ str              ┆ u32   │\n",
      "╞══════════════════╪═══════╡\n",
      "│ 1956-05-01       ┆ 2055  │\n",
      "│ 1966-02-01       ┆ 1837  │\n",
      "│ 1978-01-01       ┆ 2990  │\n",
      "│ 1988-04-01       ┆ 3120  │\n",
      "│ 1991-11-01       ┆ 2591  │\n",
      "│ …                ┆ …     │\n",
      "│ 1992-06-01       ┆ 2812  │\n",
      "│ 1964-10-01       ┆ 1756  │\n",
      "│ 1975-05-01       ┆ 2632  │\n",
      "│ 1978-08-01       ┆ 2890  │\n",
      "│ 1950-10-01       ┆ 1228  │\n",
      "└──────────────────┴───────┘\n",
      "shape: (3, 2)\n",
      "┌──────────────────────┬─────────┐\n",
      "│ description_5085714M ┆ count   │\n",
      "│ ---                  ┆ ---     │\n",
      "│ str                  ┆ u32     │\n",
      "╞══════════════════════╪═════════╡\n",
      "│ a55475b1             ┆ 1316125 │\n",
      "│ 2fc785b2             ┆ 184351  │\n",
      "│ Unknown              ┆ 26183   │\n",
      "└──────────────────────┴─────────┘\n",
      "shape: (6, 2)\n",
      "┌─────────────────┬────────┐\n",
      "│ education_1103M ┆ count  │\n",
      "│ ---             ┆ ---    │\n",
      "│ str             ┆ u32    │\n",
      "╞═════════════════╪════════╡\n",
      "│ 39a0853f        ┆ 47140  │\n",
      "│ 717ddd49        ┆ 135342 │\n",
      "│ a55475b1        ┆ 859962 │\n",
      "│ 6b2ae0fa        ┆ 452449 │\n",
      "│ Unknown         ┆ 26183  │\n",
      "│ c8e1a1d0        ┆ 5583   │\n",
      "└─────────────────┴────────┘\n",
      "shape: (6, 2)\n",
      "┌───────────────┬─────────┐\n",
      "│ education_88M ┆ count   │\n",
      "│ ---           ┆ ---     │\n",
      "│ str           ┆ u32     │\n",
      "╞═══════════════╪═════════╡\n",
      "│ a34a13c8      ┆ 437     │\n",
      "│ c8e1a1d0      ┆ 126     │\n",
      "│ 6b2ae0fa      ┆ 11673   │\n",
      "│ Unknown       ┆ 26183   │\n",
      "│ a55475b1      ┆ 1484960 │\n",
      "│ 717ddd49      ┆ 3280    │\n",
      "└───────────────┴─────────┘\n",
      "shape: (7, 2)\n",
      "┌────────────────┬────────┐\n",
      "│ maritalst_385M ┆ count  │\n",
      "│ ---            ┆ ---    │\n",
      "│ str            ┆ u32    │\n",
      "╞════════════════╪════════╡\n",
      "│ ecd83604       ┆ 4747   │\n",
      "│ b6cabe76       ┆ 55900  │\n",
      "│ 38c061ee       ┆ 26851  │\n",
      "│ 3439d993       ┆ 550336 │\n",
      "│ a7fcb6e5       ┆ 201050 │\n",
      "│ Unknown        ┆ 26183  │\n",
      "│ a55475b1       ┆ 661592 │\n",
      "└────────────────┴────────┘\n",
      "shape: (7, 2)\n",
      "┌────────────────┬─────────┐\n",
      "│ maritalst_893M ┆ count   │\n",
      "│ ---            ┆ ---     │\n",
      "│ str            ┆ u32     │\n",
      "╞════════════════╪═════════╡\n",
      "│ 1a19667c       ┆ 5321    │\n",
      "│ a55475b1       ┆ 1479303 │\n",
      "│ 46b968c3       ┆ 13889   │\n",
      "│ ecd83604       ┆ 89      │\n",
      "│ Unknown        ┆ 26183   │\n",
      "│ 977b2a70       ┆ 1196    │\n",
      "│ e18430ff       ┆ 678     │\n",
      "└────────────────┴─────────┘\n",
      "shape: (4, 2)\n",
      "┌──────────────────────┬────────┐\n",
      "│ requesttype_4525192L ┆ count  │\n",
      "│ ---                  ┆ ---    │\n",
      "│ str                  ┆ u32    │\n",
      "╞══════════════════════╪════════╡\n",
      "│ PENSION_6            ┆ 117047 │\n",
      "│ Unknown              ┆ 853395 │\n",
      "│ SOCIAL_6             ┆ 5830   │\n",
      "│ DEDUCTION_6          ┆ 550387 │\n",
      "└──────────────────────┴────────┘\n",
      "shape: (293, 2)\n",
      "┌────────────────────┬───────┐\n",
      "│ responsedate_1012D ┆ count │\n",
      "│ ---                ┆ ---   │\n",
      "│ str                ┆ u32   │\n",
      "╞════════════════════╪═══════╡\n",
      "│ 2019-07-11         ┆ 2540  │\n",
      "│ 2019-10-11         ┆ 3396  │\n",
      "│ 2019-03-18         ┆ 1920  │\n",
      "│ 2019-02-18         ┆ 2126  │\n",
      "│ 2019-06-13         ┆ 2166  │\n",
      "│ …                  ┆ …     │\n",
      "│ 2019-08-12         ┆ 3262  │\n",
      "│ 2019-05-21         ┆ 1279  │\n",
      "│ 2019-02-23         ┆ 1862  │\n",
      "│ 2019-10-15         ┆ 2671  │\n",
      "│ 2019-05-18         ┆ 1575  │\n",
      "└────────────────────┴───────┘\n",
      "shape: (398, 2)\n",
      "┌───────────────────────┬───────┐\n",
      "│ responsedate_4527233D ┆ count │\n",
      "│ ---                   ┆ ---   │\n",
      "│ str                   ┆ u32   │\n",
      "╞═══════════════════════╪═══════╡\n",
      "│ 2020-03-05            ┆ 2385  │\n",
      "│ 2019-11-03            ┆ 3054  │\n",
      "│ 2019-11-05            ┆ 2776  │\n",
      "│ 2019-10-26            ┆ 4448  │\n",
      "│ 2020-01-22            ┆ 2970  │\n",
      "│ …                     ┆ …     │\n",
      "│ 2020-08-15            ┆ 6     │\n",
      "│ 2020-01-12            ┆ 6579  │\n",
      "│ 2020-05-13            ┆ 7     │\n",
      "│ 2020-06-08            ┆ 21    │\n",
      "│ 2020-02-08            ┆ 3207  │\n",
      "└───────────────────────┴───────┘\n",
      "shape: (208, 2)\n",
      "┌───────────────────────┬───────┐\n",
      "│ responsedate_4917613D ┆ count │\n",
      "│ ---                   ┆ ---   │\n",
      "│ str                   ┆ u32   │\n",
      "╞═══════════════════════╪═══════╡\n",
      "│ 2020-08-04            ┆ 1134  │\n",
      "│ 2020-04-21            ┆ 261   │\n",
      "│ 2020-08-14            ┆ 461   │\n",
      "│ 2020-04-08            ┆ 58    │\n",
      "│ 2020-06-07            ┆ 909   │\n",
      "│ …                     ┆ …     │\n",
      "│ 2020-10-17            ┆ 1345  │\n",
      "│ 2020-09-22            ┆ 2590  │\n",
      "│ 2020-06-28            ┆ 1885  │\n",
      "│ 2020-07-16            ┆ 1559  │\n",
      "│ 2020-08-26            ┆ 1423  │\n",
      "└───────────────────────┴───────┘\n",
      "shape: (10, 2)\n",
      "┌────────────────────────┬─────────┐\n",
      "│ cacccardblochreas_147M ┆ count   │\n",
      "│ ---                    ┆ ---     │\n",
      "│ str                    ┆ u32     │\n",
      "╞════════════════════════╪═════════╡\n",
      "│ Unknown                ┆ 329606  │\n",
      "│ a55475b1               ┆ 1195949 │\n",
      "│ P33_145_161            ┆ 386     │\n",
      "│ P41_107_150            ┆ 10      │\n",
      "│ P133_119_56            ┆ 10      │\n",
      "│ P127_74_114            ┆ 3       │\n",
      "│ P201_63_60             ┆ 484     │\n",
      "│ P23_105_103            ┆ 19      │\n",
      "│ P17_56_144             ┆ 14      │\n",
      "│ P19_60_110             ┆ 178     │\n",
      "└────────────────────────┴─────────┘\n",
      "shape: (9, 2)\n",
      "┌───────────────────┬─────────┐\n",
      "│ conts_type_509L   ┆ count   │\n",
      "│ ---               ┆ ---     │\n",
      "│ str               ┆ u32     │\n",
      "╞═══════════════════╪═════════╡\n",
      "│ PRIMARY_EMAIL     ┆ 2968    │\n",
      "│ SECONDARY_MOBILE  ┆ 1195    │\n",
      "│ EMPLOYMENT_PHONE  ┆ 35190   │\n",
      "│ HOME_PHONE        ┆ 56653   │\n",
      "│ Unknown           ┆ 308590  │\n",
      "│ WHATSAPP          ┆ 1       │\n",
      "│ PHONE             ┆ 115894  │\n",
      "│ ALTERNATIVE_PHONE ┆ 37      │\n",
      "│ PRIMARY_MOBILE    ┆ 1006131 │\n",
      "└───────────────────┴─────────┘\n",
      "shape: (109_994, 2)\n",
      "┌───────────────┬───────┐\n",
      "│ name_4527232M ┆ count │\n",
      "│ ---           ┆ ---   │\n",
      "│ str           ┆ u32   │\n",
      "╞═══════════════╪═══════╡\n",
      "│ d6238898      ┆ 1     │\n",
      "│ f59616ac      ┆ 1     │\n",
      "│ 33c317ca      ┆ 15    │\n",
      "│ 878059db      ┆ 1     │\n",
      "│ e395c81a      ┆ 1     │\n",
      "│ …             ┆ …     │\n",
      "│ 2ca586bc      ┆ 3     │\n",
      "│ 17a65c70      ┆ 5     │\n",
      "│ 32b12845      ┆ 1     │\n",
      "│ 5f3fe495      ┆ 1     │\n",
      "│ cbbc4f37      ┆ 1     │\n",
      "└───────────────┴───────┘\n",
      "shape: (398, 2)\n",
      "┌─────────────────────┬───────┐\n",
      "│ recorddate_4527225D ┆ count │\n",
      "│ ---                 ┆ ---   │\n",
      "│ str                 ┆ u32   │\n",
      "╞═════════════════════╪═══════╡\n",
      "│ 2020-08-30          ┆ 4     │\n",
      "│ 2019-11-29          ┆ 3312  │\n",
      "│ 2020-02-27          ┆ 1467  │\n",
      "│ 2019-09-29          ┆ 2269  │\n",
      "│ 2019-12-20          ┆ 2093  │\n",
      "│ …                   ┆ …     │\n",
      "│ 2020-10-06          ┆ 19    │\n",
      "│ 2020-09-29          ┆ 31    │\n",
      "│ 2020-04-24          ┆ 4     │\n",
      "│ 2020-06-15          ┆ 16    │\n",
      "│ 2020-10-16          ┆ 28    │\n",
      "└─────────────────────┴───────┘\n",
      "shape: (680, 2)\n",
      "┌────────────┬───────┐\n",
      "│ birth_259D ┆ count │\n",
      "│ ---        ┆ ---   │\n",
      "│ str        ┆ u32   │\n",
      "╞════════════╪═══════╡\n",
      "│ 1991-10-01 ┆ 3094  │\n",
      "│ 1965-10-01 ┆ 2115  │\n",
      "│ 1985-03-01 ┆ 3180  │\n",
      "│ 1984-04-01 ┆ 3312  │\n",
      "│ 1983-04-01 ┆ 3053  │\n",
      "│ …          ┆ …     │\n",
      "│ 1944-01-01 ┆ 60    │\n",
      "│ 1958-06-01 ┆ 2048  │\n",
      "│ 1946-08-01 ┆ 644   │\n",
      "│ 1957-09-01 ┆ 2013  │\n",
      "│ 1967-03-01 ┆ 2382  │\n",
      "└────────────┴───────┘\n",
      "shape: (975, 2)\n",
      "┌───────────────────────┬───────┐\n",
      "│ contaddr_district_15M ┆ count │\n",
      "│ ---                   ┆ ---   │\n",
      "│ str                   ┆ u32   │\n",
      "╞═══════════════════════╪═══════╡\n",
      "│ P61_120_178           ┆ 10    │\n",
      "│ P4_127_30             ┆ 2     │\n",
      "│ P114_74_190           ┆ 273   │\n",
      "│ P121_33_165           ┆ 9     │\n",
      "│ P112_162_160          ┆ 6     │\n",
      "│ …                     ┆ …     │\n",
      "│ P15_19_20             ┆ 2     │\n",
      "│ P127_150_44           ┆ 2     │\n",
      "│ P93_149_182           ┆ 1     │\n",
      "│ P7_49_122             ┆ 2     │\n",
      "│ P108_160_76           ┆ 1836  │\n",
      "└───────────────────────┴───────┘\n",
      "shape: (3_530, 2)\n",
      "┌───────────────────────┬───────┐\n",
      "│ contaddr_zipcode_807M ┆ count │\n",
      "│ ---                   ┆ ---   │\n",
      "│ str                   ┆ u32   │\n",
      "╞═══════════════════════╪═══════╡\n",
      "│ P12_90_114            ┆ 20    │\n",
      "│ P211_106_174          ┆ 2     │\n",
      "│ P43_58_114            ┆ 147   │\n",
      "│ P79_77_118            ┆ 616   │\n",
      "│ P189_25_169           ┆ 36    │\n",
      "│ …                     ┆ …     │\n",
      "│ P62_133_143           ┆ 16    │\n",
      "│ P145_120_83           ┆ 44    │\n",
      "│ P183_41_169           ┆ 74    │\n",
      "│ P155_55_104           ┆ 10    │\n",
      "│ P17_127_55            ┆ 47    │\n",
      "└───────────────────────┴───────┘\n"
     ]
    },
    {
     "name": "stdout",
     "output_type": "stream",
     "text": [
      "shape: (6, 2)\n",
      "┌────────────────┬────────┐\n",
      "│ education_927M ┆ count  │\n",
      "│ ---            ┆ ---    │\n",
      "│ str            ┆ u32    │\n",
      "╞════════════════╪════════╡\n",
      "│ a55475b1       ┆ 798046 │\n",
      "│ P97_36_170     ┆ 409251 │\n",
      "│ P17_36_170     ┆ 5481   │\n",
      "│ P106_81_188    ┆ 54661  │\n",
      "│ P157_18_172    ┆ 631    │\n",
      "│ P33_146_175    ┆ 258589 │\n",
      "└────────────────┴────────┘\n",
      "shape: (8_076, 2)\n",
      "┌────────────────────────┬───────┐\n",
      "│ empl_employedfrom_271D ┆ count │\n",
      "│ ---                    ┆ ---   │\n",
      "│ str                    ┆ u32   │\n",
      "╞════════════════════════╪═══════╡\n",
      "│ 2010-08-20             ┆ 4     │\n",
      "│ 2014-09-07             ┆ 6     │\n",
      "│ 2010-07-02             ┆ 4     │\n",
      "│ 2015-09-16             ┆ 22    │\n",
      "│ 2007-09-01             ┆ 1     │\n",
      "│ …                      ┆ …     │\n",
      "│ 2002-02-08             ┆ 1     │\n",
      "│ 2003-05-06             ┆ 1     │\n",
      "│ 1995-12-16             ┆ 2     │\n",
      "│ 1995-06-05             ┆ 1     │\n",
      "│ 2015-01-20             ┆ 22    │\n",
      "└────────────────────────┴───────┘\n",
      "shape: (4, 2)\n",
      "┌─────────────────────────┬────────┐\n",
      "│ empl_employedtotal_800L ┆ count  │\n",
      "│ ---                     ┆ ---    │\n",
      "│ str                     ┆ u32    │\n",
      "╞═════════════════════════╪════════╡\n",
      "│ MORE_FIVE               ┆ 371321 │\n",
      "│ LESS_ONE                ┆ 30467  │\n",
      "│ Unknown                 ┆ 998344 │\n",
      "│ MORE_ONE                ┆ 126527 │\n",
      "└─────────────────────────┴────────┘\n",
      "shape: (25, 2)\n",
      "┌────────────────────┬─────────┐\n",
      "│ empl_industry_691L ┆ count   │\n",
      "│ ---                ┆ ---     │\n",
      "│ str                ┆ u32     │\n",
      "╞════════════════════╪═════════╡\n",
      "│ CATERING           ┆ 3508    │\n",
      "│ TRANSPORTATION     ┆ 4318    │\n",
      "│ Unknown            ┆ 1004423 │\n",
      "│ CHARITY_RELIGIOUS  ┆ 25      │\n",
      "│ MINING             ┆ 3582    │\n",
      "│ …                  ┆ …       │\n",
      "│ OTHER              ┆ 386837  │\n",
      "│ INSURANCE          ┆ 217     │\n",
      "│ POST_TELCO         ┆ 612     │\n",
      "│ ART_MEDIA          ┆ 245     │\n",
      "│ GOVERNMENT         ┆ 35440   │\n",
      "└────────────────────┴─────────┘\n",
      "shape: (223, 2)\n",
      "┌────────────────────────┬───────┐\n",
      "│ empladdr_district_926M ┆ count │\n",
      "│ ---                    ┆ ---   │\n",
      "│ str                    ┆ u32   │\n",
      "╞════════════════════════╪═══════╡\n",
      "│ P154_135_142           ┆ 596   │\n",
      "│ P65_13_8               ┆ 801   │\n",
      "│ P210_51_101            ┆ 482   │\n",
      "│ P138_64_83             ┆ 405   │\n",
      "│ P73_74_80              ┆ 292   │\n",
      "│ …                      ┆ …     │\n",
      "│ P42_21_57              ┆ 242   │\n",
      "│ P210_149_152           ┆ 888   │\n",
      "│ P85_130_149            ┆ 3759  │\n",
      "│ P146_21_169            ┆ 495   │\n",
      "│ P158_150_171           ┆ 3213  │\n",
      "└────────────────────────┴───────┘\n",
      "shape: (3_339, 2)\n",
      "┌───────────────────────┬───────┐\n",
      "│ empladdr_zipcode_114M ┆ count │\n",
      "│ ---                   ┆ ---   │\n",
      "│ str                   ┆ u32   │\n",
      "╞═══════════════════════╪═══════╡\n",
      "│ P10_68_40             ┆ 2     │\n",
      "│ P123_132_159          ┆ 8     │\n",
      "│ P23_20_17             ┆ 5     │\n",
      "│ P45_28_180            ┆ 23    │\n",
      "│ P44_151_165           ┆ 43    │\n",
      "│ …                     ┆ …     │\n",
      "│ P118_149_120          ┆ 56    │\n",
      "│ P189_91_168           ┆ 8     │\n",
      "│ P28_15_31             ┆ 20    │\n",
      "│ P117_101_157          ┆ 1     │\n",
      "│ P177_149_54           ┆ 9     │\n",
      "└───────────────────────┴───────┘\n",
      "shape: (6, 2)\n",
      "┌─────────────────────┬────────┐\n",
      "│ familystate_447L    ┆ count  │\n",
      "│ ---                 ┆ ---    │\n",
      "│ str                 ┆ u32    │\n",
      "╞═════════════════════╪════════╡\n",
      "│ Unknown             ┆ 798046 │\n",
      "│ SINGLE              ┆ 183334 │\n",
      "│ LIVING_WITH_PARTNER ┆ 8142   │\n",
      "│ DIVORCED            ┆ 19296  │\n",
      "│ WIDOWED             ┆ 32995  │\n",
      "│ MARRIED             ┆ 484846 │\n",
      "└─────────────────────┴────────┘\n",
      "shape: (9, 2)\n",
      "┌─────────────────────────┬────────┐\n",
      "│ incometype_1044T        ┆ count  │\n",
      "│ ---                     ┆ ---    │\n",
      "│ str                     ┆ u32    │\n",
      "╞═════════════════════════╪════════╡\n",
      "│ RETIRED_PENSIONER       ┆ 311028 │\n",
      "│ HANDICAPPED_3           ┆ 5258   │\n",
      "│ HANDICAPPED_2           ┆ 7371   │\n",
      "│ SELFEMPLOYED            ┆ 29199  │\n",
      "│ SALARIED_GOVT           ┆ 373646 │\n",
      "│ OTHER                   ┆ 11436  │\n",
      "│ EMPLOYED                ┆ 298158 │\n",
      "│ PRIVATE_SECTOR_EMPLOYEE ┆ 490562 │\n",
      "│ HANDICAPPED             ┆ 1      │\n",
      "└─────────────────────────┴────────┘\n",
      "shape: (3, 2)\n",
      "┌────────────────┬────────┐\n",
      "│ language1_981M ┆ count  │\n",
      "│ ---            ┆ ---    │\n",
      "│ str            ┆ u32    │\n",
      "╞════════════════╪════════╡\n",
      "│ a55475b1       ┆ 58120  │\n",
      "│ P209_127_106   ┆ 619786 │\n",
      "│ P10_39_147     ┆ 848753 │\n",
      "└────────────────┴────────┘\n",
      "shape: (991, 2)\n",
      "┌───────────────────────────┬───────┐\n",
      "│ registaddr_district_1083M ┆ count │\n",
      "│ ---                       ┆ ---   │\n",
      "│ str                       ┆ u32   │\n",
      "╞═══════════════════════════╪═══════╡\n",
      "│ P17_149_170               ┆ 8349  │\n",
      "│ P119_19_172               ┆ 15    │\n",
      "│ P14_148_180               ┆ 20    │\n",
      "│ P177_145_110              ┆ 2     │\n",
      "│ P204_49_163               ┆ 2     │\n",
      "│ …                         ┆ …     │\n",
      "│ P16_125_19                ┆ 1     │\n",
      "│ P0_68_82                  ┆ 2     │\n",
      "│ P13_95_117                ┆ 4     │\n",
      "│ P152_70_56                ┆ 16056 │\n",
      "│ P149_82_178               ┆ 1038  │\n",
      "└───────────────────────────┴───────┘\n",
      "shape: (3_531, 2)\n",
      "┌─────────────────────────┬───────┐\n",
      "│ registaddr_zipcode_184M ┆ count │\n",
      "│ ---                     ┆ ---   │\n",
      "│ str                     ┆ u32   │\n",
      "╞═════════════════════════╪═══════╡\n",
      "│ P199_48_165             ┆ 11    │\n",
      "│ P124_15_176             ┆ 20    │\n",
      "│ P103_12_71              ┆ 33    │\n",
      "│ P71_62_109              ┆ 188   │\n",
      "│ P188_19_169             ┆ 84    │\n",
      "│ …                       ┆ …     │\n",
      "│ P146_84_183             ┆ 177   │\n",
      "│ P7_76_52                ┆ 334   │\n",
      "│ P10_147_168             ┆ 60    │\n",
      "│ P160_51_174             ┆ 36    │\n",
      "│ P38_161_181             ┆ 17    │\n",
      "└─────────────────────────┴───────┘\n",
      "shape: (1, 2)\n",
      "┌───────────────────────────┬─────────┐\n",
      "│ relationshiptoclient_415T ┆ count   │\n",
      "│ ---                       ┆ ---     │\n",
      "│ str                       ┆ u32     │\n",
      "╞═══════════════════════════╪═════════╡\n",
      "│ Unknown                   ┆ 1526659 │\n",
      "└───────────────────────────┴─────────┘\n",
      "shape: (1, 2)\n",
      "┌───────────────────────────┬─────────┐\n",
      "│ relationshiptoclient_642T ┆ count   │\n",
      "│ ---                       ┆ ---     │\n",
      "│ str                       ┆ u32     │\n",
      "╞═══════════════════════════╪═════════╡\n",
      "│ Unknown                   ┆ 1526659 │\n",
      "└───────────────────────────┴─────────┘\n",
      "shape: (2, 2)\n",
      "┌────────────┬─────────┐\n",
      "│ role_1084L ┆ count   │\n",
      "│ ---        ┆ ---     │\n",
      "│ str        ┆ u32     │\n",
      "╞════════════╪═════════╡\n",
      "│ EM         ┆ 246499  │\n",
      "│ CL         ┆ 1280160 │\n",
      "└────────────┴─────────┘\n",
      "shape: (2, 2)\n",
      "┌──────────┬────────┐\n",
      "│ sex_738L ┆ count  │\n",
      "│ ---      ┆ ---    │\n",
      "│ str      ┆ u32    │\n",
      "╞══════════╪════════╡\n",
      "│ F        ┆ 952776 │\n",
      "│ M        ┆ 573883 │\n",
      "└──────────┴────────┘\n",
      "shape: (6, 2)\n",
      "┌──────────────────┬─────────┐\n",
      "│ type_25L         ┆ count   │\n",
      "│ ---              ┆ ---     │\n",
      "│ str              ┆ u32     │\n",
      "╞══════════════════╪═════════╡\n",
      "│ PRIMARY_MOBILE   ┆ 1503442 │\n",
      "│ HOME_PHONE       ┆ 18653   │\n",
      "│ WHATSAPP         ┆ 3       │\n",
      "│ PRIMARY_EMAIL    ┆ 16      │\n",
      "│ PHONE            ┆ 2716    │\n",
      "│ SECONDARY_MOBILE ┆ 1829    │\n",
      "└──────────────────┴─────────┘\n"
     ]
    }
   ],
   "source": [
    "cat_columns=[col for col in df.columns if df[col].dtype in [pl.Utf8, pl.Categorical]]\n",
    "for i in cat_columns:\n",
    "    grouped_df = df.groupby(i).agg([pl.count().alias(\"count\")])\n",
    "    print(grouped_df)"
   ]
  },
  {
   "cell_type": "code",
   "execution_count": 41,
   "id": "e13e1406",
   "metadata": {},
   "outputs": [
    {
     "data": {
      "text/html": [
       "<div><style>\n",
       ".dataframe > thead > tr,\n",
       ".dataframe > tbody > tr {\n",
       "  text-align: right;\n",
       "  white-space: pre-wrap;\n",
       "}\n",
       "</style>\n",
       "<small>shape: (5, 53)</small><table border=\"1\" class=\"dataframe\"><thead><tr><th>case_id</th><th>date_decision</th><th>MONTH</th><th>WEEK_NUM</th><th>target</th><th>birthdate_574D</th><th>contractssum_5085716L</th><th>dateofbirth_337D</th><th>days120_123L</th><th>days180_256L</th><th>days30_165L</th><th>days360_512L</th><th>days90_310L</th><th>description_5085714M</th><th>education_1103M</th><th>education_88M</th><th>firstquarter_103L</th><th>fourthquarter_440L</th><th>maritalst_385M</th><th>maritalst_893M</th><th>numberofqueries_373L</th><th>pmtaverage_4527227A</th><th>pmtscount_423L</th><th>pmtssum_45A</th><th>requesttype_4525192L</th><th>responsedate_1012D</th><th>responsedate_4527233D</th><th>responsedate_4917613D</th><th>secondquarter_766L</th><th>thirdquarter_1082L</th><th>cacccardblochreas_147M</th><th>conts_type_509L</th><th>amount_max</th><th>recorddate_4527225D</th><th>contaddr_matchlist_1032L_max</th><th>contaddr_smempladdr_334L_max</th><th>mainoccupationinc_384A_max</th><th>personindex_1023L_max</th><th>persontype_1072L_max</th><th>persontype_792L_max</th><th>remitter_829L_max</th><th>safeguarantyflag_411L_max</th><th>birth_259D</th><th>education_927M</th><th>empl_employedfrom_271D</th><th>empl_employedtotal_800L</th><th>empl_industry_691L</th><th>familystate_447L</th><th>incometype_1044T</th><th>language1_981M</th><th>role_1084L</th><th>sex_738L</th><th>type_25L</th></tr><tr><td>i64</td><td>str</td><td>i64</td><td>i64</td><td>i64</td><td>str</td><td>str</td><td>str</td><td>f64</td><td>f64</td><td>f64</td><td>f64</td><td>f64</td><td>str</td><td>str</td><td>str</td><td>f64</td><td>f64</td><td>str</td><td>str</td><td>f64</td><td>f64</td><td>f64</td><td>f64</td><td>str</td><td>str</td><td>str</td><td>str</td><td>f64</td><td>f64</td><td>str</td><td>str</td><td>f64</td><td>str</td><td>i32</td><td>i32</td><td>f64</td><td>f64</td><td>f64</td><td>f64</td><td>i32</td><td>i32</td><td>str</td><td>str</td><td>str</td><td>str</td><td>str</td><td>str</td><td>str</td><td>str</td><td>str</td><td>str</td><td>str</td></tr></thead><tbody><tr><td>0</td><td>&quot;2019-01-03&quot;</td><td>201901</td><td>0</td><td>0</td><td>&quot;Unknown&quot;</td><td>&quot;Unknown&quot;</td><td>&quot;Unknown&quot;</td><td>0.0</td><td>0.0</td><td>0.0</td><td>0.0</td><td>0.0</td><td>&quot;Unknown&quot;</td><td>&quot;Unknown&quot;</td><td>&quot;Unknown&quot;</td><td>0.0</td><td>0.0</td><td>&quot;Unknown&quot;</td><td>&quot;Unknown&quot;</td><td>0.0</td><td>0.0</td><td>0.0</td><td>0.0</td><td>&quot;Unknown&quot;</td><td>&quot;Unknown&quot;</td><td>&quot;Unknown&quot;</td><td>&quot;Unknown&quot;</td><td>0.0</td><td>0.0</td><td>&quot;Unknown&quot;</td><td>&quot;Unknown&quot;</td><td>0.0</td><td>&quot;Unknown&quot;</td><td>0</td><td>0</td><td>10800.0</td><td>2.0</td><td>5.0</td><td>5.0</td><td>0</td><td>1</td><td>&quot;1986-07-01&quot;</td><td>&quot;P97_36_170&quot;</td><td>&quot;2017-09-15&quot;</td><td>&quot;MORE_FIVE&quot;</td><td>&quot;OTHER&quot;</td><td>&quot;MARRIED&quot;</td><td>&quot;SALARIED_GOVT&quot;</td><td>&quot;P10_39_147&quot;</td><td>&quot;CL&quot;</td><td>&quot;F&quot;</td><td>&quot;PRIMARY_MOBILE…</td></tr><tr><td>1</td><td>&quot;2019-01-03&quot;</td><td>201901</td><td>0</td><td>0</td><td>&quot;Unknown&quot;</td><td>&quot;Unknown&quot;</td><td>&quot;Unknown&quot;</td><td>0.0</td><td>0.0</td><td>0.0</td><td>0.0</td><td>0.0</td><td>&quot;Unknown&quot;</td><td>&quot;Unknown&quot;</td><td>&quot;Unknown&quot;</td><td>0.0</td><td>0.0</td><td>&quot;Unknown&quot;</td><td>&quot;Unknown&quot;</td><td>0.0</td><td>0.0</td><td>0.0</td><td>0.0</td><td>&quot;Unknown&quot;</td><td>&quot;Unknown&quot;</td><td>&quot;Unknown&quot;</td><td>&quot;Unknown&quot;</td><td>0.0</td><td>0.0</td><td>&quot;Unknown&quot;</td><td>&quot;Unknown&quot;</td><td>0.0</td><td>&quot;Unknown&quot;</td><td>0</td><td>0</td><td>10000.0</td><td>2.0</td><td>5.0</td><td>5.0</td><td>0</td><td>1</td><td>&quot;1957-08-01&quot;</td><td>&quot;P97_36_170&quot;</td><td>&quot;2008-10-29&quot;</td><td>&quot;MORE_FIVE&quot;</td><td>&quot;OTHER&quot;</td><td>&quot;DIVORCED&quot;</td><td>&quot;SALARIED_GOVT&quot;</td><td>&quot;P10_39_147&quot;</td><td>&quot;CL&quot;</td><td>&quot;M&quot;</td><td>&quot;PRIMARY_MOBILE…</td></tr><tr><td>2</td><td>&quot;2019-01-04&quot;</td><td>201901</td><td>0</td><td>0</td><td>&quot;Unknown&quot;</td><td>&quot;Unknown&quot;</td><td>&quot;Unknown&quot;</td><td>0.0</td><td>0.0</td><td>0.0</td><td>0.0</td><td>0.0</td><td>&quot;Unknown&quot;</td><td>&quot;Unknown&quot;</td><td>&quot;Unknown&quot;</td><td>0.0</td><td>0.0</td><td>&quot;Unknown&quot;</td><td>&quot;Unknown&quot;</td><td>0.0</td><td>0.0</td><td>0.0</td><td>0.0</td><td>&quot;Unknown&quot;</td><td>&quot;Unknown&quot;</td><td>&quot;Unknown&quot;</td><td>&quot;Unknown&quot;</td><td>0.0</td><td>0.0</td><td>&quot;Unknown&quot;</td><td>&quot;PRIMARY_MOBILE…</td><td>0.0</td><td>&quot;Unknown&quot;</td><td>0</td><td>0</td><td>14000.0</td><td>2.0</td><td>5.0</td><td>5.0</td><td>0</td><td>1</td><td>&quot;1974-12-01&quot;</td><td>&quot;P97_36_170&quot;</td><td>&quot;2010-02-15&quot;</td><td>&quot;MORE_FIVE&quot;</td><td>&quot;OTHER&quot;</td><td>&quot;MARRIED&quot;</td><td>&quot;EMPLOYED&quot;</td><td>&quot;P10_39_147&quot;</td><td>&quot;EM&quot;</td><td>&quot;F&quot;</td><td>&quot;PRIMARY_MOBILE…</td></tr><tr><td>3</td><td>&quot;2019-01-03&quot;</td><td>201901</td><td>0</td><td>0</td><td>&quot;Unknown&quot;</td><td>&quot;Unknown&quot;</td><td>&quot;Unknown&quot;</td><td>0.0</td><td>0.0</td><td>0.0</td><td>0.0</td><td>0.0</td><td>&quot;Unknown&quot;</td><td>&quot;Unknown&quot;</td><td>&quot;Unknown&quot;</td><td>0.0</td><td>0.0</td><td>&quot;Unknown&quot;</td><td>&quot;Unknown&quot;</td><td>0.0</td><td>0.0</td><td>0.0</td><td>0.0</td><td>&quot;Unknown&quot;</td><td>&quot;Unknown&quot;</td><td>&quot;Unknown&quot;</td><td>&quot;Unknown&quot;</td><td>0.0</td><td>0.0</td><td>&quot;Unknown&quot;</td><td>&quot;PHONE&quot;</td><td>0.0</td><td>&quot;Unknown&quot;</td><td>0</td><td>0</td><td>10000.0</td><td>1.0</td><td>4.0</td><td>4.0</td><td>0</td><td>1</td><td>&quot;1993-08-01&quot;</td><td>&quot;P33_146_175&quot;</td><td>&quot;2018-05-15&quot;</td><td>&quot;MORE_FIVE&quot;</td><td>&quot;OTHER&quot;</td><td>&quot;MARRIED&quot;</td><td>&quot;EMPLOYED&quot;</td><td>&quot;P10_39_147&quot;</td><td>&quot;CL&quot;</td><td>&quot;F&quot;</td><td>&quot;PRIMARY_MOBILE…</td></tr><tr><td>4</td><td>&quot;2019-01-04&quot;</td><td>201901</td><td>0</td><td>1</td><td>&quot;Unknown&quot;</td><td>&quot;Unknown&quot;</td><td>&quot;Unknown&quot;</td><td>0.0</td><td>0.0</td><td>0.0</td><td>0.0</td><td>0.0</td><td>&quot;Unknown&quot;</td><td>&quot;Unknown&quot;</td><td>&quot;Unknown&quot;</td><td>0.0</td><td>0.0</td><td>&quot;Unknown&quot;</td><td>&quot;Unknown&quot;</td><td>0.0</td><td>0.0</td><td>0.0</td><td>0.0</td><td>&quot;Unknown&quot;</td><td>&quot;Unknown&quot;</td><td>&quot;Unknown&quot;</td><td>&quot;Unknown&quot;</td><td>0.0</td><td>0.0</td><td>&quot;Unknown&quot;</td><td>&quot;PRIMARY_MOBILE…</td><td>0.0</td><td>&quot;Unknown&quot;</td><td>0</td><td>0</td><td>24000.0</td><td>2.0</td><td>5.0</td><td>5.0</td><td>0</td><td>1</td><td>&quot;1994-01-01&quot;</td><td>&quot;P33_146_175&quot;</td><td>&quot;2014-12-15&quot;</td><td>&quot;MORE_FIVE&quot;</td><td>&quot;OTHER&quot;</td><td>&quot;MARRIED&quot;</td><td>&quot;EMPLOYED&quot;</td><td>&quot;P10_39_147&quot;</td><td>&quot;CL&quot;</td><td>&quot;F&quot;</td><td>&quot;PRIMARY_MOBILE…</td></tr></tbody></table></div>"
      ],
      "text/plain": [
       "shape: (5, 53)\n",
       "┌─────────┬─────────────┬────────┬──────────┬───┬─────────────┬────────────┬──────────┬────────────┐\n",
       "│ case_id ┆ date_decisi ┆ MONTH  ┆ WEEK_NUM ┆ … ┆ language1_9 ┆ role_1084L ┆ sex_738L ┆ type_25L   │\n",
       "│ ---     ┆ on          ┆ ---    ┆ ---      ┆   ┆ 81M         ┆ ---        ┆ ---      ┆ ---        │\n",
       "│ i64     ┆ ---         ┆ i64    ┆ i64      ┆   ┆ ---         ┆ str        ┆ str      ┆ str        │\n",
       "│         ┆ str         ┆        ┆          ┆   ┆ str         ┆            ┆          ┆            │\n",
       "╞═════════╪═════════════╪════════╪══════════╪═══╪═════════════╪════════════╪══════════╪════════════╡\n",
       "│ 0       ┆ 2019-01-03  ┆ 201901 ┆ 0        ┆ … ┆ P10_39_147  ┆ CL         ┆ F        ┆ PRIMARY_MO │\n",
       "│         ┆             ┆        ┆          ┆   ┆             ┆            ┆          ┆ BILE       │\n",
       "│ 1       ┆ 2019-01-03  ┆ 201901 ┆ 0        ┆ … ┆ P10_39_147  ┆ CL         ┆ M        ┆ PRIMARY_MO │\n",
       "│         ┆             ┆        ┆          ┆   ┆             ┆            ┆          ┆ BILE       │\n",
       "│ 2       ┆ 2019-01-04  ┆ 201901 ┆ 0        ┆ … ┆ P10_39_147  ┆ EM         ┆ F        ┆ PRIMARY_MO │\n",
       "│         ┆             ┆        ┆          ┆   ┆             ┆            ┆          ┆ BILE       │\n",
       "│ 3       ┆ 2019-01-03  ┆ 201901 ┆ 0        ┆ … ┆ P10_39_147  ┆ CL         ┆ F        ┆ PRIMARY_MO │\n",
       "│         ┆             ┆        ┆          ┆   ┆             ┆            ┆          ┆ BILE       │\n",
       "│ 4       ┆ 2019-01-04  ┆ 201901 ┆ 0        ┆ … ┆ P10_39_147  ┆ CL         ┆ F        ┆ PRIMARY_MO │\n",
       "│         ┆             ┆        ┆          ┆   ┆             ┆            ┆          ┆ BILE       │\n",
       "└─────────┴─────────────┴────────┴──────────┴───┴─────────────┴────────────┴──────────┴────────────┘"
      ]
     },
     "execution_count": 41,
     "metadata": {},
     "output_type": "execute_result"
    }
   ],
   "source": [
    "df=df.drop([\"name_4527232M\",\"contaddr_district_15M\",\"contaddr_zipcode_807M\",\"empladdr_district_926M\",\"empladdr_zipcode_114M\",\"registaddr_district_1083M\",\"registaddr_zipcode_184M\",\n",
    "           \"relationshiptoclient_415T\",\"relationshiptoclient_642T\"])\n",
    "df.head()"
   ]
  },
  {
   "cell_type": "code",
   "execution_count": 42,
   "id": "f300b1e0",
   "metadata": {},
   "outputs": [],
   "source": [
    "date_list=['date_decision','birthdate_574D','dateofbirth_337D','responsedate_1012D','responsedate_4527233D','responsedate_4917613D','recorddate_4527225D','birth_259D','empl_employedfrom_271D']\n",
    "for column_name in date_list:\n",
    "    # Replace \"Unknown\" with None and immediately convert to date\n",
    "    df = df.with_columns(\n",
    "        pl.when(pl.col(column_name) == \"Unknown\")\n",
    "        .then(None)\n",
    "        .otherwise(pl.col(column_name))\n",
    "        .alias(column_name))\n",
    "    df = df.with_columns(\n",
    "    pl.col(column_name).str.strptime(pl.Date, \"%Y-%m-%d\"))"
   ]
  },
  {
   "cell_type": "code",
   "execution_count": 43,
   "id": "96c95810",
   "metadata": {},
   "outputs": [
    {
     "data": {
      "text/html": [
       "<div><style>\n",
       ".dataframe > thead > tr,\n",
       ".dataframe > tbody > tr {\n",
       "  text-align: right;\n",
       "  white-space: pre-wrap;\n",
       "}\n",
       "</style>\n",
       "<small>shape: (5, 53)</small><table border=\"1\" class=\"dataframe\"><thead><tr><th>case_id</th><th>date_decision</th><th>MONTH</th><th>WEEK_NUM</th><th>target</th><th>birthdate_574D</th><th>contractssum_5085716L</th><th>dateofbirth_337D</th><th>days120_123L</th><th>days180_256L</th><th>days30_165L</th><th>days360_512L</th><th>days90_310L</th><th>description_5085714M</th><th>education_1103M</th><th>education_88M</th><th>firstquarter_103L</th><th>fourthquarter_440L</th><th>maritalst_385M</th><th>maritalst_893M</th><th>numberofqueries_373L</th><th>pmtaverage_4527227A</th><th>pmtscount_423L</th><th>pmtssum_45A</th><th>requesttype_4525192L</th><th>responsedate_1012D</th><th>responsedate_4527233D</th><th>responsedate_4917613D</th><th>secondquarter_766L</th><th>thirdquarter_1082L</th><th>cacccardblochreas_147M</th><th>conts_type_509L</th><th>amount_max</th><th>recorddate_4527225D</th><th>contaddr_matchlist_1032L_max</th><th>contaddr_smempladdr_334L_max</th><th>mainoccupationinc_384A_max</th><th>personindex_1023L_max</th><th>persontype_1072L_max</th><th>persontype_792L_max</th><th>remitter_829L_max</th><th>safeguarantyflag_411L_max</th><th>birth_259D</th><th>education_927M</th><th>empl_employedfrom_271D</th><th>empl_employedtotal_800L</th><th>empl_industry_691L</th><th>familystate_447L</th><th>incometype_1044T</th><th>language1_981M</th><th>role_1084L</th><th>sex_738L</th><th>type_25L</th></tr><tr><td>i64</td><td>date</td><td>i64</td><td>i64</td><td>i64</td><td>date</td><td>str</td><td>date</td><td>f64</td><td>f64</td><td>f64</td><td>f64</td><td>f64</td><td>str</td><td>str</td><td>str</td><td>f64</td><td>f64</td><td>str</td><td>str</td><td>f64</td><td>f64</td><td>f64</td><td>f64</td><td>str</td><td>date</td><td>date</td><td>date</td><td>f64</td><td>f64</td><td>str</td><td>str</td><td>f64</td><td>date</td><td>i32</td><td>i32</td><td>f64</td><td>f64</td><td>f64</td><td>f64</td><td>i32</td><td>i32</td><td>date</td><td>str</td><td>date</td><td>str</td><td>str</td><td>str</td><td>str</td><td>str</td><td>str</td><td>str</td><td>str</td></tr></thead><tbody><tr><td>0</td><td>2019-01-03</td><td>201901</td><td>0</td><td>0</td><td>null</td><td>&quot;Unknown&quot;</td><td>null</td><td>0.0</td><td>0.0</td><td>0.0</td><td>0.0</td><td>0.0</td><td>&quot;Unknown&quot;</td><td>&quot;Unknown&quot;</td><td>&quot;Unknown&quot;</td><td>0.0</td><td>0.0</td><td>&quot;Unknown&quot;</td><td>&quot;Unknown&quot;</td><td>0.0</td><td>0.0</td><td>0.0</td><td>0.0</td><td>&quot;Unknown&quot;</td><td>null</td><td>null</td><td>null</td><td>0.0</td><td>0.0</td><td>&quot;Unknown&quot;</td><td>&quot;Unknown&quot;</td><td>0.0</td><td>null</td><td>0</td><td>0</td><td>10800.0</td><td>2.0</td><td>5.0</td><td>5.0</td><td>0</td><td>1</td><td>1986-07-01</td><td>&quot;P97_36_170&quot;</td><td>2017-09-15</td><td>&quot;MORE_FIVE&quot;</td><td>&quot;OTHER&quot;</td><td>&quot;MARRIED&quot;</td><td>&quot;SALARIED_GOVT&quot;</td><td>&quot;P10_39_147&quot;</td><td>&quot;CL&quot;</td><td>&quot;F&quot;</td><td>&quot;PRIMARY_MOBILE…</td></tr><tr><td>1</td><td>2019-01-03</td><td>201901</td><td>0</td><td>0</td><td>null</td><td>&quot;Unknown&quot;</td><td>null</td><td>0.0</td><td>0.0</td><td>0.0</td><td>0.0</td><td>0.0</td><td>&quot;Unknown&quot;</td><td>&quot;Unknown&quot;</td><td>&quot;Unknown&quot;</td><td>0.0</td><td>0.0</td><td>&quot;Unknown&quot;</td><td>&quot;Unknown&quot;</td><td>0.0</td><td>0.0</td><td>0.0</td><td>0.0</td><td>&quot;Unknown&quot;</td><td>null</td><td>null</td><td>null</td><td>0.0</td><td>0.0</td><td>&quot;Unknown&quot;</td><td>&quot;Unknown&quot;</td><td>0.0</td><td>null</td><td>0</td><td>0</td><td>10000.0</td><td>2.0</td><td>5.0</td><td>5.0</td><td>0</td><td>1</td><td>1957-08-01</td><td>&quot;P97_36_170&quot;</td><td>2008-10-29</td><td>&quot;MORE_FIVE&quot;</td><td>&quot;OTHER&quot;</td><td>&quot;DIVORCED&quot;</td><td>&quot;SALARIED_GOVT&quot;</td><td>&quot;P10_39_147&quot;</td><td>&quot;CL&quot;</td><td>&quot;M&quot;</td><td>&quot;PRIMARY_MOBILE…</td></tr><tr><td>2</td><td>2019-01-04</td><td>201901</td><td>0</td><td>0</td><td>null</td><td>&quot;Unknown&quot;</td><td>null</td><td>0.0</td><td>0.0</td><td>0.0</td><td>0.0</td><td>0.0</td><td>&quot;Unknown&quot;</td><td>&quot;Unknown&quot;</td><td>&quot;Unknown&quot;</td><td>0.0</td><td>0.0</td><td>&quot;Unknown&quot;</td><td>&quot;Unknown&quot;</td><td>0.0</td><td>0.0</td><td>0.0</td><td>0.0</td><td>&quot;Unknown&quot;</td><td>null</td><td>null</td><td>null</td><td>0.0</td><td>0.0</td><td>&quot;Unknown&quot;</td><td>&quot;PRIMARY_MOBILE…</td><td>0.0</td><td>null</td><td>0</td><td>0</td><td>14000.0</td><td>2.0</td><td>5.0</td><td>5.0</td><td>0</td><td>1</td><td>1974-12-01</td><td>&quot;P97_36_170&quot;</td><td>2010-02-15</td><td>&quot;MORE_FIVE&quot;</td><td>&quot;OTHER&quot;</td><td>&quot;MARRIED&quot;</td><td>&quot;EMPLOYED&quot;</td><td>&quot;P10_39_147&quot;</td><td>&quot;EM&quot;</td><td>&quot;F&quot;</td><td>&quot;PRIMARY_MOBILE…</td></tr><tr><td>3</td><td>2019-01-03</td><td>201901</td><td>0</td><td>0</td><td>null</td><td>&quot;Unknown&quot;</td><td>null</td><td>0.0</td><td>0.0</td><td>0.0</td><td>0.0</td><td>0.0</td><td>&quot;Unknown&quot;</td><td>&quot;Unknown&quot;</td><td>&quot;Unknown&quot;</td><td>0.0</td><td>0.0</td><td>&quot;Unknown&quot;</td><td>&quot;Unknown&quot;</td><td>0.0</td><td>0.0</td><td>0.0</td><td>0.0</td><td>&quot;Unknown&quot;</td><td>null</td><td>null</td><td>null</td><td>0.0</td><td>0.0</td><td>&quot;Unknown&quot;</td><td>&quot;PHONE&quot;</td><td>0.0</td><td>null</td><td>0</td><td>0</td><td>10000.0</td><td>1.0</td><td>4.0</td><td>4.0</td><td>0</td><td>1</td><td>1993-08-01</td><td>&quot;P33_146_175&quot;</td><td>2018-05-15</td><td>&quot;MORE_FIVE&quot;</td><td>&quot;OTHER&quot;</td><td>&quot;MARRIED&quot;</td><td>&quot;EMPLOYED&quot;</td><td>&quot;P10_39_147&quot;</td><td>&quot;CL&quot;</td><td>&quot;F&quot;</td><td>&quot;PRIMARY_MOBILE…</td></tr><tr><td>4</td><td>2019-01-04</td><td>201901</td><td>0</td><td>1</td><td>null</td><td>&quot;Unknown&quot;</td><td>null</td><td>0.0</td><td>0.0</td><td>0.0</td><td>0.0</td><td>0.0</td><td>&quot;Unknown&quot;</td><td>&quot;Unknown&quot;</td><td>&quot;Unknown&quot;</td><td>0.0</td><td>0.0</td><td>&quot;Unknown&quot;</td><td>&quot;Unknown&quot;</td><td>0.0</td><td>0.0</td><td>0.0</td><td>0.0</td><td>&quot;Unknown&quot;</td><td>null</td><td>null</td><td>null</td><td>0.0</td><td>0.0</td><td>&quot;Unknown&quot;</td><td>&quot;PRIMARY_MOBILE…</td><td>0.0</td><td>null</td><td>0</td><td>0</td><td>24000.0</td><td>2.0</td><td>5.0</td><td>5.0</td><td>0</td><td>1</td><td>1994-01-01</td><td>&quot;P33_146_175&quot;</td><td>2014-12-15</td><td>&quot;MORE_FIVE&quot;</td><td>&quot;OTHER&quot;</td><td>&quot;MARRIED&quot;</td><td>&quot;EMPLOYED&quot;</td><td>&quot;P10_39_147&quot;</td><td>&quot;CL&quot;</td><td>&quot;F&quot;</td><td>&quot;PRIMARY_MOBILE…</td></tr></tbody></table></div>"
      ],
      "text/plain": [
       "shape: (5, 53)\n",
       "┌─────────┬─────────────┬────────┬──────────┬───┬─────────────┬────────────┬──────────┬────────────┐\n",
       "│ case_id ┆ date_decisi ┆ MONTH  ┆ WEEK_NUM ┆ … ┆ language1_9 ┆ role_1084L ┆ sex_738L ┆ type_25L   │\n",
       "│ ---     ┆ on          ┆ ---    ┆ ---      ┆   ┆ 81M         ┆ ---        ┆ ---      ┆ ---        │\n",
       "│ i64     ┆ ---         ┆ i64    ┆ i64      ┆   ┆ ---         ┆ str        ┆ str      ┆ str        │\n",
       "│         ┆ date        ┆        ┆          ┆   ┆ str         ┆            ┆          ┆            │\n",
       "╞═════════╪═════════════╪════════╪══════════╪═══╪═════════════╪════════════╪══════════╪════════════╡\n",
       "│ 0       ┆ 2019-01-03  ┆ 201901 ┆ 0        ┆ … ┆ P10_39_147  ┆ CL         ┆ F        ┆ PRIMARY_MO │\n",
       "│         ┆             ┆        ┆          ┆   ┆             ┆            ┆          ┆ BILE       │\n",
       "│ 1       ┆ 2019-01-03  ┆ 201901 ┆ 0        ┆ … ┆ P10_39_147  ┆ CL         ┆ M        ┆ PRIMARY_MO │\n",
       "│         ┆             ┆        ┆          ┆   ┆             ┆            ┆          ┆ BILE       │\n",
       "│ 2       ┆ 2019-01-04  ┆ 201901 ┆ 0        ┆ … ┆ P10_39_147  ┆ EM         ┆ F        ┆ PRIMARY_MO │\n",
       "│         ┆             ┆        ┆          ┆   ┆             ┆            ┆          ┆ BILE       │\n",
       "│ 3       ┆ 2019-01-03  ┆ 201901 ┆ 0        ┆ … ┆ P10_39_147  ┆ CL         ┆ F        ┆ PRIMARY_MO │\n",
       "│         ┆             ┆        ┆          ┆   ┆             ┆            ┆          ┆ BILE       │\n",
       "│ 4       ┆ 2019-01-04  ┆ 201901 ┆ 0        ┆ … ┆ P10_39_147  ┆ CL         ┆ F        ┆ PRIMARY_MO │\n",
       "│         ┆             ┆        ┆          ┆   ┆             ┆            ┆          ┆ BILE       │\n",
       "└─────────┴─────────────┴────────┴──────────┴───┴─────────────┴────────────┴──────────┴────────────┘"
      ]
     },
     "execution_count": 43,
     "metadata": {},
     "output_type": "execute_result"
    }
   ],
   "source": [
    "df.head()"
   ]
  },
  {
   "cell_type": "code",
   "execution_count": 44,
   "id": "a919cfb7",
   "metadata": {},
   "outputs": [
    {
     "data": {
      "text/html": [
       "<div><style>\n",
       ".dataframe > thead > tr,\n",
       ".dataframe > tbody > tr {\n",
       "  text-align: right;\n",
       "  white-space: pre-wrap;\n",
       "}\n",
       "</style>\n",
       "<small>shape: (5, 53)</small><table border=\"1\" class=\"dataframe\"><thead><tr><th>case_id</th><th>date_decision</th><th>MONTH</th><th>WEEK_NUM</th><th>target</th><th>birthdate_574D</th><th>contractssum_5085716L</th><th>dateofbirth_337D</th><th>days120_123L</th><th>days180_256L</th><th>days30_165L</th><th>days360_512L</th><th>days90_310L</th><th>description_5085714M</th><th>education_1103M</th><th>education_88M</th><th>firstquarter_103L</th><th>fourthquarter_440L</th><th>maritalst_385M</th><th>maritalst_893M</th><th>numberofqueries_373L</th><th>pmtaverage_4527227A</th><th>pmtscount_423L</th><th>pmtssum_45A</th><th>requesttype_4525192L</th><th>responsedate_1012D</th><th>responsedate_4527233D</th><th>responsedate_4917613D</th><th>secondquarter_766L</th><th>thirdquarter_1082L</th><th>cacccardblochreas_147M</th><th>conts_type_509L</th><th>amount_max</th><th>recorddate_4527225D</th><th>contaddr_matchlist_1032L_max</th><th>contaddr_smempladdr_334L_max</th><th>mainoccupationinc_384A_max</th><th>personindex_1023L_max</th><th>persontype_1072L_max</th><th>persontype_792L_max</th><th>remitter_829L_max</th><th>safeguarantyflag_411L_max</th><th>birth_259D</th><th>education_927M</th><th>empl_employedfrom_271D</th><th>empl_employedtotal_800L</th><th>empl_industry_691L</th><th>familystate_447L</th><th>incometype_1044T</th><th>language1_981M</th><th>role_1084L</th><th>sex_738L</th><th>type_25L</th></tr><tr><td>i64</td><td>u32</td><td>i64</td><td>i64</td><td>i64</td><td>u32</td><td>str</td><td>u32</td><td>f64</td><td>f64</td><td>f64</td><td>f64</td><td>f64</td><td>str</td><td>str</td><td>str</td><td>f64</td><td>f64</td><td>str</td><td>str</td><td>f64</td><td>f64</td><td>f64</td><td>f64</td><td>str</td><td>u32</td><td>u32</td><td>u32</td><td>f64</td><td>f64</td><td>str</td><td>str</td><td>f64</td><td>u32</td><td>i32</td><td>i32</td><td>f64</td><td>f64</td><td>f64</td><td>f64</td><td>i32</td><td>i32</td><td>u32</td><td>str</td><td>u32</td><td>str</td><td>str</td><td>str</td><td>str</td><td>str</td><td>str</td><td>str</td><td>str</td></tr></thead><tbody><tr><td>0</td><td>2</td><td>201901</td><td>0</td><td>0</td><td>null</td><td>&quot;Unknown&quot;</td><td>null</td><td>0.0</td><td>0.0</td><td>0.0</td><td>0.0</td><td>0.0</td><td>&quot;Unknown&quot;</td><td>&quot;Unknown&quot;</td><td>&quot;Unknown&quot;</td><td>0.0</td><td>0.0</td><td>&quot;Unknown&quot;</td><td>&quot;Unknown&quot;</td><td>0.0</td><td>0.0</td><td>0.0</td><td>0.0</td><td>&quot;Unknown&quot;</td><td>null</td><td>null</td><td>null</td><td>0.0</td><td>0.0</td><td>&quot;Unknown&quot;</td><td>&quot;Unknown&quot;</td><td>0.0</td><td>null</td><td>0</td><td>0</td><td>10800.0</td><td>2.0</td><td>5.0</td><td>5.0</td><td>0</td><td>1</td><td>520</td><td>&quot;P97_36_170&quot;</td><td>7125</td><td>&quot;MORE_FIVE&quot;</td><td>&quot;OTHER&quot;</td><td>&quot;MARRIED&quot;</td><td>&quot;SALARIED_GOVT&quot;</td><td>&quot;P10_39_147&quot;</td><td>&quot;CL&quot;</td><td>&quot;F&quot;</td><td>&quot;PRIMARY_MOBILE…</td></tr><tr><td>1</td><td>2</td><td>201901</td><td>0</td><td>0</td><td>null</td><td>&quot;Unknown&quot;</td><td>null</td><td>0.0</td><td>0.0</td><td>0.0</td><td>0.0</td><td>0.0</td><td>&quot;Unknown&quot;</td><td>&quot;Unknown&quot;</td><td>&quot;Unknown&quot;</td><td>0.0</td><td>0.0</td><td>&quot;Unknown&quot;</td><td>&quot;Unknown&quot;</td><td>0.0</td><td>0.0</td><td>0.0</td><td>0.0</td><td>&quot;Unknown&quot;</td><td>null</td><td>null</td><td>null</td><td>0.0</td><td>0.0</td><td>&quot;Unknown&quot;</td><td>&quot;Unknown&quot;</td><td>0.0</td><td>null</td><td>0</td><td>0</td><td>10000.0</td><td>2.0</td><td>5.0</td><td>5.0</td><td>0</td><td>1</td><td>173</td><td>&quot;P97_36_170&quot;</td><td>4086</td><td>&quot;MORE_FIVE&quot;</td><td>&quot;OTHER&quot;</td><td>&quot;DIVORCED&quot;</td><td>&quot;SALARIED_GOVT&quot;</td><td>&quot;P10_39_147&quot;</td><td>&quot;CL&quot;</td><td>&quot;M&quot;</td><td>&quot;PRIMARY_MOBILE…</td></tr><tr><td>2</td><td>3</td><td>201901</td><td>0</td><td>0</td><td>null</td><td>&quot;Unknown&quot;</td><td>null</td><td>0.0</td><td>0.0</td><td>0.0</td><td>0.0</td><td>0.0</td><td>&quot;Unknown&quot;</td><td>&quot;Unknown&quot;</td><td>&quot;Unknown&quot;</td><td>0.0</td><td>0.0</td><td>&quot;Unknown&quot;</td><td>&quot;Unknown&quot;</td><td>0.0</td><td>0.0</td><td>0.0</td><td>0.0</td><td>&quot;Unknown&quot;</td><td>null</td><td>null</td><td>null</td><td>0.0</td><td>0.0</td><td>&quot;Unknown&quot;</td><td>&quot;PRIMARY_MOBILE…</td><td>0.0</td><td>null</td><td>0</td><td>0</td><td>14000.0</td><td>2.0</td><td>5.0</td><td>5.0</td><td>0</td><td>1</td><td>381</td><td>&quot;P97_36_170&quot;</td><td>4487</td><td>&quot;MORE_FIVE&quot;</td><td>&quot;OTHER&quot;</td><td>&quot;MARRIED&quot;</td><td>&quot;EMPLOYED&quot;</td><td>&quot;P10_39_147&quot;</td><td>&quot;EM&quot;</td><td>&quot;F&quot;</td><td>&quot;PRIMARY_MOBILE…</td></tr><tr><td>3</td><td>2</td><td>201901</td><td>0</td><td>0</td><td>null</td><td>&quot;Unknown&quot;</td><td>null</td><td>0.0</td><td>0.0</td><td>0.0</td><td>0.0</td><td>0.0</td><td>&quot;Unknown&quot;</td><td>&quot;Unknown&quot;</td><td>&quot;Unknown&quot;</td><td>0.0</td><td>0.0</td><td>&quot;Unknown&quot;</td><td>&quot;Unknown&quot;</td><td>0.0</td><td>0.0</td><td>0.0</td><td>0.0</td><td>&quot;Unknown&quot;</td><td>null</td><td>null</td><td>null</td><td>0.0</td><td>0.0</td><td>&quot;Unknown&quot;</td><td>&quot;PHONE&quot;</td><td>0.0</td><td>null</td><td>0</td><td>0</td><td>10000.0</td><td>1.0</td><td>4.0</td><td>4.0</td><td>0</td><td>1</td><td>605</td><td>&quot;P33_146_175&quot;</td><td>7365</td><td>&quot;MORE_FIVE&quot;</td><td>&quot;OTHER&quot;</td><td>&quot;MARRIED&quot;</td><td>&quot;EMPLOYED&quot;</td><td>&quot;P10_39_147&quot;</td><td>&quot;CL&quot;</td><td>&quot;F&quot;</td><td>&quot;PRIMARY_MOBILE…</td></tr><tr><td>4</td><td>3</td><td>201901</td><td>0</td><td>1</td><td>null</td><td>&quot;Unknown&quot;</td><td>null</td><td>0.0</td><td>0.0</td><td>0.0</td><td>0.0</td><td>0.0</td><td>&quot;Unknown&quot;</td><td>&quot;Unknown&quot;</td><td>&quot;Unknown&quot;</td><td>0.0</td><td>0.0</td><td>&quot;Unknown&quot;</td><td>&quot;Unknown&quot;</td><td>0.0</td><td>0.0</td><td>0.0</td><td>0.0</td><td>&quot;Unknown&quot;</td><td>null</td><td>null</td><td>null</td><td>0.0</td><td>0.0</td><td>&quot;Unknown&quot;</td><td>&quot;PRIMARY_MOBILE…</td><td>0.0</td><td>null</td><td>0</td><td>0</td><td>24000.0</td><td>2.0</td><td>5.0</td><td>5.0</td><td>0</td><td>1</td><td>610</td><td>&quot;P33_146_175&quot;</td><td>6129</td><td>&quot;MORE_FIVE&quot;</td><td>&quot;OTHER&quot;</td><td>&quot;MARRIED&quot;</td><td>&quot;EMPLOYED&quot;</td><td>&quot;P10_39_147&quot;</td><td>&quot;CL&quot;</td><td>&quot;F&quot;</td><td>&quot;PRIMARY_MOBILE…</td></tr></tbody></table></div>"
      ],
      "text/plain": [
       "shape: (5, 53)\n",
       "┌─────────┬─────────────┬────────┬──────────┬───┬─────────────┬────────────┬──────────┬────────────┐\n",
       "│ case_id ┆ date_decisi ┆ MONTH  ┆ WEEK_NUM ┆ … ┆ language1_9 ┆ role_1084L ┆ sex_738L ┆ type_25L   │\n",
       "│ ---     ┆ on          ┆ ---    ┆ ---      ┆   ┆ 81M         ┆ ---        ┆ ---      ┆ ---        │\n",
       "│ i64     ┆ ---         ┆ i64    ┆ i64      ┆   ┆ ---         ┆ str        ┆ str      ┆ str        │\n",
       "│         ┆ u32         ┆        ┆          ┆   ┆ str         ┆            ┆          ┆            │\n",
       "╞═════════╪═════════════╪════════╪══════════╪═══╪═════════════╪════════════╪══════════╪════════════╡\n",
       "│ 0       ┆ 2           ┆ 201901 ┆ 0        ┆ … ┆ P10_39_147  ┆ CL         ┆ F        ┆ PRIMARY_MO │\n",
       "│         ┆             ┆        ┆          ┆   ┆             ┆            ┆          ┆ BILE       │\n",
       "│ 1       ┆ 2           ┆ 201901 ┆ 0        ┆ … ┆ P10_39_147  ┆ CL         ┆ M        ┆ PRIMARY_MO │\n",
       "│         ┆             ┆        ┆          ┆   ┆             ┆            ┆          ┆ BILE       │\n",
       "│ 2       ┆ 3           ┆ 201901 ┆ 0        ┆ … ┆ P10_39_147  ┆ EM         ┆ F        ┆ PRIMARY_MO │\n",
       "│         ┆             ┆        ┆          ┆   ┆             ┆            ┆          ┆ BILE       │\n",
       "│ 3       ┆ 2           ┆ 201901 ┆ 0        ┆ … ┆ P10_39_147  ┆ CL         ┆ F        ┆ PRIMARY_MO │\n",
       "│         ┆             ┆        ┆          ┆   ┆             ┆            ┆          ┆ BILE       │\n",
       "│ 4       ┆ 3           ┆ 201901 ┆ 0        ┆ … ┆ P10_39_147  ┆ CL         ┆ F        ┆ PRIMARY_MO │\n",
       "│         ┆             ┆        ┆          ┆   ┆             ┆            ┆          ┆ BILE       │\n",
       "└─────────┴─────────────┴────────┴──────────┴───┴─────────────┴────────────┴──────────┴────────────┘"
      ]
     },
     "execution_count": 44,
     "metadata": {},
     "output_type": "execute_result"
    }
   ],
   "source": [
    "date_list=['date_decision','birthdate_574D','dateofbirth_337D','responsedate_1012D','responsedate_4527233D','responsedate_4917613D','recorddate_4527225D','birth_259D','empl_employedfrom_271D']\n",
    "for i in date_list:\n",
    "    df = df.with_columns(\n",
    "    (df.select(pl.col(i).rank(method='dense')).get_column(i) - 1).alias(i))\n",
    "df.head()"
   ]
  },
  {
   "cell_type": "code",
   "execution_count": 45,
   "id": "04a11b5b",
   "metadata": {},
   "outputs": [
    {
     "data": {
      "text/html": [
       "<div><style>\n",
       ".dataframe > thead > tr,\n",
       ".dataframe > tbody > tr {\n",
       "  text-align: right;\n",
       "  white-space: pre-wrap;\n",
       "}\n",
       "</style>\n",
       "<small>shape: (5, 53)</small><table border=\"1\" class=\"dataframe\"><thead><tr><th>case_id</th><th>date_decision</th><th>MONTH</th><th>WEEK_NUM</th><th>target</th><th>birthdate_574D</th><th>contractssum_5085716L</th><th>dateofbirth_337D</th><th>days120_123L</th><th>days180_256L</th><th>days30_165L</th><th>days360_512L</th><th>days90_310L</th><th>description_5085714M</th><th>education_1103M</th><th>education_88M</th><th>firstquarter_103L</th><th>fourthquarter_440L</th><th>maritalst_385M</th><th>maritalst_893M</th><th>numberofqueries_373L</th><th>pmtaverage_4527227A</th><th>pmtscount_423L</th><th>pmtssum_45A</th><th>requesttype_4525192L</th><th>responsedate_1012D</th><th>responsedate_4527233D</th><th>responsedate_4917613D</th><th>secondquarter_766L</th><th>thirdquarter_1082L</th><th>cacccardblochreas_147M</th><th>conts_type_509L</th><th>amount_max</th><th>recorddate_4527225D</th><th>contaddr_matchlist_1032L_max</th><th>contaddr_smempladdr_334L_max</th><th>mainoccupationinc_384A_max</th><th>personindex_1023L_max</th><th>persontype_1072L_max</th><th>persontype_792L_max</th><th>remitter_829L_max</th><th>safeguarantyflag_411L_max</th><th>birth_259D</th><th>education_927M</th><th>empl_employedfrom_271D</th><th>empl_employedtotal_800L</th><th>empl_industry_691L</th><th>familystate_447L</th><th>incometype_1044T</th><th>language1_981M</th><th>role_1084L</th><th>sex_738L</th><th>type_25L</th></tr><tr><td>i64</td><td>u32</td><td>i64</td><td>i64</td><td>i64</td><td>u32</td><td>f64</td><td>u32</td><td>f64</td><td>f64</td><td>f64</td><td>f64</td><td>f64</td><td>str</td><td>str</td><td>str</td><td>f64</td><td>f64</td><td>str</td><td>str</td><td>f64</td><td>f64</td><td>f64</td><td>f64</td><td>str</td><td>u32</td><td>u32</td><td>u32</td><td>f64</td><td>f64</td><td>str</td><td>str</td><td>f64</td><td>u32</td><td>i32</td><td>i32</td><td>f64</td><td>f64</td><td>f64</td><td>f64</td><td>i32</td><td>i32</td><td>u32</td><td>str</td><td>u32</td><td>str</td><td>str</td><td>str</td><td>str</td><td>str</td><td>str</td><td>str</td><td>str</td></tr></thead><tbody><tr><td>0</td><td>2</td><td>201901</td><td>0</td><td>0</td><td>null</td><td>null</td><td>null</td><td>0.0</td><td>0.0</td><td>0.0</td><td>0.0</td><td>0.0</td><td>&quot;Unknown&quot;</td><td>&quot;Unknown&quot;</td><td>&quot;Unknown&quot;</td><td>0.0</td><td>0.0</td><td>&quot;Unknown&quot;</td><td>&quot;Unknown&quot;</td><td>0.0</td><td>0.0</td><td>0.0</td><td>0.0</td><td>&quot;Unknown&quot;</td><td>null</td><td>null</td><td>null</td><td>0.0</td><td>0.0</td><td>&quot;Unknown&quot;</td><td>&quot;Unknown&quot;</td><td>0.0</td><td>null</td><td>0</td><td>0</td><td>10800.0</td><td>2.0</td><td>5.0</td><td>5.0</td><td>0</td><td>1</td><td>520</td><td>&quot;P97_36_170&quot;</td><td>7125</td><td>&quot;MORE_FIVE&quot;</td><td>&quot;OTHER&quot;</td><td>&quot;MARRIED&quot;</td><td>&quot;SALARIED_GOVT&quot;</td><td>&quot;P10_39_147&quot;</td><td>&quot;CL&quot;</td><td>&quot;F&quot;</td><td>&quot;PRIMARY_MOBILE…</td></tr><tr><td>1</td><td>2</td><td>201901</td><td>0</td><td>0</td><td>null</td><td>null</td><td>null</td><td>0.0</td><td>0.0</td><td>0.0</td><td>0.0</td><td>0.0</td><td>&quot;Unknown&quot;</td><td>&quot;Unknown&quot;</td><td>&quot;Unknown&quot;</td><td>0.0</td><td>0.0</td><td>&quot;Unknown&quot;</td><td>&quot;Unknown&quot;</td><td>0.0</td><td>0.0</td><td>0.0</td><td>0.0</td><td>&quot;Unknown&quot;</td><td>null</td><td>null</td><td>null</td><td>0.0</td><td>0.0</td><td>&quot;Unknown&quot;</td><td>&quot;Unknown&quot;</td><td>0.0</td><td>null</td><td>0</td><td>0</td><td>10000.0</td><td>2.0</td><td>5.0</td><td>5.0</td><td>0</td><td>1</td><td>173</td><td>&quot;P97_36_170&quot;</td><td>4086</td><td>&quot;MORE_FIVE&quot;</td><td>&quot;OTHER&quot;</td><td>&quot;DIVORCED&quot;</td><td>&quot;SALARIED_GOVT&quot;</td><td>&quot;P10_39_147&quot;</td><td>&quot;CL&quot;</td><td>&quot;M&quot;</td><td>&quot;PRIMARY_MOBILE…</td></tr><tr><td>2</td><td>3</td><td>201901</td><td>0</td><td>0</td><td>null</td><td>null</td><td>null</td><td>0.0</td><td>0.0</td><td>0.0</td><td>0.0</td><td>0.0</td><td>&quot;Unknown&quot;</td><td>&quot;Unknown&quot;</td><td>&quot;Unknown&quot;</td><td>0.0</td><td>0.0</td><td>&quot;Unknown&quot;</td><td>&quot;Unknown&quot;</td><td>0.0</td><td>0.0</td><td>0.0</td><td>0.0</td><td>&quot;Unknown&quot;</td><td>null</td><td>null</td><td>null</td><td>0.0</td><td>0.0</td><td>&quot;Unknown&quot;</td><td>&quot;PRIMARY_MOBILE…</td><td>0.0</td><td>null</td><td>0</td><td>0</td><td>14000.0</td><td>2.0</td><td>5.0</td><td>5.0</td><td>0</td><td>1</td><td>381</td><td>&quot;P97_36_170&quot;</td><td>4487</td><td>&quot;MORE_FIVE&quot;</td><td>&quot;OTHER&quot;</td><td>&quot;MARRIED&quot;</td><td>&quot;EMPLOYED&quot;</td><td>&quot;P10_39_147&quot;</td><td>&quot;EM&quot;</td><td>&quot;F&quot;</td><td>&quot;PRIMARY_MOBILE…</td></tr><tr><td>3</td><td>2</td><td>201901</td><td>0</td><td>0</td><td>null</td><td>null</td><td>null</td><td>0.0</td><td>0.0</td><td>0.0</td><td>0.0</td><td>0.0</td><td>&quot;Unknown&quot;</td><td>&quot;Unknown&quot;</td><td>&quot;Unknown&quot;</td><td>0.0</td><td>0.0</td><td>&quot;Unknown&quot;</td><td>&quot;Unknown&quot;</td><td>0.0</td><td>0.0</td><td>0.0</td><td>0.0</td><td>&quot;Unknown&quot;</td><td>null</td><td>null</td><td>null</td><td>0.0</td><td>0.0</td><td>&quot;Unknown&quot;</td><td>&quot;PHONE&quot;</td><td>0.0</td><td>null</td><td>0</td><td>0</td><td>10000.0</td><td>1.0</td><td>4.0</td><td>4.0</td><td>0</td><td>1</td><td>605</td><td>&quot;P33_146_175&quot;</td><td>7365</td><td>&quot;MORE_FIVE&quot;</td><td>&quot;OTHER&quot;</td><td>&quot;MARRIED&quot;</td><td>&quot;EMPLOYED&quot;</td><td>&quot;P10_39_147&quot;</td><td>&quot;CL&quot;</td><td>&quot;F&quot;</td><td>&quot;PRIMARY_MOBILE…</td></tr><tr><td>4</td><td>3</td><td>201901</td><td>0</td><td>1</td><td>null</td><td>null</td><td>null</td><td>0.0</td><td>0.0</td><td>0.0</td><td>0.0</td><td>0.0</td><td>&quot;Unknown&quot;</td><td>&quot;Unknown&quot;</td><td>&quot;Unknown&quot;</td><td>0.0</td><td>0.0</td><td>&quot;Unknown&quot;</td><td>&quot;Unknown&quot;</td><td>0.0</td><td>0.0</td><td>0.0</td><td>0.0</td><td>&quot;Unknown&quot;</td><td>null</td><td>null</td><td>null</td><td>0.0</td><td>0.0</td><td>&quot;Unknown&quot;</td><td>&quot;PRIMARY_MOBILE…</td><td>0.0</td><td>null</td><td>0</td><td>0</td><td>24000.0</td><td>2.0</td><td>5.0</td><td>5.0</td><td>0</td><td>1</td><td>610</td><td>&quot;P33_146_175&quot;</td><td>6129</td><td>&quot;MORE_FIVE&quot;</td><td>&quot;OTHER&quot;</td><td>&quot;MARRIED&quot;</td><td>&quot;EMPLOYED&quot;</td><td>&quot;P10_39_147&quot;</td><td>&quot;CL&quot;</td><td>&quot;F&quot;</td><td>&quot;PRIMARY_MOBILE…</td></tr></tbody></table></div>"
      ],
      "text/plain": [
       "shape: (5, 53)\n",
       "┌─────────┬─────────────┬────────┬──────────┬───┬─────────────┬────────────┬──────────┬────────────┐\n",
       "│ case_id ┆ date_decisi ┆ MONTH  ┆ WEEK_NUM ┆ … ┆ language1_9 ┆ role_1084L ┆ sex_738L ┆ type_25L   │\n",
       "│ ---     ┆ on          ┆ ---    ┆ ---      ┆   ┆ 81M         ┆ ---        ┆ ---      ┆ ---        │\n",
       "│ i64     ┆ ---         ┆ i64    ┆ i64      ┆   ┆ ---         ┆ str        ┆ str      ┆ str        │\n",
       "│         ┆ u32         ┆        ┆          ┆   ┆ str         ┆            ┆          ┆            │\n",
       "╞═════════╪═════════════╪════════╪══════════╪═══╪═════════════╪════════════╪══════════╪════════════╡\n",
       "│ 0       ┆ 2           ┆ 201901 ┆ 0        ┆ … ┆ P10_39_147  ┆ CL         ┆ F        ┆ PRIMARY_MO │\n",
       "│         ┆             ┆        ┆          ┆   ┆             ┆            ┆          ┆ BILE       │\n",
       "│ 1       ┆ 2           ┆ 201901 ┆ 0        ┆ … ┆ P10_39_147  ┆ CL         ┆ M        ┆ PRIMARY_MO │\n",
       "│         ┆             ┆        ┆          ┆   ┆             ┆            ┆          ┆ BILE       │\n",
       "│ 2       ┆ 3           ┆ 201901 ┆ 0        ┆ … ┆ P10_39_147  ┆ EM         ┆ F        ┆ PRIMARY_MO │\n",
       "│         ┆             ┆        ┆          ┆   ┆             ┆            ┆          ┆ BILE       │\n",
       "│ 3       ┆ 2           ┆ 201901 ┆ 0        ┆ … ┆ P10_39_147  ┆ CL         ┆ F        ┆ PRIMARY_MO │\n",
       "│         ┆             ┆        ┆          ┆   ┆             ┆            ┆          ┆ BILE       │\n",
       "│ 4       ┆ 3           ┆ 201901 ┆ 0        ┆ … ┆ P10_39_147  ┆ CL         ┆ F        ┆ PRIMARY_MO │\n",
       "│         ┆             ┆        ┆          ┆   ┆             ┆            ┆          ┆ BILE       │\n",
       "└─────────┴─────────────┴────────┴──────────┴───┴─────────────┴────────────┴──────────┴────────────┘"
      ]
     },
     "execution_count": 45,
     "metadata": {},
     "output_type": "execute_result"
    }
   ],
   "source": [
    "df = df.with_columns(\n",
    "        pl.when(pl.col(\"contractssum_5085716L\") == \"Unknown\")\n",
    "        .then(None)\n",
    "        .otherwise(pl.col(column_name))\n",
    "        .alias(\"contractssum_5085716L\"))\n",
    "df=df.with_columns(pl.col(\"contractssum_5085716L\").cast(pl.Float64,strict=False).alias(\"contractssum_5085716L\"))\n",
    "df.head()"
   ]
  },
  {
   "cell_type": "code",
   "execution_count": 46,
   "id": "8b688992",
   "metadata": {},
   "outputs": [
    {
     "data": {
      "text/html": [
       "<div><style>\n",
       ".dataframe > thead > tr,\n",
       ".dataframe > tbody > tr {\n",
       "  text-align: right;\n",
       "  white-space: pre-wrap;\n",
       "}\n",
       "</style>\n",
       "<small>shape: (5, 53)</small><table border=\"1\" class=\"dataframe\"><thead><tr><th>case_id</th><th>date_decision</th><th>MONTH</th><th>WEEK_NUM</th><th>target</th><th>birthdate_574D</th><th>contractssum_5085716L</th><th>dateofbirth_337D</th><th>days120_123L</th><th>days180_256L</th><th>days30_165L</th><th>days360_512L</th><th>days90_310L</th><th>description_5085714M</th><th>education_1103M</th><th>education_88M</th><th>firstquarter_103L</th><th>fourthquarter_440L</th><th>maritalst_385M</th><th>maritalst_893M</th><th>numberofqueries_373L</th><th>pmtaverage_4527227A</th><th>pmtscount_423L</th><th>pmtssum_45A</th><th>requesttype_4525192L</th><th>responsedate_1012D</th><th>responsedate_4527233D</th><th>responsedate_4917613D</th><th>secondquarter_766L</th><th>thirdquarter_1082L</th><th>cacccardblochreas_147M</th><th>conts_type_509L</th><th>amount_max</th><th>recorddate_4527225D</th><th>contaddr_matchlist_1032L_max</th><th>contaddr_smempladdr_334L_max</th><th>mainoccupationinc_384A_max</th><th>personindex_1023L_max</th><th>persontype_1072L_max</th><th>persontype_792L_max</th><th>remitter_829L_max</th><th>safeguarantyflag_411L_max</th><th>birth_259D</th><th>education_927M</th><th>empl_employedfrom_271D</th><th>empl_employedtotal_800L</th><th>empl_industry_691L</th><th>familystate_447L</th><th>incometype_1044T</th><th>language1_981M</th><th>role_1084L</th><th>sex_738L</th><th>type_25L</th></tr><tr><td>i64</td><td>u32</td><td>i64</td><td>i64</td><td>i64</td><td>u32</td><td>f64</td><td>u32</td><td>f64</td><td>f64</td><td>f64</td><td>f64</td><td>f64</td><td>str</td><td>str</td><td>str</td><td>f64</td><td>f64</td><td>str</td><td>str</td><td>f64</td><td>f64</td><td>f64</td><td>f64</td><td>str</td><td>u32</td><td>u32</td><td>u32</td><td>f64</td><td>f64</td><td>str</td><td>str</td><td>f64</td><td>u32</td><td>i32</td><td>i32</td><td>f64</td><td>f64</td><td>f64</td><td>f64</td><td>i32</td><td>i32</td><td>u32</td><td>str</td><td>u32</td><td>str</td><td>str</td><td>str</td><td>str</td><td>str</td><td>str</td><td>str</td><td>str</td></tr></thead><tbody><tr><td>0</td><td>2</td><td>201901</td><td>0</td><td>0</td><td>0</td><td>0.0</td><td>0</td><td>0.0</td><td>0.0</td><td>0.0</td><td>0.0</td><td>0.0</td><td>&quot;Unknown&quot;</td><td>&quot;Unknown&quot;</td><td>&quot;Unknown&quot;</td><td>0.0</td><td>0.0</td><td>&quot;Unknown&quot;</td><td>&quot;Unknown&quot;</td><td>0.0</td><td>0.0</td><td>0.0</td><td>0.0</td><td>&quot;Unknown&quot;</td><td>0</td><td>0</td><td>0</td><td>0.0</td><td>0.0</td><td>&quot;Unknown&quot;</td><td>&quot;Unknown&quot;</td><td>0.0</td><td>0</td><td>0</td><td>0</td><td>10800.0</td><td>2.0</td><td>5.0</td><td>5.0</td><td>0</td><td>1</td><td>520</td><td>&quot;P97_36_170&quot;</td><td>7125</td><td>&quot;MORE_FIVE&quot;</td><td>&quot;OTHER&quot;</td><td>&quot;MARRIED&quot;</td><td>&quot;SALARIED_GOVT&quot;</td><td>&quot;P10_39_147&quot;</td><td>&quot;CL&quot;</td><td>&quot;F&quot;</td><td>&quot;PRIMARY_MOBILE…</td></tr><tr><td>1</td><td>2</td><td>201901</td><td>0</td><td>0</td><td>0</td><td>0.0</td><td>0</td><td>0.0</td><td>0.0</td><td>0.0</td><td>0.0</td><td>0.0</td><td>&quot;Unknown&quot;</td><td>&quot;Unknown&quot;</td><td>&quot;Unknown&quot;</td><td>0.0</td><td>0.0</td><td>&quot;Unknown&quot;</td><td>&quot;Unknown&quot;</td><td>0.0</td><td>0.0</td><td>0.0</td><td>0.0</td><td>&quot;Unknown&quot;</td><td>0</td><td>0</td><td>0</td><td>0.0</td><td>0.0</td><td>&quot;Unknown&quot;</td><td>&quot;Unknown&quot;</td><td>0.0</td><td>0</td><td>0</td><td>0</td><td>10000.0</td><td>2.0</td><td>5.0</td><td>5.0</td><td>0</td><td>1</td><td>173</td><td>&quot;P97_36_170&quot;</td><td>4086</td><td>&quot;MORE_FIVE&quot;</td><td>&quot;OTHER&quot;</td><td>&quot;DIVORCED&quot;</td><td>&quot;SALARIED_GOVT&quot;</td><td>&quot;P10_39_147&quot;</td><td>&quot;CL&quot;</td><td>&quot;M&quot;</td><td>&quot;PRIMARY_MOBILE…</td></tr><tr><td>2</td><td>3</td><td>201901</td><td>0</td><td>0</td><td>0</td><td>0.0</td><td>0</td><td>0.0</td><td>0.0</td><td>0.0</td><td>0.0</td><td>0.0</td><td>&quot;Unknown&quot;</td><td>&quot;Unknown&quot;</td><td>&quot;Unknown&quot;</td><td>0.0</td><td>0.0</td><td>&quot;Unknown&quot;</td><td>&quot;Unknown&quot;</td><td>0.0</td><td>0.0</td><td>0.0</td><td>0.0</td><td>&quot;Unknown&quot;</td><td>0</td><td>0</td><td>0</td><td>0.0</td><td>0.0</td><td>&quot;Unknown&quot;</td><td>&quot;PRIMARY_MOBILE…</td><td>0.0</td><td>0</td><td>0</td><td>0</td><td>14000.0</td><td>2.0</td><td>5.0</td><td>5.0</td><td>0</td><td>1</td><td>381</td><td>&quot;P97_36_170&quot;</td><td>4487</td><td>&quot;MORE_FIVE&quot;</td><td>&quot;OTHER&quot;</td><td>&quot;MARRIED&quot;</td><td>&quot;EMPLOYED&quot;</td><td>&quot;P10_39_147&quot;</td><td>&quot;EM&quot;</td><td>&quot;F&quot;</td><td>&quot;PRIMARY_MOBILE…</td></tr><tr><td>3</td><td>2</td><td>201901</td><td>0</td><td>0</td><td>0</td><td>0.0</td><td>0</td><td>0.0</td><td>0.0</td><td>0.0</td><td>0.0</td><td>0.0</td><td>&quot;Unknown&quot;</td><td>&quot;Unknown&quot;</td><td>&quot;Unknown&quot;</td><td>0.0</td><td>0.0</td><td>&quot;Unknown&quot;</td><td>&quot;Unknown&quot;</td><td>0.0</td><td>0.0</td><td>0.0</td><td>0.0</td><td>&quot;Unknown&quot;</td><td>0</td><td>0</td><td>0</td><td>0.0</td><td>0.0</td><td>&quot;Unknown&quot;</td><td>&quot;PHONE&quot;</td><td>0.0</td><td>0</td><td>0</td><td>0</td><td>10000.0</td><td>1.0</td><td>4.0</td><td>4.0</td><td>0</td><td>1</td><td>605</td><td>&quot;P33_146_175&quot;</td><td>7365</td><td>&quot;MORE_FIVE&quot;</td><td>&quot;OTHER&quot;</td><td>&quot;MARRIED&quot;</td><td>&quot;EMPLOYED&quot;</td><td>&quot;P10_39_147&quot;</td><td>&quot;CL&quot;</td><td>&quot;F&quot;</td><td>&quot;PRIMARY_MOBILE…</td></tr><tr><td>4</td><td>3</td><td>201901</td><td>0</td><td>1</td><td>0</td><td>0.0</td><td>0</td><td>0.0</td><td>0.0</td><td>0.0</td><td>0.0</td><td>0.0</td><td>&quot;Unknown&quot;</td><td>&quot;Unknown&quot;</td><td>&quot;Unknown&quot;</td><td>0.0</td><td>0.0</td><td>&quot;Unknown&quot;</td><td>&quot;Unknown&quot;</td><td>0.0</td><td>0.0</td><td>0.0</td><td>0.0</td><td>&quot;Unknown&quot;</td><td>0</td><td>0</td><td>0</td><td>0.0</td><td>0.0</td><td>&quot;Unknown&quot;</td><td>&quot;PRIMARY_MOBILE…</td><td>0.0</td><td>0</td><td>0</td><td>0</td><td>24000.0</td><td>2.0</td><td>5.0</td><td>5.0</td><td>0</td><td>1</td><td>610</td><td>&quot;P33_146_175&quot;</td><td>6129</td><td>&quot;MORE_FIVE&quot;</td><td>&quot;OTHER&quot;</td><td>&quot;MARRIED&quot;</td><td>&quot;EMPLOYED&quot;</td><td>&quot;P10_39_147&quot;</td><td>&quot;CL&quot;</td><td>&quot;F&quot;</td><td>&quot;PRIMARY_MOBILE…</td></tr></tbody></table></div>"
      ],
      "text/plain": [
       "shape: (5, 53)\n",
       "┌─────────┬─────────────┬────────┬──────────┬───┬─────────────┬────────────┬──────────┬────────────┐\n",
       "│ case_id ┆ date_decisi ┆ MONTH  ┆ WEEK_NUM ┆ … ┆ language1_9 ┆ role_1084L ┆ sex_738L ┆ type_25L   │\n",
       "│ ---     ┆ on          ┆ ---    ┆ ---      ┆   ┆ 81M         ┆ ---        ┆ ---      ┆ ---        │\n",
       "│ i64     ┆ ---         ┆ i64    ┆ i64      ┆   ┆ ---         ┆ str        ┆ str      ┆ str        │\n",
       "│         ┆ u32         ┆        ┆          ┆   ┆ str         ┆            ┆          ┆            │\n",
       "╞═════════╪═════════════╪════════╪══════════╪═══╪═════════════╪════════════╪══════════╪════════════╡\n",
       "│ 0       ┆ 2           ┆ 201901 ┆ 0        ┆ … ┆ P10_39_147  ┆ CL         ┆ F        ┆ PRIMARY_MO │\n",
       "│         ┆             ┆        ┆          ┆   ┆             ┆            ┆          ┆ BILE       │\n",
       "│ 1       ┆ 2           ┆ 201901 ┆ 0        ┆ … ┆ P10_39_147  ┆ CL         ┆ M        ┆ PRIMARY_MO │\n",
       "│         ┆             ┆        ┆          ┆   ┆             ┆            ┆          ┆ BILE       │\n",
       "│ 2       ┆ 3           ┆ 201901 ┆ 0        ┆ … ┆ P10_39_147  ┆ EM         ┆ F        ┆ PRIMARY_MO │\n",
       "│         ┆             ┆        ┆          ┆   ┆             ┆            ┆          ┆ BILE       │\n",
       "│ 3       ┆ 2           ┆ 201901 ┆ 0        ┆ … ┆ P10_39_147  ┆ CL         ┆ F        ┆ PRIMARY_MO │\n",
       "│         ┆             ┆        ┆          ┆   ┆             ┆            ┆          ┆ BILE       │\n",
       "│ 4       ┆ 3           ┆ 201901 ┆ 0        ┆ … ┆ P10_39_147  ┆ CL         ┆ F        ┆ PRIMARY_MO │\n",
       "│         ┆             ┆        ┆          ┆   ┆             ┆            ┆          ┆ BILE       │\n",
       "└─────────┴─────────────┴────────┴──────────┴───┴─────────────┴────────────┴──────────┴────────────┘"
      ]
     },
     "execution_count": 46,
     "metadata": {},
     "output_type": "execute_result"
    }
   ],
   "source": [
    "for col in df.columns:\n",
    "    # Check if the column is of a numerical type (integer or float)\n",
    "    if df[col].dtype in [pl.Int8, pl.Int16, pl.Int32, pl.Int64, pl.UInt8, pl.UInt16, pl.UInt32, pl.UInt64, pl.Float32, pl.Float64]:\n",
    "        # For numerical columns, fill missing values with 0\n",
    "        df = df.with_columns(pl.col(col).fill_null(0))\n",
    "df.head()"
   ]
  },
  {
   "cell_type": "code",
   "execution_count": 47,
   "id": "aa3e197f",
   "metadata": {},
   "outputs": [
    {
     "data": {
      "text/html": [
       "<div><style>\n",
       ".dataframe > thead > tr,\n",
       ".dataframe > tbody > tr {\n",
       "  text-align: right;\n",
       "  white-space: pre-wrap;\n",
       "}\n",
       "</style>\n",
       "<small>shape: (5, 168)</small><table border=\"1\" class=\"dataframe\"><thead><tr><th>case_id</th><th>date_decision</th><th>MONTH</th><th>WEEK_NUM</th><th>target</th><th>birthdate_574D</th><th>contractssum_5085716L</th><th>dateofbirth_337D</th><th>days120_123L</th><th>days180_256L</th><th>days30_165L</th><th>days360_512L</th><th>days90_310L</th><th>description_5085714M</th><th>education_1103M</th><th>education_88M</th><th>firstquarter_103L</th><th>fourthquarter_440L</th><th>maritalst_385M</th><th>maritalst_893M</th><th>numberofqueries_373L</th><th>pmtaverage_4527227A</th><th>pmtscount_423L</th><th>pmtssum_45A</th><th>requesttype_4525192L</th><th>responsedate_1012D</th><th>responsedate_4527233D</th><th>responsedate_4917613D</th><th>secondquarter_766L</th><th>thirdquarter_1082L</th><th>cacccardblochreas_147M</th><th>conts_type_509L</th><th>amount_max</th><th>recorddate_4527225D</th><th>contaddr_matchlist_1032L_max</th><th>contaddr_smempladdr_334L_max</th><th>mainoccupationinc_384A_max</th><th>&hellip;</th><th>empl_industry_691L_ART_MEDIA</th><th>empl_industry_691L_TOURISM</th><th>empl_industry_691L_RECRUITMENT</th><th>empl_industry_691L_Unknown</th><th>empl_industry_691L_EDUCATION</th><th>empl_industry_691L_LAWYER</th><th>empl_industry_691L_MINING</th><th>empl_industry_691L_GAMING</th><th>empl_industry_691L_HEALTH</th><th>familystate_447L_WIDOWED</th><th>familystate_447L_DIVORCED</th><th>familystate_447L_LIVING_WITH_PARTNER</th><th>familystate_447L_Unknown</th><th>familystate_447L_SINGLE</th><th>familystate_447L_MARRIED</th><th>incometype_1044T_HANDICAPPED</th><th>incometype_1044T_SALARIED_GOVT</th><th>incometype_1044T_SELFEMPLOYED</th><th>incometype_1044T_EMPLOYED</th><th>incometype_1044T_OTHER</th><th>incometype_1044T_RETIRED_PENSIONER</th><th>incometype_1044T_HANDICAPPED_3</th><th>incometype_1044T_PRIVATE_SECTOR_EMPLOYEE</th><th>incometype_1044T_HANDICAPPED_2</th><th>language1_981M_P209_127_106</th><th>language1_981M_P10_39_147</th><th>language1_981M_a55475b1</th><th>role_1084L_EM</th><th>role_1084L_CL</th><th>sex_738L_M</th><th>sex_738L_F</th><th>type_25L_WHATSAPP</th><th>type_25L_PRIMARY_EMAIL</th><th>type_25L_HOME_PHONE</th><th>type_25L_PHONE</th><th>type_25L_SECONDARY_MOBILE</th><th>type_25L_PRIMARY_MOBILE</th></tr><tr><td>i64</td><td>u32</td><td>i64</td><td>i64</td><td>i64</td><td>u32</td><td>f64</td><td>u32</td><td>f64</td><td>f64</td><td>f64</td><td>f64</td><td>f64</td><td>str</td><td>str</td><td>str</td><td>f64</td><td>f64</td><td>str</td><td>str</td><td>f64</td><td>f64</td><td>f64</td><td>f64</td><td>str</td><td>u32</td><td>u32</td><td>u32</td><td>f64</td><td>f64</td><td>str</td><td>str</td><td>f64</td><td>u32</td><td>i32</td><td>i32</td><td>f64</td><td>&hellip;</td><td>u8</td><td>u8</td><td>u8</td><td>u8</td><td>u8</td><td>u8</td><td>u8</td><td>u8</td><td>u8</td><td>u8</td><td>u8</td><td>u8</td><td>u8</td><td>u8</td><td>u8</td><td>u8</td><td>u8</td><td>u8</td><td>u8</td><td>u8</td><td>u8</td><td>u8</td><td>u8</td><td>u8</td><td>u8</td><td>u8</td><td>u8</td><td>u8</td><td>u8</td><td>u8</td><td>u8</td><td>u8</td><td>u8</td><td>u8</td><td>u8</td><td>u8</td><td>u8</td></tr></thead><tbody><tr><td>0</td><td>2</td><td>201901</td><td>0</td><td>0</td><td>0</td><td>0.0</td><td>0</td><td>0.0</td><td>0.0</td><td>0.0</td><td>0.0</td><td>0.0</td><td>&quot;Unknown&quot;</td><td>&quot;Unknown&quot;</td><td>&quot;Unknown&quot;</td><td>0.0</td><td>0.0</td><td>&quot;Unknown&quot;</td><td>&quot;Unknown&quot;</td><td>0.0</td><td>0.0</td><td>0.0</td><td>0.0</td><td>&quot;Unknown&quot;</td><td>0</td><td>0</td><td>0</td><td>0.0</td><td>0.0</td><td>&quot;Unknown&quot;</td><td>&quot;Unknown&quot;</td><td>0.0</td><td>0</td><td>0</td><td>0</td><td>10800.0</td><td>&hellip;</td><td>0</td><td>0</td><td>0</td><td>0</td><td>0</td><td>0</td><td>0</td><td>0</td><td>0</td><td>0</td><td>0</td><td>0</td><td>0</td><td>0</td><td>1</td><td>0</td><td>1</td><td>0</td><td>0</td><td>0</td><td>0</td><td>0</td><td>0</td><td>0</td><td>0</td><td>1</td><td>0</td><td>0</td><td>1</td><td>0</td><td>1</td><td>0</td><td>0</td><td>0</td><td>0</td><td>0</td><td>1</td></tr><tr><td>1</td><td>2</td><td>201901</td><td>0</td><td>0</td><td>0</td><td>0.0</td><td>0</td><td>0.0</td><td>0.0</td><td>0.0</td><td>0.0</td><td>0.0</td><td>&quot;Unknown&quot;</td><td>&quot;Unknown&quot;</td><td>&quot;Unknown&quot;</td><td>0.0</td><td>0.0</td><td>&quot;Unknown&quot;</td><td>&quot;Unknown&quot;</td><td>0.0</td><td>0.0</td><td>0.0</td><td>0.0</td><td>&quot;Unknown&quot;</td><td>0</td><td>0</td><td>0</td><td>0.0</td><td>0.0</td><td>&quot;Unknown&quot;</td><td>&quot;Unknown&quot;</td><td>0.0</td><td>0</td><td>0</td><td>0</td><td>10000.0</td><td>&hellip;</td><td>0</td><td>0</td><td>0</td><td>0</td><td>0</td><td>0</td><td>0</td><td>0</td><td>0</td><td>0</td><td>1</td><td>0</td><td>0</td><td>0</td><td>0</td><td>0</td><td>1</td><td>0</td><td>0</td><td>0</td><td>0</td><td>0</td><td>0</td><td>0</td><td>0</td><td>1</td><td>0</td><td>0</td><td>1</td><td>1</td><td>0</td><td>0</td><td>0</td><td>0</td><td>0</td><td>0</td><td>1</td></tr><tr><td>2</td><td>3</td><td>201901</td><td>0</td><td>0</td><td>0</td><td>0.0</td><td>0</td><td>0.0</td><td>0.0</td><td>0.0</td><td>0.0</td><td>0.0</td><td>&quot;Unknown&quot;</td><td>&quot;Unknown&quot;</td><td>&quot;Unknown&quot;</td><td>0.0</td><td>0.0</td><td>&quot;Unknown&quot;</td><td>&quot;Unknown&quot;</td><td>0.0</td><td>0.0</td><td>0.0</td><td>0.0</td><td>&quot;Unknown&quot;</td><td>0</td><td>0</td><td>0</td><td>0.0</td><td>0.0</td><td>&quot;Unknown&quot;</td><td>&quot;PRIMARY_MOBILE…</td><td>0.0</td><td>0</td><td>0</td><td>0</td><td>14000.0</td><td>&hellip;</td><td>0</td><td>0</td><td>0</td><td>0</td><td>0</td><td>0</td><td>0</td><td>0</td><td>0</td><td>0</td><td>0</td><td>0</td><td>0</td><td>0</td><td>1</td><td>0</td><td>0</td><td>0</td><td>1</td><td>0</td><td>0</td><td>0</td><td>0</td><td>0</td><td>0</td><td>1</td><td>0</td><td>1</td><td>0</td><td>0</td><td>1</td><td>0</td><td>0</td><td>0</td><td>0</td><td>0</td><td>1</td></tr><tr><td>3</td><td>2</td><td>201901</td><td>0</td><td>0</td><td>0</td><td>0.0</td><td>0</td><td>0.0</td><td>0.0</td><td>0.0</td><td>0.0</td><td>0.0</td><td>&quot;Unknown&quot;</td><td>&quot;Unknown&quot;</td><td>&quot;Unknown&quot;</td><td>0.0</td><td>0.0</td><td>&quot;Unknown&quot;</td><td>&quot;Unknown&quot;</td><td>0.0</td><td>0.0</td><td>0.0</td><td>0.0</td><td>&quot;Unknown&quot;</td><td>0</td><td>0</td><td>0</td><td>0.0</td><td>0.0</td><td>&quot;Unknown&quot;</td><td>&quot;PHONE&quot;</td><td>0.0</td><td>0</td><td>0</td><td>0</td><td>10000.0</td><td>&hellip;</td><td>0</td><td>0</td><td>0</td><td>0</td><td>0</td><td>0</td><td>0</td><td>0</td><td>0</td><td>0</td><td>0</td><td>0</td><td>0</td><td>0</td><td>1</td><td>0</td><td>0</td><td>0</td><td>1</td><td>0</td><td>0</td><td>0</td><td>0</td><td>0</td><td>0</td><td>1</td><td>0</td><td>0</td><td>1</td><td>0</td><td>1</td><td>0</td><td>0</td><td>0</td><td>0</td><td>0</td><td>1</td></tr><tr><td>4</td><td>3</td><td>201901</td><td>0</td><td>1</td><td>0</td><td>0.0</td><td>0</td><td>0.0</td><td>0.0</td><td>0.0</td><td>0.0</td><td>0.0</td><td>&quot;Unknown&quot;</td><td>&quot;Unknown&quot;</td><td>&quot;Unknown&quot;</td><td>0.0</td><td>0.0</td><td>&quot;Unknown&quot;</td><td>&quot;Unknown&quot;</td><td>0.0</td><td>0.0</td><td>0.0</td><td>0.0</td><td>&quot;Unknown&quot;</td><td>0</td><td>0</td><td>0</td><td>0.0</td><td>0.0</td><td>&quot;Unknown&quot;</td><td>&quot;PRIMARY_MOBILE…</td><td>0.0</td><td>0</td><td>0</td><td>0</td><td>24000.0</td><td>&hellip;</td><td>0</td><td>0</td><td>0</td><td>0</td><td>0</td><td>0</td><td>0</td><td>0</td><td>0</td><td>0</td><td>0</td><td>0</td><td>0</td><td>0</td><td>1</td><td>0</td><td>0</td><td>0</td><td>1</td><td>0</td><td>0</td><td>0</td><td>0</td><td>0</td><td>0</td><td>1</td><td>0</td><td>0</td><td>1</td><td>0</td><td>1</td><td>0</td><td>0</td><td>0</td><td>0</td><td>0</td><td>1</td></tr></tbody></table></div>"
      ],
      "text/plain": [
       "shape: (5, 168)\n",
       "┌─────────┬────────────┬────────┬──────────┬───┬────────────┬────────────┬────────────┬────────────┐\n",
       "│ case_id ┆ date_decis ┆ MONTH  ┆ WEEK_NUM ┆ … ┆ type_25L_H ┆ type_25L_P ┆ type_25L_S ┆ type_25L_P │\n",
       "│ ---     ┆ ion        ┆ ---    ┆ ---      ┆   ┆ OME_PHONE  ┆ HONE       ┆ ECONDARY_M ┆ RIMARY_MOB │\n",
       "│ i64     ┆ ---        ┆ i64    ┆ i64      ┆   ┆ ---        ┆ ---        ┆ OBILE      ┆ ILE        │\n",
       "│         ┆ u32        ┆        ┆          ┆   ┆ u8         ┆ u8         ┆ ---        ┆ ---        │\n",
       "│         ┆            ┆        ┆          ┆   ┆            ┆            ┆ u8         ┆ u8         │\n",
       "╞═════════╪════════════╪════════╪══════════╪═══╪════════════╪════════════╪════════════╪════════════╡\n",
       "│ 0       ┆ 2          ┆ 201901 ┆ 0        ┆ … ┆ 0          ┆ 0          ┆ 0          ┆ 1          │\n",
       "│ 1       ┆ 2          ┆ 201901 ┆ 0        ┆ … ┆ 0          ┆ 0          ┆ 0          ┆ 1          │\n",
       "│ 2       ┆ 3          ┆ 201901 ┆ 0        ┆ … ┆ 0          ┆ 0          ┆ 0          ┆ 1          │\n",
       "│ 3       ┆ 2          ┆ 201901 ┆ 0        ┆ … ┆ 0          ┆ 0          ┆ 0          ┆ 1          │\n",
       "│ 4       ┆ 3          ┆ 201901 ┆ 0        ┆ … ┆ 0          ┆ 0          ┆ 0          ┆ 1          │\n",
       "└─────────┴────────────┴────────┴──────────┴───┴────────────┴────────────┴────────────┴────────────┘"
      ]
     },
     "execution_count": 47,
     "metadata": {},
     "output_type": "execute_result"
    }
   ],
   "source": [
    "string_columns=[col for col in df.columns if df[col].dtype in [pl.Utf8, pl.Categorical]]\n",
    "for col in string_columns:\n",
    "    # Get unique categories for the column\n",
    "    categories = df[col].unique().to_list()\n",
    "    for category in categories:\n",
    "        # Create a new column for each category with binary values\n",
    "        df = df.with_columns((pl.col(col) == category).cast(pl.UInt8).alias(f\"{col}_{category}\"))\n",
    "df.head()"
   ]
  },
  {
   "cell_type": "code",
   "execution_count": 48,
   "id": "834816b6",
   "metadata": {},
   "outputs": [
    {
     "data": {
      "text/html": [
       "<div><style>\n",
       ".dataframe > thead > tr,\n",
       ".dataframe > tbody > tr {\n",
       "  text-align: right;\n",
       "  white-space: pre-wrap;\n",
       "}\n",
       "</style>\n",
       "<small>shape: (5, 151)</small><table border=\"1\" class=\"dataframe\"><thead><tr><th>case_id</th><th>date_decision</th><th>MONTH</th><th>WEEK_NUM</th><th>target</th><th>birthdate_574D</th><th>contractssum_5085716L</th><th>dateofbirth_337D</th><th>days120_123L</th><th>days180_256L</th><th>days30_165L</th><th>days360_512L</th><th>days90_310L</th><th>firstquarter_103L</th><th>fourthquarter_440L</th><th>numberofqueries_373L</th><th>pmtaverage_4527227A</th><th>pmtscount_423L</th><th>pmtssum_45A</th><th>responsedate_1012D</th><th>responsedate_4527233D</th><th>responsedate_4917613D</th><th>secondquarter_766L</th><th>thirdquarter_1082L</th><th>amount_max</th><th>recorddate_4527225D</th><th>contaddr_matchlist_1032L_max</th><th>contaddr_smempladdr_334L_max</th><th>mainoccupationinc_384A_max</th><th>personindex_1023L_max</th><th>persontype_1072L_max</th><th>persontype_792L_max</th><th>remitter_829L_max</th><th>safeguarantyflag_411L_max</th><th>birth_259D</th><th>empl_employedfrom_271D</th><th>description_5085714M_a55475b1</th><th>&hellip;</th><th>empl_industry_691L_ART_MEDIA</th><th>empl_industry_691L_TOURISM</th><th>empl_industry_691L_RECRUITMENT</th><th>empl_industry_691L_Unknown</th><th>empl_industry_691L_EDUCATION</th><th>empl_industry_691L_LAWYER</th><th>empl_industry_691L_MINING</th><th>empl_industry_691L_GAMING</th><th>empl_industry_691L_HEALTH</th><th>familystate_447L_WIDOWED</th><th>familystate_447L_DIVORCED</th><th>familystate_447L_LIVING_WITH_PARTNER</th><th>familystate_447L_Unknown</th><th>familystate_447L_SINGLE</th><th>familystate_447L_MARRIED</th><th>incometype_1044T_HANDICAPPED</th><th>incometype_1044T_SALARIED_GOVT</th><th>incometype_1044T_SELFEMPLOYED</th><th>incometype_1044T_EMPLOYED</th><th>incometype_1044T_OTHER</th><th>incometype_1044T_RETIRED_PENSIONER</th><th>incometype_1044T_HANDICAPPED_3</th><th>incometype_1044T_PRIVATE_SECTOR_EMPLOYEE</th><th>incometype_1044T_HANDICAPPED_2</th><th>language1_981M_P209_127_106</th><th>language1_981M_P10_39_147</th><th>language1_981M_a55475b1</th><th>role_1084L_EM</th><th>role_1084L_CL</th><th>sex_738L_M</th><th>sex_738L_F</th><th>type_25L_WHATSAPP</th><th>type_25L_PRIMARY_EMAIL</th><th>type_25L_HOME_PHONE</th><th>type_25L_PHONE</th><th>type_25L_SECONDARY_MOBILE</th><th>type_25L_PRIMARY_MOBILE</th></tr><tr><td>i64</td><td>u32</td><td>i64</td><td>i64</td><td>i64</td><td>u32</td><td>f64</td><td>u32</td><td>f64</td><td>f64</td><td>f64</td><td>f64</td><td>f64</td><td>f64</td><td>f64</td><td>f64</td><td>f64</td><td>f64</td><td>f64</td><td>u32</td><td>u32</td><td>u32</td><td>f64</td><td>f64</td><td>f64</td><td>u32</td><td>i32</td><td>i32</td><td>f64</td><td>f64</td><td>f64</td><td>f64</td><td>i32</td><td>i32</td><td>u32</td><td>u32</td><td>u8</td><td>&hellip;</td><td>u8</td><td>u8</td><td>u8</td><td>u8</td><td>u8</td><td>u8</td><td>u8</td><td>u8</td><td>u8</td><td>u8</td><td>u8</td><td>u8</td><td>u8</td><td>u8</td><td>u8</td><td>u8</td><td>u8</td><td>u8</td><td>u8</td><td>u8</td><td>u8</td><td>u8</td><td>u8</td><td>u8</td><td>u8</td><td>u8</td><td>u8</td><td>u8</td><td>u8</td><td>u8</td><td>u8</td><td>u8</td><td>u8</td><td>u8</td><td>u8</td><td>u8</td><td>u8</td></tr></thead><tbody><tr><td>0</td><td>2</td><td>201901</td><td>0</td><td>0</td><td>0</td><td>0.0</td><td>0</td><td>0.0</td><td>0.0</td><td>0.0</td><td>0.0</td><td>0.0</td><td>0.0</td><td>0.0</td><td>0.0</td><td>0.0</td><td>0.0</td><td>0.0</td><td>0</td><td>0</td><td>0</td><td>0.0</td><td>0.0</td><td>0.0</td><td>0</td><td>0</td><td>0</td><td>10800.0</td><td>2.0</td><td>5.0</td><td>5.0</td><td>0</td><td>1</td><td>520</td><td>7125</td><td>0</td><td>&hellip;</td><td>0</td><td>0</td><td>0</td><td>0</td><td>0</td><td>0</td><td>0</td><td>0</td><td>0</td><td>0</td><td>0</td><td>0</td><td>0</td><td>0</td><td>1</td><td>0</td><td>1</td><td>0</td><td>0</td><td>0</td><td>0</td><td>0</td><td>0</td><td>0</td><td>0</td><td>1</td><td>0</td><td>0</td><td>1</td><td>0</td><td>1</td><td>0</td><td>0</td><td>0</td><td>0</td><td>0</td><td>1</td></tr><tr><td>1</td><td>2</td><td>201901</td><td>0</td><td>0</td><td>0</td><td>0.0</td><td>0</td><td>0.0</td><td>0.0</td><td>0.0</td><td>0.0</td><td>0.0</td><td>0.0</td><td>0.0</td><td>0.0</td><td>0.0</td><td>0.0</td><td>0.0</td><td>0</td><td>0</td><td>0</td><td>0.0</td><td>0.0</td><td>0.0</td><td>0</td><td>0</td><td>0</td><td>10000.0</td><td>2.0</td><td>5.0</td><td>5.0</td><td>0</td><td>1</td><td>173</td><td>4086</td><td>0</td><td>&hellip;</td><td>0</td><td>0</td><td>0</td><td>0</td><td>0</td><td>0</td><td>0</td><td>0</td><td>0</td><td>0</td><td>1</td><td>0</td><td>0</td><td>0</td><td>0</td><td>0</td><td>1</td><td>0</td><td>0</td><td>0</td><td>0</td><td>0</td><td>0</td><td>0</td><td>0</td><td>1</td><td>0</td><td>0</td><td>1</td><td>1</td><td>0</td><td>0</td><td>0</td><td>0</td><td>0</td><td>0</td><td>1</td></tr><tr><td>2</td><td>3</td><td>201901</td><td>0</td><td>0</td><td>0</td><td>0.0</td><td>0</td><td>0.0</td><td>0.0</td><td>0.0</td><td>0.0</td><td>0.0</td><td>0.0</td><td>0.0</td><td>0.0</td><td>0.0</td><td>0.0</td><td>0.0</td><td>0</td><td>0</td><td>0</td><td>0.0</td><td>0.0</td><td>0.0</td><td>0</td><td>0</td><td>0</td><td>14000.0</td><td>2.0</td><td>5.0</td><td>5.0</td><td>0</td><td>1</td><td>381</td><td>4487</td><td>0</td><td>&hellip;</td><td>0</td><td>0</td><td>0</td><td>0</td><td>0</td><td>0</td><td>0</td><td>0</td><td>0</td><td>0</td><td>0</td><td>0</td><td>0</td><td>0</td><td>1</td><td>0</td><td>0</td><td>0</td><td>1</td><td>0</td><td>0</td><td>0</td><td>0</td><td>0</td><td>0</td><td>1</td><td>0</td><td>1</td><td>0</td><td>0</td><td>1</td><td>0</td><td>0</td><td>0</td><td>0</td><td>0</td><td>1</td></tr><tr><td>3</td><td>2</td><td>201901</td><td>0</td><td>0</td><td>0</td><td>0.0</td><td>0</td><td>0.0</td><td>0.0</td><td>0.0</td><td>0.0</td><td>0.0</td><td>0.0</td><td>0.0</td><td>0.0</td><td>0.0</td><td>0.0</td><td>0.0</td><td>0</td><td>0</td><td>0</td><td>0.0</td><td>0.0</td><td>0.0</td><td>0</td><td>0</td><td>0</td><td>10000.0</td><td>1.0</td><td>4.0</td><td>4.0</td><td>0</td><td>1</td><td>605</td><td>7365</td><td>0</td><td>&hellip;</td><td>0</td><td>0</td><td>0</td><td>0</td><td>0</td><td>0</td><td>0</td><td>0</td><td>0</td><td>0</td><td>0</td><td>0</td><td>0</td><td>0</td><td>1</td><td>0</td><td>0</td><td>0</td><td>1</td><td>0</td><td>0</td><td>0</td><td>0</td><td>0</td><td>0</td><td>1</td><td>0</td><td>0</td><td>1</td><td>0</td><td>1</td><td>0</td><td>0</td><td>0</td><td>0</td><td>0</td><td>1</td></tr><tr><td>4</td><td>3</td><td>201901</td><td>0</td><td>1</td><td>0</td><td>0.0</td><td>0</td><td>0.0</td><td>0.0</td><td>0.0</td><td>0.0</td><td>0.0</td><td>0.0</td><td>0.0</td><td>0.0</td><td>0.0</td><td>0.0</td><td>0.0</td><td>0</td><td>0</td><td>0</td><td>0.0</td><td>0.0</td><td>0.0</td><td>0</td><td>0</td><td>0</td><td>24000.0</td><td>2.0</td><td>5.0</td><td>5.0</td><td>0</td><td>1</td><td>610</td><td>6129</td><td>0</td><td>&hellip;</td><td>0</td><td>0</td><td>0</td><td>0</td><td>0</td><td>0</td><td>0</td><td>0</td><td>0</td><td>0</td><td>0</td><td>0</td><td>0</td><td>0</td><td>1</td><td>0</td><td>0</td><td>0</td><td>1</td><td>0</td><td>0</td><td>0</td><td>0</td><td>0</td><td>0</td><td>1</td><td>0</td><td>0</td><td>1</td><td>0</td><td>1</td><td>0</td><td>0</td><td>0</td><td>0</td><td>0</td><td>1</td></tr></tbody></table></div>"
      ],
      "text/plain": [
       "shape: (5, 151)\n",
       "┌─────────┬────────────┬────────┬──────────┬───┬────────────┬────────────┬────────────┬────────────┐\n",
       "│ case_id ┆ date_decis ┆ MONTH  ┆ WEEK_NUM ┆ … ┆ type_25L_H ┆ type_25L_P ┆ type_25L_S ┆ type_25L_P │\n",
       "│ ---     ┆ ion        ┆ ---    ┆ ---      ┆   ┆ OME_PHONE  ┆ HONE       ┆ ECONDARY_M ┆ RIMARY_MOB │\n",
       "│ i64     ┆ ---        ┆ i64    ┆ i64      ┆   ┆ ---        ┆ ---        ┆ OBILE      ┆ ILE        │\n",
       "│         ┆ u32        ┆        ┆          ┆   ┆ u8         ┆ u8         ┆ ---        ┆ ---        │\n",
       "│         ┆            ┆        ┆          ┆   ┆            ┆            ┆ u8         ┆ u8         │\n",
       "╞═════════╪════════════╪════════╪══════════╪═══╪════════════╪════════════╪════════════╪════════════╡\n",
       "│ 0       ┆ 2          ┆ 201901 ┆ 0        ┆ … ┆ 0          ┆ 0          ┆ 0          ┆ 1          │\n",
       "│ 1       ┆ 2          ┆ 201901 ┆ 0        ┆ … ┆ 0          ┆ 0          ┆ 0          ┆ 1          │\n",
       "│ 2       ┆ 3          ┆ 201901 ┆ 0        ┆ … ┆ 0          ┆ 0          ┆ 0          ┆ 1          │\n",
       "│ 3       ┆ 2          ┆ 201901 ┆ 0        ┆ … ┆ 0          ┆ 0          ┆ 0          ┆ 1          │\n",
       "│ 4       ┆ 3          ┆ 201901 ┆ 0        ┆ … ┆ 0          ┆ 0          ┆ 0          ┆ 1          │\n",
       "└─────────┴────────────┴────────┴──────────┴───┴────────────┴────────────┴────────────┴────────────┘"
      ]
     },
     "execution_count": 48,
     "metadata": {},
     "output_type": "execute_result"
    }
   ],
   "source": [
    "df=df.drop(string_columns)\n",
    "df.head()"
   ]
  },
  {
   "cell_type": "code",
   "execution_count": 99,
   "id": "0f1d4d88",
   "metadata": {},
   "outputs": [
    {
     "name": "stdout",
     "output_type": "stream",
     "text": [
      "Train: (915995, 149)\n",
      "Valid: (305332, 149)\n",
      "Test: (305332, 149)\n"
     ]
    }
   ],
   "source": [
    "from sklearn.model_selection import train_test_split\n",
    "case_ids = df[\"case_id\"].unique().shuffle(seed=1)\n",
    "case_ids_train, case_ids_test = train_test_split(case_ids, train_size=0.6, random_state=1)\n",
    "case_ids_valid, case_ids_test = train_test_split(case_ids_test, train_size=0.5, random_state=1)\n",
    "base_train=df.filter(pl.col(\"case_id\").is_in(case_ids_train))[[\"case_id\", \"WEEK_NUM\", \"target\"]].to_pandas()\n",
    "X_train=df.filter(pl.col(\"case_id\").is_in(case_ids_train)).drop([\"case_id\",\"target\"]).to_pandas()\n",
    "y_train=df.filter(pl.col(\"case_id\").is_in(case_ids_train))[\"target\"].to_pandas()\n",
    "base_valid=df.filter(pl.col(\"case_id\").is_in(case_ids_valid))[[\"case_id\", \"WEEK_NUM\", \"target\"]].to_pandas()\n",
    "X_valid=df.filter(pl.col(\"case_id\").is_in(case_ids_valid)).drop([\"case_id\",\"target\"]).to_pandas()\n",
    "y_valid=df.filter(pl.col(\"case_id\").is_in(case_ids_valid))[\"target\"].to_pandas()\n",
    "base_test=df.filter(pl.col(\"case_id\").is_in(case_ids_test))[[\"case_id\", \"WEEK_NUM\", \"target\"]].to_pandas()\n",
    "X_test=df.filter(pl.col(\"case_id\").is_in(case_ids_test)).drop([\"case_id\",\"target\"]).to_pandas()\n",
    "y_test=df.filter(pl.col(\"case_id\").is_in(case_ids_test))[\"target\"].to_pandas()\n",
    "print(f\"Train: {X_train.shape}\")\n",
    "print(f\"Valid: {X_valid.shape}\")\n",
    "print(f\"Test: {X_test.shape}\")"
   ]
  },
  {
   "cell_type": "code",
   "execution_count": 50,
   "id": "131f15ef",
   "metadata": {},
   "outputs": [
    {
     "name": "stdout",
     "output_type": "stream",
     "text": [
      "<class 'pandas.core.frame.DataFrame'>\n",
      "RangeIndex: 915995 entries, 0 to 915994\n",
      "Columns: 149 entries, date_decision to type_25L_PRIMARY_MOBILE\n",
      "dtypes: float64(19), int32(4), int64(2), uint32(9), uint8(115)\n",
      "memory usage: 292.6 MB\n"
     ]
    }
   ],
   "source": [
    "X_train.info()"
   ]
  },
  {
   "cell_type": "code",
   "execution_count": 51,
   "id": "2d28456a",
   "metadata": {},
   "outputs": [
    {
     "data": {
      "text/html": [
       "<div>\n",
       "<style scoped>\n",
       "    .dataframe tbody tr th:only-of-type {\n",
       "        vertical-align: middle;\n",
       "    }\n",
       "\n",
       "    .dataframe tbody tr th {\n",
       "        vertical-align: top;\n",
       "    }\n",
       "\n",
       "    .dataframe thead th {\n",
       "        text-align: right;\n",
       "    }\n",
       "</style>\n",
       "<table border=\"1\" class=\"dataframe\">\n",
       "  <thead>\n",
       "    <tr style=\"text-align: right;\">\n",
       "      <th></th>\n",
       "      <th>date_decision</th>\n",
       "      <th>MONTH</th>\n",
       "      <th>WEEK_NUM</th>\n",
       "      <th>birthdate_574D</th>\n",
       "      <th>contractssum_5085716L</th>\n",
       "      <th>dateofbirth_337D</th>\n",
       "      <th>days120_123L</th>\n",
       "      <th>days180_256L</th>\n",
       "      <th>days30_165L</th>\n",
       "      <th>days360_512L</th>\n",
       "      <th>...</th>\n",
       "      <th>role_1084L_EM</th>\n",
       "      <th>role_1084L_CL</th>\n",
       "      <th>sex_738L_M</th>\n",
       "      <th>sex_738L_F</th>\n",
       "      <th>type_25L_WHATSAPP</th>\n",
       "      <th>type_25L_PRIMARY_EMAIL</th>\n",
       "      <th>type_25L_HOME_PHONE</th>\n",
       "      <th>type_25L_PHONE</th>\n",
       "      <th>type_25L_SECONDARY_MOBILE</th>\n",
       "      <th>type_25L_PRIMARY_MOBILE</th>\n",
       "    </tr>\n",
       "  </thead>\n",
       "  <tbody>\n",
       "    <tr>\n",
       "      <th>0</th>\n",
       "      <td>2</td>\n",
       "      <td>201901</td>\n",
       "      <td>0</td>\n",
       "      <td>0</td>\n",
       "      <td>0.0</td>\n",
       "      <td>0</td>\n",
       "      <td>0.0</td>\n",
       "      <td>0.0</td>\n",
       "      <td>0.0</td>\n",
       "      <td>0.0</td>\n",
       "      <td>...</td>\n",
       "      <td>0</td>\n",
       "      <td>1</td>\n",
       "      <td>0</td>\n",
       "      <td>1</td>\n",
       "      <td>0</td>\n",
       "      <td>0</td>\n",
       "      <td>0</td>\n",
       "      <td>0</td>\n",
       "      <td>0</td>\n",
       "      <td>1</td>\n",
       "    </tr>\n",
       "    <tr>\n",
       "      <th>1</th>\n",
       "      <td>3</td>\n",
       "      <td>201901</td>\n",
       "      <td>0</td>\n",
       "      <td>0</td>\n",
       "      <td>0.0</td>\n",
       "      <td>0</td>\n",
       "      <td>0.0</td>\n",
       "      <td>0.0</td>\n",
       "      <td>0.0</td>\n",
       "      <td>0.0</td>\n",
       "      <td>...</td>\n",
       "      <td>1</td>\n",
       "      <td>0</td>\n",
       "      <td>0</td>\n",
       "      <td>1</td>\n",
       "      <td>0</td>\n",
       "      <td>0</td>\n",
       "      <td>0</td>\n",
       "      <td>0</td>\n",
       "      <td>0</td>\n",
       "      <td>1</td>\n",
       "    </tr>\n",
       "    <tr>\n",
       "      <th>2</th>\n",
       "      <td>1</td>\n",
       "      <td>201901</td>\n",
       "      <td>0</td>\n",
       "      <td>0</td>\n",
       "      <td>0.0</td>\n",
       "      <td>0</td>\n",
       "      <td>0.0</td>\n",
       "      <td>0.0</td>\n",
       "      <td>0.0</td>\n",
       "      <td>0.0</td>\n",
       "      <td>...</td>\n",
       "      <td>0</td>\n",
       "      <td>1</td>\n",
       "      <td>0</td>\n",
       "      <td>1</td>\n",
       "      <td>0</td>\n",
       "      <td>0</td>\n",
       "      <td>0</td>\n",
       "      <td>0</td>\n",
       "      <td>0</td>\n",
       "      <td>1</td>\n",
       "    </tr>\n",
       "    <tr>\n",
       "      <th>3</th>\n",
       "      <td>2</td>\n",
       "      <td>201901</td>\n",
       "      <td>0</td>\n",
       "      <td>0</td>\n",
       "      <td>0.0</td>\n",
       "      <td>0</td>\n",
       "      <td>0.0</td>\n",
       "      <td>0.0</td>\n",
       "      <td>0.0</td>\n",
       "      <td>0.0</td>\n",
       "      <td>...</td>\n",
       "      <td>0</td>\n",
       "      <td>1</td>\n",
       "      <td>0</td>\n",
       "      <td>1</td>\n",
       "      <td>0</td>\n",
       "      <td>0</td>\n",
       "      <td>0</td>\n",
       "      <td>0</td>\n",
       "      <td>0</td>\n",
       "      <td>1</td>\n",
       "    </tr>\n",
       "    <tr>\n",
       "      <th>4</th>\n",
       "      <td>2</td>\n",
       "      <td>201901</td>\n",
       "      <td>0</td>\n",
       "      <td>0</td>\n",
       "      <td>0.0</td>\n",
       "      <td>0</td>\n",
       "      <td>0.0</td>\n",
       "      <td>0.0</td>\n",
       "      <td>0.0</td>\n",
       "      <td>0.0</td>\n",
       "      <td>...</td>\n",
       "      <td>1</td>\n",
       "      <td>0</td>\n",
       "      <td>0</td>\n",
       "      <td>1</td>\n",
       "      <td>0</td>\n",
       "      <td>0</td>\n",
       "      <td>0</td>\n",
       "      <td>0</td>\n",
       "      <td>0</td>\n",
       "      <td>1</td>\n",
       "    </tr>\n",
       "  </tbody>\n",
       "</table>\n",
       "<p>5 rows × 149 columns</p>\n",
       "</div>"
      ],
      "text/plain": [
       "   date_decision   MONTH  WEEK_NUM  birthdate_574D  contractssum_5085716L  \\\n",
       "0              2  201901         0               0                    0.0   \n",
       "1              3  201901         0               0                    0.0   \n",
       "2              1  201901         0               0                    0.0   \n",
       "3              2  201901         0               0                    0.0   \n",
       "4              2  201901         0               0                    0.0   \n",
       "\n",
       "   dateofbirth_337D  days120_123L  days180_256L  days30_165L  days360_512L  \\\n",
       "0                 0           0.0           0.0          0.0           0.0   \n",
       "1                 0           0.0           0.0          0.0           0.0   \n",
       "2                 0           0.0           0.0          0.0           0.0   \n",
       "3                 0           0.0           0.0          0.0           0.0   \n",
       "4                 0           0.0           0.0          0.0           0.0   \n",
       "\n",
       "   ...  role_1084L_EM  role_1084L_CL  sex_738L_M  sex_738L_F  \\\n",
       "0  ...              0              1           0           1   \n",
       "1  ...              1              0           0           1   \n",
       "2  ...              0              1           0           1   \n",
       "3  ...              0              1           0           1   \n",
       "4  ...              1              0           0           1   \n",
       "\n",
       "   type_25L_WHATSAPP  type_25L_PRIMARY_EMAIL  type_25L_HOME_PHONE  \\\n",
       "0                  0                       0                    0   \n",
       "1                  0                       0                    0   \n",
       "2                  0                       0                    0   \n",
       "3                  0                       0                    0   \n",
       "4                  0                       0                    0   \n",
       "\n",
       "   type_25L_PHONE  type_25L_SECONDARY_MOBILE  type_25L_PRIMARY_MOBILE  \n",
       "0               0                          0                        1  \n",
       "1               0                          0                        1  \n",
       "2               0                          0                        1  \n",
       "3               0                          0                        1  \n",
       "4               0                          0                        1  \n",
       "\n",
       "[5 rows x 149 columns]"
      ]
     },
     "execution_count": 51,
     "metadata": {},
     "output_type": "execute_result"
    }
   ],
   "source": [
    "X_train.head()"
   ]
  },
  {
   "cell_type": "code",
   "execution_count": 100,
   "id": "a7ef7797",
   "metadata": {},
   "outputs": [
    {
     "name": "stdout",
     "output_type": "stream",
     "text": [
      "Selected Features:\n",
      "Index(['date_decision', 'contractssum_5085716L', 'dateofbirth_337D',\n",
      "       'days120_123L', 'days180_256L', 'days30_165L', 'days360_512L',\n",
      "       'days90_310L', 'firstquarter_103L', 'fourthquarter_440L',\n",
      "       'numberofqueries_373L', 'pmtaverage_4527227A', 'pmtscount_423L',\n",
      "       'pmtssum_45A', 'responsedate_1012D', 'responsedate_4527233D',\n",
      "       'responsedate_4917613D', 'secondquarter_766L', 'thirdquarter_1082L',\n",
      "       'amount_max', 'recorddate_4527225D', 'mainoccupationinc_384A_max',\n",
      "       'persontype_792L_max', 'birth_259D', 'empl_employedfrom_271D',\n",
      "       'description_5085714M_2fc785b2', 'education_1103M_6b2ae0fa',\n",
      "       'education_1103M_39a0853f', 'requesttype_4525192L_DEDUCTION_6',\n",
      "       'requesttype_4525192L_Unknown', 'cacccardblochreas_147M_Unknown',\n",
      "       'conts_type_509L_Unknown', 'education_927M_P97_36_170',\n",
      "       'education_927M_P33_146_175', 'empl_employedtotal_800L_MORE_ONE',\n",
      "       'empl_industry_691L_OTHER', 'incometype_1044T_RETIRED_PENSIONER',\n",
      "       'incometype_1044T_PRIVATE_SECTOR_EMPLOYEE', 'sex_738L_M', 'sex_738L_F'],\n",
      "      dtype='object')\n"
     ]
    }
   ],
   "source": [
    "from sklearn.feature_selection import SelectKBest, chi2\n",
    "k_best_features = 40\n",
    "selector = SelectKBest(score_func=chi2, k=k_best_features)\n",
    "X_select_train = selector.fit_transform(X_train, y_train)\n",
    "selected_indices = selector.get_support(indices=True)\n",
    "selected_feature_names = X_train.columns[selected_indices]\n",
    "print(\"Selected Features:\")\n",
    "print(selected_feature_names)"
   ]
  },
  {
   "cell_type": "code",
   "execution_count": 101,
   "id": "4f7ca47a",
   "metadata": {},
   "outputs": [
    {
     "data": {
      "text/html": [
       "<div>\n",
       "<style scoped>\n",
       "    .dataframe tbody tr th:only-of-type {\n",
       "        vertical-align: middle;\n",
       "    }\n",
       "\n",
       "    .dataframe tbody tr th {\n",
       "        vertical-align: top;\n",
       "    }\n",
       "\n",
       "    .dataframe thead th {\n",
       "        text-align: right;\n",
       "    }\n",
       "</style>\n",
       "<table border=\"1\" class=\"dataframe\">\n",
       "  <thead>\n",
       "    <tr style=\"text-align: right;\">\n",
       "      <th></th>\n",
       "      <th>date_decision</th>\n",
       "      <th>contractssum_5085716L</th>\n",
       "      <th>dateofbirth_337D</th>\n",
       "      <th>days120_123L</th>\n",
       "      <th>days180_256L</th>\n",
       "      <th>days30_165L</th>\n",
       "      <th>days360_512L</th>\n",
       "      <th>days90_310L</th>\n",
       "      <th>firstquarter_103L</th>\n",
       "      <th>fourthquarter_440L</th>\n",
       "      <th>...</th>\n",
       "      <th>cacccardblochreas_147M_Unknown</th>\n",
       "      <th>conts_type_509L_Unknown</th>\n",
       "      <th>education_927M_P97_36_170</th>\n",
       "      <th>education_927M_P33_146_175</th>\n",
       "      <th>empl_employedtotal_800L_MORE_ONE</th>\n",
       "      <th>empl_industry_691L_OTHER</th>\n",
       "      <th>incometype_1044T_RETIRED_PENSIONER</th>\n",
       "      <th>incometype_1044T_PRIVATE_SECTOR_EMPLOYEE</th>\n",
       "      <th>sex_738L_M</th>\n",
       "      <th>sex_738L_F</th>\n",
       "    </tr>\n",
       "  </thead>\n",
       "  <tbody>\n",
       "    <tr>\n",
       "      <th>0</th>\n",
       "      <td>2.0</td>\n",
       "      <td>0.0</td>\n",
       "      <td>0.0</td>\n",
       "      <td>0.0</td>\n",
       "      <td>0.0</td>\n",
       "      <td>0.0</td>\n",
       "      <td>0.0</td>\n",
       "      <td>0.0</td>\n",
       "      <td>0.0</td>\n",
       "      <td>0.0</td>\n",
       "      <td>...</td>\n",
       "      <td>1.0</td>\n",
       "      <td>1.0</td>\n",
       "      <td>1.0</td>\n",
       "      <td>0.0</td>\n",
       "      <td>0.0</td>\n",
       "      <td>1.0</td>\n",
       "      <td>0.0</td>\n",
       "      <td>0.0</td>\n",
       "      <td>0.0</td>\n",
       "      <td>1.0</td>\n",
       "    </tr>\n",
       "    <tr>\n",
       "      <th>1</th>\n",
       "      <td>3.0</td>\n",
       "      <td>0.0</td>\n",
       "      <td>0.0</td>\n",
       "      <td>0.0</td>\n",
       "      <td>0.0</td>\n",
       "      <td>0.0</td>\n",
       "      <td>0.0</td>\n",
       "      <td>0.0</td>\n",
       "      <td>0.0</td>\n",
       "      <td>0.0</td>\n",
       "      <td>...</td>\n",
       "      <td>1.0</td>\n",
       "      <td>0.0</td>\n",
       "      <td>1.0</td>\n",
       "      <td>0.0</td>\n",
       "      <td>0.0</td>\n",
       "      <td>1.0</td>\n",
       "      <td>0.0</td>\n",
       "      <td>0.0</td>\n",
       "      <td>0.0</td>\n",
       "      <td>1.0</td>\n",
       "    </tr>\n",
       "    <tr>\n",
       "      <th>2</th>\n",
       "      <td>1.0</td>\n",
       "      <td>0.0</td>\n",
       "      <td>0.0</td>\n",
       "      <td>0.0</td>\n",
       "      <td>0.0</td>\n",
       "      <td>0.0</td>\n",
       "      <td>0.0</td>\n",
       "      <td>0.0</td>\n",
       "      <td>0.0</td>\n",
       "      <td>0.0</td>\n",
       "      <td>...</td>\n",
       "      <td>1.0</td>\n",
       "      <td>0.0</td>\n",
       "      <td>1.0</td>\n",
       "      <td>0.0</td>\n",
       "      <td>0.0</td>\n",
       "      <td>1.0</td>\n",
       "      <td>0.0</td>\n",
       "      <td>1.0</td>\n",
       "      <td>0.0</td>\n",
       "      <td>1.0</td>\n",
       "    </tr>\n",
       "    <tr>\n",
       "      <th>3</th>\n",
       "      <td>2.0</td>\n",
       "      <td>0.0</td>\n",
       "      <td>0.0</td>\n",
       "      <td>0.0</td>\n",
       "      <td>0.0</td>\n",
       "      <td>0.0</td>\n",
       "      <td>0.0</td>\n",
       "      <td>0.0</td>\n",
       "      <td>0.0</td>\n",
       "      <td>0.0</td>\n",
       "      <td>...</td>\n",
       "      <td>1.0</td>\n",
       "      <td>0.0</td>\n",
       "      <td>1.0</td>\n",
       "      <td>0.0</td>\n",
       "      <td>0.0</td>\n",
       "      <td>0.0</td>\n",
       "      <td>0.0</td>\n",
       "      <td>0.0</td>\n",
       "      <td>0.0</td>\n",
       "      <td>1.0</td>\n",
       "    </tr>\n",
       "    <tr>\n",
       "      <th>4</th>\n",
       "      <td>2.0</td>\n",
       "      <td>0.0</td>\n",
       "      <td>0.0</td>\n",
       "      <td>0.0</td>\n",
       "      <td>0.0</td>\n",
       "      <td>0.0</td>\n",
       "      <td>0.0</td>\n",
       "      <td>0.0</td>\n",
       "      <td>0.0</td>\n",
       "      <td>0.0</td>\n",
       "      <td>...</td>\n",
       "      <td>1.0</td>\n",
       "      <td>1.0</td>\n",
       "      <td>0.0</td>\n",
       "      <td>1.0</td>\n",
       "      <td>0.0</td>\n",
       "      <td>0.0</td>\n",
       "      <td>0.0</td>\n",
       "      <td>0.0</td>\n",
       "      <td>0.0</td>\n",
       "      <td>1.0</td>\n",
       "    </tr>\n",
       "  </tbody>\n",
       "</table>\n",
       "<p>5 rows × 40 columns</p>\n",
       "</div>"
      ],
      "text/plain": [
       "   date_decision  contractssum_5085716L  dateofbirth_337D  days120_123L  \\\n",
       "0            2.0                    0.0               0.0           0.0   \n",
       "1            3.0                    0.0               0.0           0.0   \n",
       "2            1.0                    0.0               0.0           0.0   \n",
       "3            2.0                    0.0               0.0           0.0   \n",
       "4            2.0                    0.0               0.0           0.0   \n",
       "\n",
       "   days180_256L  days30_165L  days360_512L  days90_310L  firstquarter_103L  \\\n",
       "0           0.0          0.0           0.0          0.0                0.0   \n",
       "1           0.0          0.0           0.0          0.0                0.0   \n",
       "2           0.0          0.0           0.0          0.0                0.0   \n",
       "3           0.0          0.0           0.0          0.0                0.0   \n",
       "4           0.0          0.0           0.0          0.0                0.0   \n",
       "\n",
       "   fourthquarter_440L  ...  cacccardblochreas_147M_Unknown  \\\n",
       "0                 0.0  ...                             1.0   \n",
       "1                 0.0  ...                             1.0   \n",
       "2                 0.0  ...                             1.0   \n",
       "3                 0.0  ...                             1.0   \n",
       "4                 0.0  ...                             1.0   \n",
       "\n",
       "   conts_type_509L_Unknown  education_927M_P97_36_170  \\\n",
       "0                      1.0                        1.0   \n",
       "1                      0.0                        1.0   \n",
       "2                      0.0                        1.0   \n",
       "3                      0.0                        1.0   \n",
       "4                      1.0                        0.0   \n",
       "\n",
       "   education_927M_P33_146_175  empl_employedtotal_800L_MORE_ONE  \\\n",
       "0                         0.0                               0.0   \n",
       "1                         0.0                               0.0   \n",
       "2                         0.0                               0.0   \n",
       "3                         0.0                               0.0   \n",
       "4                         1.0                               0.0   \n",
       "\n",
       "   empl_industry_691L_OTHER  incometype_1044T_RETIRED_PENSIONER  \\\n",
       "0                       1.0                                 0.0   \n",
       "1                       1.0                                 0.0   \n",
       "2                       1.0                                 0.0   \n",
       "3                       0.0                                 0.0   \n",
       "4                       0.0                                 0.0   \n",
       "\n",
       "   incometype_1044T_PRIVATE_SECTOR_EMPLOYEE  sex_738L_M  sex_738L_F  \n",
       "0                                       0.0         0.0         1.0  \n",
       "1                                       0.0         0.0         1.0  \n",
       "2                                       1.0         0.0         1.0  \n",
       "3                                       0.0         0.0         1.0  \n",
       "4                                       0.0         0.0         1.0  \n",
       "\n",
       "[5 rows x 40 columns]"
      ]
     },
     "execution_count": 101,
     "metadata": {},
     "output_type": "execute_result"
    }
   ],
   "source": [
    "X_train=pd.DataFrame(X_select_train,columns=selected_feature_names)\n",
    "X_train.head()"
   ]
  },
  {
   "cell_type": "code",
   "execution_count": 102,
   "id": "a1219fe6",
   "metadata": {},
   "outputs": [
    {
     "data": {
      "text/html": [
       "<div>\n",
       "<style scoped>\n",
       "    .dataframe tbody tr th:only-of-type {\n",
       "        vertical-align: middle;\n",
       "    }\n",
       "\n",
       "    .dataframe tbody tr th {\n",
       "        vertical-align: top;\n",
       "    }\n",
       "\n",
       "    .dataframe thead th {\n",
       "        text-align: right;\n",
       "    }\n",
       "</style>\n",
       "<table border=\"1\" class=\"dataframe\">\n",
       "  <thead>\n",
       "    <tr style=\"text-align: right;\">\n",
       "      <th></th>\n",
       "      <th>date_decision</th>\n",
       "      <th>contractssum_5085716L</th>\n",
       "      <th>dateofbirth_337D</th>\n",
       "      <th>days120_123L</th>\n",
       "      <th>days180_256L</th>\n",
       "      <th>days30_165L</th>\n",
       "      <th>days360_512L</th>\n",
       "      <th>days90_310L</th>\n",
       "      <th>firstquarter_103L</th>\n",
       "      <th>fourthquarter_440L</th>\n",
       "      <th>...</th>\n",
       "      <th>cacccardblochreas_147M_Unknown</th>\n",
       "      <th>conts_type_509L_Unknown</th>\n",
       "      <th>education_927M_P97_36_170</th>\n",
       "      <th>education_927M_P33_146_175</th>\n",
       "      <th>empl_employedtotal_800L_MORE_ONE</th>\n",
       "      <th>empl_industry_691L_OTHER</th>\n",
       "      <th>incometype_1044T_RETIRED_PENSIONER</th>\n",
       "      <th>incometype_1044T_PRIVATE_SECTOR_EMPLOYEE</th>\n",
       "      <th>sex_738L_M</th>\n",
       "      <th>sex_738L_F</th>\n",
       "    </tr>\n",
       "  </thead>\n",
       "  <tbody>\n",
       "    <tr>\n",
       "      <th>0</th>\n",
       "      <td>3</td>\n",
       "      <td>0.0</td>\n",
       "      <td>0</td>\n",
       "      <td>0.0</td>\n",
       "      <td>0.0</td>\n",
       "      <td>0.0</td>\n",
       "      <td>0.0</td>\n",
       "      <td>0.0</td>\n",
       "      <td>0.0</td>\n",
       "      <td>0.0</td>\n",
       "      <td>...</td>\n",
       "      <td>1</td>\n",
       "      <td>0</td>\n",
       "      <td>0</td>\n",
       "      <td>1</td>\n",
       "      <td>0</td>\n",
       "      <td>1</td>\n",
       "      <td>0</td>\n",
       "      <td>0</td>\n",
       "      <td>0</td>\n",
       "      <td>1</td>\n",
       "    </tr>\n",
       "    <tr>\n",
       "      <th>1</th>\n",
       "      <td>2</td>\n",
       "      <td>0.0</td>\n",
       "      <td>0</td>\n",
       "      <td>0.0</td>\n",
       "      <td>0.0</td>\n",
       "      <td>0.0</td>\n",
       "      <td>0.0</td>\n",
       "      <td>0.0</td>\n",
       "      <td>0.0</td>\n",
       "      <td>0.0</td>\n",
       "      <td>...</td>\n",
       "      <td>1</td>\n",
       "      <td>0</td>\n",
       "      <td>0</td>\n",
       "      <td>0</td>\n",
       "      <td>0</td>\n",
       "      <td>0</td>\n",
       "      <td>1</td>\n",
       "      <td>0</td>\n",
       "      <td>1</td>\n",
       "      <td>0</td>\n",
       "    </tr>\n",
       "    <tr>\n",
       "      <th>2</th>\n",
       "      <td>2</td>\n",
       "      <td>0.0</td>\n",
       "      <td>0</td>\n",
       "      <td>0.0</td>\n",
       "      <td>0.0</td>\n",
       "      <td>0.0</td>\n",
       "      <td>0.0</td>\n",
       "      <td>0.0</td>\n",
       "      <td>0.0</td>\n",
       "      <td>0.0</td>\n",
       "      <td>...</td>\n",
       "      <td>1</td>\n",
       "      <td>0</td>\n",
       "      <td>0</td>\n",
       "      <td>1</td>\n",
       "      <td>0</td>\n",
       "      <td>1</td>\n",
       "      <td>0</td>\n",
       "      <td>0</td>\n",
       "      <td>0</td>\n",
       "      <td>1</td>\n",
       "    </tr>\n",
       "    <tr>\n",
       "      <th>3</th>\n",
       "      <td>2</td>\n",
       "      <td>0.0</td>\n",
       "      <td>0</td>\n",
       "      <td>0.0</td>\n",
       "      <td>0.0</td>\n",
       "      <td>0.0</td>\n",
       "      <td>0.0</td>\n",
       "      <td>0.0</td>\n",
       "      <td>0.0</td>\n",
       "      <td>0.0</td>\n",
       "      <td>...</td>\n",
       "      <td>1</td>\n",
       "      <td>1</td>\n",
       "      <td>1</td>\n",
       "      <td>0</td>\n",
       "      <td>0</td>\n",
       "      <td>0</td>\n",
       "      <td>1</td>\n",
       "      <td>0</td>\n",
       "      <td>0</td>\n",
       "      <td>1</td>\n",
       "    </tr>\n",
       "    <tr>\n",
       "      <th>4</th>\n",
       "      <td>2</td>\n",
       "      <td>0.0</td>\n",
       "      <td>0</td>\n",
       "      <td>0.0</td>\n",
       "      <td>0.0</td>\n",
       "      <td>0.0</td>\n",
       "      <td>0.0</td>\n",
       "      <td>0.0</td>\n",
       "      <td>0.0</td>\n",
       "      <td>0.0</td>\n",
       "      <td>...</td>\n",
       "      <td>1</td>\n",
       "      <td>0</td>\n",
       "      <td>0</td>\n",
       "      <td>1</td>\n",
       "      <td>0</td>\n",
       "      <td>0</td>\n",
       "      <td>0</td>\n",
       "      <td>1</td>\n",
       "      <td>0</td>\n",
       "      <td>1</td>\n",
       "    </tr>\n",
       "  </tbody>\n",
       "</table>\n",
       "<p>5 rows × 40 columns</p>\n",
       "</div>"
      ],
      "text/plain": [
       "   date_decision  contractssum_5085716L  dateofbirth_337D  days120_123L  \\\n",
       "0              3                    0.0                 0           0.0   \n",
       "1              2                    0.0                 0           0.0   \n",
       "2              2                    0.0                 0           0.0   \n",
       "3              2                    0.0                 0           0.0   \n",
       "4              2                    0.0                 0           0.0   \n",
       "\n",
       "   days180_256L  days30_165L  days360_512L  days90_310L  firstquarter_103L  \\\n",
       "0           0.0          0.0           0.0          0.0                0.0   \n",
       "1           0.0          0.0           0.0          0.0                0.0   \n",
       "2           0.0          0.0           0.0          0.0                0.0   \n",
       "3           0.0          0.0           0.0          0.0                0.0   \n",
       "4           0.0          0.0           0.0          0.0                0.0   \n",
       "\n",
       "   fourthquarter_440L  ...  cacccardblochreas_147M_Unknown  \\\n",
       "0                 0.0  ...                               1   \n",
       "1                 0.0  ...                               1   \n",
       "2                 0.0  ...                               1   \n",
       "3                 0.0  ...                               1   \n",
       "4                 0.0  ...                               1   \n",
       "\n",
       "   conts_type_509L_Unknown  education_927M_P97_36_170  \\\n",
       "0                        0                          0   \n",
       "1                        0                          0   \n",
       "2                        0                          0   \n",
       "3                        1                          1   \n",
       "4                        0                          0   \n",
       "\n",
       "   education_927M_P33_146_175  empl_employedtotal_800L_MORE_ONE  \\\n",
       "0                           1                                 0   \n",
       "1                           0                                 0   \n",
       "2                           1                                 0   \n",
       "3                           0                                 0   \n",
       "4                           1                                 0   \n",
       "\n",
       "   empl_industry_691L_OTHER  incometype_1044T_RETIRED_PENSIONER  \\\n",
       "0                         1                                   0   \n",
       "1                         0                                   1   \n",
       "2                         1                                   0   \n",
       "3                         0                                   1   \n",
       "4                         0                                   0   \n",
       "\n",
       "   incometype_1044T_PRIVATE_SECTOR_EMPLOYEE  sex_738L_M  sex_738L_F  \n",
       "0                                         0           0           1  \n",
       "1                                         0           1           0  \n",
       "2                                         0           0           1  \n",
       "3                                         0           0           1  \n",
       "4                                         1           0           1  \n",
       "\n",
       "[5 rows x 40 columns]"
      ]
     },
     "execution_count": 102,
     "metadata": {},
     "output_type": "execute_result"
    }
   ],
   "source": [
    "X_test=X_test[selected_feature_names]\n",
    "X_test.head()"
   ]
  },
  {
   "cell_type": "code",
   "execution_count": 103,
   "id": "b8fc98d2",
   "metadata": {},
   "outputs": [
    {
     "data": {
      "text/html": [
       "<div>\n",
       "<style scoped>\n",
       "    .dataframe tbody tr th:only-of-type {\n",
       "        vertical-align: middle;\n",
       "    }\n",
       "\n",
       "    .dataframe tbody tr th {\n",
       "        vertical-align: top;\n",
       "    }\n",
       "\n",
       "    .dataframe thead th {\n",
       "        text-align: right;\n",
       "    }\n",
       "</style>\n",
       "<table border=\"1\" class=\"dataframe\">\n",
       "  <thead>\n",
       "    <tr style=\"text-align: right;\">\n",
       "      <th></th>\n",
       "      <th>date_decision</th>\n",
       "      <th>contractssum_5085716L</th>\n",
       "      <th>dateofbirth_337D</th>\n",
       "      <th>days120_123L</th>\n",
       "      <th>days180_256L</th>\n",
       "      <th>days30_165L</th>\n",
       "      <th>days360_512L</th>\n",
       "      <th>days90_310L</th>\n",
       "      <th>firstquarter_103L</th>\n",
       "      <th>fourthquarter_440L</th>\n",
       "      <th>...</th>\n",
       "      <th>cacccardblochreas_147M_Unknown</th>\n",
       "      <th>conts_type_509L_Unknown</th>\n",
       "      <th>education_927M_P97_36_170</th>\n",
       "      <th>education_927M_P33_146_175</th>\n",
       "      <th>empl_employedtotal_800L_MORE_ONE</th>\n",
       "      <th>empl_industry_691L_OTHER</th>\n",
       "      <th>incometype_1044T_RETIRED_PENSIONER</th>\n",
       "      <th>incometype_1044T_PRIVATE_SECTOR_EMPLOYEE</th>\n",
       "      <th>sex_738L_M</th>\n",
       "      <th>sex_738L_F</th>\n",
       "    </tr>\n",
       "  </thead>\n",
       "  <tbody>\n",
       "    <tr>\n",
       "      <th>0</th>\n",
       "      <td>2</td>\n",
       "      <td>0.0</td>\n",
       "      <td>0</td>\n",
       "      <td>0.0</td>\n",
       "      <td>0.0</td>\n",
       "      <td>0.0</td>\n",
       "      <td>0.0</td>\n",
       "      <td>0.0</td>\n",
       "      <td>0.0</td>\n",
       "      <td>0.0</td>\n",
       "      <td>...</td>\n",
       "      <td>1</td>\n",
       "      <td>1</td>\n",
       "      <td>1</td>\n",
       "      <td>0</td>\n",
       "      <td>0</td>\n",
       "      <td>1</td>\n",
       "      <td>0</td>\n",
       "      <td>0</td>\n",
       "      <td>1</td>\n",
       "      <td>0</td>\n",
       "    </tr>\n",
       "    <tr>\n",
       "      <th>1</th>\n",
       "      <td>2</td>\n",
       "      <td>0.0</td>\n",
       "      <td>0</td>\n",
       "      <td>0.0</td>\n",
       "      <td>0.0</td>\n",
       "      <td>0.0</td>\n",
       "      <td>0.0</td>\n",
       "      <td>0.0</td>\n",
       "      <td>0.0</td>\n",
       "      <td>0.0</td>\n",
       "      <td>...</td>\n",
       "      <td>1</td>\n",
       "      <td>0</td>\n",
       "      <td>0</td>\n",
       "      <td>1</td>\n",
       "      <td>0</td>\n",
       "      <td>1</td>\n",
       "      <td>0</td>\n",
       "      <td>0</td>\n",
       "      <td>0</td>\n",
       "      <td>1</td>\n",
       "    </tr>\n",
       "    <tr>\n",
       "      <th>2</th>\n",
       "      <td>2</td>\n",
       "      <td>0.0</td>\n",
       "      <td>0</td>\n",
       "      <td>0.0</td>\n",
       "      <td>0.0</td>\n",
       "      <td>0.0</td>\n",
       "      <td>0.0</td>\n",
       "      <td>0.0</td>\n",
       "      <td>0.0</td>\n",
       "      <td>0.0</td>\n",
       "      <td>...</td>\n",
       "      <td>1</td>\n",
       "      <td>1</td>\n",
       "      <td>0</td>\n",
       "      <td>1</td>\n",
       "      <td>0</td>\n",
       "      <td>0</td>\n",
       "      <td>1</td>\n",
       "      <td>0</td>\n",
       "      <td>1</td>\n",
       "      <td>0</td>\n",
       "    </tr>\n",
       "    <tr>\n",
       "      <th>3</th>\n",
       "      <td>2</td>\n",
       "      <td>0.0</td>\n",
       "      <td>0</td>\n",
       "      <td>0.0</td>\n",
       "      <td>0.0</td>\n",
       "      <td>0.0</td>\n",
       "      <td>0.0</td>\n",
       "      <td>0.0</td>\n",
       "      <td>0.0</td>\n",
       "      <td>0.0</td>\n",
       "      <td>...</td>\n",
       "      <td>1</td>\n",
       "      <td>1</td>\n",
       "      <td>1</td>\n",
       "      <td>0</td>\n",
       "      <td>1</td>\n",
       "      <td>1</td>\n",
       "      <td>0</td>\n",
       "      <td>1</td>\n",
       "      <td>0</td>\n",
       "      <td>1</td>\n",
       "    </tr>\n",
       "    <tr>\n",
       "      <th>4</th>\n",
       "      <td>2</td>\n",
       "      <td>0.0</td>\n",
       "      <td>0</td>\n",
       "      <td>0.0</td>\n",
       "      <td>0.0</td>\n",
       "      <td>0.0</td>\n",
       "      <td>0.0</td>\n",
       "      <td>0.0</td>\n",
       "      <td>0.0</td>\n",
       "      <td>0.0</td>\n",
       "      <td>...</td>\n",
       "      <td>1</td>\n",
       "      <td>0</td>\n",
       "      <td>1</td>\n",
       "      <td>0</td>\n",
       "      <td>0</td>\n",
       "      <td>0</td>\n",
       "      <td>1</td>\n",
       "      <td>0</td>\n",
       "      <td>1</td>\n",
       "      <td>0</td>\n",
       "    </tr>\n",
       "  </tbody>\n",
       "</table>\n",
       "<p>5 rows × 40 columns</p>\n",
       "</div>"
      ],
      "text/plain": [
       "   date_decision  contractssum_5085716L  dateofbirth_337D  days120_123L  \\\n",
       "0              2                    0.0                 0           0.0   \n",
       "1              2                    0.0                 0           0.0   \n",
       "2              2                    0.0                 0           0.0   \n",
       "3              2                    0.0                 0           0.0   \n",
       "4              2                    0.0                 0           0.0   \n",
       "\n",
       "   days180_256L  days30_165L  days360_512L  days90_310L  firstquarter_103L  \\\n",
       "0           0.0          0.0           0.0          0.0                0.0   \n",
       "1           0.0          0.0           0.0          0.0                0.0   \n",
       "2           0.0          0.0           0.0          0.0                0.0   \n",
       "3           0.0          0.0           0.0          0.0                0.0   \n",
       "4           0.0          0.0           0.0          0.0                0.0   \n",
       "\n",
       "   fourthquarter_440L  ...  cacccardblochreas_147M_Unknown  \\\n",
       "0                 0.0  ...                               1   \n",
       "1                 0.0  ...                               1   \n",
       "2                 0.0  ...                               1   \n",
       "3                 0.0  ...                               1   \n",
       "4                 0.0  ...                               1   \n",
       "\n",
       "   conts_type_509L_Unknown  education_927M_P97_36_170  \\\n",
       "0                        1                          1   \n",
       "1                        0                          0   \n",
       "2                        1                          0   \n",
       "3                        1                          1   \n",
       "4                        0                          1   \n",
       "\n",
       "   education_927M_P33_146_175  empl_employedtotal_800L_MORE_ONE  \\\n",
       "0                           0                                 0   \n",
       "1                           1                                 0   \n",
       "2                           1                                 0   \n",
       "3                           0                                 1   \n",
       "4                           0                                 0   \n",
       "\n",
       "   empl_industry_691L_OTHER  incometype_1044T_RETIRED_PENSIONER  \\\n",
       "0                         1                                   0   \n",
       "1                         1                                   0   \n",
       "2                         0                                   1   \n",
       "3                         1                                   0   \n",
       "4                         0                                   1   \n",
       "\n",
       "   incometype_1044T_PRIVATE_SECTOR_EMPLOYEE  sex_738L_M  sex_738L_F  \n",
       "0                                         0           1           0  \n",
       "1                                         0           0           1  \n",
       "2                                         0           1           0  \n",
       "3                                         1           0           1  \n",
       "4                                         0           1           0  \n",
       "\n",
       "[5 rows x 40 columns]"
      ]
     },
     "execution_count": 103,
     "metadata": {},
     "output_type": "execute_result"
    }
   ],
   "source": [
    "X_valid=X_valid[selected_feature_names]\n",
    "X_valid.head()"
   ]
  },
  {
   "cell_type": "code",
   "execution_count": 95,
   "id": "49e38b05",
   "metadata": {},
   "outputs": [],
   "source": [
    "def gini_stability(base, w_fallingrate=88.0, w_resstd=-0.5):\n",
    "    gini_in_time = base.loc[:, [\"WEEK_NUM\", \"target\", \"score\"]]\\\n",
    "        .sort_values(\"WEEK_NUM\")\\\n",
    "        .groupby(\"WEEK_NUM\")[[\"target\", \"score\"]]\\\n",
    "        .apply(lambda x: 2*roc_auc_score(x[\"target\"], x[\"score\"])-1).tolist()\n",
    "    \n",
    "    x = np.arange(len(gini_in_time))\n",
    "    y = gini_in_time\n",
    "    a, b = np.polyfit(x, y, 1)\n",
    "    y_hat = a*x + b\n",
    "    residuals = y - y_hat\n",
    "    res_std = np.std(residuals)\n",
    "    avg_gini = np.mean(gini_in_time)\n",
    "    return avg_gini + w_fallingrate * min(0, a) + w_resstd * res_std"
   ]
  },
  {
   "cell_type": "code",
   "execution_count": 104,
   "id": "e335e952",
   "metadata": {},
   "outputs": [
    {
     "name": "stdout",
     "output_type": "stream",
     "text": [
      "The AUC score on the valid set is: 0.5192456512299417\n",
      "The AUC score on the test set is: 0.5208749707747762\n"
     ]
    }
   ],
   "source": [
    "from sklearn.tree import DecisionTreeClassifier\n",
    "from sklearn.preprocessing import StandardScaler\n",
    "from sklearn.metrics import roc_auc_score \n",
    "# Standardize the features to have mean=0 and variance=1\n",
    "scaler = StandardScaler()\n",
    "X_train_scaled = pd.DataFrame(scaler.fit_transform(X_train), columns=X_train.columns)\n",
    "X_valid_scaled = pd.DataFrame(scaler.transform(X_valid), columns=X_valid.columns)\n",
    "X_test_scaled = pd.DataFrame(scaler.transform(X_test), columns=X_test.columns)\n",
    "decision_tree_classifier = DecisionTreeClassifier(random_state=1)\n",
    "decision_tree_classifier.fit(X_train_scaled, y_train)\n",
    "for base, X in [(base_valid, X_valid_scaled), (base_test, X_test_scaled)]:\n",
    "    y_pred = decision_tree_classifier.predict(X)\n",
    "    base[\"score\"] = y_pred\n",
    "    \n",
    "print(f'The AUC score on the valid set is: {roc_auc_score(base_valid[\"target\"], base_valid[\"score\"])}') \n",
    "print(f'The AUC score on the test set is: {roc_auc_score(base_test[\"target\"], base_test[\"score\"])}')  "
   ]
  },
  {
   "cell_type": "code",
   "execution_count": 105,
   "id": "f676d424",
   "metadata": {},
   "outputs": [
    {
     "name": "stdout",
     "output_type": "stream",
     "text": [
      "The stability score on the valid set is: 0.01809625308447981\n",
      "The stability score on the test set is: 0.019498985252848915\n"
     ]
    }
   ],
   "source": [
    "stability_score_valid = gini_stability(base_valid)\n",
    "stability_score_test = gini_stability(base_test)\n",
    "print(f'The stability score on the valid set is: {stability_score_valid}') \n",
    "print(f'The stability score on the test set is: {stability_score_test}') "
   ]
  },
  {
   "cell_type": "code",
   "execution_count": 108,
   "id": "b19d8421",
   "metadata": {},
   "outputs": [
    {
     "name": "stdout",
     "output_type": "stream",
     "text": [
      "Top 5 important features:\n",
      "['mainoccupationinc_384A_max', 'birth_259D', 'date_decision', 'dateofbirth_337D', 'amount_max']\n"
     ]
    }
   ],
   "source": [
    "feature_importances = decision_tree_classifier.feature_importances_\n",
    "\n",
    "# Create a DataFrame for easier handling\n",
    "features_df = pd.DataFrame({\n",
    "    'Feature': X_train_scaled.columns,\n",
    "    'Importance': feature_importances\n",
    "})\n",
    "\n",
    "# Sort features by importance\n",
    "features_df = features_df.sort_values(by='Importance', ascending=False)\n",
    "\n",
    "# Identify the 10 least important features to drop\n",
    "features_to_drop = features_df['Feature'][-10:].tolist()\n",
    "\n",
    "# Drop these from your training data\n",
    "X_train = X_train_scaled.drop(columns=features_to_drop)\n",
    "\n",
    "# Print out the top 5 important features\n",
    "print(\"Top 5 important features:\")\n",
    "print(features_df['Feature'][:5].tolist())"
   ]
  },
  {
   "cell_type": "code",
   "execution_count": 109,
   "id": "a4e4f51c",
   "metadata": {},
   "outputs": [],
   "source": [
    "X_test = X_test_scaled.drop(columns=features_to_drop)\n",
    "X_valid = X_valid_scaled.drop(columns=features_to_drop)"
   ]
  },
  {
   "cell_type": "code",
   "execution_count": 111,
   "id": "3ebba7ad",
   "metadata": {},
   "outputs": [
    {
     "name": "stdout",
     "output_type": "stream",
     "text": [
      "The AUC score on the valid set is: 0.5000811330578785\n",
      "The AUC score on the test set is: 0.5003303554446913\n"
     ]
    }
   ],
   "source": [
    "from sklearn.model_selection import RandomizedSearchCV\n",
    "param_dist = {\n",
    "    'max_depth': [10, 15, 20],\n",
    "    'max_leaf_nodes': [100, 200, 300],\n",
    "    'min_samples_split': [900, 1000, 1200]\n",
    "}\n",
    "dt = DecisionTreeClassifier(random_state=1)\n",
    "# Configure RandomizedSearchCV\n",
    "random_search = RandomizedSearchCV(dt, param_distributions=param_dist, n_iter=10,\n",
    "                                    scoring='roc_auc', cv=5, random_state=1)\n",
    "\n",
    "# Fit RandomizedSearchCV to the training data\n",
    "random_search.fit(X_train, y_train)\n",
    "\n",
    "# Best model\n",
    "best_model = random_search.best_estimator_\n",
    "for base, X in [(base_valid, X_valid), (base_test, X_test)]:\n",
    "    y_pred = best_model.predict(X)\n",
    "    base[\"score\"] = y_pred\n",
    "    \n",
    "print(f'The AUC score on the valid set is: {roc_auc_score(base_valid[\"target\"], base_valid[\"score\"])}') \n",
    "print(f'The AUC score on the test set is: {roc_auc_score(base_test[\"target\"], base_test[\"score\"])}')  "
   ]
  },
  {
   "cell_type": "code",
   "execution_count": 112,
   "id": "303627da",
   "metadata": {},
   "outputs": [
    {
     "name": "stdout",
     "output_type": "stream",
     "text": [
      "The stability score on the valid set is: -0.0008355880407664134\n",
      "The stability score on the test set is: -0.0010778010209778516\n"
     ]
    }
   ],
   "source": [
    "stability_score_valid = gini_stability(base_valid)\n",
    "stability_score_test = gini_stability(base_test)\n",
    "print(f'The stability score on the valid set is: {stability_score_valid}') \n",
    "print(f'The stability score on the test set is: {stability_score_test}')"
   ]
  },
  {
   "cell_type": "code",
   "execution_count": null,
   "id": "81abff35",
   "metadata": {},
   "outputs": [],
   "source": []
  }
 ],
 "metadata": {
  "kernelspec": {
   "display_name": "Python 3 (ipykernel)",
   "language": "python",
   "name": "python3"
  },
  "language_info": {
   "codemirror_mode": {
    "name": "ipython",
    "version": 3
   },
   "file_extension": ".py",
   "mimetype": "text/x-python",
   "name": "python",
   "nbconvert_exporter": "python",
   "pygments_lexer": "ipython3",
   "version": "3.10.9"
  }
 },
 "nbformat": 4,
 "nbformat_minor": 5
}
